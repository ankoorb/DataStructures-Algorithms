{
 "cells": [
  {
   "cell_type": "markdown",
   "metadata": {},
   "source": [
    "# Sorting"
   ]
  },
  {
   "cell_type": "markdown",
   "metadata": {},
   "source": [
    "### Bubble Sort"
   ]
  },
  {
   "cell_type": "code",
   "execution_count": 8,
   "metadata": {},
   "outputs": [
    {
     "name": "stdout",
     "output_type": "stream",
     "text": [
      "[1, 2, 5, 8, 9]\n"
     ]
    }
   ],
   "source": [
    "A = [5, 9, 8, 2, 1]\n",
    "\n",
    "n = len(A)\n",
    "for i in range(1, n):\n",
    "    for j in  range(n - i):\n",
    "        if A[j+1] < A[j]:\n",
    "            temp = A[j]\n",
    "            A[j] = A[j+1]\n",
    "            A[j+1] = temp\n",
    "print(A)"
   ]
  },
  {
   "cell_type": "markdown",
   "metadata": {},
   "source": [
    "### Selection Sort"
   ]
  },
  {
   "cell_type": "code",
   "execution_count": 2,
   "metadata": {},
   "outputs": [
    {
     "name": "stdout",
     "output_type": "stream",
     "text": [
      "[1, 2, 5, 8, 9]\n"
     ]
    }
   ],
   "source": [
    "A = [5, 9, 8, 2, 1]\n",
    "\n",
    "n = len(A)\n",
    "for i in range(n - 1):\n",
    "    minIdx = i\n",
    "    for j in  range(i + 1, n):\n",
    "        if A[minIdx] > A[j]:\n",
    "            minIdx = j\n",
    "    temp = A[i]\n",
    "    A[i] = A[minIdx]\n",
    "    A[minIdx] = temp\n",
    "    \n",
    "print(A)"
   ]
  },
  {
   "cell_type": "markdown",
   "metadata": {},
   "source": [
    "### Insertion Sort"
   ]
  },
  {
   "cell_type": "code",
   "execution_count": 3,
   "metadata": {},
   "outputs": [
    {
     "name": "stdout",
     "output_type": "stream",
     "text": [
      "[1, 2, 5, 8, 9]\n"
     ]
    }
   ],
   "source": [
    "A = [5, 9, 8, 2, 1]\n",
    "\n",
    "n = len(A)\n",
    "\n",
    "for i in range(1, n):\n",
    "    for j in range(i - 1, -1, -1):\n",
    "        if A[j] > A[j+1]:\n",
    "            temp = A[j+1]\n",
    "            A[j+1] = A[j]\n",
    "            A[j] = temp\n",
    "        else:\n",
    "            break\n",
    "print(A)"
   ]
  },
  {
   "cell_type": "markdown",
   "metadata": {},
   "source": [
    "### Merge 2 Sorted Arrays"
   ]
  },
  {
   "cell_type": "code",
   "execution_count": 4,
   "metadata": {},
   "outputs": [
    {
     "name": "stdout",
     "output_type": "stream",
     "text": [
      "[1, 2, 3, 4, 5, 6, 7, 8, 9]\n"
     ]
    }
   ],
   "source": [
    "A = [2, 4, 6, 8]\n",
    "B = [1, 3, 5, 7, 9]\n",
    "\n",
    "m = len(A)\n",
    "n = len(B)\n",
    "\n",
    "C = [0] * (m + n)\n",
    "\n",
    "i = 0\n",
    "j = 0\n",
    "k = 0\n",
    "while i < m and j < n:\n",
    "    if A[i] < B[j]:\n",
    "        C[k] = A[i]\n",
    "        i += 1\n",
    "    else:\n",
    "        C[k] = B[j]\n",
    "        j += 1\n",
    "    k += 1\n",
    "    \n",
    "while i < m:\n",
    "    C[k] = A[i]\n",
    "    i += 1\n",
    "    k += 1\n",
    "    \n",
    "while j < n:\n",
    "    C[k] = B[j]\n",
    "    j += 1\n",
    "    k += 1\n",
    "    \n",
    "print(C)"
   ]
  },
  {
   "cell_type": "markdown",
   "metadata": {},
   "source": [
    "### Merge Sort: Recursive"
   ]
  },
  {
   "cell_type": "code",
   "execution_count": 10,
   "metadata": {},
   "outputs": [
    {
     "data": {
      "text/plain": [
       "[1, 2, 3, 4, 5, 6, 7, 8, 9]"
      ]
     },
     "execution_count": 10,
     "metadata": {},
     "output_type": "execute_result"
    }
   ],
   "source": [
    "def merge(A, B):\n",
    "    m = len(A)\n",
    "    n = len(B)\n",
    "\n",
    "    C = [0] * (m + n)\n",
    "\n",
    "    i = 0\n",
    "    j = 0\n",
    "    k = 0\n",
    "    while i < m and j < n:\n",
    "        if A[i] < B[j]:\n",
    "            C[k] = A[i]\n",
    "            i += 1\n",
    "        else:\n",
    "            C[k] = B[j]\n",
    "            j += 1\n",
    "        k += 1\n",
    "\n",
    "    while i < m:\n",
    "        C[k] = A[i]\n",
    "        i += 1\n",
    "        k += 1\n",
    "\n",
    "    while j < n:\n",
    "        C[k] = B[j]\n",
    "        j += 1\n",
    "        k += 1\n",
    "        \n",
    "    return C\n",
    "\n",
    "\n",
    "def mergeSort(A, low, high):\n",
    "    if low == high:\n",
    "        return [A[low]]\n",
    "    \n",
    "    mid = low + (high - low) // 2\n",
    "    \n",
    "    X = mergeSort(A, low, mid)\n",
    "    Y = mergeSort(A, mid + 1, high)\n",
    "    \n",
    "    return merge(X, Y)\n",
    "\n",
    "A = [2, 4, 6, 8, 1, 3, 5, 7, 9]\n",
    "low = 0\n",
    "high = len(A) - 1\n",
    "mergeSort(A, low, high)"
   ]
  },
  {
   "cell_type": "markdown",
   "metadata": {},
   "source": [
    "### Merge Sort: Iterative"
   ]
  },
  {
   "cell_type": "code",
   "execution_count": 25,
   "metadata": {},
   "outputs": [],
   "source": [
    "# def merge(A, low, mid, high):\n",
    "#     B = [0] * (high + 1)\n",
    "#     i = low\n",
    "#     j = mid + 1\n",
    "#     k = low\n",
    "#     while i <= mid and j <= high:\n",
    "#         if A[i] < A[j]:\n",
    "#             B[k] = A[i]\n",
    "#             i += 1\n",
    "#         else:\n",
    "#             B[k] = A[j]\n",
    "#             j += 1\n",
    "#         k += 1\n",
    "\n",
    "#     while i <= mid:\n",
    "#         B[k] = A[i]\n",
    "#         i += 1\n",
    "#         k += 1\n",
    "\n",
    "#     while j <= high:\n",
    "#         B[k] = A[j]\n",
    "#         j += 1\n",
    "#         k += 1\n",
    "        \n",
    "#     for i in range(low, high + 1):\n",
    "#         A[i] = B[i]\n",
    "        \n",
    "# def mergeSort(A):\n",
    "#     n = len(A)\n",
    "#     i = 2\n",
    "#     while i <= n:\n",
    "#         j = 0\n",
    "#         while j + i - 1 < n:\n",
    "#             low = j\n",
    "#             high = i + j - 1\n",
    "#             mid = low + (high - low) // 2\n",
    "#             merge(A, low, mid, high)\n",
    "#             j += i\n",
    "#         i *= 2\n",
    "#     if i // 2 < n:\n",
    "#         merge(A, 0, i // 2, n - 1)\n",
    "\n",
    "# A = [2, 4, 6, 8, 1, 3, 5, 7, 9]\n",
    "# mergeSort(A)\n",
    "# print(A)"
   ]
  },
  {
   "cell_type": "markdown",
   "metadata": {},
   "source": [
    "### Partition an Array"
   ]
  },
  {
   "cell_type": "code",
   "execution_count": 6,
   "metadata": {},
   "outputs": [
    {
     "name": "stdout",
     "output_type": "stream",
     "text": [
      "[4, 3, 2, 1, 9, 6, 7, 8]\n"
     ]
    }
   ],
   "source": [
    "A = [7, 9, 4, 8, 3, 6, 2, 1]\n",
    "pivot = 5\n",
    "\n",
    "i = 0\n",
    "j = 0\n",
    "n = len(A)\n",
    "\n",
    "while i < n:\n",
    "    if A[i] > pivot:\n",
    "        i += 1\n",
    "    else:\n",
    "        temp = A[i]\n",
    "        A[i] = A[j]\n",
    "        A[j] = temp\n",
    "        i += 1\n",
    "        j += 1\n",
    "\n",
    "print(A)"
   ]
  },
  {
   "cell_type": "markdown",
   "metadata": {},
   "source": [
    "### Quick Sort"
   ]
  },
  {
   "cell_type": "code",
   "execution_count": 7,
   "metadata": {},
   "outputs": [
    {
     "name": "stdout",
     "output_type": "stream",
     "text": [
      "[1, 2, 3, 5, 6, 7, 8, 9]\n"
     ]
    }
   ],
   "source": [
    "def partition(A, pivot, low, high):\n",
    "    i = low\n",
    "    j = low\n",
    "    while i <= high:\n",
    "        if A[i] > pivot:\n",
    "            i += 1\n",
    "        else:\n",
    "            temp = A[i]\n",
    "            A[i] = A[j]\n",
    "            A[j] = temp\n",
    "            i += 1\n",
    "            j += 1\n",
    "    return j - 1\n",
    "\n",
    "\n",
    "def quickSort(A, low, high):\n",
    "    if low >= high:\n",
    "        return\n",
    "    pivot = A[high]\n",
    "    pIdx = partition(A, pivot, low, high)\n",
    "    quickSort(A, low, pIdx - 1)\n",
    "    quickSort(A, pIdx + 1, high)\n",
    "\n",
    "A = [8, 5, 1, 3, 7, 2, 9, 6]\n",
    "n = len(A)\n",
    "\n",
    "quickSort(A, 0, n - 1)\n",
    "print(A)"
   ]
  },
  {
   "cell_type": "markdown",
   "metadata": {},
   "source": [
    "### Quick Select Sorting - Find `k`th largest/smallest element in array"
   ]
  },
  {
   "cell_type": "code",
   "execution_count": 26,
   "metadata": {},
   "outputs": [
    {
     "name": "stdout",
     "output_type": "stream",
     "text": [
      "4th Largest element:  5\n",
      "4th Smallest element:  4\n"
     ]
    }
   ],
   "source": [
    "def partition(A, pivot, low, high):\n",
    "    i = low\n",
    "    j = low\n",
    "    while i <= high:\n",
    "        if A[i] > pivot:\n",
    "            i += 1\n",
    "        else:\n",
    "            temp = A[i]\n",
    "            A[i] = A[j]\n",
    "            A[j] = temp\n",
    "            i += 1\n",
    "            j += 1\n",
    "    return j - 1\n",
    "\n",
    "def quickSelect(A, k, low, high):\n",
    "    pivot = A[high]\n",
    "    pIdx = partition(A, pivot, low, high)\n",
    "    if pIdx > k:\n",
    "        return quickSelect(A, k, low, pIdx-1)\n",
    "    elif pIdx < k:\n",
    "        return quickSelect(A, k, pIdx+1, high)\n",
    "    else:\n",
    "        return A[k]\n",
    "\n",
    "A = [8, 3, 5, 7, 6, 1, 4, 2]\n",
    "k = 4\n",
    "\n",
    "n = len(A)\n",
    "print(f'{k}th Largest element: ', quickSelect(A, n-k, 0, n-1))\n",
    "print(f'{k}th Smallest element: ', quickSelect(A, k-1, 0, n-1))"
   ]
  },
  {
   "cell_type": "markdown",
   "metadata": {},
   "source": [
    "### Count Sort"
   ]
  },
  {
   "cell_type": "code",
   "execution_count": 9,
   "metadata": {},
   "outputs": [
    {
     "name": "stdout",
     "output_type": "stream",
     "text": [
      "min: 2, max: 9\n",
      "[2, 3, 3, 3, 4, 4, 5, 5, 6, 6, 6, 8, 9, 9, 9]\n"
     ]
    }
   ],
   "source": [
    "# Frequency approach: Not stable!\n",
    "\n",
    "A = [9, 6, 3, 5, 3, 4, 3, 9, 6, 4, 6, 5, 8, 2, 9]\n",
    "\n",
    "eMin = min(A)\n",
    "eMax = max(A)\n",
    "delta = eMax - eMin\n",
    "freq = [0] * (delta + 1)\n",
    "\n",
    "for e in A:\n",
    "    freq[e - eMin] += 1\n",
    "    \n",
    "i = 0\n",
    "j = 0\n",
    "m = len(freq)\n",
    "\n",
    "while j < m:\n",
    "    while freq[j] > 0:\n",
    "        A[i] = j + eMin\n",
    "        freq[j] -= 1\n",
    "        i += 1\n",
    "    j += 1\n",
    "\n",
    "print(f'min: {eMin}, max: {eMax}')\n",
    "print(A)"
   ]
  },
  {
   "cell_type": "code",
   "execution_count": 28,
   "metadata": {},
   "outputs": [
    {
     "name": "stdout",
     "output_type": "stream",
     "text": [
      "[2, 3, 3, 3, 4, 4, 5, 5, 6, 6, 6, 8, 9, 9, 9]\n"
     ]
    }
   ],
   "source": [
    "# Prefix sum approach for making count sort stable\n",
    "\n",
    "A = [9, 6, 3, 5, 3, 4, 3, 9, 6, 4, 6, 5, 8, 2, 9]\n",
    "\n",
    "eMin = min(A)\n",
    "eMax = max(A)\n",
    "delta = eMax - eMin\n",
    "prefix = [0] * (delta + 1)\n",
    "\n",
    "for e in A:\n",
    "    idx = e - eMin\n",
    "    prefix[idx] += 1\n",
    "    \n",
    "m = len(prefix)\n",
    "\n",
    "for i in range(1, m):\n",
    "    prefix[i] = prefix[i] + prefix[i-1]\n",
    "\n",
    "n = len(A)\n",
    "output = [0] * n\n",
    "\n",
    "for i in range(n-1, -1, -1):\n",
    "    e = A[i]\n",
    "    idx = prefix[e - eMin] - 1\n",
    "    output[idx] = e\n",
    "    prefix[e - eMin] -= 1\n",
    "    \n",
    "print(output)"
   ]
  },
  {
   "cell_type": "markdown",
   "metadata": {},
   "source": [
    "### Radix Sort : Using Count Sort"
   ]
  },
  {
   "cell_type": "code",
   "execution_count": 11,
   "metadata": {},
   "outputs": [
    {
     "name": "stdout",
     "output_type": "stream",
     "text": [
      "[37, 64, 97, 123, 213, 375, 443, 683, 718, 982]\n"
     ]
    }
   ],
   "source": [
    "def getDigit(e, idx):\n",
    "    return (e // 10**idx) % 10\n",
    "\n",
    "def countSort(A, exp):\n",
    "    \n",
    "    prefix = [0] * 10\n",
    "    \n",
    "    for e in A:\n",
    "        d = (e // exp) % 10\n",
    "        prefix[d] += 1\n",
    "        \n",
    "    m = len(prefix)\n",
    "    for i in range(1, m):\n",
    "        prefix[i] = prefix[i] + prefix[i-1]\n",
    "            \n",
    "    n = len(A)\n",
    "    temp = [0] * n\n",
    "    for i in range(n-1, -1, -1):\n",
    "        e = A[i]\n",
    "        d = (e // exp) % 10\n",
    "        j = prefix[d] - 1\n",
    "        temp[j] = e\n",
    "        prefix[d] -= 1\n",
    "        \n",
    "    for i in range(n):\n",
    "        A[i] = temp[i]\n",
    "        \n",
    "\n",
    "A = [213, 97, 718, 123, 37, 443, 982, 64, 375, 683]\n",
    "\n",
    "exp = 1\n",
    "eMax = max(A)\n",
    "\n",
    "while exp <= eMax:\n",
    "    countSort(A, exp)\n",
    "    exp *= 10 \n",
    "    \n",
    "print(A)"
   ]
  },
  {
   "cell_type": "markdown",
   "metadata": {},
   "source": [
    "### Sort Dates: `mmddyyyy` format"
   ]
  },
  {
   "cell_type": "code",
   "execution_count": 12,
   "metadata": {},
   "outputs": [
    {
     "name": "stdout",
     "output_type": "stream",
     "text": [
      "[11251987, 7121989, 4121996, 10201996, 5061997]\n"
     ]
    }
   ],
   "source": [
    "def countSort(A, div, mod, size):\n",
    "    \n",
    "    prefix = [0] * size\n",
    "    \n",
    "    for e in A:\n",
    "        d = (e // div) % mod\n",
    "        prefix[d] += 1\n",
    "        \n",
    "    m = len(prefix)\n",
    "    for i in range(1, m):\n",
    "        prefix[i] = prefix[i] + prefix[i-1]\n",
    "            \n",
    "    n = len(A)\n",
    "    temp = [0] * n\n",
    "    for i in range(n-1, -1, -1):\n",
    "        e = A[i]\n",
    "        d = (e // div) % mod\n",
    "        j = prefix[d] - 1\n",
    "        temp[j] = e\n",
    "        prefix[d] -= 1\n",
    "        \n",
    "    for i in range(n):\n",
    "        A[i] = temp[i]\n",
    "        \n",
    "\n",
    "A = [4121996, 10201996, 5061997, 7121989, 11251987]\n",
    "\n",
    "# Sort order: (1) MM, (2) DD, (3) YYYY\n",
    "\n",
    "div = 1000000\n",
    "mod = 100\n",
    "size = 13 # 0, 1, 2, 3, 4, 5, 6, 7, 8, 9, 10, 11, 12 i.e. 13 numbers\n",
    "countSort(A, div, mod, size)\n",
    "\n",
    "div = 10000\n",
    "mod = 100\n",
    "size = 32\n",
    "countSort(A, div, mod, size)\n",
    "\n",
    "div = 1\n",
    "mod = 10000\n",
    "size = 10001\n",
    "countSort(A, div, mod, size)\n",
    "\n",
    "print(A)"
   ]
  },
  {
   "cell_type": "markdown",
   "metadata": {},
   "source": [
    "### Sort `01`"
   ]
  },
  {
   "cell_type": "code",
   "execution_count": 13,
   "metadata": {},
   "outputs": [
    {
     "name": "stdout",
     "output_type": "stream",
     "text": [
      "[0, 0, 0, 0, 1, 1, 1, 1, 1, 1]\n"
     ]
    }
   ],
   "source": [
    "A = [0, 1, 1, 0, 1, 0, 1, 1, 0, 1]\n",
    "\n",
    "n = len(A)\n",
    "i = 0\n",
    "j = 0\n",
    "while i < n:\n",
    "    if A[i] == 1:\n",
    "        i += 1\n",
    "    else:\n",
    "        temp = A[i]\n",
    "        A[i] = A[j]\n",
    "        A[j] = temp\n",
    "        i += 1\n",
    "        j += 1\n",
    "        \n",
    "print(A)"
   ]
  },
  {
   "cell_type": "markdown",
   "metadata": {},
   "source": [
    "### Sort `012`"
   ]
  },
  {
   "cell_type": "code",
   "execution_count": 22,
   "metadata": {},
   "outputs": [
    {
     "name": "stdout",
     "output_type": "stream",
     "text": [
      "[0, 0, 0, 1, 1, 1, 1, 1, 1, 2, 2, 2, 2, 2, 2]\n"
     ]
    }
   ],
   "source": [
    "A = [1, 1, 2, 2, 0, 1, 2, 2, 1, 0, 1, 2, 0, 2, 1]\n",
    "\n",
    "n = len(A)\n",
    "\n",
    "i = 0\n",
    "j = 0\n",
    "k = n - 1\n",
    "\n",
    "while i < k:\n",
    "    if A[i] == 1:\n",
    "        i += 1\n",
    "    elif A[i] == 0:\n",
    "        temp = A[i]\n",
    "        A[i] = A[j]\n",
    "        A[j] = temp\n",
    "        i += 1\n",
    "        j += 1\n",
    "    else:\n",
    "        temp = A[i]\n",
    "        A[i] = A[k]\n",
    "        A[k] = temp\n",
    "        k -= 1\n",
    "        \n",
    "print(A)"
   ]
  },
  {
   "cell_type": "markdown",
   "metadata": {},
   "source": [
    "### Target Sum Pair `O(N.logN)`"
   ]
  },
  {
   "cell_type": "code",
   "execution_count": 48,
   "metadata": {},
   "outputs": [
    {
     "name": "stdout",
     "output_type": "stream",
     "text": [
      "[-48, -37, -29, 34, 43, 44, 60, 74, 84, 86, 100]\n",
      "[(60, 100), (74, 86)]\n"
     ]
    }
   ],
   "source": [
    "A = [-48, 100, 43, 84, 74, 86, 34, -37, 60, -29, 44]\n",
    "\n",
    "target = 160\n",
    "\n",
    "n = len(A)\n",
    "A.sort()\n",
    "print(A)\n",
    "i = 0\n",
    "j = n - 1\n",
    "output = []\n",
    "\n",
    "while i < j:\n",
    "    _sum = A[i] + A[j]\n",
    "    if _sum > target:\n",
    "        j -= 1\n",
    "    elif _sum < target:\n",
    "        i += 1\n",
    "    else:\n",
    "        output.append((A[i], A[j]))\n",
    "        i += 1\n",
    "        j -= 1\n",
    "        \n",
    "print(output)"
   ]
  },
  {
   "cell_type": "markdown",
   "metadata": {},
   "source": [
    "### Pivot of Sorted Rotated Array"
   ]
  },
  {
   "cell_type": "code",
   "execution_count": 51,
   "metadata": {},
   "outputs": [
    {
     "name": "stdout",
     "output_type": "stream",
     "text": [
      "1\n"
     ]
    }
   ],
   "source": [
    "A = [11, 13, 16, 17, 19, 20, 1, 4, 7, 10]\n",
    "\n",
    "n = len(A)\n",
    "\n",
    "low = 0\n",
    "high = n - 1\n",
    "while low < high:\n",
    "    mid = low + (high - low) // 2\n",
    "    if A[mid] < A[high]:\n",
    "        high = mid\n",
    "    else:\n",
    "        low = mid + 1\n",
    "        \n",
    "print(A[low])"
   ]
  },
  {
   "cell_type": "code",
   "execution_count": null,
   "metadata": {},
   "outputs": [],
   "source": []
  }
 ],
 "metadata": {
  "kernelspec": {
   "display_name": "Python 3",
   "language": "python",
   "name": "python3"
  },
  "language_info": {
   "codemirror_mode": {
    "name": "ipython",
    "version": 3
   },
   "file_extension": ".py",
   "mimetype": "text/x-python",
   "name": "python",
   "nbconvert_exporter": "python",
   "pygments_lexer": "ipython3",
   "version": "3.6.9"
  }
 },
 "nbformat": 4,
 "nbformat_minor": 4
}
