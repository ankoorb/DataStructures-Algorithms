{
 "cells": [
  {
   "cell_type": "markdown",
   "metadata": {},
   "source": [
    "### Fibonacci Number : Brute Force"
   ]
  },
  {
   "cell_type": "code",
   "execution_count": 1,
   "metadata": {},
   "outputs": [
    {
     "name": "stdout",
     "output_type": "stream",
     "text": [
      "12th Fibonacci number is 144\n"
     ]
    }
   ],
   "source": [
    "def fibonacci(n):\n",
    "    if n == 0 or n == 1:\n",
    "        return n\n",
    "    return fibonacci(n-1) + fibonacci(n-2)\n",
    "\n",
    "n = 12\n",
    "print(f\"{n}th Fibonacci number is {fibonacci(n)}\")"
   ]
  },
  {
   "cell_type": "markdown",
   "metadata": {},
   "source": [
    "### Fibonacci Number : Memoized"
   ]
  },
  {
   "cell_type": "code",
   "execution_count": 2,
   "metadata": {},
   "outputs": [
    {
     "name": "stdout",
     "output_type": "stream",
     "text": [
      "12th Fibonacci number is 144\n",
      "15th Fibonacci number is 610\n"
     ]
    }
   ],
   "source": [
    "def fibonacci(n, memo):\n",
    "    if n == 0 or n == 1:\n",
    "        return n\n",
    "    if n in memo:\n",
    "        return memo[n]\n",
    "    memo[n] = fibonacci(n-1, memo) + fibonacci(n-2, memo)\n",
    "    return memo[n]\n",
    "\n",
    "n = 12\n",
    "memo = {}\n",
    "print(f\"{n}th Fibonacci number is {fibonacci(n, memo)}\")\n",
    "\n",
    "n = 15\n",
    "memo = [0] * (15 + 1)\n",
    "def fibonacci(n, memo):\n",
    "    if n == 0 or n == 1:\n",
    "        return n\n",
    "    if memo[n] > 0:\n",
    "        return memo[n]\n",
    "    memo[n] = fibonacci(n-1, memo) + fibonacci(n-2, memo)\n",
    "    return memo[n]\n",
    "print(f\"{n}th Fibonacci number is {fibonacci(n, memo)}\")"
   ]
  },
  {
   "cell_type": "markdown",
   "metadata": {},
   "source": [
    "### Climbing Stairs : Brute Force"
   ]
  },
  {
   "cell_type": "code",
   "execution_count": 3,
   "metadata": {},
   "outputs": [
    {
     "name": "stdout",
     "output_type": "stream",
     "text": [
      "Number of paths to reach 6th step are 24 paths\n"
     ]
    }
   ],
   "source": [
    "def countPaths(n):\n",
    "    if n == 0:\n",
    "        return 1\n",
    "    if n < 0:\n",
    "        return 0\n",
    "    return countPaths(n-1) + countPaths(n-2) + countPaths(n-3)\n",
    "\n",
    "n = 6\n",
    "print(f\"Number of paths to reach {n}th step are {countPaths(n)} paths\")"
   ]
  },
  {
   "cell_type": "markdown",
   "metadata": {},
   "source": [
    "### Climbing Stairs : Memoized"
   ]
  },
  {
   "cell_type": "code",
   "execution_count": 4,
   "metadata": {},
   "outputs": [
    {
     "name": "stdout",
     "output_type": "stream",
     "text": [
      "Number of paths to reach 10th step are 274 paths\n"
     ]
    }
   ],
   "source": [
    "def countPaths(n, memo):\n",
    "    if n == 0:\n",
    "        return 1\n",
    "    if n < 0:\n",
    "        return 0\n",
    "    if memo[n] > 0:\n",
    "        return memo[n]\n",
    "    memo[n] = countPaths(n-1, memo) + countPaths(n-2, memo) + countPaths(n-3, memo)\n",
    "    return memo[n]\n",
    "\n",
    "n = 10\n",
    "memo = [0] * (n + 1)\n",
    "print(f\"Number of paths to reach {n}th step are {countPaths(n, memo)} paths\")"
   ]
  },
  {
   "cell_type": "markdown",
   "metadata": {},
   "source": [
    "### Climbing Stairs : Bottom Up"
   ]
  },
  {
   "cell_type": "code",
   "execution_count": 6,
   "metadata": {},
   "outputs": [
    {
     "name": "stdout",
     "output_type": "stream",
     "text": [
      "Number of paths to reach 100th step are 180396380815100901214157639 paths\n"
     ]
    }
   ],
   "source": [
    "def countPaths(n):\n",
    "    T = [0] * (n + 1)\n",
    "    T[0] = 1\n",
    "    for i in range(1, n + 1):\n",
    "        if i == 1:\n",
    "            T[i] = T[i-1]\n",
    "        elif i == 2:\n",
    "            T[i] = T[i-1] + T[i-2]\n",
    "        else:\n",
    "            T[i] = T[i-1] + T[i-2] + T[i-3]\n",
    "    return T[n]\n",
    "\n",
    "n = 100\n",
    "print(f\"Number of paths to reach {n}th step are {countPaths(n)} paths\")"
   ]
  },
  {
   "cell_type": "markdown",
   "metadata": {},
   "source": [
    "### Climbing Stairs with Variable Jumps : Bottom Up"
   ]
  },
  {
   "cell_type": "code",
   "execution_count": 10,
   "metadata": {},
   "outputs": [
    {
     "name": "stdout",
     "output_type": "stream",
     "text": [
      "Number of paths to reach 6th step are 3 paths\n"
     ]
    }
   ],
   "source": [
    "def countPaths(n, J):\n",
    "    T = [0] * (n + 1)\n",
    "    T[n] = 1\n",
    "    for i in range(n-1, -1, -1):\n",
    "        j = 1\n",
    "        while j <= J[i] and i + j < n + 1:\n",
    "            T[i] += T[i + j]\n",
    "            j += 1\n",
    "    return T[0]\n",
    "\n",
    "n = 6\n",
    "J = [2, 4, 1, 0, 2, 3]\n",
    "print(f\"Number of paths to reach {n}th step are {countPaths(n, J)} paths\")"
   ]
  },
  {
   "cell_type": "markdown",
   "metadata": {},
   "source": [
    "### Climbing Stairs with Minimum Number of Jumps : Bottom Up"
   ]
  },
  {
   "cell_type": "code",
   "execution_count": 14,
   "metadata": {},
   "outputs": [
    {
     "name": "stdout",
     "output_type": "stream",
     "text": [
      "Minimum number of jumps to reach 10th step are 4 jumps\n"
     ]
    }
   ],
   "source": [
    "def minJumps(n, J):\n",
    "    T = [float('inf')] * (n + 1)\n",
    "    T[n] = 0\n",
    "    for i in range(n-1, -1, -1):\n",
    "        j = 1\n",
    "        minimum = float('inf')\n",
    "        while j <= J[i] and i + j < n + 1:\n",
    "            minimum = min(minimum, T[i+j])\n",
    "            j += 1\n",
    "        T[i] = 1 + minimum\n",
    "    return T[0]\n",
    "\n",
    "n = 10\n",
    "J = [3, 2, 4, 2, 0, 2, 3, 1, 2, 2]\n",
    "print(f\"Minimum number of jumps to reach {n}th step are {minJumps(n, J)} jumps\")"
   ]
  },
  {
   "cell_type": "markdown",
   "metadata": {},
   "source": [
    "### Minimum Cost Path in Maze / Minimum Path Sum : Bottom Up"
   ]
  },
  {
   "cell_type": "code",
   "execution_count": 20,
   "metadata": {},
   "outputs": [
    {
     "name": "stdout",
     "output_type": "stream",
     "text": [
      "Minimum cost to reach bottom right of maze is 25\n"
     ]
    }
   ],
   "source": [
    "def minCost(M):\n",
    "    m = len(M)\n",
    "    n = len(M[0])\n",
    "    \n",
    "    T = [[0 for _ in range(n)] for _ in range(m)]\n",
    "    \n",
    "    for i in range(m-1, -1, -1):\n",
    "        for j in range(n-1, -1, -1):\n",
    "            if i == m - 1 and j == n - 1:\n",
    "                T[i][j] = M[i][j]\n",
    "            elif i == m - 1:\n",
    "                T[i][j] = T[i][j+1] + M[i][j]\n",
    "            elif j == n - 1:\n",
    "                T[i][j] = T[i+1][j] + M[i][j]\n",
    "            else:\n",
    "                T[i][j] = min(T[i][j+1], T[i+1][j]) + M[i][j]\n",
    "    \n",
    "    return T[0][0]\n",
    "\n",
    "M = [[2, 3, 7, 4, 1],\n",
    "     [5, 1, 0, 3, 8],\n",
    "     [6, 2, 4, 1, 9],\n",
    "     [1, 0, 7, 9, 5],\n",
    "     [9, 4, 5, 6, 3],\n",
    "     [7, 6, 2, 5, 1]]\n",
    "\n",
    "print(f\"Minimum cost to reach bottom right of maze is {minCost(M)}\")"
   ]
  },
  {
   "cell_type": "markdown",
   "metadata": {},
   "source": [
    "### Collect Maximum Gold from Goldmine"
   ]
  },
  {
   "cell_type": "code",
   "execution_count": 19,
   "metadata": {},
   "outputs": [
    {
     "name": "stdout",
     "output_type": "stream",
     "text": [
      "Maximum amount of gold miner can collect is 33 units\n"
     ]
    }
   ],
   "source": [
    "def maxGold(M):\n",
    "    m = len(M)\n",
    "    n = len(M[0])\n",
    "    \n",
    "    T = [[0 for _ in range(n)] for _ in range(m)]\n",
    "    \n",
    "    for j in range(n-1, -1, -1):\n",
    "        for i in range(m):\n",
    "            if j == n - 1:\n",
    "                T[i][j] = M[i][j]\n",
    "            elif i == 0:\n",
    "                T[i][j] = max(T[i][j+1], T[i+1][j+1]) + M[i][j]\n",
    "            elif i == m - 1:\n",
    "                T[i][j] = max(T[i-1][j+1], T[i][j+1]) + M[i][j]\n",
    "            else:\n",
    "                T[i][j] = max([T[i-1][j+1], T[i][j+1], T[i+1][j+1]]) + M[i][j]\n",
    "                \n",
    "    gold = float('-inf')\n",
    "    for i in range(m):\n",
    "        gold = max(gold, T[i][0])\n",
    "        \n",
    "    return gold\n",
    "\n",
    "\n",
    "M = [[0, 1, 4, 2, 8, 2],\n",
    "     [4, 3, 6, 5, 0, 4],\n",
    "     [1, 2, 4, 1, 4, 6],\n",
    "     [2, 0, 7, 3, 2, 2],\n",
    "     [3, 1, 5, 9, 2, 4],\n",
    "     [2, 7, 0, 8, 5, 1]]\n",
    "\n",
    "print(f\"Maximum amount of gold miner can collect is {maxGold(M)} units\")"
   ]
  },
  {
   "cell_type": "markdown",
   "metadata": {},
   "source": [
    "### Target Sum Subsets : Bottom Up"
   ]
  },
  {
   "cell_type": "code",
   "execution_count": 46,
   "metadata": {},
   "outputs": [
    {
     "name": "stdout",
     "output_type": "stream",
     "text": [
      "Are there subsets in [4, 2, 7, 1, 3] that sums to 10: True\n"
     ]
    }
   ],
   "source": [
    "def sumSubsets(A, S):\n",
    "    n = len(A)\n",
    "    \n",
    "    T = [[False for _ in range(S + 1)] for _ in range(n + 1)]\n",
    "    \n",
    "    for i in range(n + 1):\n",
    "        for j in range(S + 1):\n",
    "            if i == 0 and j == 0:\n",
    "                T[i][j] = True\n",
    "            elif i == 0:\n",
    "                T[i][j] = False\n",
    "            elif j == 0:\n",
    "                T[i][j] = True\n",
    "            else:\n",
    "                col = j - A[i-1]\n",
    "                T[i][j] = T[i-1][j] or (T[i-1][col] if col >= 0 else False)\n",
    "                \n",
    "    return T[n][S]\n",
    "\n",
    "\n",
    "\n",
    "S = 10\n",
    "A = [4, 2, 7, 1, 3]\n",
    "print(f\"Are there subsets in {A} that sums to {S}: {sumSubsets(A, S)}\")"
   ]
  },
  {
   "cell_type": "markdown",
   "metadata": {},
   "source": [
    "### Coin Change Combinations : Bottom Up `O(nm) space` "
   ]
  },
  {
   "cell_type": "code",
   "execution_count": 58,
   "metadata": {},
   "outputs": [
    {
     "name": "stdout",
     "output_type": "stream",
     "text": [
      "Number of combinations of [2, 3, 5] that make 7: 2\n"
     ]
    }
   ],
   "source": [
    "def coinCombinations(A, S):\n",
    "    n = len(A)\n",
    "    T = [[0 for _ in range(S + 1)] for _ in range(n + 1)]\n",
    "    \n",
    "    for i in range(n + 1):\n",
    "        for j in range(S + 1):\n",
    "            if i == 0 and j == 0:\n",
    "                T[i][j] = 1\n",
    "            elif i == 0:\n",
    "                T[i][j] = 0\n",
    "            elif j == 0:\n",
    "                T[i][j] = 1\n",
    "            else:\n",
    "                col = j - A[i-1]\n",
    "                T[i][j] = T[i-1][j] + (T[i][col] if col >= 0 else 0)\n",
    "            \n",
    "    return T[n][S]\n",
    "\n",
    "S = 7\n",
    "A = [2, 3, 5]\n",
    "print(f\"Number of combinations of {A} that make {S}: {coinCombinations(A, S)}\")"
   ]
  },
  {
   "cell_type": "markdown",
   "metadata": {},
   "source": [
    "### Coin Change Combinations : Bottom Up `O(n) space` "
   ]
  },
  {
   "cell_type": "code",
   "execution_count": 63,
   "metadata": {},
   "outputs": [
    {
     "name": "stdout",
     "output_type": "stream",
     "text": [
      "Number of combinations of [2, 3, 5, 6] that make 10: 5\n"
     ]
    }
   ],
   "source": [
    "def coinCombinations(A, S):\n",
    "    n = len(A)\n",
    "    \n",
    "    T = [0 for _ in range(S + 1)]\n",
    "    T[0] = 1\n",
    "    \n",
    "    for i in range(n): \n",
    "        for j in range(A[i], S + 1):\n",
    "            T[j] += T[j - A[i]]\n",
    "        \n",
    "    return T[S]\n",
    "\n",
    "S = 10\n",
    "A = [2, 3, 5, 6]\n",
    "print(f\"Number of combinations of {A} that make {S}: {coinCombinations(A, S)}\")"
   ]
  },
  {
   "cell_type": "markdown",
   "metadata": {},
   "source": [
    "### Coin Change Permutations : Bottom Up `O(nm) space` "
   ]
  },
  {
   "cell_type": "code",
   "execution_count": 64,
   "metadata": {},
   "outputs": [
    {
     "data": {
      "text/plain": [
       "0"
      ]
     },
     "execution_count": 64,
     "metadata": {},
     "output_type": "execute_result"
    }
   ],
   "source": [
    "def coinPermutations(C, S):\n",
    "    n = len(C)\n",
    "    T = [[0 for _ in range(S + 1)] for _ in range(n + 1)]\n",
    "    T[0][0] = 1\n",
    "    for j in range(S + 1):\n",
    "        for i in range(n + 1):\n",
    "            if i == 0:\n",
    "                T[i][j] = 0\n",
    "            elif j == 0:\n",
    "                T[i][j] = 1\n",
    "            else:\n",
    "                col = j - A[i-1]\n",
    "                T[i][j] += (T[i][col] if col >= 0 else 0)\n",
    "    return T[n][S]\n",
    "\n",
    "S = 10\n",
    "C = [2, 3, 5, 6]\n",
    "coinPermutations(C, S)"
   ]
  },
  {
   "cell_type": "code",
   "execution_count": null,
   "metadata": {},
   "outputs": [],
   "source": []
  },
  {
   "cell_type": "code",
   "execution_count": null,
   "metadata": {},
   "outputs": [],
   "source": []
  },
  {
   "cell_type": "code",
   "execution_count": null,
   "metadata": {},
   "outputs": [],
   "source": []
  },
  {
   "cell_type": "code",
   "execution_count": null,
   "metadata": {},
   "outputs": [],
   "source": []
  },
  {
   "cell_type": "code",
   "execution_count": null,
   "metadata": {},
   "outputs": [],
   "source": []
  },
  {
   "cell_type": "code",
   "execution_count": null,
   "metadata": {},
   "outputs": [],
   "source": []
  },
  {
   "cell_type": "code",
   "execution_count": null,
   "metadata": {},
   "outputs": [],
   "source": []
  },
  {
   "cell_type": "code",
   "execution_count": null,
   "metadata": {},
   "outputs": [],
   "source": []
  },
  {
   "cell_type": "code",
   "execution_count": null,
   "metadata": {},
   "outputs": [],
   "source": []
  },
  {
   "cell_type": "code",
   "execution_count": null,
   "metadata": {},
   "outputs": [],
   "source": []
  },
  {
   "cell_type": "code",
   "execution_count": null,
   "metadata": {},
   "outputs": [],
   "source": []
  },
  {
   "cell_type": "code",
   "execution_count": null,
   "metadata": {},
   "outputs": [],
   "source": []
  }
 ],
 "metadata": {
  "kernelspec": {
   "display_name": "Python 3",
   "language": "python",
   "name": "python3"
  },
  "language_info": {
   "codemirror_mode": {
    "name": "ipython",
    "version": 3
   },
   "file_extension": ".py",
   "mimetype": "text/x-python",
   "name": "python",
   "nbconvert_exporter": "python",
   "pygments_lexer": "ipython3",
   "version": "3.6.9"
  }
 },
 "nbformat": 4,
 "nbformat_minor": 4
}
