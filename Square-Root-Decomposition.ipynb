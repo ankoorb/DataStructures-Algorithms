{
 "cells": [
  {
   "cell_type": "code",
   "execution_count": 2,
   "metadata": {},
   "outputs": [],
   "source": [
    "import math"
   ]
  },
  {
   "cell_type": "code",
   "execution_count": 10,
   "metadata": {},
   "outputs": [
    {
     "name": "stdout",
     "output_type": "stream",
     "text": [
      "[-1, -2, -1, -4]\n",
      "-2\n",
      "-4\n",
      "-4\n",
      "-2\n"
     ]
    }
   ],
   "source": [
    "class SqrtDecomposition:\n",
    "    \n",
    "    def __init__(self, A):\n",
    "        self.A = A\n",
    "        self.n = len(A)\n",
    "        self.n_sqrt = math.ceil(math.sqrt(self.n))\n",
    "        self.preprocess()\n",
    "        \n",
    "    def preprocess(self):\n",
    "        self.cache = [float('inf')] * self.n_sqrt\n",
    "        for i in range(self.n):\n",
    "            sqrt_idx = i // self.n_sqrt\n",
    "            self.cache[sqrt_idx] = min(self.cache[sqrt_idx], self.A[i])\n",
    "        \n",
    "    def query(self, q):\n",
    "        l = q[0]\n",
    "        r = q[1]\n",
    "        value = float('inf')\n",
    "        \n",
    "        while l <= r:\n",
    "            if l % self.n_sqrt == 0 and l + self.n_sqrt - 1 <= r:\n",
    "                value = min(value, self.cache[l // self.n_sqrt])\n",
    "                l += self.n_sqrt\n",
    "            else:\n",
    "                value = min(value, self.A[l])\n",
    "                l += 1\n",
    "                \n",
    "        return value\n",
    "    \n",
    "    def update(self, u):\n",
    "        pass\n",
    "    \n",
    "    \n",
    "A = [2, 3, -1, 9, 6, -2, 4, 10, 12, -1, 5, 7, -4, 8, 3]\n",
    "Q = [(1, 6), (3, 12), (12, 14), (0, 11)]\n",
    "n = len(A)\n",
    "                \n",
    "sq = SqrtDecomposition(A)\n",
    "print(sq.cache)\n",
    "for q in Q:\n",
    "    print(sq.query(q))"
   ]
  },
  {
   "cell_type": "code",
   "execution_count": null,
   "metadata": {},
   "outputs": [],
   "source": []
  }
 ],
 "metadata": {
  "kernelspec": {
   "display_name": "Python 3",
   "language": "python",
   "name": "python3"
  },
  "language_info": {
   "codemirror_mode": {
    "name": "ipython",
    "version": 3
   },
   "file_extension": ".py",
   "mimetype": "text/x-python",
   "name": "python",
   "nbconvert_exporter": "python",
   "pygments_lexer": "ipython3",
   "version": "3.6.9"
  }
 },
 "nbformat": 4,
 "nbformat_minor": 4
}
