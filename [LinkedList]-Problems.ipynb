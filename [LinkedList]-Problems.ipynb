{
 "cells": [
  {
   "cell_type": "markdown",
   "metadata": {},
   "source": [
    "### Node"
   ]
  },
  {
   "cell_type": "code",
   "execution_count": 1,
   "metadata": {},
   "outputs": [],
   "source": [
    "class Node(object):\n",
    "    def __init__(self, val=0, next=None):\n",
    "        self.val = val\n",
    "        self.next = next"
   ]
  },
  {
   "cell_type": "markdown",
   "metadata": {},
   "source": [
    "### Linked List"
   ]
  },
  {
   "cell_type": "code",
   "execution_count": 2,
   "metadata": {},
   "outputs": [],
   "source": [
    "class LinkedList(object):\n",
    "    def __init__(self, head=None, tail=None, size=0):\n",
    "        self.head = head\n",
    "        self.tail = tail\n",
    "        self.size = size\n",
    "        \n",
    "    def addLast(self, val):\n",
    "        \n",
    "        temp = Node(val)\n",
    "        \n",
    "        if self.size == 0:\n",
    "            self.head = temp\n",
    "            self.tail = temp\n",
    "        else:\n",
    "            self.tail.next = temp\n",
    "            self.tail = temp\n",
    "            \n",
    "        self.size += 1\n",
    "        \n",
    "    def display(self):\n",
    "        s = \"\"\n",
    "        temp = self.head\n",
    "        while temp != None:\n",
    "            s += str(temp.val) + \" -> \"\n",
    "            temp = temp.next\n",
    "        print(s)\n",
    "        return"
   ]
  },
  {
   "cell_type": "markdown",
   "metadata": {},
   "source": [
    "### Get Last Node of Linked List"
   ]
  },
  {
   "cell_type": "code",
   "execution_count": 3,
   "metadata": {},
   "outputs": [
    {
     "name": "stdout",
     "output_type": "stream",
     "text": [
      "8\n"
     ]
    }
   ],
   "source": [
    "L = LinkedList()\n",
    "A = [2, 4, 6, 8]\n",
    "for e in A:\n",
    "    L.addLast(e)\n",
    "    \n",
    "tail = L.head\n",
    "\n",
    "while tail.next != None:\n",
    "    tail = tail.next\n",
    "    \n",
    "print(tail.val)"
   ]
  },
  {
   "cell_type": "markdown",
   "metadata": {},
   "source": [
    "### Add Last in Linked List"
   ]
  },
  {
   "cell_type": "code",
   "execution_count": 4,
   "metadata": {},
   "outputs": [
    {
     "name": "stdout",
     "output_type": "stream",
     "text": [
      "2 -> 4 -> 6 -> 8 -> \n",
      "2 -> 4 -> 6 -> 8 -> 10 -> \n"
     ]
    }
   ],
   "source": [
    "L = LinkedList()\n",
    "A = [2, 4, 6, 8]\n",
    "for e in A:\n",
    "    L.addLast(e)\n",
    "L.display()\n",
    "    \n",
    "tail = L.tail\n",
    "\n",
    "node = Node(10)\n",
    "tail.next = node\n",
    "\n",
    "L.display()"
   ]
  },
  {
   "cell_type": "markdown",
   "metadata": {},
   "source": [
    "### Display Linked List : Size not given"
   ]
  },
  {
   "cell_type": "code",
   "execution_count": 5,
   "metadata": {},
   "outputs": [
    {
     "name": "stdout",
     "output_type": "stream",
     "text": [
      "2 -> 4 -> 6 -> 8 -> \n"
     ]
    }
   ],
   "source": [
    "L = LinkedList()\n",
    "A = [2, 4, 6, 8]\n",
    "for e in A:\n",
    "    L.addLast(e)\n",
    "    \n",
    "s = \"\"    \n",
    "temp = L.head\n",
    "while temp != None:\n",
    "    s += str(temp.val) + \" -> \"\n",
    "    temp = temp.next\n",
    "    \n",
    "print(s)"
   ]
  },
  {
   "cell_type": "markdown",
   "metadata": {},
   "source": [
    "### Display Linked List Recursive : Size is not given"
   ]
  },
  {
   "cell_type": "code",
   "execution_count": 6,
   "metadata": {},
   "outputs": [
    {
     "name": "stdout",
     "output_type": "stream",
     "text": [
      "2\n",
      "4\n",
      "6\n",
      "8\n"
     ]
    }
   ],
   "source": [
    "def display(node):\n",
    "    if node == None:\n",
    "        return\n",
    "    print(node.val)\n",
    "    display(node.next)\n",
    "    \n",
    "node = L.head\n",
    "display(node)"
   ]
  },
  {
   "cell_type": "markdown",
   "metadata": {},
   "source": [
    "### Display Linked List : Size is given"
   ]
  },
  {
   "cell_type": "code",
   "execution_count": 7,
   "metadata": {},
   "outputs": [
    {
     "name": "stdout",
     "output_type": "stream",
     "text": [
      "2 -> 4 -> 6 -> 8 -> \n"
     ]
    }
   ],
   "source": [
    "s = \"\"\n",
    "temp = L.head\n",
    "size = L.size\n",
    "\n",
    "for i in range(size):\n",
    "    s += str(temp.val) + \" -> \"\n",
    "    temp = temp.next\n",
    "    \n",
    "print(s)"
   ]
  },
  {
   "cell_type": "markdown",
   "metadata": {},
   "source": [
    "### Size of Linked List"
   ]
  },
  {
   "cell_type": "code",
   "execution_count": 8,
   "metadata": {},
   "outputs": [
    {
     "name": "stdout",
     "output_type": "stream",
     "text": [
      "True\n"
     ]
    }
   ],
   "source": [
    "size = 0\n",
    "temp = L.head\n",
    "\n",
    "while temp != None:\n",
    "    size += 1\n",
    "    temp = temp.next\n",
    "    \n",
    "print(size == L.size)"
   ]
  },
  {
   "cell_type": "markdown",
   "metadata": {},
   "source": [
    "### Remove First Node from Linked List"
   ]
  },
  {
   "cell_type": "code",
   "execution_count": 9,
   "metadata": {},
   "outputs": [
    {
     "name": "stdout",
     "output_type": "stream",
     "text": [
      "2 -> 4 -> 6 -> 8 -> \n",
      "4 -> 6 -> 8 -> \n"
     ]
    }
   ],
   "source": [
    "L.display()\n",
    "\n",
    "L.head = L.head.next\n",
    "\n",
    "L.display()"
   ]
  },
  {
   "cell_type": "markdown",
   "metadata": {},
   "source": [
    "### Get Value from Linked List : First"
   ]
  },
  {
   "cell_type": "code",
   "execution_count": 10,
   "metadata": {},
   "outputs": [
    {
     "name": "stdout",
     "output_type": "stream",
     "text": [
      "4\n"
     ]
    }
   ],
   "source": [
    "print(L.head.val)"
   ]
  },
  {
   "cell_type": "markdown",
   "metadata": {},
   "source": [
    "### Get Value from Linked List : Last"
   ]
  },
  {
   "cell_type": "code",
   "execution_count": 11,
   "metadata": {},
   "outputs": [
    {
     "name": "stdout",
     "output_type": "stream",
     "text": [
      "8\n"
     ]
    }
   ],
   "source": [
    "tail = L.head\n",
    "\n",
    "while tail.next != None:\n",
    "    tail = tail.next\n",
    "    \n",
    "print(tail.val)"
   ]
  },
  {
   "cell_type": "markdown",
   "metadata": {},
   "source": [
    "### Get Value from Linked List : At Index"
   ]
  },
  {
   "cell_type": "code",
   "execution_count": 12,
   "metadata": {},
   "outputs": [
    {
     "name": "stdout",
     "output_type": "stream",
     "text": [
      "1 -> 3 -> 5 -> 7 -> 9 -> \n",
      "9\n"
     ]
    }
   ],
   "source": [
    "L = LinkedList()\n",
    "A = [1, 3, 5, 7, 9]\n",
    "for e in A:\n",
    "    L.addLast(e)\n",
    "L.display()\n",
    "\n",
    "index = 4\n",
    "\n",
    "temp = L.head\n",
    "for i in range(index):\n",
    "    temp = temp.next\n",
    "    \n",
    "print(temp.val)"
   ]
  },
  {
   "cell_type": "markdown",
   "metadata": {},
   "source": [
    "### Add Node at First position in LinkedList"
   ]
  },
  {
   "cell_type": "code",
   "execution_count": 13,
   "metadata": {},
   "outputs": [
    {
     "name": "stdout",
     "output_type": "stream",
     "text": [
      "0 -> 1 -> 3 -> 5 -> 7 -> 9 -> \n"
     ]
    }
   ],
   "source": [
    "temp = Node(0)\n",
    "temp.next = L.head\n",
    "L.head = temp\n",
    "\n",
    "L.display()"
   ]
  },
  {
   "cell_type": "markdown",
   "metadata": {},
   "source": [
    "### Add Node at `K`th position in LinkedList"
   ]
  },
  {
   "cell_type": "code",
   "execution_count": 14,
   "metadata": {},
   "outputs": [
    {
     "name": "stdout",
     "output_type": "stream",
     "text": [
      "0 -> 1 -> 3 -> 100 -> 5 -> 7 -> 9 -> \n"
     ]
    }
   ],
   "source": [
    "k = 3\n",
    "node = Node(100)\n",
    "\n",
    "temp = L.head\n",
    "for i in range(k-1):\n",
    "    temp = temp.next\n",
    "    \n",
    "node.next = temp.next\n",
    "temp.next = node\n",
    "\n",
    "L.display()"
   ]
  },
  {
   "cell_type": "markdown",
   "metadata": {},
   "source": [
    "### Remove Last Node from Linked List"
   ]
  },
  {
   "cell_type": "code",
   "execution_count": 15,
   "metadata": {},
   "outputs": [
    {
     "name": "stdout",
     "output_type": "stream",
     "text": [
      "0 -> 1 -> 3 -> 100 -> 5 -> 7 -> 9 -> \n",
      "0 -> 1 -> 3 -> 100 -> 5 -> 7 -> \n"
     ]
    }
   ],
   "source": [
    "L.display()\n",
    "\n",
    "temp = L.head\n",
    "\n",
    "while temp.next.next != None:\n",
    "    temp = temp.next\n",
    "    \n",
    "temp.next = None\n",
    "\n",
    "L.display()"
   ]
  },
  {
   "cell_type": "markdown",
   "metadata": {},
   "source": [
    "### Remove Node from `k`th index in Linked List"
   ]
  },
  {
   "cell_type": "code",
   "execution_count": 16,
   "metadata": {},
   "outputs": [
    {
     "name": "stdout",
     "output_type": "stream",
     "text": [
      "0 -> 1 -> 3 -> 5 -> 7 -> \n"
     ]
    }
   ],
   "source": [
    "k = 3\n",
    "\n",
    "temp = L.head\n",
    "\n",
    "for i in range(k-1):\n",
    "    temp = temp.next\n",
    "    \n",
    "temp.next = temp.next.next\n",
    "\n",
    "L.display()"
   ]
  },
  {
   "cell_type": "markdown",
   "metadata": {},
   "source": [
    "### Reverse Linked List: Iterative and manipulate Value property"
   ]
  },
  {
   "cell_type": "code",
   "execution_count": 17,
   "metadata": {},
   "outputs": [
    {
     "name": "stdout",
     "output_type": "stream",
     "text": [
      "1 -> 3 -> 5 -> 7 -> 9 -> \n",
      "9 -> 7 -> 5 -> 3 -> 1 -> \n"
     ]
    }
   ],
   "source": [
    "L = LinkedList()\n",
    "A = [1, 3, 5, 7, 9]\n",
    "for e in A:\n",
    "    L.addLast(e)\n",
    "L.display()\n",
    "\n",
    "\n",
    "def getNodeAt(head, k):\n",
    "    temp = head\n",
    "    for i in range(k):\n",
    "        temp = temp.next\n",
    "    return temp\n",
    "\n",
    "size = L.size\n",
    "head = L.head\n",
    "\n",
    "i = 0\n",
    "j = size - 1\n",
    "\n",
    "while i < j:\n",
    "    p = getNodeAt(head, i)\n",
    "    q = getNodeAt(head, j)\n",
    "    temp = p.val\n",
    "    p.val = q.val\n",
    "    q.val = temp\n",
    "    i += 1\n",
    "    j -= 1\n",
    "    \n",
    "L.display()"
   ]
  },
  {
   "cell_type": "markdown",
   "metadata": {},
   "source": [
    "### Reverse Linked List: Iterative and manipulate Value property using Stack"
   ]
  },
  {
   "cell_type": "code",
   "execution_count": 18,
   "metadata": {},
   "outputs": [
    {
     "name": "stdout",
     "output_type": "stream",
     "text": [
      "9 -> 7 -> 5 -> 3 -> 1 -> \n",
      "1 -> 3 -> 5 -> 7 -> 9 -> \n"
     ]
    }
   ],
   "source": [
    "L.display()\n",
    "\n",
    "stack = []\n",
    "head = L.head\n",
    "\n",
    "while head != None:\n",
    "    stack.append(head)\n",
    "    head = head.next\n",
    "    \n",
    "dummy = Node(-1)\n",
    "temp = dummy\n",
    "\n",
    "while len(stack) > 0:\n",
    "    curr = stack.pop()\n",
    "    temp.next = Node(curr.val)\n",
    "    temp = temp.next\n",
    "    \n",
    "L.head = dummy.next\n",
    "L.display()"
   ]
  },
  {
   "cell_type": "markdown",
   "metadata": {},
   "source": [
    "### Reverse Linked List: Iterative and manipulate Next property"
   ]
  },
  {
   "cell_type": "code",
   "execution_count": 19,
   "metadata": {},
   "outputs": [
    {
     "name": "stdout",
     "output_type": "stream",
     "text": [
      "1 -> 3 -> 5 -> 7 -> 9 -> \n",
      "9 -> 7 -> 5 -> 3 -> 1 -> \n"
     ]
    }
   ],
   "source": [
    "L.display()\n",
    "\n",
    "prv = None\n",
    "nxt = None\n",
    "cur = L.head\n",
    "\n",
    "while cur != None:\n",
    "    nxt = cur.next\n",
    "    cur.next = prv\n",
    "    prv = cur\n",
    "    cur = nxt\n",
    "    \n",
    "L.head = prv\n",
    "\n",
    "L.display()"
   ]
  },
  {
   "cell_type": "markdown",
   "metadata": {},
   "source": [
    "### `k`th Node from the end of Linked List"
   ]
  },
  {
   "cell_type": "code",
   "execution_count": 20,
   "metadata": {},
   "outputs": [
    {
     "name": "stdout",
     "output_type": "stream",
     "text": [
      "9 -> 7 -> 5 -> 3 -> 1 -> \n",
      "3\n"
     ]
    }
   ],
   "source": [
    "L.display()\n",
    "\n",
    "k = 2\n",
    "\n",
    "fast = L.head\n",
    "slow = L.head\n",
    "\n",
    "for i in range(k-1):\n",
    "    fast = fast.next\n",
    "    \n",
    "while fast.next != None:\n",
    "    fast = fast.next\n",
    "    slow = slow.next\n",
    "    \n",
    "print(slow.val)"
   ]
  },
  {
   "cell_type": "markdown",
   "metadata": {},
   "source": [
    "### Middle Node of Linked List"
   ]
  },
  {
   "cell_type": "code",
   "execution_count": 21,
   "metadata": {},
   "outputs": [
    {
     "name": "stdout",
     "output_type": "stream",
     "text": [
      "9 -> 7 -> 5 -> 3 -> 1 -> \n",
      "5\n"
     ]
    }
   ],
   "source": [
    "L.display()\n",
    "\n",
    "slow = L.head\n",
    "fast = L.head\n",
    "\n",
    "while fast.next != None and fast.next.next != None:\n",
    "    slow = slow.next\n",
    "    fast = fast.next.next\n",
    "    \n",
    "print(slow.val)"
   ]
  },
  {
   "cell_type": "markdown",
   "metadata": {},
   "source": [
    "### Merge 2 Linked Lists"
   ]
  },
  {
   "cell_type": "code",
   "execution_count": 22,
   "metadata": {},
   "outputs": [
    {
     "name": "stdout",
     "output_type": "stream",
     "text": [
      "2 -> 4 -> 6 -> 8 -> \n",
      "1 -> 3 -> 5 -> 7 -> 9 -> 11 -> \n",
      "1 -> 2 -> 3 -> 4 -> 5 -> 6 -> 7 -> 8 -> 9 -> 11 -> \n"
     ]
    }
   ],
   "source": [
    "A = [2, 4, 6, 8]\n",
    "L1 = LinkedList()\n",
    "for e in A:\n",
    "    L1.addLast(e)\n",
    "L1.display()\n",
    "\n",
    "B = [1, 3, 5, 7, 9, 11]\n",
    "L2 = LinkedList()\n",
    "for e in B:\n",
    "    L2.addLast(e)\n",
    "L2.display()\n",
    "\n",
    "p = L1.head\n",
    "q = L2.head\n",
    "\n",
    "dummy = Node(-1)\n",
    "r = dummy\n",
    "\n",
    "while p != None and q != None:\n",
    "    if p.val <= q.val:\n",
    "        r.next = p\n",
    "        p = p.next\n",
    "    else:\n",
    "        r.next = q\n",
    "        q = q.next\n",
    "    r = r.next\n",
    "    \n",
    "r.next = p if p != None else q\n",
    "\n",
    "L3 = LinkedList()\n",
    "L3.head = dummy.next\n",
    "L3.display()"
   ]
  },
  {
   "cell_type": "markdown",
   "metadata": {},
   "source": [
    "### Merge Sort Linked List"
   ]
  },
  {
   "cell_type": "code",
   "execution_count": 23,
   "metadata": {},
   "outputs": [
    {
     "name": "stdout",
     "output_type": "stream",
     "text": [
      "2 -> 7 -> 1 -> 6 -> 5 -> 3 -> 4 -> 9 -> 8 -> \n",
      "1 -> 2 -> 3 -> 4 -> 5 -> 6 -> 7 -> 8 -> 9 -> \n"
     ]
    }
   ],
   "source": [
    "def getMidNext(head):\n",
    "    slow = head\n",
    "    fast = head\n",
    "    while fast.next != None and fast.next.next != None:\n",
    "        slow = slow.next\n",
    "        fast = fast.next.next\n",
    "    midNext = slow.next\n",
    "    slow.next = None\n",
    "    return midNext\n",
    "\n",
    "def merge(L1, L2):\n",
    "    dummy = Node(-1)\n",
    "    L3 = dummy\n",
    "\n",
    "    while L1 != None and L2 != None:\n",
    "        if L1.val <= L2.val:\n",
    "            L3.next = L1\n",
    "            L1 = L1.next\n",
    "        else:\n",
    "            L3.next = L2\n",
    "            L2 = L2.next\n",
    "        L3 = L3.next\n",
    "\n",
    "    L3.next = L1 if L1 != None else L2\n",
    "\n",
    "    return dummy.next\n",
    "\n",
    "def mergeSort(head):\n",
    "    if head == None or head.next == None:\n",
    "        return head\n",
    "    \n",
    "    midNext = getMidNext(head)\n",
    "    \n",
    "    L = mergeSort(head)\n",
    "    R = mergeSort(midNext)\n",
    "    \n",
    "    return merge(L, R)\n",
    "\n",
    "A = [2, 7, 1, 6, 5, 3, 4, 9, 8]\n",
    "L = LinkedList()\n",
    "for e in A:\n",
    "    L.addLast(e)\n",
    "L.display()\n",
    "\n",
    "head = L.head\n",
    "S = LinkedList() \n",
    "S.head = mergeSort(head)\n",
    "S.display()"
   ]
  },
  {
   "cell_type": "markdown",
   "metadata": {},
   "source": [
    "### Delete a Node from Linked List: Only given access to the node to be deleted"
   ]
  },
  {
   "cell_type": "code",
   "execution_count": 24,
   "metadata": {},
   "outputs": [
    {
     "name": "stdout",
     "output_type": "stream",
     "text": [
      "1 -> 2 -> 3 -> 4 -> 5 -> 6 -> 7 -> 8 -> 9 -> \n",
      "1 -> 2 -> 3 -> 4 -> 6 -> 7 -> 8 -> 9 -> \n"
     ]
    }
   ],
   "source": [
    "S.display()\n",
    "node = S.head.next.next.next.next\n",
    "\n",
    "node.val = node.next.val\n",
    "node.next = node.next.next\n",
    "\n",
    "S.display()"
   ]
  },
  {
   "cell_type": "markdown",
   "metadata": {},
   "source": [
    "### Remove Duplicates from Sorted LinkedList"
   ]
  },
  {
   "cell_type": "code",
   "execution_count": 25,
   "metadata": {},
   "outputs": [
    {
     "name": "stdout",
     "output_type": "stream",
     "text": [
      "2 -> 2 -> 2 -> 3 -> 3 -> 4 -> 5 -> 5 -> 5 -> 5 -> \n",
      "2 -> 3 -> 4 -> 5 -> \n"
     ]
    }
   ],
   "source": [
    "L = LinkedList()\n",
    "A = [2, 2, 2, 3, 3, 4, 5, 5, 5, 5]\n",
    "for e in A:\n",
    "    L.addLast(e)\n",
    "\n",
    "L.display()\n",
    "\n",
    "\n",
    "curr = L.head\n",
    "\n",
    "while curr != None and curr.next != None:\n",
    "    if curr.val == curr.next.val:\n",
    "        curr.next = curr.next.next\n",
    "    else:\n",
    "        curr = curr.next\n",
    "        \n",
    "L.display()"
   ]
  },
  {
   "cell_type": "markdown",
   "metadata": {},
   "source": [
    "### Odd Even Linked List : Position Based"
   ]
  },
  {
   "cell_type": "code",
   "execution_count": 26,
   "metadata": {},
   "outputs": [
    {
     "name": "stdout",
     "output_type": "stream",
     "text": [
      "1 -> 2 -> 3 -> 4 -> 5 -> 6 -> 7 -> 8 -> 9 -> \n",
      "Odd Even: \n",
      "1 -> 3 -> 5 -> 7 -> 9 -> 2 -> 4 -> 6 -> 8 -> \n"
     ]
    }
   ],
   "source": [
    "L = LinkedList()\n",
    "A = [1, 2, 3, 4, 5, 6, 7, 8, 9]\n",
    "for e in A:\n",
    "    L.addLast(e)\n",
    "\n",
    "L.display()\n",
    "\n",
    "headO = L.head\n",
    "headE = L.head.next\n",
    "\n",
    "odd = headO\n",
    "even = headE\n",
    "\n",
    "while even != None and even.next != None:\n",
    "    odd.next = odd.next.next\n",
    "    even.next = even.next.next\n",
    "    \n",
    "    odd = odd.next\n",
    "    even = even.next\n",
    "    \n",
    "odd.next = headE\n",
    "\n",
    "print(\"Odd Even: \")\n",
    "L.display()"
   ]
  },
  {
   "cell_type": "markdown",
   "metadata": {},
   "source": [
    "### Reverse Linked List : Recursive"
   ]
  },
  {
   "cell_type": "code",
   "execution_count": 27,
   "metadata": {},
   "outputs": [
    {
     "name": "stdout",
     "output_type": "stream",
     "text": [
      "1 -> 3 -> 5 -> 7 -> 9 -> 2 -> 4 -> 6 -> 8 -> \n",
      "8 -> 6 -> 4 -> 2 -> 9 -> 7 -> 5 -> 3 -> 1 -> \n"
     ]
    }
   ],
   "source": [
    "L.display()\n",
    "\n",
    "def reverse(node):\n",
    "    if node == None or node.next == None:\n",
    "        return node\n",
    "    \n",
    "    newHead = reverse(node.next)\n",
    "    node.next.next = node\n",
    "    node.next = None\n",
    "    \n",
    "    return newHead\n",
    "    \n",
    "\n",
    "head = L.head\n",
    "L.head = reverse(head)\n",
    "L.display()"
   ]
  },
  {
   "cell_type": "markdown",
   "metadata": {},
   "source": [
    "### Reverse Linked List Data : Recursive `Not Correct!`"
   ]
  },
  {
   "cell_type": "code",
   "execution_count": 28,
   "metadata": {},
   "outputs": [
    {
     "name": "stdout",
     "output_type": "stream",
     "text": [
      "A -> B -> C -> D -> E -> F -> G -> \n",
      "D -> B -> C -> E -> F -> G -> A -> \n"
     ]
    }
   ],
   "source": [
    "L = LinkedList()\n",
    "S = \"ABCDEFG\"\n",
    "for c in S:\n",
    "    L.addLast(c)\n",
    "L.display()\n",
    "\n",
    "size = L.size\n",
    "head = L.head\n",
    "left = head\n",
    "right = head\n",
    "\n",
    "def reverse(left, right, floor):\n",
    "    if right == None:\n",
    "        return\n",
    "    \n",
    "    reverse(left, right.next, floor + 1)\n",
    "    \n",
    "    if floor >= size // 2:\n",
    "        temp = right.val\n",
    "        right.val = left.val\n",
    "        left.val = temp\n",
    "        left = left.next\n",
    "    \n",
    "\n",
    "reverse(left, right, 0)\n",
    "L.head = head\n",
    "L.display()"
   ]
  },
  {
   "cell_type": "markdown",
   "metadata": {},
   "source": [
    "### Is Linked List a Palindrome : Iterative"
   ]
  },
  {
   "cell_type": "code",
   "execution_count": 29,
   "metadata": {},
   "outputs": [
    {
     "name": "stdout",
     "output_type": "stream",
     "text": [
      "1 -> 2 -> 3 -> 4 -> 3 -> 2 -> 1 -> \n",
      "True\n"
     ]
    }
   ],
   "source": [
    "L = LinkedList()\n",
    "A = [1, 2, 3, 4, 3, 2, 1]\n",
    "for e in A:\n",
    "    L.addLast(e)\n",
    "L.display()\n",
    "\n",
    "def reverse(node):\n",
    "    if node == None or node.next == None:\n",
    "        return node\n",
    "    newHead = reverse(node.next)\n",
    "    node.next.next = node\n",
    "    node.next = None\n",
    "    return newHead\n",
    "\n",
    "\n",
    "fast = L.head\n",
    "slow = L.head\n",
    "\n",
    "while fast.next != None and fast.next.next != None:\n",
    "    fast = fast.next.next\n",
    "    slow = slow.next\n",
    "    \n",
    "first = L.head\n",
    "second = slow.next\n",
    "slow.next = None\n",
    "\n",
    "second = reverse(second)\n",
    "\n",
    "def check(first, second):\n",
    "    while first != None and second != None:\n",
    "        if first.val != second.val:\n",
    "            return False\n",
    "        first = first.next\n",
    "        second = second.next\n",
    "    return True\n",
    "\n",
    "\n",
    "print(check(first, second))"
   ]
  },
  {
   "cell_type": "markdown",
   "metadata": {},
   "source": [
    "### Fold a Linked List / Reorder Linked List"
   ]
  },
  {
   "cell_type": "code",
   "execution_count": 30,
   "metadata": {},
   "outputs": [
    {
     "name": "stdout",
     "output_type": "stream",
     "text": [
      "1 -> 2 -> 3 -> 4 -> 5 -> 6 -> 7 -> \n",
      "1 -> 7 -> 2 -> 6 -> 3 -> 5 -> 4 -> \n"
     ]
    }
   ],
   "source": [
    "L = LinkedList()\n",
    "A = [1, 2, 3, 4, 5, 6, 7]\n",
    "for e in A:\n",
    "    L.addLast(e)\n",
    "L.display()\n",
    "\n",
    "fast = L.head\n",
    "slow = L.head\n",
    "\n",
    "while fast.next != None and fast.next.next != None:\n",
    "    fast = fast.next.next\n",
    "    slow = slow.next\n",
    "    \n",
    "p = L.head\n",
    "q = slow.next\n",
    "slow.next = None\n",
    "\n",
    "q = reverse(q)\n",
    "\n",
    "while q != None:\n",
    "    pNext = p.next\n",
    "    qNext = q.next\n",
    "    \n",
    "    p.next = q\n",
    "    q.next = pNext\n",
    "    \n",
    "    p = pNext\n",
    "    q = qNext\n",
    "\n",
    "L.display()"
   ]
  },
  {
   "cell_type": "markdown",
   "metadata": {},
   "source": [
    "#### Error\n",
    "\n",
    "```python\n",
    "L = LinkedList()\n",
    "A = [1, 2, 3, 4, 5, 6, 7]\n",
    "for e in A:\n",
    "    L.addLast(e)\n",
    "L.display()\n",
    "\n",
    "size = L.size\n",
    "left = L.head\n",
    "right = L.head\n",
    "\n",
    "def fold(left, right, floor, size):\n",
    "    if right == None:\n",
    "        return left\n",
    "    \n",
    "    left = fold(left, right.next, floor + 1, size)\n",
    "    \n",
    "    if floor > size // 2:\n",
    "        right.next = left.next\n",
    "        left.next = right\n",
    "        return right.next\n",
    "    elif floor == size // 2:\n",
    "        right.next = None\n",
    "    return None\n",
    "        \n",
    "x = fold(left, right, 0, size)\n",
    "\n",
    "L.head = x\n",
    "```"
   ]
  },
  {
   "cell_type": "markdown",
   "metadata": {},
   "source": [
    "### Add 2 Linked Lists : Reversed Lists are given"
   ]
  },
  {
   "cell_type": "code",
   "execution_count": 31,
   "metadata": {},
   "outputs": [
    {
     "name": "stdout",
     "output_type": "stream",
     "text": [
      "9 -> 9 -> 9 -> 9 -> \n",
      "1 -> 1 -> \n",
      "0 -> 1 -> 0 -> 0 -> 1 -> \n"
     ]
    }
   ],
   "source": [
    "L1 = LinkedList()\n",
    "A = [9, 9, 9, 9]\n",
    "for e in A:\n",
    "    L1.addLast(e)\n",
    "L1.display()\n",
    "\n",
    "L2 = LinkedList()\n",
    "A = [1, 1]\n",
    "for e in A:\n",
    "    L2.addLast(e)\n",
    "L2.display()\n",
    "\n",
    "p = L1.head\n",
    "q = L2.head\n",
    "carry = 0\n",
    "dummy = Node(-1)\n",
    "curr = dummy\n",
    "\n",
    "while p != None or q != None:\n",
    "    x = p.val if p != None else 0\n",
    "    y = q.val if q != None else 0\n",
    "    total = x + y + carry\n",
    "    carry = total // 10\n",
    "    curr.next = Node(total % 10)\n",
    "    curr = curr.next\n",
    "    if p != None: p = p.next\n",
    "    if q != None: q = q.next\n",
    "        \n",
    "if carry > 0:\n",
    "    curr.next = Node(carry)\n",
    "    \n",
    "L3 = LinkedList()\n",
    "L3.head = dummy.next\n",
    "L3.display()"
   ]
  },
  {
   "cell_type": "markdown",
   "metadata": {},
   "source": [
    "### Intersection Point of 2 Linked Lists : O(1)"
   ]
  },
  {
   "cell_type": "code",
   "execution_count": 32,
   "metadata": {},
   "outputs": [
    {
     "name": "stdout",
     "output_type": "stream",
     "text": [
      "A -> B -> C -> D -> E -> F -> G -> H -> \n",
      "H -> I -> \n",
      "H -> I -> E -> F -> G -> H -> \n",
      "8 6\n",
      "E E\n"
     ]
    }
   ],
   "source": [
    "L1 = LinkedList()\n",
    "A = [\"A\", \"B\", \"C\", \"D\", \"E\", \"F\", \"G\", \"H\"]\n",
    "for e in A:\n",
    "    L1.addLast(e)\n",
    "L1.display()\n",
    "\n",
    "L2 = LinkedList()\n",
    "A = [\"H\", \"I\"]\n",
    "for e in A:\n",
    "    L2.addLast(e)\n",
    "L2.display()\n",
    "L2.tail.next = L1.head.next.next.next.next\n",
    "L2.display()\n",
    "L2.size = 6\n",
    "print(L1.size, L2.size)\n",
    "\n",
    "delta = abs(L1.size - L2.size)\n",
    "\n",
    "if L1.size > L2.size:\n",
    "    p = L1.head\n",
    "    q = L2.head\n",
    "else:\n",
    "    p = L2.head\n",
    "    q = L1.head\n",
    "    \n",
    "for i in range(delta):\n",
    "    p = p.next\n",
    "    \n",
    "while p != q:\n",
    "    p = p.next\n",
    "    q = q.next\n",
    "    \n",
    "print(p.val, q.val)"
   ]
  },
  {
   "cell_type": "markdown",
   "metadata": {},
   "source": [
    "### Intersection Point of 2 Linked Lists : Better O(1)"
   ]
  },
  {
   "cell_type": "code",
   "execution_count": 33,
   "metadata": {},
   "outputs": [
    {
     "name": "stdout",
     "output_type": "stream",
     "text": [
      "A -> B -> C -> D -> E -> F -> G -> H -> \n",
      "H -> I -> E -> F -> G -> H -> \n",
      "E E\n"
     ]
    }
   ],
   "source": [
    "L1 = LinkedList()\n",
    "A = [\"A\", \"B\", \"C\", \"D\", \"E\", \"F\", \"G\", \"H\"]\n",
    "for e in A:\n",
    "    L1.addLast(e)\n",
    "L1.display()\n",
    "\n",
    "L2 = LinkedList()\n",
    "A = [\"H\", \"I\"]\n",
    "for e in A:\n",
    "    L2.addLast(e)\n",
    "L2.tail.next = L1.head.next.next.next.next\n",
    "L2.display()\n",
    "\n",
    "p = L1.head\n",
    "q = L2.head\n",
    "\n",
    "while p != q:\n",
    "    p = L2.head if p == None else p.next\n",
    "    q = L1.head if q == None else q.next\n",
    "    \n",
    "print(p.val, q.val)"
   ]
  },
  {
   "cell_type": "markdown",
   "metadata": {},
   "source": [
    "### Detect Cycle in a Linked List"
   ]
  },
  {
   "cell_type": "code",
   "execution_count": 34,
   "metadata": {},
   "outputs": [
    {
     "name": "stdout",
     "output_type": "stream",
     "text": [
      "Cycle detected at F!\n"
     ]
    }
   ],
   "source": [
    "L = LinkedList()\n",
    "A = [\"A\", \"B\", \"C\", \"D\", \"E\", \"F\", \"G\", \"H\"]\n",
    "for e in A:\n",
    "    L.addLast(e)\n",
    "    \n",
    "L.tail.next = L.head.next.next.next\n",
    "\n",
    "fast = L.head\n",
    "slow = L.head\n",
    "\n",
    "while fast.next != None and fast.next.next != None:\n",
    "    fast = fast.next.next\n",
    "    slow = slow.next\n",
    "    if fast == slow:\n",
    "        print(f\"Cycle detected at {slow.val}!\")\n",
    "        break"
   ]
  },
  {
   "cell_type": "markdown",
   "metadata": {},
   "source": [
    "### Insert in a Sorted Linked List"
   ]
  },
  {
   "cell_type": "code",
   "execution_count": 35,
   "metadata": {},
   "outputs": [
    {
     "name": "stdout",
     "output_type": "stream",
     "text": [
      "1 -> 3 -> 5 -> 7 -> 9 -> \n",
      "1 -> 3 -> 5 -> 7 -> 8 -> 9 -> \n"
     ]
    }
   ],
   "source": [
    "L = LinkedList()\n",
    "A = [1, 3, 5, 7, 9]\n",
    "for e in A:\n",
    "    L.addLast(e)\n",
    "L.display()\n",
    "\n",
    "x = 8\n",
    "prev = None\n",
    "curr = L.head\n",
    "\n",
    "while curr != None and curr.val < x:\n",
    "    prev = curr\n",
    "    curr = curr.next\n",
    "    \n",
    "temp = Node(x)\n",
    "temp.next = curr\n",
    "prev.next = temp\n",
    "\n",
    "L.display()"
   ]
  },
  {
   "cell_type": "markdown",
   "metadata": {},
   "source": [
    "### Check if a Linked List is Sorted"
   ]
  },
  {
   "cell_type": "code",
   "execution_count": 36,
   "metadata": {},
   "outputs": [
    {
     "name": "stdout",
     "output_type": "stream",
     "text": [
      "1 -> 3 -> 5 -> 2 -> 9 -> \n",
      "Not Sorted!\n"
     ]
    }
   ],
   "source": [
    "L = LinkedList()\n",
    "A = [1, 3, 5, 2, 9]\n",
    "for e in A:\n",
    "    L.addLast(e)\n",
    "L.display()\n",
    "\n",
    "\n",
    "curr = L.head \n",
    "m = float('-inf')\n",
    "\n",
    "while curr.next != None:\n",
    "    if curr.val < m:\n",
    "        print(\"Not Sorted!\")\n",
    "    m = curr.val\n",
    "    curr = curr.next"
   ]
  },
  {
   "cell_type": "markdown",
   "metadata": {},
   "source": [
    "### Check if the Length of Linked List is Odd or Even without Counting"
   ]
  },
  {
   "cell_type": "code",
   "execution_count": 37,
   "metadata": {},
   "outputs": [
    {
     "name": "stdout",
     "output_type": "stream",
     "text": [
      "1 -> 3 -> 5 -> 7 -> 9 -> \n",
      "Odd\n"
     ]
    }
   ],
   "source": [
    "L = LinkedList()\n",
    "A = [1, 3, 5, 7, 9]\n",
    "for e in A:\n",
    "    L.addLast(e)\n",
    "L.display()\n",
    "\n",
    "fast = L.head\n",
    "\n",
    "while True:\n",
    "    if fast == None:\n",
    "        print(\"Even\")\n",
    "        break\n",
    "    if fast.next == None:\n",
    "        print(\"Odd\")\n",
    "        break\n",
    "    fast = fast.next.next"
   ]
  },
  {
   "cell_type": "markdown",
   "metadata": {},
   "source": [
    "### Rotate a Linked List around a Node"
   ]
  },
  {
   "cell_type": "code",
   "execution_count": 38,
   "metadata": {},
   "outputs": [
    {
     "name": "stdout",
     "output_type": "stream",
     "text": [
      "A -> B -> C -> D -> E -> F -> G -> H -> \n",
      "F -> G -> H -> A -> B -> C -> D -> E -> \n"
     ]
    }
   ],
   "source": [
    "L = LinkedList()\n",
    "A = [\"A\", \"B\", \"C\", \"D\", \"E\", \"F\", \"G\", \"H\"]\n",
    "for e in A:\n",
    "    L.addLast(e)\n",
    "    \n",
    "L.display()\n",
    "x = L.head.next.next.next.next\n",
    "\n",
    "curr = L.head\n",
    "while curr != x:\n",
    "    curr = curr.next\n",
    "    \n",
    "newHead = curr.next\n",
    "curr.next = None\n",
    "\n",
    "p = newHead\n",
    "while p.next != None:\n",
    "    p = p.next\n",
    "    \n",
    "p.next = L.head\n",
    "L.head = newHead\n",
    "\n",
    "L.display()"
   ]
  },
  {
   "cell_type": "markdown",
   "metadata": {},
   "source": [
    "### Rotate Linked List"
   ]
  },
  {
   "cell_type": "code",
   "execution_count": 39,
   "metadata": {},
   "outputs": [
    {
     "name": "stdout",
     "output_type": "stream",
     "text": [
      "A -> B -> C -> D -> E -> F -> G -> H -> \n",
      "F -> G -> H -> A -> B -> C -> D -> E -> \n"
     ]
    }
   ],
   "source": [
    "L = LinkedList()\n",
    "A = [\"A\", \"B\", \"C\", \"D\", \"E\", \"F\", \"G\", \"H\"]\n",
    "for e in A:\n",
    "    L.addLast(e)\n",
    "L.display()\n",
    "\n",
    "\n",
    "k = 3\n",
    "\n",
    "length = 1\n",
    "curr = L.head\n",
    "\n",
    "while curr.next != None:\n",
    "    length += 1\n",
    "    curr = curr.next\n",
    "\n",
    "k = k % length\n",
    "curr.next = L.head\n",
    "\n",
    "p = L.head\n",
    "steps = length - k\n",
    "\n",
    "for i in range(1, steps):\n",
    "    p = p.next\n",
    "    \n",
    "L.head =  p.next\n",
    "p.next = None\n",
    "\n",
    "L.display()"
   ]
  },
  {
   "cell_type": "markdown",
   "metadata": {},
   "source": [
    "### Find the Starting Point of Cycle in Linked List"
   ]
  },
  {
   "cell_type": "code",
   "execution_count": 40,
   "metadata": {},
   "outputs": [
    {
     "name": "stdout",
     "output_type": "stream",
     "text": [
      "Cycle starts at D\n"
     ]
    }
   ],
   "source": [
    "L = LinkedList()\n",
    "A = [\"A\", \"B\", \"C\", \"D\", \"E\", \"F\", \"G\", \"H\"]\n",
    "for e in A:\n",
    "    L.addLast(e)\n",
    "L.tail.next = L.head.next.next.next\n",
    "\n",
    "fast = L.head\n",
    "slow = L.head\n",
    "\n",
    "while fast.next != None and fast.next.next != None:\n",
    "    fast = fast.next.next\n",
    "    slow = slow.next\n",
    "    if fast == slow:\n",
    "        break\n",
    "        \n",
    "entry = L.head\n",
    "while entry != slow:\n",
    "    slow = slow.next\n",
    "    entry = entry.next\n",
    "    \n",
    "print(f\"Cycle starts at {entry.val}\")"
   ]
  },
  {
   "cell_type": "markdown",
   "metadata": {},
   "source": [
    "### Reverse Nodes in `k` Group"
   ]
  },
  {
   "cell_type": "code",
   "execution_count": 41,
   "metadata": {},
   "outputs": [
    {
     "name": "stdout",
     "output_type": "stream",
     "text": [
      "A -> B -> C -> D -> E -> F -> G -> H -> \n",
      "C -> B -> A -> F -> E -> D -> G -> H -> \n"
     ]
    }
   ],
   "source": [
    "L = LinkedList()\n",
    "A = [\"A\", \"B\", \"C\", \"D\", \"E\", \"F\", \"G\", \"H\"]\n",
    "for e in A:\n",
    "    L.addLast(e)\n",
    "L.display()\n",
    "\n",
    "k = 3\n",
    "\n",
    "length = L.size\n",
    "dummy = Node(\"#\")\n",
    "dummy.next = L.head\n",
    "prev = dummy\n",
    "next = dummy\n",
    "curr = L.head\n",
    "\n",
    "for _ in range(length // k):\n",
    "    curr = prev.next\n",
    "    next = curr.next\n",
    "    \n",
    "    for i in range(k-1):\n",
    "        curr.next = next.next\n",
    "        next.next = prev.next\n",
    "        prev.next = next\n",
    "        next = curr.next\n",
    "        \n",
    "    prev = curr\n",
    "    \n",
    "L.head = dummy.next\n",
    "L.display()"
   ]
  },
  {
   "cell_type": "markdown",
   "metadata": {},
   "source": [
    "### Clone a Linked List with Next and Random Pointer"
   ]
  },
  {
   "cell_type": "code",
   "execution_count": 42,
   "metadata": {},
   "outputs": [
    {
     "name": "stdout",
     "output_type": "stream",
     "text": [
      "7 -> 13 -> 11 -> 10 -> 1 -> \n"
     ]
    }
   ],
   "source": [
    "class Node(object):\n",
    "    def __init__(self, val=0, next=None, rand=None):\n",
    "        self.val = val\n",
    "        self.next = next\n",
    "        self.rand = rand\n",
    "        \n",
    "def display(head, s=\"\"):\n",
    "    temp = head\n",
    "    while temp != None:\n",
    "        s += str(temp.val) + \" -> \"\n",
    "        temp = temp.next\n",
    "    print(s)\n",
    "\n",
    "E = Node(1)\n",
    "A = Node(7)\n",
    "B = Node(13)\n",
    "C = Node(11)\n",
    "D = Node(10)\n",
    "A.next = B\n",
    "B.next = C\n",
    "C.next = D\n",
    "D.next = E\n",
    "B.rand = A\n",
    "C.rand = E\n",
    "D.rand = C\n",
    "E.rand = A\n",
    "\n",
    "head = A\n",
    "display(head)"
   ]
  },
  {
   "cell_type": "markdown",
   "metadata": {},
   "source": [
    "#### Hash Map Solution: `O(n)` Space"
   ]
  },
  {
   "cell_type": "code",
   "execution_count": 43,
   "metadata": {},
   "outputs": [
    {
     "name": "stdout",
     "output_type": "stream",
     "text": [
      "Original: 7 -> 13 -> 11 -> 10 -> 1 -> \n",
      "Cloned: 7 -> 13 -> 11 -> 10 -> 1 -> \n"
     ]
    }
   ],
   "source": [
    "copyMap = {}\n",
    "\n",
    "p = head\n",
    "while p != None:\n",
    "    copyMap[p] = Node(p.val)\n",
    "    p = p.next\n",
    "    \n",
    "p = head\n",
    "while p != None:\n",
    "    if p.next != None:\n",
    "        copyMap[p].next = copyMap[p.next]\n",
    "    if p.rand != None:\n",
    "        copyMap[p].rand = copyMap[p.rand]        \n",
    "    p = p.next\n",
    "    \n",
    "copyHead = copyMap[head]\n",
    "\n",
    "display(head, s=\"Original: \")\n",
    "display(copyHead, s=\"Cloned: \")"
   ]
  },
  {
   "cell_type": "markdown",
   "metadata": {},
   "source": [
    "#### `O(1)` Space Solution"
   ]
  },
  {
   "cell_type": "code",
   "execution_count": 44,
   "metadata": {},
   "outputs": [
    {
     "name": "stdout",
     "output_type": "stream",
     "text": [
      "Original: 7 -> 13 -> 11 -> 10 -> 1 -> \n",
      "Cloned: 7 -> 13 -> 11 -> 10 -> 1 -> \n"
     ]
    }
   ],
   "source": [
    "# Step 1: Create copy of each node and link copy node with original node to form a linked list\n",
    "p = head\n",
    "q = head\n",
    "while p != None:\n",
    "    q = p.next\n",
    "    copy = Node(p.val)\n",
    "    p.next = copy\n",
    "    copy.next = q\n",
    "    p = q\n",
    "\n",
    "# Step 2: Assign rand property of the copy nodes\n",
    "p = head\n",
    "while p != None:\n",
    "    if p.rand != None:\n",
    "        p.next.rand = p.rand.next\n",
    "    p = p.next.next\n",
    "     \n",
    "# Step 3: Restore the original and extract cloned list\n",
    "p = head\n",
    "dummy = Node(-1)\n",
    "copy = dummy\n",
    "\n",
    "while p != None:\n",
    "    q = p.next.next\n",
    "    copy.next = p.next\n",
    "    p.next = q\n",
    "    copy = copy.next\n",
    "    p = q\n",
    "\n",
    "display(head, s=\"Original: \")\n",
    "display(dummy.next, s=\"Cloned: \")"
   ]
  },
  {
   "cell_type": "code",
   "execution_count": null,
   "metadata": {},
   "outputs": [],
   "source": []
  }
 ],
 "metadata": {
  "kernelspec": {
   "display_name": "Python 3",
   "language": "python",
   "name": "python3"
  },
  "language_info": {
   "codemirror_mode": {
    "name": "ipython",
    "version": 3
   },
   "file_extension": ".py",
   "mimetype": "text/x-python",
   "name": "python",
   "nbconvert_exporter": "python",
   "pygments_lexer": "ipython3",
   "version": "3.6.9"
  }
 },
 "nbformat": 4,
 "nbformat_minor": 4
}
