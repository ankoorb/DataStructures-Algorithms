{
 "cells": [
  {
   "cell_type": "markdown",
   "metadata": {},
   "source": [
    "### Most Frequent Char"
   ]
  },
  {
   "cell_type": "code",
   "execution_count": 1,
   "metadata": {},
   "outputs": [
    {
     "name": "stdout",
     "output_type": "stream",
     "text": [
      "a\n"
     ]
    }
   ],
   "source": [
    "s = 'avada kedavara'\n",
    "freq = {}\n",
    "for c in s:\n",
    "    freq[c] = freq.get(c, 0) + 1\n",
    "m = s[0]\n",
    "for k in freq:\n",
    "    if freq[k] > freq[m]:\n",
    "        m = k\n",
    "    \n",
    "print(m)"
   ]
  },
  {
   "cell_type": "markdown",
   "metadata": {},
   "source": [
    "### Common Elements - I"
   ]
  },
  {
   "cell_type": "code",
   "execution_count": 2,
   "metadata": {},
   "outputs": [
    {
     "name": "stdout",
     "output_type": "stream",
     "text": [
      "[1, 2, 5]\n"
     ]
    }
   ],
   "source": [
    "A = [1, 1, 2, 2, 2, 3, 5]\n",
    "B = [1, 1, 1, 2, 2, 4, 5]\n",
    "\n",
    "freq = {}\n",
    "for e in A:\n",
    "    freq[e] = freq.get(e, 0) + 1\n",
    "    \n",
    "output = []\n",
    "for e in B:\n",
    "    if e in freq:\n",
    "        output.append(e)\n",
    "        freq.pop(e)\n",
    "\n",
    "print(output)"
   ]
  },
  {
   "cell_type": "markdown",
   "metadata": {},
   "source": [
    "### Common Elements - II"
   ]
  },
  {
   "cell_type": "code",
   "execution_count": 3,
   "metadata": {},
   "outputs": [
    {
     "name": "stdout",
     "output_type": "stream",
     "text": [
      "[1, 1, 2, 2, 2, 5]\n"
     ]
    }
   ],
   "source": [
    "A = [1, 1, 2, 2, 2, 3, 5]\n",
    "B = [1, 1, 1, 2, 2, 2, 2, 4, 5]\n",
    "\n",
    "freq = {}\n",
    "for e in A:\n",
    "    freq[e] = freq.get(e, 0) + 1\n",
    "    \n",
    "output = []\n",
    "for e in B:\n",
    "    if e in freq and freq[e]:\n",
    "        output.append(e)\n",
    "        freq[e] -= 1\n",
    "\n",
    "print(output)"
   ]
  },
  {
   "cell_type": "markdown",
   "metadata": {},
   "source": [
    "### Longest Consecutive Sequence"
   ]
  },
  {
   "cell_type": "code",
   "execution_count": 1,
   "metadata": {},
   "outputs": [
    {
     "name": "stdout",
     "output_type": "stream",
     "text": [
      "[1, 2, 3, 4]\n"
     ]
    }
   ],
   "source": [
    "A = [10, 5, 9, 1, 11, 8, 6, 15, 3, 12, 2]\n",
    "A = [100,4,200,1,3,2]\n",
    "\n",
    "status = {e: True for e in A}\n",
    "\n",
    "for e in A:\n",
    "    if (e-1) in status:\n",
    "        status[e] = False\n",
    "\n",
    "maxLen = 0\n",
    "output = []\n",
    "for e in A:\n",
    "    if status[e]:\n",
    "        temp = []\n",
    "        count = 0\n",
    "        while e in status:\n",
    "            temp.append(e)\n",
    "            count += 1\n",
    "            e = e + 1\n",
    "        if count > maxLen:\n",
    "            maxLen = count\n",
    "            output = temp\n",
    "print(output)"
   ]
  },
  {
   "cell_type": "markdown",
   "metadata": {},
   "source": [
    "# Advanced Hash-Map Algorithms"
   ]
  },
  {
   "cell_type": "markdown",
   "metadata": {},
   "source": [
    "### Number of employees under every employee"
   ]
  },
  {
   "cell_type": "code",
   "execution_count": 5,
   "metadata": {},
   "outputs": [
    {
     "data": {
      "text/plain": [
       "{'D': 0, 'E': 1, 'B': 0, 'A': 0, 'C': 2, 'F': 5}"
      ]
     },
     "execution_count": 5,
     "metadata": {},
     "output_type": "execute_result"
    }
   ],
   "source": [
    "from collections import defaultdict\n",
    "\n",
    "# Employee: Manager \n",
    "org = {'A': 'C', 'B': 'C', 'C': 'F', 'D': 'E', 'E': 'F', 'F': 'F'}\n",
    "\n",
    "def solve(org):\n",
    "    # Data Structure {Manager: (Employees)}\n",
    "    tree = defaultdict(set)\n",
    "    \n",
    "    ceo = None\n",
    "    \n",
    "    for emp, man in org.items():\n",
    "        if emp == man:\n",
    "            ceo = man\n",
    "        else:\n",
    "            tree[man].add(emp)\n",
    "    \n",
    "    # Get output {Manager: Employee Count}\n",
    "    def getSize(tree, root, output):\n",
    "        \n",
    "        # Base case: leaf node\n",
    "        if root not in tree:\n",
    "            output[root] = 0\n",
    "            return 1\n",
    "        \n",
    "        count = 0\n",
    "        for child in tree[root]:\n",
    "            count += getSize(tree, child, output)\n",
    "            \n",
    "        output[root] = count\n",
    "        \n",
    "        return count + 1\n",
    "    \n",
    "    output = {}\n",
    "    getSize(tree, ceo, output)\n",
    "    \n",
    "    return output\n",
    "\n",
    "solve(org)"
   ]
  },
  {
   "cell_type": "markdown",
   "metadata": {},
   "source": [
    "### Reconstruct Itinerary"
   ]
  },
  {
   "cell_type": "code",
   "execution_count": 6,
   "metadata": {},
   "outputs": [
    {
     "data": {
      "text/plain": [
       "['Los Angeles', 'San Francisco', 'Chicago', 'Boston', 'New York', 'San Diego']"
      ]
     },
     "execution_count": 6,
     "metadata": {},
     "output_type": "execute_result"
    }
   ],
   "source": [
    "trip = {'Boston': 'New York', \n",
    "        'Los Angeles': 'San Francisco',\n",
    "        'Chicago': 'Boston',\n",
    "        'San Francisco': 'Chicago',\n",
    "        'New York':'San Diego'}\n",
    "\n",
    "def solve(trip):\n",
    "    \n",
    "    # Find trip origin: {origin: True, Destination: False}\n",
    "    origins = {}\n",
    "    for ori, des in trip.items():\n",
    "        origins[des] = False\n",
    "        if ori not in origins:\n",
    "            origins[ori] = True\n",
    "        else:\n",
    "            if origins[ori] == True:\n",
    "                origins[ori] = False\n",
    "                \n",
    "    for ori, status in origins.items():\n",
    "        if status:\n",
    "            origin = ori\n",
    "            \n",
    "    output = []\n",
    "    while True:\n",
    "        if origin in trip:\n",
    "            output.append(origin)\n",
    "            origin = trip[origin]\n",
    "        else:\n",
    "            output.append(origin)\n",
    "            break\n",
    "            \n",
    "    return output\n",
    "    \n",
    "solve(trip)"
   ]
  },
  {
   "cell_type": "markdown",
   "metadata": {},
   "source": [
    "### Check if Arrary Pairs are Divisible by K"
   ]
  },
  {
   "cell_type": "code",
   "execution_count": 7,
   "metadata": {},
   "outputs": [
    {
     "name": "stdout",
     "output_type": "stream",
     "text": [
      "True\n"
     ]
    }
   ],
   "source": [
    "A = [56, 22, 34, 12, 78, 11, 98, 69]\n",
    "k = 10\n",
    "\n",
    "freq = [0] * k\n",
    "\n",
    "for e in A:\n",
    "    freq[e % k] += 1\n",
    "\n",
    "output = True\n",
    "for e in A:\n",
    "    rem = e % k\n",
    "    if (rem == 0 or 2 * rem == k):\n",
    "        if freq[rem] % 2 != 0:\n",
    "            output = False\n",
    "    else:\n",
    "        if freq[rem] != freq[k-rem]:\n",
    "            output = False\n",
    "print(output)"
   ]
  },
  {
   "cell_type": "markdown",
   "metadata": {},
   "source": [
    "### Count Distinct Elements in every Window of Size K"
   ]
  },
  {
   "cell_type": "code",
   "execution_count": 8,
   "metadata": {},
   "outputs": [
    {
     "name": "stdout",
     "output_type": "stream",
     "text": [
      "[3, 3, 4, 3, 2, 3, 4, 3, 3, 2, 1, 2, 3]\n"
     ]
    }
   ],
   "source": [
    "k = 4\n",
    "A = [2, 5, 5, 6, 3, 2, 3, 2, 4, 5, 2, 2, 2, 2, 3, 6]\n",
    "\n",
    "n = len(A)\n",
    "i = 0\n",
    "j = 0\n",
    "freq = {}\n",
    "output = []\n",
    "\n",
    "while i < n:\n",
    "    while i < k-1:\n",
    "        freq[A[i]] = freq.get(A[i], 0) + 1\n",
    "        i += 1\n",
    "    freq[A[i]] = freq.get(A[i], 0) + 1\n",
    "    output.append(len(freq))\n",
    "    freq[A[j]] = freq[A[j]] - 1\n",
    "    \n",
    "    if freq[A[j]] == 0:\n",
    "        freq.pop(A[j])\n",
    "        \n",
    "    i += 1\n",
    "    j += 1\n",
    "    \n",
    "print(output)"
   ]
  },
  {
   "cell_type": "markdown",
   "metadata": {},
   "source": [
    "### Largest Subarray with 0 Sum"
   ]
  },
  {
   "cell_type": "code",
   "execution_count": 9,
   "metadata": {},
   "outputs": [
    {
     "name": "stdout",
     "output_type": "stream",
     "text": [
      "8\n"
     ]
    }
   ],
   "source": [
    "A = [2, 8, -3, -5, 2, -4, 6, 1, 2, 1, -3, 4]\n",
    "\n",
    "n = len(A)\n",
    "maxLen = 0\n",
    "prefix = 0\n",
    "sumIdx = {prefix: 0}\n",
    "for i in range(n):\n",
    "    prefix += A[i]\n",
    "    if prefix in sumIdx:\n",
    "        maxLen = max(i - sumIdx[prefix], maxLen)\n",
    "    else:\n",
    "        sumIdx[prefix] = i\n",
    "print(maxLen)"
   ]
  },
  {
   "cell_type": "markdown",
   "metadata": {},
   "source": [
    "### Count 0 Sum Subarrays"
   ]
  },
  {
   "cell_type": "code",
   "execution_count": 10,
   "metadata": {},
   "outputs": [
    {
     "name": "stdout",
     "output_type": "stream",
     "text": [
      "6\n"
     ]
    },
    {
     "data": {
      "text/plain": [
       "{0: 2, 2: 2, 10: 2, 7: 3, 4: 1, 6: 1, 9: 1, 11: 1}"
      ]
     },
     "execution_count": 10,
     "metadata": {},
     "output_type": "execute_result"
    }
   ],
   "source": [
    "A = [2, 8, -3, -5, 2, -4, 6, 1, 2, 1, -3, 4]\n",
    "\n",
    "n = len(A)\n",
    "count = 0\n",
    "prefix = 0\n",
    "sumCount = {prefix: 1}\n",
    "for i in range(n):\n",
    "    prefix += A[i]\n",
    "    if prefix in sumCount:\n",
    "        count += sumCount[prefix]\n",
    "        \n",
    "    sumCount[prefix] = sumCount.get(prefix, 0) + 1\n",
    "print(count)\n",
    "sumCount"
   ]
  },
  {
   "cell_type": "markdown",
   "metadata": {},
   "source": [
    "### Minimum Window Substring - Smallest substring of a string containing all chars of another string"
   ]
  },
  {
   "cell_type": "code",
   "execution_count": 11,
   "metadata": {
    "scrolled": false
   },
   "outputs": [
    {
     "name": "stdout",
     "output_type": "stream",
     "text": [
      "BANC\n"
     ]
    }
   ],
   "source": [
    "S = list(\"ADOBECODEBANC\")\n",
    "T = list(\"ABC\")\n",
    "\n",
    "freqT = {}\n",
    "for c in T:\n",
    "    freqT[c] = freqT.get(c, 0) + 1\n",
    "    \n",
    "i = 0\n",
    "j = 0\n",
    "m = len(S)\n",
    "n = len(T)\n",
    "freqS = {}\n",
    "output = []\n",
    "matchCount = 0\n",
    "\n",
    "while i < m:\n",
    "    \n",
    "    # Acquire\n",
    "    while i < m and matchCount < n:\n",
    "        c = S[i]\n",
    "        freqS[c] = freqS.get(c, 0) + 1\n",
    "        if freqS.get(c, 0) <= freqT.get(c, 0):\n",
    "            matchCount += 1\n",
    "        i += 1\n",
    "    \n",
    "    # Collect subarray and Release\n",
    "    while j < i and matchCount == n:\n",
    "        \n",
    "        # Collect subarray\n",
    "        result = S[j:i]\n",
    "        if len(output) == 0 or len(result) < len(output):\n",
    "            output = result\n",
    "            \n",
    "        # Release\n",
    "        c = S[j]\n",
    "        if freqS[c] == 1:\n",
    "            freqS.pop(c)\n",
    "        else:\n",
    "            freqS[c] = freqS[c] - 1\n",
    "        \n",
    "        if freqS.get(c, 0) < freqT.get(c, 0):\n",
    "            matchCount -= 1\n",
    "            \n",
    "        j += 1\n",
    "        \n",
    "print(''.join(output))"
   ]
  },
  {
   "cell_type": "markdown",
   "metadata": {},
   "source": [
    "### Minimum Window Substring - II: Smallest substring of a string containing all unique chars of itself"
   ]
  },
  {
   "cell_type": "code",
   "execution_count": 12,
   "metadata": {},
   "outputs": [
    {
     "name": "stdout",
     "output_type": "stream",
     "text": [
      "ACDCB\n"
     ]
    }
   ],
   "source": [
    "S = 'BBACACDCBBCAADCDCA'\n",
    "\n",
    "setS = set(S)\n",
    "\n",
    "m = len(S)\n",
    "n = len(setS)\n",
    "\n",
    "i = 0\n",
    "j = 0\n",
    "freqS = {}\n",
    "output = ''\n",
    "\n",
    "while i < m:\n",
    "    \n",
    "    # Acquire\n",
    "    while i < m and len(freqS) < n:\n",
    "        c = S[i]\n",
    "        freqS[c] = freqS.get(c, 0) + 1\n",
    "        i += 1\n",
    "        \n",
    "    # Work and Release\n",
    "    while j < i and len(freqS) == n:\n",
    "        \n",
    "        # Collect\n",
    "        result = S[j:i]\n",
    "        if len(output) == 0 or len(result) < len(output):\n",
    "            output = result\n",
    "            \n",
    "        c = S[j]\n",
    "        if freqS[c] == 1:\n",
    "            freqS.pop(c)\n",
    "        else:\n",
    "            freqS[c] = freqS[c] - 1\n",
    "            \n",
    "        j += 1  \n",
    "        \n",
    "    if i == m:\n",
    "        break\n",
    "        \n",
    "print(output)"
   ]
  },
  {
   "cell_type": "markdown",
   "metadata": {},
   "source": [
    "### Longest Substring without repeating characters"
   ]
  },
  {
   "cell_type": "code",
   "execution_count": 13,
   "metadata": {
    "scrolled": false
   },
   "outputs": [
    {
     "name": "stdout",
     "output_type": "stream",
     "text": [
      "ABC 3\n"
     ]
    }
   ],
   "source": [
    "s = \"ABCAABBCCBB\"\n",
    "\n",
    "i = 0\n",
    "j = 0\n",
    "freq = {}\n",
    "n = len(s)\n",
    "output = ''\n",
    "maxLen = 0\n",
    "\n",
    "while i < n:\n",
    "    \n",
    "    while i < n:\n",
    "        c = s[i]\n",
    "        freq[c] = freq.get(c, 0) + 1\n",
    "        i += 1\n",
    "        if freq[c] > 1:\n",
    "            break\n",
    "            \n",
    "        result = s[j:i]\n",
    "        if len(result) > len(output):\n",
    "            output = result\n",
    "            maxLen = max(maxLen, i-j)\n",
    "        \n",
    "    while j < i:\n",
    "        c = s[j]\n",
    "        freq[c] = freq[c] - 1\n",
    "        j += 1\n",
    "        if freq[c] == 1:\n",
    "            break   \n",
    "\n",
    "print(output, maxLen)"
   ]
  },
  {
   "cell_type": "code",
   "execution_count": 14,
   "metadata": {},
   "outputs": [
    {
     "name": "stdout",
     "output_type": "stream",
     "text": [
      "3\n"
     ]
    }
   ],
   "source": [
    "s = \"ABCAABBCCBB\"\n",
    "\n",
    "i = 0\n",
    "j = 0\n",
    "freq = {}\n",
    "n = len(s)\n",
    "maxLen = 0\n",
    "\n",
    "while i < n:\n",
    "    \n",
    "    while i < n:\n",
    "        c = s[i]\n",
    "        freq[c] = freq.get(c, 0) + 1\n",
    "        i += 1\n",
    "        if freq[c] > 1:\n",
    "            break\n",
    "        \n",
    "        maxLen = max(maxLen, i-j)\n",
    "        \n",
    "        \n",
    "    while j < i:\n",
    "        c = s[j]\n",
    "        freq[c] = freq[c] - 1\n",
    "        j += 1\n",
    "        if freq[c] == 1:\n",
    "            break   \n",
    "\n",
    "print(maxLen)"
   ]
  },
  {
   "cell_type": "markdown",
   "metadata": {},
   "source": [
    "### Count Substrings without Repeating Characters"
   ]
  },
  {
   "cell_type": "code",
   "execution_count": 15,
   "metadata": {},
   "outputs": [
    {
     "data": {
      "text/plain": [
       "24"
      ]
     },
     "execution_count": 15,
     "metadata": {},
     "output_type": "execute_result"
    }
   ],
   "source": [
    "s = \"AABCBCDBCA\"\n",
    "\n",
    "i = 0\n",
    "j = 0\n",
    "freq = {}\n",
    "count = 0\n",
    "n = len(s)\n",
    "\n",
    "while True:\n",
    "    \n",
    "    while i < n:\n",
    "        c = s[i]\n",
    "        freq[c] = freq.get(c, 0) + 1\n",
    "        i += 1\n",
    "        if freq[c] > 1:\n",
    "            break\n",
    "        else:\n",
    "            count += i - j\n",
    "        \n",
    "    while j < i:\n",
    "        c = s[j]\n",
    "        freq[c] = freq[c] - 1\n",
    "        j += 1\n",
    "        if freq[c] == 1:\n",
    "            count += i - j\n",
    "            break\n",
    "            \n",
    "    if i == n:\n",
    "        break\n",
    "count"
   ]
  },
  {
   "cell_type": "markdown",
   "metadata": {},
   "source": [
    "### Longest substring with exactly K distinct characters"
   ]
  },
  {
   "cell_type": "code",
   "execution_count": 16,
   "metadata": {},
   "outputs": [
    {
     "name": "stdout",
     "output_type": "stream",
     "text": [
      "4\n"
     ]
    }
   ],
   "source": [
    "s = \"AABCBCDBCA\"\n",
    "k = 2\n",
    "\n",
    "i = 0\n",
    "j = 0\n",
    "freq = {}\n",
    "n = len(s)\n",
    "maxLen = 0\n",
    "output = []\n",
    "\n",
    "while i < n:\n",
    "    \n",
    "    while i < n:\n",
    "        c = s[i]\n",
    "        freq[c] = freq.get(c, 0) + 1\n",
    "        i += 1\n",
    "        \n",
    "        if len(freq) < k:\n",
    "            continue\n",
    "        elif len(freq) == k:\n",
    "            maxLen = max(maxLen, i-j)\n",
    "        else:\n",
    "            break\n",
    "            \n",
    "    while j < i:\n",
    "        c = s[j]\n",
    "        freq[c] = freq[c] - 1\n",
    "        if freq[c] == 0:\n",
    "            freq.pop(c)\n",
    "        \n",
    "        j += 1\n",
    "        if len(freq) > k:\n",
    "            continue\n",
    "        if len(freq) == k:\n",
    "            break\n",
    "        \n",
    "print(maxLen)"
   ]
  },
  {
   "cell_type": "markdown",
   "metadata": {},
   "source": [
    "### Count of substrings with K distinct characters"
   ]
  },
  {
   "cell_type": "code",
   "execution_count": 17,
   "metadata": {},
   "outputs": [
    {
     "data": {
      "text/plain": [
       "13"
      ]
     },
     "execution_count": 17,
     "metadata": {},
     "output_type": "execute_result"
    }
   ],
   "source": [
    "# Special case: k = 1\n",
    "def solve_k1(s):\n",
    "    i = 0\n",
    "    j = 0\n",
    "    freq = {}\n",
    "    count = 0\n",
    "    n = len(s)\n",
    "\n",
    "    while True:\n",
    "\n",
    "        while i < n:\n",
    "            c = s[i]\n",
    "            freq[c] = freq.get(c, 0) + 1\n",
    "            i += 1\n",
    "            if len(freq) > k:\n",
    "                freq.pop(c)\n",
    "                i -= 1\n",
    "                break\n",
    "\n",
    "        while j < i:\n",
    "            if len(freq) == k:\n",
    "                count += i - j\n",
    "                output.append(s[j:i])\n",
    "            c = s[j]\n",
    "            freq[c] = freq[c] - 1\n",
    "            if freq[c] == 0:\n",
    "                freq.pop(c)\n",
    "            j += 1\n",
    "            if len(freq) < k:\n",
    "                break\n",
    "\n",
    "        if i == n:\n",
    "            break\n",
    "            \n",
    "    return count\n",
    "\n",
    "s = \"AABBBCCA\"\n",
    "k = 1   \n",
    "solve_k1(s)"
   ]
  },
  {
   "cell_type": "code",
   "execution_count": 18,
   "metadata": {},
   "outputs": [
    {
     "name": "stdout",
     "output_type": "stream",
     "text": [
      "17\n"
     ]
    }
   ],
   "source": [
    "# Case: k > 1\n",
    "s = \"AABCBCDBCA\"\n",
    "k = 3\n",
    "\n",
    "si = 0\n",
    "li = 0\n",
    "j = 0\n",
    "count = 0\n",
    "freqS = {}\n",
    "freqL = {}\n",
    "n = len(s)\n",
    "\n",
    "while True:\n",
    "    \n",
    "    while li < n:\n",
    "        c = s[li]\n",
    "        freqL[c] = freqL.get(c, 0) + 1\n",
    "        li += 1\n",
    "        if len(freqL) > k:\n",
    "            freqL.pop(c)\n",
    "            li -= 1\n",
    "            break\n",
    "        \n",
    "    while si < li:\n",
    "        c = s[si]\n",
    "        freqS[c] = freqS.get(c, 0) + 1\n",
    "        si += 1\n",
    "        if len(freqS) > k - 1:\n",
    "            freqS.pop(c)\n",
    "            si -= 1\n",
    "            break\n",
    "            \n",
    "    while j < si:\n",
    "        \n",
    "        if len(freqL) == k and len(freqS) == k - 1:\n",
    "            count += li - si\n",
    "            \n",
    "        c = s[j]\n",
    "        freqL[c] = freqL[c] - 1\n",
    "        freqS[c] = freqS[c] - 1\n",
    "        if freqL[c] == 0:\n",
    "            freqL.pop(c)\n",
    "        if freqS[c] == 0:\n",
    "            freqS.pop(c)\n",
    "            \n",
    "        j += 1\n",
    "        if len(freqL) < k and len(freqS) < k-1:\n",
    "            break\n",
    "            \n",
    "    if li == n:\n",
    "        break\n",
    "        \n",
    "print(count)"
   ]
  },
  {
   "cell_type": "code",
   "execution_count": 19,
   "metadata": {},
   "outputs": [
    {
     "name": "stdout",
     "output_type": "stream",
     "text": [
      "17\n"
     ]
    }
   ],
   "source": [
    "# Pepcode solution\n",
    "s = \"AABCBCDBCA\"\n",
    "k = 3\n",
    "\n",
    "si = -1\n",
    "li = -1\n",
    "j = -1\n",
    "count = 0\n",
    "freqS = {}\n",
    "freqL = {}\n",
    "n = len(s)\n",
    "\n",
    "def remove(freq, c):\n",
    "    if freq[c] == 1:\n",
    "        freq.pop(c)\n",
    "    else:\n",
    "        freq[c] = freq[c] - 1\n",
    "\n",
    "while True:\n",
    "    flagLarge = False\n",
    "    flagSmall = False\n",
    "    flagRelease = False\n",
    "    \n",
    "    while li < n - 1:\n",
    "        flagLarge = True\n",
    "        li += 1\n",
    "        c = s[li]\n",
    "        freqL[c] = freqL.get(c, 0) + 1\n",
    "        if len(freqL) == k + 1:\n",
    "            remove(freqL, c)\n",
    "            li -= 1\n",
    "            break\n",
    "        \n",
    "    while si < li:\n",
    "        flagSmall = True\n",
    "        si += 1\n",
    "        c = s[si]\n",
    "        freqS[c] = freqS.get(c, 0) + 1\n",
    "        if len(freqS) == k:\n",
    "            remove(freqS, c)\n",
    "            si -= 1\n",
    "            break\n",
    "            \n",
    "    while j < si:\n",
    "        flagRelease = True\n",
    "\n",
    "        if len(freqL) == k and len(freqS) == k - 1:\n",
    "            count += li - si\n",
    "            \n",
    "        j += 1\n",
    "        c = s[j]\n",
    "        remove(freqL, c)\n",
    "        remove(freqS, c)\n",
    "        if len(freqL) < k and len(freqS) < k-1:\n",
    "            break\n",
    "            \n",
    "    if flagLarge == False and flagSmall == False and flagRelease == False:\n",
    "        break\n",
    "        \n",
    "print(count)"
   ]
  },
  {
   "cell_type": "markdown",
   "metadata": {},
   "source": [
    "### Equivalent Subarray - Count of unique elements in the subarray = count of unique elements in the given array"
   ]
  },
  {
   "cell_type": "code",
   "execution_count": 20,
   "metadata": {},
   "outputs": [
    {
     "name": "stdout",
     "output_type": "stream",
     "text": [
      "15\n"
     ]
    }
   ],
   "source": [
    "A = [2, 5, 3, 5, 2, 4, 1, 3, 1, 4]\n",
    "\n",
    "m = len(A)\n",
    "setA = set(A)\n",
    "n = len(setA)\n",
    "\n",
    "i = 0\n",
    "j = 0\n",
    "freq = {}\n",
    "count = 0\n",
    "\n",
    "while True:\n",
    "    \n",
    "    while i < m:\n",
    "        c = A[i]\n",
    "        freq[c] = freq.get(c, 0) + 1\n",
    "        i += 1\n",
    "        if len(freq) == n:\n",
    "            count += m - i + 1\n",
    "            break\n",
    "        \n",
    "    while j < i:\n",
    "        c = A[j]\n",
    "        freq[c] = freq[c] - 1\n",
    "        if freq[c] == 0:\n",
    "            freq.pop(c)\n",
    "            \n",
    "        if len(freq) == n:\n",
    "            count += m - i + 1\n",
    "        \n",
    "        j += 1\n",
    "        if len(freq) < n:\n",
    "            break\n",
    "    \n",
    "    if i == m:\n",
    "        break\n",
    "        \n",
    "print(count)"
   ]
  },
  {
   "cell_type": "markdown",
   "metadata": {},
   "source": [
    "### Number of Maximum Consecutive Ones by flipping at most `K` Zeros"
   ]
  },
  {
   "cell_type": "code",
   "execution_count": 21,
   "metadata": {},
   "outputs": [
    {
     "name": "stdout",
     "output_type": "stream",
     "text": [
      "10\n"
     ]
    }
   ],
   "source": [
    "A = [0, 0, 1, 1, 0, 0, 1, 1, 1, 0, 1, 1, 0, 0, 0, 1, 1, 1, 1]\n",
    "k = 3\n",
    "\n",
    "i = 0\n",
    "j = 0\n",
    "freq = {}\n",
    "n = len(A)\n",
    "maxCount = 0\n",
    "\n",
    "while True:\n",
    "    \n",
    "    while i < n:\n",
    "        e = A[i]\n",
    "        freq[e] = freq.get(e, 0) + 1\n",
    "        i += 1\n",
    "        if freq.get(0, 0) <= k:\n",
    "            maxCount = max(maxCount, i-j)\n",
    "        if freq.get(0, 0) > k:\n",
    "            break\n",
    "            \n",
    "    while j < i:\n",
    "        e = A[j]\n",
    "        freq[e] = freq[e] - 1\n",
    "        if freq[e] == 0:\n",
    "            freq.pop(e)\n",
    "        j += 1\n",
    "        if freq.get(0, 0) == k:\n",
    "            break\n",
    "        \n",
    "    if i == n:\n",
    "        break\n",
    "        \n",
    "print(maxCount)"
   ]
  },
  {
   "cell_type": "code",
   "execution_count": 22,
   "metadata": {},
   "outputs": [
    {
     "data": {
      "text/plain": [
       "10"
      ]
     },
     "execution_count": 22,
     "metadata": {},
     "output_type": "execute_result"
    }
   ],
   "source": [
    "# Pepcode Solution\n",
    "A = [0, 0, 1, 1, 0, 0, 1, 1, 1, 0, 1, 1, 0, 0, 0, 1, 1, 1, 1]\n",
    "k = 3\n",
    "\n",
    "j = 0\n",
    "n = len(A)\n",
    "zeros = 0\n",
    "maxCount = 0\n",
    "\n",
    "for i in range(n):\n",
    "    if A[i] == 0:\n",
    "        zeros += 1\n",
    "    \n",
    "    if zeros > k:\n",
    "        while zeros > k:\n",
    "            if A[j] == 0:\n",
    "                zeros -= 1\n",
    "            j += 1\n",
    "            \n",
    "    maxCount = max(maxCount, i-j+1)\n",
    "    \n",
    "maxCount"
   ]
  },
  {
   "cell_type": "markdown",
   "metadata": {},
   "source": [
    "### Number of Maximum Consecutive Ones by flipping at most `1` Zeros"
   ]
  },
  {
   "cell_type": "code",
   "execution_count": 23,
   "metadata": {},
   "outputs": [
    {
     "name": "stdout",
     "output_type": "stream",
     "text": [
      "6\n",
      "6\n"
     ]
    }
   ],
   "source": [
    "A = [0, 0, 1, 1, 0, 0, 1, 1, 1, 0, 1, 1, 0, 0, 0, 1, 1, 1, 1]\n",
    "k = 1\n",
    "\n",
    "i = 0\n",
    "j = 0\n",
    "freq = {}\n",
    "n = len(A)\n",
    "maxCount = 0\n",
    "\n",
    "while True:\n",
    "    \n",
    "    while i < n:\n",
    "        e = A[i]\n",
    "        freq[e] = freq.get(e, 0) + 1\n",
    "        i += 1\n",
    "        if freq.get(0, 0) <= k:\n",
    "            maxCount = max(maxCount, i-j)\n",
    "        if freq.get(0, 0) > k:\n",
    "            break\n",
    "            \n",
    "    while j < i:\n",
    "        e = A[j]\n",
    "        freq[e] = freq[e] - 1\n",
    "        if freq[e] == 0:\n",
    "            freq.pop(e)\n",
    "        j += 1\n",
    "        if freq.get(0, 0) == k:\n",
    "            break\n",
    "        \n",
    "    if i == n:\n",
    "        break\n",
    "        \n",
    "print(maxCount)\n",
    "\n",
    "# Pepcode solution\n",
    "j = 0\n",
    "n = len(A)\n",
    "zeros = 0\n",
    "maxCount = 0\n",
    "\n",
    "for i in range(n):\n",
    "    if A[i] == 0:\n",
    "        zeros += 1\n",
    "    \n",
    "    if zeros > k:\n",
    "        while zeros > k:\n",
    "            if A[j] == 0:\n",
    "                zeros -= 1\n",
    "            j += 1\n",
    "            \n",
    "    maxCount = max(maxCount, i-j+1)\n",
    "    \n",
    "print(maxCount)"
   ]
  },
  {
   "cell_type": "markdown",
   "metadata": {},
   "source": [
    "### Length of largest subarray with contiguous elements"
   ]
  },
  {
   "cell_type": "code",
   "execution_count": 24,
   "metadata": {
    "scrolled": false
   },
   "outputs": [
    {
     "name": "stdout",
     "output_type": "stream",
     "text": [
      "4\n",
      "[[7, 5, 6], [23, 24, 22], [24, 22, 23], [19, 17, 16, 18], [17, 16, 18]]\n"
     ]
    }
   ],
   "source": [
    "A = [9, 2, 7, 5, 6, 23, 24, 22, 23, 19, 17, 16, 18, 39, 0, 9, 8, 8, 6]\n",
    "\n",
    "maxL = 0\n",
    "maxA = []\n",
    "n = len(A)\n",
    "\n",
    "for j in range(n-1):\n",
    "    eMin = A[j]\n",
    "    eMax = A[j]\n",
    "    setA = set([A[j]])\n",
    "    \n",
    "    for i in range(j+1, n):\n",
    "        if A[i] in setA:\n",
    "            break\n",
    "        else:\n",
    "            setA.add(A[i])\n",
    "            \n",
    "        eMin = min(eMin, A[i])\n",
    "        eMax = max(eMax, A[i])\n",
    "        if eMax - eMin == i - j:\n",
    "            maxL = max(maxL, i - j + 1)\n",
    "            maxA.append(A[j:i+1])\n",
    "        \n",
    "print(maxL)\n",
    "print(list(filter(lambda e: len(e) > 2, maxA)))"
   ]
  },
  {
   "cell_type": "markdown",
   "metadata": {},
   "source": [
    "### Longest substring with at most `k` unique characters"
   ]
  },
  {
   "cell_type": "code",
   "execution_count": 25,
   "metadata": {},
   "outputs": [
    {
     "name": "stdout",
     "output_type": "stream",
     "text": [
      "7 ['D', 'DD', 'DDA', 'DDAC', 'ACBB', 'ACBBA', 'ACBBAC', 'ACBBACC', 'CCDED', 'CEBB']\n"
     ]
    }
   ],
   "source": [
    "s = \"DDACBBACCDEDACEBB\"\n",
    "k = 3\n",
    "\n",
    "i = 0\n",
    "j = 0\n",
    "maxL = 0\n",
    "freq = {}\n",
    "subS = []\n",
    "n = len(s)\n",
    "\n",
    "while True:\n",
    "    while i < n:\n",
    "        c = s[i]\n",
    "        freq[c] = freq.get(c, 0) + 1\n",
    "        \n",
    "        if len(freq) <= k:\n",
    "            maxL = max(maxL, i-j+1)\n",
    "            subS.append(s[j:i+1])\n",
    "        \n",
    "        i += 1\n",
    "        if len(freq) > k:\n",
    "            break\n",
    "            \n",
    "    while j < i:\n",
    "        c = s[j]\n",
    "        freq[c] = freq[c] - 1\n",
    "        if freq[c] == 0:\n",
    "            freq.pop(c)\n",
    "            \n",
    "        j += 1\n",
    "        if len(freq) == k:\n",
    "            break\n",
    "            \n",
    "    if i == n:\n",
    "        break\n",
    "        \n",
    "print(maxL, subS)"
   ]
  },
  {
   "cell_type": "markdown",
   "metadata": {},
   "source": [
    "### Count of substrings with at most `k` unique characters"
   ]
  },
  {
   "cell_type": "code",
   "execution_count": 26,
   "metadata": {},
   "outputs": [
    {
     "name": "stdout",
     "output_type": "stream",
     "text": [
      "23\n"
     ]
    }
   ],
   "source": [
    "s = \"AABCBCDBCA\"\n",
    "k = 2\n",
    "\n",
    "i = 0\n",
    "j = 0\n",
    "freq = {}\n",
    "count = 0\n",
    "n = len(s)\n",
    "\n",
    "while True:\n",
    "    \n",
    "    while i < n:\n",
    "        c = s[i]\n",
    "        freq[c] = freq.get(c, 0) + 1\n",
    "        \n",
    "        i += 1\n",
    "        if len(freq) <= k:\n",
    "            count += i - j\n",
    "        elif len(freq) > k:\n",
    "            break\n",
    "    \n",
    "    while j < i:\n",
    "        c = s[j]\n",
    "        freq[c] = freq[c] - 1\n",
    "        if freq[c] == 0:\n",
    "            freq.pop(c)\n",
    "            \n",
    "        j += 1\n",
    "        if len(freq) == k:\n",
    "            count += i - j \n",
    "            break\n",
    "    \n",
    "    if i == n:\n",
    "        break\n",
    "        \n",
    "print(count)"
   ]
  },
  {
   "cell_type": "markdown",
   "metadata": {},
   "source": [
    "### Count subarrays with sum equal to `K`"
   ]
  },
  {
   "cell_type": "code",
   "execution_count": 27,
   "metadata": {},
   "outputs": [
    {
     "name": "stdout",
     "output_type": "stream",
     "text": [
      "7\n"
     ]
    }
   ],
   "source": [
    "A = [9, -2, 4, 1, -7, 2, 6, -5, 8, -3, -7, 6, 2]\n",
    "k = 5\n",
    "\n",
    "count = 0\n",
    "n = len(A)\n",
    "prefix = 0\n",
    "sumFreq = {prefix: 1}\n",
    "\n",
    "for i in range(n):\n",
    "    prefix += A[i]\n",
    "    diff = prefix - k\n",
    "    if diff in sumFreq:\n",
    "        count += sumFreq[diff]\n",
    "    sumFreq[prefix] = sumFreq.get(prefix, 0) + 1\n",
    "        \n",
    "print(count)"
   ]
  },
  {
   "cell_type": "markdown",
   "metadata": {},
   "source": [
    "### Count of a patterns anagram that are present in a string"
   ]
  },
  {
   "cell_type": "code",
   "execution_count": 28,
   "metadata": {},
   "outputs": [
    {
     "name": "stdout",
     "output_type": "stream",
     "text": [
      "4 [0, 1, 3, 4]\n"
     ]
    }
   ],
   "source": [
    "s = \"AABAABAA\"\n",
    "p = \"AABA\"\n",
    "\n",
    "n = len(s)\n",
    "m = len(p)\n",
    "\n",
    "def check(freqP, freqS):\n",
    "    if len(freqP) != len(freqS):\n",
    "        return False\n",
    "    for c in freqS:\n",
    "        if  freqS[c] != freqP.get(c, 0):\n",
    "            return False\n",
    "    return True\n",
    "\n",
    "freqP = {}\n",
    "freqS = {}\n",
    "for i in range(m):\n",
    "    freqP[p[i]] = freqP.get(p[i], 0) + 1\n",
    "    freqS[s[i]] = freqS.get(s[i], 0) + 1\n",
    "\n",
    "j = 0\n",
    "i = m\n",
    "count = 0\n",
    "indices = []\n",
    "\n",
    "while i < n:\n",
    "    \n",
    "    if check(freqP, freqS):\n",
    "        count += 1\n",
    "        indices.append(j)\n",
    "        \n",
    "    # Acquire    \n",
    "    cA = s[i]\n",
    "    freqS[cA] = freqS.get(cA, 0) + 1\n",
    "    \n",
    "    # Release\n",
    "    cR = s[i-m]\n",
    "    freqS[cR] = freqS[cR] - 1\n",
    "    if freqS[cR] == 0:\n",
    "        freqS.pop(cR)\n",
    "    i += 1\n",
    "    j += 1\n",
    "    \n",
    "# For comparing last window\n",
    "if check(freqP, freqS):\n",
    "    count += 1\n",
    "    indices.append(j)\n",
    "    \n",
    "print(count, indices)"
   ]
  },
  {
   "cell_type": "markdown",
   "metadata": {},
   "source": [
    "### Check if two strings are `K` anagrams of each other"
   ]
  },
  {
   "cell_type": "code",
   "execution_count": 29,
   "metadata": {},
   "outputs": [
    {
     "name": "stdout",
     "output_type": "stream",
     "text": [
      "True\n"
     ]
    }
   ],
   "source": [
    "s = \"ABABADDCCC\"\n",
    "t = \"BCBECABACD\"\n",
    "k = 3\n",
    "\n",
    "m = len(s)\n",
    "n = len(t)\n",
    "\n",
    "if m != n:\n",
    "    print(False)\n",
    "\n",
    "# 2 Frequency maps\n",
    "freqS = {}\n",
    "freqT = {}\n",
    "\n",
    "for i in range(m):\n",
    "    freqS[s[i]] = freqS.get(s[i], 0) + 1\n",
    "    freqT[t[i]] = freqT.get(t[i], 0) + 1\n",
    "    \n",
    "posCount = 0\n",
    "for i in range(m):\n",
    "    if freqS.get(s[i], 0) - freqT.get(t[i], 0) <= 0:\n",
    "        continue\n",
    "    else:\n",
    "        posCount += 1\n",
    "        \n",
    "if posCount <= k:\n",
    "    print(True)\n",
    "else:\n",
    "    print(False)"
   ]
  },
  {
   "cell_type": "code",
   "execution_count": 30,
   "metadata": {},
   "outputs": [
    {
     "name": "stdout",
     "output_type": "stream",
     "text": [
      "True\n"
     ]
    }
   ],
   "source": [
    "s = \"ABABADDCCC\"\n",
    "t = \"BCBECABACD\"\n",
    "k = 3\n",
    "\n",
    "m = len(s)\n",
    "n = len(t)\n",
    "\n",
    "if m != n:\n",
    "    print(False)\n",
    "    \n",
    "# 1 Frequency map\n",
    "freq = {}\n",
    "for i in range(m):\n",
    "    freq[s[i]] = freq.get(s[i], 0) + 1\n",
    "    \n",
    "for i in range(m):\n",
    "    c = t[i]\n",
    "    if freq.get(c, 0) > 0:\n",
    "        freq[c] = freq.get(c, 0) - 1\n",
    "    \n",
    "posCount = 0\n",
    "for c in freq:\n",
    "    posCount += freq[c]\n",
    "\n",
    "if posCount <= k:\n",
    "    print(True)\n",
    "else:\n",
    "    print(False)      "
   ]
  },
  {
   "cell_type": "markdown",
   "metadata": {},
   "source": [
    "### Find Anagram Mapping (duplicates present)"
   ]
  },
  {
   "cell_type": "code",
   "execution_count": 31,
   "metadata": {},
   "outputs": [
    {
     "name": "stdout",
     "output_type": "stream",
     "text": [
      "[2, 6, 3, 8, 4, 1, 5, 0, 7]\n"
     ]
    }
   ],
   "source": [
    "A = [2, 7, 9, 2, 8, 1, 1, 3, 9]\n",
    "B = [3, 1, 2, 9, 8, 1, 7, 9, 2]\n",
    "\n",
    "class Pair(object):\n",
    "    def __init__(self):\n",
    "        self.idx = 0\n",
    "        self.indices = []\n",
    "        \n",
    "n = len(B)\n",
    "freq = {}\n",
    "for i in range(n):\n",
    "    x = B[i]\n",
    "    if x in freq:\n",
    "        freq[x].indices.append(i)\n",
    "    else:\n",
    "        p = Pair()\n",
    "        p.indices.append(i)\n",
    "        freq[x] = p\n",
    "        \n",
    "output = []\n",
    "for i in range(n):\n",
    "    x = A[i]\n",
    "    p = freq[x]\n",
    "    output.append(p.indices[p.idx])\n",
    "    p.idx += 1\n",
    "    \n",
    "print(output)"
   ]
  },
  {
   "cell_type": "markdown",
   "metadata": {},
   "source": [
    "### Valid Anagrams"
   ]
  },
  {
   "cell_type": "code",
   "execution_count": null,
   "metadata": {},
   "outputs": [],
   "source": []
  },
  {
   "cell_type": "markdown",
   "metadata": {},
   "source": [
    "### Group Anagrams"
   ]
  },
  {
   "cell_type": "code",
   "execution_count": 32,
   "metadata": {},
   "outputs": [
    {
     "name": "stdout",
     "output_type": "stream",
     "text": [
      "[['ABCC', 'ACBC', 'CABC'], ['BADC', 'ABCD', 'DBCA'], ['DABB', 'BABD']]\n",
      "dict_values([['ABCC', 'ACBC', 'CABC'], ['BADC', 'ABCD', 'DBCA'], ['DABB', 'BABD']])\n"
     ]
    }
   ],
   "source": [
    "ss = ['EAT', 'TEA', 'TAN', 'ATE', 'NAT', 'BAT']\n",
    "ss = ['ABCC', 'ACBC', 'BADC', 'ABCD', 'DABB', 'BABD', 'DBCA', 'CABC']\n",
    "\n",
    "def getFreq(s):\n",
    "    freq = [0] * 26\n",
    "    for c in s:\n",
    "        idx = ord(c) - ord('A')\n",
    "        freq[idx] += 1\n",
    "    return tuple(freq)\n",
    "\n",
    "from collections import defaultdict\n",
    "freq = defaultdict(list)\n",
    "\n",
    "for s in ss:\n",
    "    freqKey = getFreq(s)\n",
    "    freq[freqKey].append(s)\n",
    "    \n",
    "output = []\n",
    "for key in freq:\n",
    "    output.append(freq[key])\n",
    "    \n",
    "print(output)\n",
    "\n",
    "freq = defaultdict(list)\n",
    "output = []\n",
    "for s in ss:\n",
    "    t = list(s)\n",
    "    t.sort()\n",
    "    t = ''.join(t)\n",
    "    freq[t].append(s)\n",
    "\n",
    "output = freq.values()\n",
    "print(output)"
   ]
  },
  {
   "cell_type": "markdown",
   "metadata": {},
   "source": [
    "### Group Shifted Strings"
   ]
  },
  {
   "cell_type": "code",
   "execution_count": 33,
   "metadata": {},
   "outputs": [
    {
     "name": "stdout",
     "output_type": "stream",
     "text": [
      "[['ACD', 'DFG', 'WYZ', 'YAB', 'MOP'], ['A', 'X'], ['BDFH', 'MOQS']]\n"
     ]
    }
   ],
   "source": [
    "ss = ['ABC', 'BCD', 'ACEF', 'XYZ', 'AZ', 'BA', 'A', 'Z']\n",
    "ss = ['ACD', 'DFG', 'WYZ', 'YAB', 'MOP', 'A', 'BDFH', 'X', 'MOQS']\n",
    "\n",
    "def getKey(s):\n",
    "    n = len(s)\n",
    "    if n == 1:\n",
    "        return '#'\n",
    "    key = ''\n",
    "    for i in range(1, n):\n",
    "        val = (ord(s[i]) - ord('A')) - (ord(s[i-1]) - ord('A'))\n",
    "        if val < 0:\n",
    "            val = val % 26\n",
    "        key += str(val)\n",
    "        if i < n - 1:\n",
    "            key += '#'\n",
    "    return key\n",
    "\n",
    "from collections import defaultdict\n",
    "sMap = defaultdict(list)\n",
    "\n",
    "output = []\n",
    "for s in ss:\n",
    "    key = getKey(s)\n",
    "    sMap[key].append(s)\n",
    "    \n",
    "for key in sMap:\n",
    "    output.append(sMap[key])\n",
    "    \n",
    "print(output)"
   ]
  },
  {
   "cell_type": "markdown",
   "metadata": {},
   "source": [
    "### Word Pattern"
   ]
  },
  {
   "cell_type": "code",
   "execution_count": 34,
   "metadata": {},
   "outputs": [
    {
     "name": "stdout",
     "output_type": "stream",
     "text": [
      "False\n"
     ]
    }
   ],
   "source": [
    "p = \"abba\"\n",
    "s = \"dog cat cat dog\"\n",
    "p = \"abba\"\n",
    "s = \"dog cat cat fish\"\n",
    "p = \"aaaa\"\n",
    "s = \"dog cat cat dog\"\n",
    "p = \"abba\"\n",
    "s = \"dog dog dog dog\"\n",
    "\n",
    "n = len(p)\n",
    "charMap = {}\n",
    "used = set()\n",
    "s = s.split()\n",
    "\n",
    "output = None\n",
    "for i in range(n):\n",
    "    c = p[i]\n",
    "    word = s[i]\n",
    "    if c in charMap:\n",
    "        if charMap[c] != word:\n",
    "            output = False\n",
    "            break\n",
    "    else:\n",
    "        if word in used:\n",
    "            output = False\n",
    "            break\n",
    "        else:\n",
    "            used.add(word)\n",
    "            charMap[c] = word\n",
    "else:\n",
    "    output = True\n",
    "    \n",
    "print(output)"
   ]
  },
  {
   "cell_type": "markdown",
   "metadata": {},
   "source": [
    "### Contiguous Array: Longest Subarray with equal 0's and 1's"
   ]
  },
  {
   "cell_type": "code",
   "execution_count": 35,
   "metadata": {},
   "outputs": [
    {
     "name": "stdout",
     "output_type": "stream",
     "text": [
      "12\n"
     ]
    }
   ],
   "source": [
    "A = [0, 1]\n",
    "A = [0, 1, 0]\n",
    "A = [0, 0, 1, 0, 1, 0, 1, 1, 0, 0, 1, 1, 1]\n",
    "\n",
    "n = len(A)\n",
    "prefix = 0\n",
    "maxLen = 0\n",
    "sumIdx = {prefix: -1}\n",
    "\n",
    "for i in range(n):\n",
    "    if A[i] == 0:\n",
    "        prefix -= 1\n",
    "    else:\n",
    "        prefix += 1\n",
    "    if prefix not in sumIdx:\n",
    "        sumIdx[prefix] = i\n",
    "    else:\n",
    "        maxLen = max(maxLen, i - sumIdx[prefix])\n",
    "        \n",
    "print(maxLen)"
   ]
  },
  {
   "cell_type": "markdown",
   "metadata": {},
   "source": [
    "### Count of subarrays with equal 0's and 1's¶"
   ]
  },
  {
   "cell_type": "code",
   "execution_count": 36,
   "metadata": {},
   "outputs": [
    {
     "name": "stdout",
     "output_type": "stream",
     "text": [
      "24\n"
     ]
    }
   ],
   "source": [
    "A = [0, 0, 1, 0, 1, 0, 1, 1, 0, 0, 1, 1, 1]\n",
    "\n",
    "n = len(A)\n",
    "count = 0\n",
    "prefix = 0\n",
    "sumCount = {prefix: 1}\n",
    "\n",
    "for i in range(n):\n",
    "    if A[i] == 0:\n",
    "        prefix -= 1\n",
    "    else:\n",
    "        prefix += 1\n",
    "    \n",
    "    if prefix in sumCount:\n",
    "        count += sumCount[prefix]\n",
    "        sumCount[prefix] = sumCount.get(prefix, 0) + 1\n",
    "    else:\n",
    "        sumCount[prefix] = 1\n",
    "        \n",
    "print(count)"
   ]
  },
  {
   "cell_type": "markdown",
   "metadata": {},
   "source": [
    "### Longest subarray with sum divisible by `k`"
   ]
  },
  {
   "cell_type": "code",
   "execution_count": 37,
   "metadata": {},
   "outputs": [
    {
     "name": "stdout",
     "output_type": "stream",
     "text": [
      "6\n"
     ]
    }
   ],
   "source": [
    "A = [-3, -9, -4, 8, 5, 4, 2, 6]\n",
    "k = 7\n",
    "\n",
    "n = len(A)\n",
    "maxLen = 0\n",
    "prefix = 0\n",
    "remIdx = {0: -1}\n",
    "\n",
    "for i in range(n):\n",
    "    prefix += A[i]\n",
    "    rem = ((prefix % k) + k) % k\n",
    "    if rem in remIdx:\n",
    "        maxLen = max(maxLen, i - remIdx[rem])\n",
    "    else:\n",
    "        remIdx[rem] = i\n",
    "        \n",
    "print(maxLen)"
   ]
  },
  {
   "cell_type": "markdown",
   "metadata": {},
   "source": [
    "### Count of subarrays with sum divisible by `k`"
   ]
  },
  {
   "cell_type": "code",
   "execution_count": 38,
   "metadata": {},
   "outputs": [
    {
     "name": "stdout",
     "output_type": "stream",
     "text": [
      "4\n"
     ]
    }
   ],
   "source": [
    "A = [4, 5, 0, -2, -3, 1]\n",
    "k = 5\n",
    "\n",
    "n = len(A) \n",
    "count = 0\n",
    "prefix = 0\n",
    "remFreq = {0: 1}\n",
    "\n",
    "for i in range(n):\n",
    "    prefix += A[i]\n",
    "    rem = ((prefix % k) + k) % k\n",
    "    if rem in remFreq:\n",
    "        count += remFreq[rem]\n",
    "        remFreq[rem] = remIdx.get(rem, 0) + 1\n",
    "    else:\n",
    "        remFreq[rem] = 1\n",
    "        \n",
    "print(count)"
   ]
  },
  {
   "cell_type": "markdown",
   "metadata": {},
   "source": [
    "### Longest subarray with equal 0's, 1's and 2's"
   ]
  },
  {
   "cell_type": "code",
   "execution_count": 39,
   "metadata": {},
   "outputs": [
    {
     "name": "stdout",
     "output_type": "stream",
     "text": [
      "9\n"
     ]
    }
   ],
   "source": [
    "A = [1, 1, 2, 0, 1, 0, 1, 2, 1, 2, 2, 0, 1]\n",
    "\n",
    "n = len(A)\n",
    "freq = {}\n",
    "maxLen = 0\n",
    "delta_1 = 0\n",
    "delta_2 = 0\n",
    "deltaFreq = {'0#0': -1}\n",
    "\n",
    "for i in range(n):\n",
    "    freq[A[i]] = freq.get(A[i], 0) + 1\n",
    "    delta1 = freq.get(1, 0) - freq.get(0, 0)\n",
    "    delta2 = freq.get(2, 0) - freq.get(1, 0)\n",
    "    key = str(delta1) + \"#\" + str(delta2)\n",
    "    if key in deltaFreq:\n",
    "        maxLen = max(maxLen, i - deltaFreq[key])\n",
    "    else:\n",
    "        deltaFreq[key] = i\n",
    "        \n",
    "print(maxLen)"
   ]
  },
  {
   "cell_type": "markdown",
   "metadata": {},
   "source": [
    "### Count of subarrays with equal 0's, 1's and 2's"
   ]
  },
  {
   "cell_type": "code",
   "execution_count": 40,
   "metadata": {},
   "outputs": [
    {
     "name": "stdout",
     "output_type": "stream",
     "text": [
      "6\n"
     ]
    }
   ],
   "source": [
    "A = [1, 1, 2, 0, 1, 0, 1, 2, 1, 2, 2, 0, 1]\n",
    "\n",
    "n = len(A)\n",
    "freq = {}\n",
    "count = 0\n",
    "delta_1 = 0\n",
    "delta_2 = 0\n",
    "deltaFreq = {'0#0': 1}\n",
    "\n",
    "for i in range(n):\n",
    "    freq[A[i]] = freq.get(A[i], 0) + 1\n",
    "    delta1 = freq.get(1, 0) - freq.get(0, 0)\n",
    "    delta2 = freq.get(2, 0) - freq.get(1, 0)\n",
    "    key = str(delta1) + \"#\" + str(delta2)\n",
    "    if key in deltaFreq:\n",
    "        count += deltaFreq[key]\n",
    "        deltaFreq[key] = deltaFreq.get(key, 0) + 1\n",
    "    else: \n",
    "        deltaFreq[key] = 1\n",
    "        \n",
    "print(count)"
   ]
  },
  {
   "cell_type": "markdown",
   "metadata": {},
   "source": [
    "### Pairs with equal sum"
   ]
  },
  {
   "cell_type": "code",
   "execution_count": 41,
   "metadata": {},
   "outputs": [
    {
     "name": "stdout",
     "output_type": "stream",
     "text": [
      "True\n",
      "True\n",
      "True\n",
      "True\n",
      "False\n"
     ]
    }
   ],
   "source": [
    "A = [2, 9, 3, 5, 8, 6, 4]\n",
    "\n",
    "n = len(A)\n",
    "\n",
    "sumSet = set()\n",
    "for i in range(n):\n",
    "    for j in range(i+1, n):\n",
    "        _sum = A[i] + A[j]\n",
    "        if _sum in sumSet:\n",
    "            print(True)\n",
    "            break\n",
    "        else:\n",
    "            sumSet.add(_sum)\n",
    "else:\n",
    "    print(False)"
   ]
  },
  {
   "cell_type": "markdown",
   "metadata": {},
   "source": [
    "### Isomorphic Strings"
   ]
  },
  {
   "cell_type": "code",
   "execution_count": 42,
   "metadata": {},
   "outputs": [
    {
     "name": "stdout",
     "output_type": "stream",
     "text": [
      "False\n"
     ]
    }
   ],
   "source": [
    "s = \"PAPER\"\n",
    "t = \"TITLE\"\n",
    "\n",
    "s = \"FOO\"\n",
    "t = \"BAR\"\n",
    "\n",
    "s = \"BAR\"\n",
    "t = \"FOO\"\n",
    "\n",
    "n = len(s)\n",
    "charMap = {}\n",
    "used = set()\n",
    "\n",
    "for i in range(n):\n",
    "    c = s[i]\n",
    "    d = t[i]\n",
    "    if c in charMap:\n",
    "        if charMap[c] != d:\n",
    "            print(False)\n",
    "            break\n",
    "    else:\n",
    "        if d in used:\n",
    "            print(False)\n",
    "            break\n",
    "        else:\n",
    "            charMap[c] = d\n",
    "            used.add(d)\n",
    "else:\n",
    "    print(True)"
   ]
  },
  {
   "cell_type": "markdown",
   "metadata": {},
   "source": [
    "### Fraction to recurring decimal"
   ]
  },
  {
   "cell_type": "code",
   "execution_count": 43,
   "metadata": {},
   "outputs": [
    {
     "name": "stdout",
     "output_type": "stream",
     "text": [
      "['4', '18.5', '3.424', '-0.5', '-2', '1', '4.(6)', '13.(285714)']\n"
     ]
    }
   ],
   "source": [
    "F = [(8, 2), (37, 2), (428, 125), (-2, 4), (-4, 2), (-3, -3), (14, 3), (93, 7)]\n",
    "\n",
    "n = len(F)\n",
    "output = []\n",
    "\n",
    "for i in range(n):\n",
    "    num = F[i][0]\n",
    "    den = F[i][1]\n",
    "    \n",
    "    result = \"\"\n",
    "    sign = \"-\" if (num < 0) ^ (den < 0) else \"\"\n",
    "    result += sign\n",
    "    num = abs(num)\n",
    "    den = abs(den)\n",
    "\n",
    "    q = num // den\n",
    "    r = num % den\n",
    "    result += str(q)\n",
    "    \n",
    "    if r == 0:\n",
    "        output.append(result)\n",
    "        continue\n",
    "    else:\n",
    "        result += \".\"\n",
    "        remIdx = {}\n",
    "        while r != 0:\n",
    "            if r in remIdx:\n",
    "                idx = remIdx[r]\n",
    "                result = result[:idx] + \"(\" + result[idx:] + \")\"\n",
    "                break\n",
    "            else:\n",
    "                remIdx[r] = len(result)\n",
    "                r *= 10\n",
    "                q = r // den\n",
    "                r = r % den\n",
    "                result += str(q)\n",
    "                \n",
    "    output.append(result)\n",
    "    \n",
    "print(output)"
   ]
  },
  {
   "cell_type": "markdown",
   "metadata": {},
   "source": [
    "### Rabbits in Forest"
   ]
  },
  {
   "cell_type": "code",
   "execution_count": 44,
   "metadata": {},
   "outputs": [
    {
     "name": "stdout",
     "output_type": "stream",
     "text": [
      "13\n"
     ]
    }
   ],
   "source": [
    "import math\n",
    "\n",
    "A = [2, 2, 3, 1, 0, 2, 2, 3, 1]\n",
    "\n",
    "groupFreq = {}\n",
    "\n",
    "for e in A:\n",
    "    groupFreq[e] = groupFreq.get(e, 0) + 1.0\n",
    "    \n",
    "count = 0\n",
    "for group in groupFreq:\n",
    "    group_size = group + 1\n",
    "    n_groups = math.ceil(groupFreq[group] / group_size)\n",
    "    count += group_size * n_groups\n",
    "    \n",
    "print(count)"
   ]
  },
  {
   "cell_type": "markdown",
   "metadata": {},
   "source": [
    "### Check Arithmetic Sequence"
   ]
  },
  {
   "cell_type": "code",
   "execution_count": 57,
   "metadata": {},
   "outputs": [
    {
     "name": "stdout",
     "output_type": "stream",
     "text": [
      "True\n"
     ]
    }
   ],
   "source": [
    "A = [17, 9, 5, 29, 1, 25, 13, 37, 21, 33]\n",
    "\n",
    "n = len(A)\n",
    "a0 = min(A)\n",
    "an = max(A)\n",
    "setA = set(A)\n",
    "d = int((an - a0) / (n - 1))\n",
    "\n",
    "if n == 1:\n",
    "    print(True)\n",
    "\n",
    "for i in range(n):\n",
    "    ai = a0 + i * d\n",
    "    if ai not in setA:\n",
    "        print(False)\n",
    "        break\n",
    "else:\n",
    "    print(True)"
   ]
  },
  {
   "cell_type": "markdown",
   "metadata": {},
   "source": [
    "### Smallest subarray with all occurrences of a most frequent element"
   ]
  },
  {
   "cell_type": "code",
   "execution_count": 82,
   "metadata": {},
   "outputs": [
    {
     "name": "stdout",
     "output_type": "stream",
     "text": [
      "Element: 5, Freq: 3, Start: 8, End: 11, Length: 4\n"
     ]
    }
   ],
   "source": [
    "A = [4, 1, 1, 2, 2, 1, 3, 3]\n",
    "A = [1, 3, 2, 4, 2, 3, 4, 2, 5, 6, 5, 5, 7]\n",
    "\n",
    "n = len(A)\n",
    "\n",
    "sIdx = 0\n",
    "eIdx = 0\n",
    "L = 0 # eIdx - sIdx + 1\n",
    "hFreq = 0\n",
    "\n",
    "freq = {}\n",
    "startIdx = {}\n",
    "\n",
    "for i in range(n):\n",
    "    e = A[i]\n",
    "    if e not in startIdx:\n",
    "        startIdx[e] = i\n",
    "    freq[e] = freq.get(e, 0) + 1\n",
    "    \n",
    "    if freq[e] > hFreq:\n",
    "        hFreq = freq[e]\n",
    "        sIdx = startIdx[e]\n",
    "        eIdx = i\n",
    "        L = eIdx - sIdx + 1\n",
    "    elif freq[e] == hFreq:\n",
    "        currL = i - startIdx[e] + 1\n",
    "        if currL < L:\n",
    "            sIdx = startIdx[e]\n",
    "            eIdx = i\n",
    "            L = eIdx - sIdx + 1\n",
    "            \n",
    "print(f'Element: {A[sIdx]}, Freq: {hFreq}, Start: {sIdx}, End: {eIdx}, Length: {L}')"
   ]
  },
  {
   "cell_type": "markdown",
   "metadata": {},
   "source": [
    "### Task Completion"
   ]
  },
  {
   "cell_type": "code",
   "execution_count": 69,
   "metadata": {},
   "outputs": [
    {
     "name": "stdout",
     "output_type": "stream",
     "text": [
      "[1, 8, 11, 13, 15] [3, 10, 12, 14]\n",
      "[1, 8, 11, 13, 15] [3, 10, 12, 14]\n"
     ]
    }
   ],
   "source": [
    "m = 6\n",
    "n = 15\n",
    "A = [2, 5, 6, 7, 9, 4]\n",
    "\n",
    "x = []\n",
    "y = []\n",
    "flag = True\n",
    "setA = set(A)\n",
    "\n",
    "for i in range(1, n + 1):\n",
    "    if i in setA:\n",
    "        continue\n",
    "    elif flag:\n",
    "        x.append(i)\n",
    "        flag = False\n",
    "    else:\n",
    "        y.append(i)\n",
    "        flag = True\n",
    "    \n",
    "print(x, y)\n",
    "\n",
    "# Using count (even: 1st, odd: 2nd)\n",
    "x = []\n",
    "y = []\n",
    "count = 0\n",
    "for i in range(1, n + 1):\n",
    "    if i in setA:\n",
    "        continue\n",
    "        \n",
    "    if count % 2 == 0:\n",
    "        x.append(i)\n",
    "        count += 1\n",
    "    else:\n",
    "        y.append(i)\n",
    "        count += 1\n",
    "        \n",
    "print(x, y)"
   ]
  },
  {
   "cell_type": "markdown",
   "metadata": {},
   "source": [
    "### Pairs with a given sum in 2 sorted matrices"
   ]
  },
  {
   "cell_type": "code",
   "execution_count": 74,
   "metadata": {},
   "outputs": [
    {
     "name": "stdout",
     "output_type": "stream",
     "text": [
      "[(11, 10), (8, 13), (5, 16), (1, 20)] 4\n"
     ]
    }
   ],
   "source": [
    "M = [[1, 5, 6], \n",
    "     [8, 10, 11], \n",
    "     [15, 16, 18]]\n",
    "\n",
    "G = [[2, 4, 7], \n",
    "     [9, 10, 12], \n",
    "     [13, 16, 20]]\n",
    "\n",
    "T = 21\n",
    "\n",
    "m = len(M)\n",
    "n = len(M[0])\n",
    "freqM = dict()\n",
    "\n",
    "for i in range(m):\n",
    "    for j in range(n):\n",
    "        val = M[i][j]\n",
    "        freqM[val] = freqM.get(val, 0) + 1\n",
    "        \n",
    "count = 0\n",
    "pairs = []\n",
    "for i in range(m):\n",
    "    for j in range(n):\n",
    "        diff = T - G[i][j]\n",
    "        if diff in freqM:\n",
    "            count += freqM[diff]\n",
    "            pairs.append((diff, G[i][j]))\n",
    "            \n",
    "print(pairs, count)"
   ]
  },
  {
   "cell_type": "markdown",
   "metadata": {},
   "source": [
    "### Pair Sums - Count the number of different pairs of elements which sum to `k`\n"
   ]
  },
  {
   "cell_type": "code",
   "execution_count": 16,
   "metadata": {},
   "outputs": [
    {
     "name": "stdout",
     "output_type": "stream",
     "text": [
      "6\n"
     ]
    }
   ],
   "source": [
    "A = [1, 2, 2, 2, 3, 4, 4]\n",
    "A = [1, 2, 3, 4, 3]\n",
    "k = 6\n",
    "\n",
    "freq = {}\n",
    "n = len(A)\n",
    "for i in range(n):\n",
    "    freq[A[i]] = freq.get(A[i], 0) + 1\n",
    "\n",
    "i = 0\n",
    "j = n - 1\n",
    "count = 0\n",
    "\n",
    "while i < j:\n",
    "    x = A[i]\n",
    "    y = A[j]\n",
    "    s = x + y\n",
    "    if s < k:\n",
    "        i += 1\n",
    "    elif s > k:\n",
    "        j -= 1\n",
    "    else:\n",
    "        count += freq[x] * freq[y]\n",
    "        i += 1\n",
    "        j -= 1\n",
    "        while i < j and A[i] == A[i-1]:\n",
    "            i += 1\n",
    "        while j > i and A[j] == A[j+1]:\n",
    "            j -= 1\n",
    "print(count)"
   ]
  },
  {
   "cell_type": "code",
   "execution_count": null,
   "metadata": {},
   "outputs": [],
   "source": [
    "a = [6, 6, ]"
   ]
  },
  {
   "cell_type": "code",
   "execution_count": null,
   "metadata": {},
   "outputs": [],
   "source": []
  },
  {
   "cell_type": "code",
   "execution_count": null,
   "metadata": {},
   "outputs": [],
   "source": []
  },
  {
   "cell_type": "code",
   "execution_count": null,
   "metadata": {},
   "outputs": [],
   "source": []
  },
  {
   "cell_type": "code",
   "execution_count": null,
   "metadata": {},
   "outputs": [],
   "source": []
  },
  {
   "cell_type": "code",
   "execution_count": null,
   "metadata": {},
   "outputs": [],
   "source": []
  },
  {
   "cell_type": "code",
   "execution_count": null,
   "metadata": {},
   "outputs": [],
   "source": []
  },
  {
   "cell_type": "code",
   "execution_count": 5,
   "metadata": {},
   "outputs": [
    {
     "data": {
      "text/plain": [
       "90"
      ]
     },
     "execution_count": 5,
     "metadata": {},
     "output_type": "execute_result"
    }
   ],
   "source": [
    "98//10 * 10"
   ]
  },
  {
   "cell_type": "code",
   "execution_count": 6,
   "metadata": {},
   "outputs": [
    {
     "data": {
      "text/plain": [
       "('ab', 'c', 'de')"
      ]
     },
     "execution_count": 6,
     "metadata": {},
     "output_type": "execute_result"
    }
   ],
   "source": [
    "s = 'abcde'\n",
    "s[:2], s[2], s[2+1:]"
   ]
  },
  {
   "cell_type": "code",
   "execution_count": 12,
   "metadata": {},
   "outputs": [
    {
     "data": {
      "text/plain": [
       "(3, 'abc', 'defg')"
      ]
     },
     "execution_count": 12,
     "metadata": {},
     "output_type": "execute_result"
    }
   ],
   "source": [
    "s = 'abcdefg'\n",
    "i = (len(s))//2\n",
    "i, s[:i], s[i:]"
   ]
  },
  {
   "cell_type": "code",
   "execution_count": 15,
   "metadata": {},
   "outputs": [
    {
     "data": {
      "text/plain": [
       "2"
      ]
     },
     "execution_count": 15,
     "metadata": {},
     "output_type": "execute_result"
    }
   ],
   "source": [
    "5//2"
   ]
  },
  {
   "cell_type": "code",
   "execution_count": null,
   "metadata": {},
   "outputs": [],
   "source": []
  },
  {
   "cell_type": "code",
   "execution_count": null,
   "metadata": {},
   "outputs": [],
   "source": []
  },
  {
   "cell_type": "code",
   "execution_count": null,
   "metadata": {},
   "outputs": [],
   "source": []
  }
 ],
 "metadata": {
  "kernelspec": {
   "display_name": "Python 3",
   "language": "python",
   "name": "python3"
  },
  "language_info": {
   "codemirror_mode": {
    "name": "ipython",
    "version": 3
   },
   "file_extension": ".py",
   "mimetype": "text/x-python",
   "name": "python",
   "nbconvert_exporter": "python",
   "pygments_lexer": "ipython3",
   "version": "3.6.9"
  }
 },
 "nbformat": 4,
 "nbformat_minor": 4
}
