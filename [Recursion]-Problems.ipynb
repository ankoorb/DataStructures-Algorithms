{
 "cells": [
  {
   "cell_type": "markdown",
   "metadata": {},
   "source": [
    "### Print Decreasing"
   ]
  },
  {
   "cell_type": "code",
   "execution_count": 5,
   "metadata": {
    "scrolled": false
   },
   "outputs": [
    {
     "name": "stdout",
     "output_type": "stream",
     "text": [
      "3\n",
      "2\n",
      "1\n"
     ]
    }
   ],
   "source": [
    "def solve(n):\n",
    "    if n == 0:\n",
    "        return\n",
    "    print(n)\n",
    "    solve(n-1)\n",
    "    \n",
    "solve(3)"
   ]
  },
  {
   "cell_type": "markdown",
   "metadata": {},
   "source": [
    "### Print Increasing"
   ]
  },
  {
   "cell_type": "code",
   "execution_count": 6,
   "metadata": {},
   "outputs": [
    {
     "name": "stdout",
     "output_type": "stream",
     "text": [
      "1\n",
      "2\n",
      "3\n"
     ]
    }
   ],
   "source": [
    "def solve(n):\n",
    "    if n == 0:\n",
    "        return\n",
    "    solve(n-1)\n",
    "    print(n)\n",
    "\n",
    "solve(3)"
   ]
  },
  {
   "cell_type": "markdown",
   "metadata": {},
   "source": [
    "### Print Decreasing Increasing"
   ]
  },
  {
   "cell_type": "code",
   "execution_count": 7,
   "metadata": {},
   "outputs": [
    {
     "name": "stdout",
     "output_type": "stream",
     "text": [
      "3\n",
      "2\n",
      "1\n",
      "1\n",
      "2\n",
      "3\n"
     ]
    }
   ],
   "source": [
    "def solve(n):\n",
    "    if n == 0:\n",
    "        return\n",
    "    print(n)\n",
    "    solve(n-1)\n",
    "    print(n)\n",
    "    \n",
    "solve(3)"
   ]
  },
  {
   "cell_type": "markdown",
   "metadata": {},
   "source": [
    "### Factorial"
   ]
  },
  {
   "cell_type": "code",
   "execution_count": 8,
   "metadata": {},
   "outputs": [
    {
     "data": {
      "text/plain": [
       "120"
      ]
     },
     "execution_count": 8,
     "metadata": {},
     "output_type": "execute_result"
    }
   ],
   "source": [
    "def solve(n):\n",
    "    if n == 1:\n",
    "        return 1\n",
    "    return n * solve(n-1)\n",
    "\n",
    "solve(5)"
   ]
  },
  {
   "cell_type": "markdown",
   "metadata": {},
   "source": [
    "### Power - Linear"
   ]
  },
  {
   "cell_type": "code",
   "execution_count": 9,
   "metadata": {},
   "outputs": [
    {
     "data": {
      "text/plain": [
       "16"
      ]
     },
     "execution_count": 9,
     "metadata": {},
     "output_type": "execute_result"
    }
   ],
   "source": [
    "def power(x, n):\n",
    "    if n == 0:\n",
    "        return 1\n",
    "    return x * power(x, n-1)\n",
    "\n",
    "power(2, 4)"
   ]
  },
  {
   "cell_type": "markdown",
   "metadata": {},
   "source": [
    "### Power - Log"
   ]
  },
  {
   "cell_type": "code",
   "execution_count": 10,
   "metadata": {},
   "outputs": [
    {
     "data": {
      "text/plain": [
       "16"
      ]
     },
     "execution_count": 10,
     "metadata": {},
     "output_type": "execute_result"
    }
   ],
   "source": [
    "def power(x, n):\n",
    "    if n == 0:\n",
    "        return 1\n",
    "    \n",
    "    if n % 2 == 0:\n",
    "        return power(x, n//2) * power(x, n//2)\n",
    "    else:\n",
    "        return x * power(x, n//2) * power(x, n//2)\n",
    "    \n",
    "power(2, 4)"
   ]
  },
  {
   "cell_type": "markdown",
   "metadata": {},
   "source": [
    "### Print Zig-zag"
   ]
  },
  {
   "cell_type": "code",
   "execution_count": 11,
   "metadata": {},
   "outputs": [
    {
     "name": "stdout",
     "output_type": "stream",
     "text": [
      " pre: 2\n",
      " pre: 1\n",
      "  in: 1\n",
      "post: 1\n",
      "  in: 2\n",
      " pre: 1\n",
      "  in: 1\n",
      "post: 1\n",
      "post: 2\n"
     ]
    }
   ],
   "source": [
    "def solve(n):\n",
    "    if n == 0:\n",
    "        return\n",
    "    print(' pre:', n)\n",
    "    solve(n-1)\n",
    "    print('  in:', n)\n",
    "    solve(n-1)\n",
    "    print('post:', n)\n",
    "    \n",
    "solve(2)"
   ]
  },
  {
   "cell_type": "markdown",
   "metadata": {},
   "source": [
    "### Tower of Hanoi"
   ]
  },
  {
   "cell_type": "code",
   "execution_count": 15,
   "metadata": {
    "scrolled": false
   },
   "outputs": [
    {
     "name": "stdout",
     "output_type": "stream",
     "text": [
      "move disk 1 from A to B using C\n",
      "move disk 2 from A to C using B\n",
      "move disk 1 from B to C using A\n",
      "move disk 3 from A to B using C\n",
      "move disk 1 from C to A using B\n",
      "move disk 2 from C to B using A\n",
      "move disk 1 from A to B using C\n"
     ]
    }
   ],
   "source": [
    "def solve(n, a, b, c):\n",
    "    if n == 0:\n",
    "        return\n",
    "    solve(n-1, a, c, b)\n",
    "    print('move disk {} from {} to {} using {}'.format(n, a, b, c))\n",
    "    solve(n-1, c, b, a)\n",
    "    \n",
    "solve(3, 'A', 'B', 'C')"
   ]
  },
  {
   "cell_type": "markdown",
   "metadata": {},
   "source": [
    "### Display Array"
   ]
  },
  {
   "cell_type": "code",
   "execution_count": 16,
   "metadata": {},
   "outputs": [
    {
     "name": "stdout",
     "output_type": "stream",
     "text": [
      "D\n",
      "O\n",
      "G\n"
     ]
    }
   ],
   "source": [
    "def solve(A, i):\n",
    "    if i == n:\n",
    "        return\n",
    "    print(A[i])\n",
    "    solve(A, i+1)\n",
    "    \n",
    "A = ['D', 'O', 'G']\n",
    "n = len(A)\n",
    "solve(A, 0)"
   ]
  },
  {
   "cell_type": "markdown",
   "metadata": {},
   "source": [
    "### Display Array in Reverse"
   ]
  },
  {
   "cell_type": "code",
   "execution_count": 17,
   "metadata": {},
   "outputs": [
    {
     "name": "stdout",
     "output_type": "stream",
     "text": [
      "G\n",
      "O\n",
      "D\n"
     ]
    }
   ],
   "source": [
    "def solve(A, i):\n",
    "    if i < 0:\n",
    "        return\n",
    "    print(A[i])\n",
    "    solve(A, i-1)\n",
    "    \n",
    "A = ['D', 'O', 'G']\n",
    "n = len(A)\n",
    "solve(A, n-1)"
   ]
  },
  {
   "cell_type": "markdown",
   "metadata": {},
   "source": [
    "### Maximum of an array"
   ]
  },
  {
   "cell_type": "code",
   "execution_count": 18,
   "metadata": {},
   "outputs": [
    {
     "data": {
      "text/plain": [
       "9"
      ]
     },
     "execution_count": 18,
     "metadata": {},
     "output_type": "execute_result"
    }
   ],
   "source": [
    "def solve(A, i):\n",
    "    if i == n:\n",
    "        return 0\n",
    "    return max(A[i], solve(A, i+1))\n",
    "\n",
    "A = [7, 2, 9, 4]\n",
    "n = len(A)\n",
    "solve(A, 0)"
   ]
  },
  {
   "cell_type": "markdown",
   "metadata": {},
   "source": [
    "### First Index of key's occurrence in an Array"
   ]
  },
  {
   "cell_type": "code",
   "execution_count": 19,
   "metadata": {},
   "outputs": [
    {
     "data": {
      "text/plain": [
       "2"
      ]
     },
     "execution_count": 19,
     "metadata": {},
     "output_type": "execute_result"
    }
   ],
   "source": [
    "def solve(A, i, x):\n",
    "    if i == n:\n",
    "        return -1\n",
    "    \n",
    "    # Recursive call goes to the end \n",
    "    fidx = solve(A, i+1, x)\n",
    "    if A[i] == x:\n",
    "        return i\n",
    "    else:\n",
    "        return fidx\n",
    "    \n",
    "# Optimized\n",
    "def solve(A, i, x):\n",
    "    if i == n:\n",
    "        return -1\n",
    "    \n",
    "    if A[i] == x:\n",
    "        return i\n",
    "    return solve(A, i+1, x)\n",
    "\n",
    "    \n",
    "A = ['A', 'B', 'D', 'A', 'B']\n",
    "n = len(A)\n",
    "solve(A, 0, 'D')"
   ]
  },
  {
   "cell_type": "markdown",
   "metadata": {},
   "source": [
    "### Last Index of key's occurrence in an Array"
   ]
  },
  {
   "cell_type": "code",
   "execution_count": 20,
   "metadata": {},
   "outputs": [
    {
     "data": {
      "text/plain": [
       "3"
      ]
     },
     "execution_count": 20,
     "metadata": {},
     "output_type": "execute_result"
    }
   ],
   "source": [
    "def solve(A, i, x):\n",
    "    if i < 0:\n",
    "        return -1\n",
    "    if A[i] == x:\n",
    "        return i\n",
    "    return solve(A, i-1, x)\n",
    "\n",
    "A = ['A', 'B', 'D', 'A', 'B']\n",
    "n = len(A)\n",
    "solve(A, n-1, 'A')"
   ]
  },
  {
   "cell_type": "markdown",
   "metadata": {},
   "source": [
    "### All Indices of key's occurrence in an Array"
   ]
  },
  {
   "cell_type": "code",
   "execution_count": 24,
   "metadata": {},
   "outputs": [
    {
     "name": "stdout",
     "output_type": "stream",
     "text": [
      "[0, 3, 5, 6]\n"
     ]
    }
   ],
   "source": [
    "def solve(A, i, x, output):\n",
    "    if i == n:\n",
    "        return\n",
    "    if A[i] == x:\n",
    "        output.append(i)\n",
    "    solve(A, i+1, x, output)\n",
    "\n",
    "\n",
    "A = ['A', 'B', 'D', 'A', 'B', 'A', 'A', 'C']\n",
    "n = len(A)\n",
    "output = []\n",
    "solve(A, 0, 'A', output)\n",
    "print(output)"
   ]
  },
  {
   "cell_type": "markdown",
   "metadata": {},
   "source": [
    "### Subsequence of a string"
   ]
  },
  {
   "cell_type": "code",
   "execution_count": 32,
   "metadata": {},
   "outputs": [
    {
     "name": "stdout",
     "output_type": "stream",
     "text": [
      "['', 'C', 'B', 'BC', 'A', 'AC', 'AB', 'ABC']\n"
     ]
    },
    {
     "data": {
      "text/plain": [
       "['', 'A', 'B', 'AB', 'C', 'AC', 'BC', 'ABC']"
      ]
     },
     "execution_count": 32,
     "metadata": {},
     "output_type": "execute_result"
    }
   ],
   "source": [
    "def solve(S, output, result):\n",
    "    if len(S) == 0:\n",
    "        output.append(result)\n",
    "        return\n",
    "    solve(S[1:], output, result)\n",
    "    solve(S[1:], output, result + S[0])\n",
    "\n",
    "output = []\n",
    "solve('ABC', output, '')\n",
    "print(output)\n",
    "\n",
    "# Another approach\n",
    "def solve(S):\n",
    "    if len(S) == 0:\n",
    "        return [\"\"]\n",
    "    result = solve(S[1:])\n",
    "    output = []\n",
    "    for r in result:\n",
    "        output.append('' + r)\n",
    "        output.append(S[0] + r)\n",
    "    return output\n",
    "\n",
    "solve('ABC')"
   ]
  },
  {
   "cell_type": "markdown",
   "metadata": {},
   "source": [
    "### Phone Keypad Letter Combinations"
   ]
  },
  {
   "cell_type": "code",
   "execution_count": 45,
   "metadata": {
    "scrolled": false
   },
   "outputs": [
    {
     "data": {
      "text/plain": [
       "['AD', 'AE', 'AF', 'BD', 'BE', 'BF', 'CD', 'CE', 'CF']"
      ]
     },
     "execution_count": 45,
     "metadata": {},
     "output_type": "execute_result"
    }
   ],
   "source": [
    "keys = ['', '', 'ABC', 'DEF', 'GHI', 'JKL', 'MNO', 'PQRS', 'TUV', 'WXYZ']\n",
    "\n",
    "def solve(N):\n",
    "    if len(N) == 0:\n",
    "        return ['']\n",
    "    \n",
    "    output = []\n",
    "    key = int(N[0])\n",
    "    result = solve(N[1:])\n",
    "    \n",
    "    for k in keys[key]:\n",
    "        for r in result:\n",
    "            output.append(k + r)\n",
    "    return output\n",
    "    \n",
    "    \n",
    "solve('23')"
   ]
  },
  {
   "cell_type": "markdown",
   "metadata": {},
   "source": [
    "### Stair Paths"
   ]
  },
  {
   "cell_type": "code",
   "execution_count": 27,
   "metadata": {},
   "outputs": [
    {
     "data": {
      "text/plain": [
       "['111', '12', '21', '3']"
      ]
     },
     "execution_count": 27,
     "metadata": {},
     "output_type": "execute_result"
    }
   ],
   "source": [
    "def solve(n):\n",
    "    if n < 0:\n",
    "        return []\n",
    "    if n == 0:\n",
    "        return ['']\n",
    "    \n",
    "    subpaths1 = solve(n-1)\n",
    "    subpaths2 = solve(n-2)\n",
    "    subpaths3 = solve(n-3)\n",
    "    \n",
    "    output = []\n",
    "    for subpath in subpaths1:\n",
    "        output.append('1' + subpath)\n",
    "    for subpath in subpaths2:\n",
    "        output.append('2' + subpath)\n",
    "    for subpath in subpaths3:\n",
    "        output.append('3' + subpath)\n",
    "    return output\n",
    "\n",
    "solve(3)"
   ]
  },
  {
   "cell_type": "markdown",
   "metadata": {},
   "source": [
    "### Get Maze Paths"
   ]
  },
  {
   "cell_type": "code",
   "execution_count": 29,
   "metadata": {
    "scrolled": false
   },
   "outputs": [
    {
     "data": {
      "text/plain": [
       "['HHHVV',\n",
       " 'HHVHV',\n",
       " 'HHVVH',\n",
       " 'HVHHV',\n",
       " 'HVHVH',\n",
       " 'HVVHH',\n",
       " 'VHHHV',\n",
       " 'VHHVH',\n",
       " 'VHVHH',\n",
       " 'VVHHH']"
      ]
     },
     "execution_count": 29,
     "metadata": {},
     "output_type": "execute_result"
    }
   ],
   "source": [
    "def solve(sr, sc, dr, dc):\n",
    "    if sr == dr and sc == dc:\n",
    "        return ['']\n",
    "    \n",
    "    hpaths = []\n",
    "    vpaths = []\n",
    "    if sr < dr:\n",
    "        vpaths = solve(sr + 1, sc, dr, dc)\n",
    "    if sc < dc:\n",
    "        hpaths = solve(sr, sc + 1, dr, dc)\n",
    "        \n",
    "    output = []\n",
    "    for hpath in hpaths:\n",
    "        output.append('H' + hpath)\n",
    "    for vpath in vpaths:\n",
    "        output.append('V' + vpath)\n",
    "    return output\n",
    "\n",
    "solve(0, 0, 2, 3)"
   ]
  },
  {
   "cell_type": "markdown",
   "metadata": {},
   "source": [
    "### Get Maze Paths with Jumps"
   ]
  },
  {
   "cell_type": "code",
   "execution_count": 30,
   "metadata": {
    "scrolled": false
   },
   "outputs": [
    {
     "data": {
      "text/plain": [
       "['H1H1V1V1',\n",
       " 'H1H1V2',\n",
       " 'H1V1H1V1',\n",
       " 'H1V1V1H1',\n",
       " 'H1V1D1',\n",
       " 'H1V2H1',\n",
       " 'H1D1V1',\n",
       " 'H2V1V1',\n",
       " 'H2V2',\n",
       " 'V1H1H1V1',\n",
       " 'V1H1V1H1',\n",
       " 'V1H1D1',\n",
       " 'V1H2V1',\n",
       " 'V1V1H1H1',\n",
       " 'V1V1H2',\n",
       " 'V1D1H1',\n",
       " 'V2H1H1',\n",
       " 'V2H2',\n",
       " 'D1H1V1',\n",
       " 'D1V1H1',\n",
       " 'D1D1',\n",
       " 'D2']"
      ]
     },
     "execution_count": 30,
     "metadata": {},
     "output_type": "execute_result"
    }
   ],
   "source": [
    "def solve(sr, sc, dr, dc):\n",
    "    if sr == dr and sc == dc:\n",
    "        return ['']\n",
    "    \n",
    "    paths = []\n",
    "    for step in range(1, dc-sc+1):\n",
    "        hpaths = solve(sr, sc+step, dr, dc)\n",
    "        for hpath in hpaths:\n",
    "            paths.append('H' + str(step) + hpath)\n",
    "            \n",
    "    for step in range(1, dr-sr+1):\n",
    "        vpaths = solve(sr+step, sc, dr, dc)\n",
    "        for vpath in vpaths:\n",
    "            paths.append('V' + str(step) + vpath)\n",
    "            \n",
    "    step = 1\n",
    "    while step < (dr-sr+1) and step < (dc-sc+1):\n",
    "        dpaths = solve(sr+step, sc+step, dr, dc)\n",
    "        for dpath in dpaths:\n",
    "            paths.append('D' + str(step) + dpath)\n",
    "        step = step + 1\n",
    "            \n",
    "    return paths\n",
    "\n",
    "solve(0, 0, 2, 2)"
   ]
  },
  {
   "cell_type": "markdown",
   "metadata": {},
   "source": [
    "### Print Subsequences of a String"
   ]
  },
  {
   "cell_type": "code",
   "execution_count": 31,
   "metadata": {},
   "outputs": [
    {
     "name": "stdout",
     "output_type": "stream",
     "text": [
      "\n",
      "C\n",
      "B\n",
      "BC\n",
      "A\n",
      "AC\n",
      "AB\n",
      "ABC\n"
     ]
    }
   ],
   "source": [
    "def solve(S, result):\n",
    "    if len(S) == 0:\n",
    "        print(result)\n",
    "        return\n",
    "    solve(S[1:], result)\n",
    "    solve(S[1:], result + S[0])\n",
    "\n",
    "solve('ABC', '')"
   ]
  },
  {
   "cell_type": "code",
   "execution_count": 47,
   "metadata": {},
   "outputs": [
    {
     "data": {
      "text/plain": [
       "['', 'C', 'B', 'BC', 'A', 'AC', 'AB', 'ABC']"
      ]
     },
     "execution_count": 47,
     "metadata": {},
     "output_type": "execute_result"
    }
   ],
   "source": [
    "def solve(S, result, output):\n",
    "    if len(S) == 0:\n",
    "        output.append(result)\n",
    "        return\n",
    "    solve(S[1:], result, output)\n",
    "    solve(S[1:], result + S[0], output)\n",
    "\n",
    "output = []\n",
    "solve('ABC', '', output)\n",
    "output"
   ]
  },
  {
   "cell_type": "code",
   "execution_count": 49,
   "metadata": {},
   "outputs": [
    {
     "data": {
      "text/plain": [
       "['', 'C', 'B', 'BC', 'A', 'AC', 'AB', 'ABC']"
      ]
     },
     "execution_count": 49,
     "metadata": {},
     "output_type": "execute_result"
    }
   ],
   "source": [
    "def solve(S, result):\n",
    "    if len(S) == 0:\n",
    "        output.append(result)\n",
    "        return\n",
    "    solve(S[1:], result)\n",
    "    solve(S[1:], result + S[0])\n",
    "\n",
    "output = []\n",
    "solve('ABC', '')\n",
    "output"
   ]
  },
  {
   "cell_type": "markdown",
   "metadata": {},
   "source": [
    "### Print Keypad Combinations"
   ]
  },
  {
   "cell_type": "code",
   "execution_count": 51,
   "metadata": {},
   "outputs": [
    {
     "name": "stdout",
     "output_type": "stream",
     "text": [
      "['AD', 'AE', 'AF', 'BD', 'BE', 'BF', 'CD', 'CE', 'CF']\n"
     ]
    }
   ],
   "source": [
    "keys = ['', '', 'ABC', 'DEF', 'GHI', 'JKL', 'MNO', 'PQRS', 'TUV', 'WXYZ']\n",
    "\n",
    "def solve(s, result, output):\n",
    "    if len(s) == 0:\n",
    "        output.append(result)\n",
    "        return\n",
    "    \n",
    "    key = int(s[0])\n",
    "    for k in keys[key]:\n",
    "        solve(s[1:], result + k, output)\n",
    "\n",
    "output = []\n",
    "solve('23', '', output)\n",
    "print(output)"
   ]
  },
  {
   "cell_type": "markdown",
   "metadata": {},
   "source": [
    "### Print Stair Paths"
   ]
  },
  {
   "cell_type": "code",
   "execution_count": 34,
   "metadata": {},
   "outputs": [
    {
     "name": "stdout",
     "output_type": "stream",
     "text": [
      "1 1 1 1 \n",
      "1 1 2 \n",
      "1 2 1 \n",
      "1 3 \n",
      "2 1 1 \n",
      "2 2 \n",
      "3 1 \n"
     ]
    }
   ],
   "source": [
    "def solve(n, path):\n",
    "    if n < 0:\n",
    "        return\n",
    "    if n == 0:\n",
    "        print(path)\n",
    "        return\n",
    "    for i in range(1, 4):\n",
    "        solve(n-i, path + str(i) + ' ')\n",
    "\n",
    "solve(4, '')"
   ]
  },
  {
   "cell_type": "markdown",
   "metadata": {},
   "source": [
    "### Print Maze Paths"
   ]
  },
  {
   "cell_type": "code",
   "execution_count": 35,
   "metadata": {},
   "outputs": [
    {
     "name": "stdout",
     "output_type": "stream",
     "text": [
      "VVHHH\n",
      "VHVHH\n",
      "VHHVH\n",
      "VHHHV\n",
      "HVVHH\n",
      "HVHVH\n",
      "HVHHV\n",
      "HHVVH\n",
      "HHVHV\n",
      "HHHVV\n"
     ]
    }
   ],
   "source": [
    "def solve(sr, sc, dr, dc, output):\n",
    "    if sr > dr or sc > dc:\n",
    "        return\n",
    "    \n",
    "    if sr == dr and sc == dc:\n",
    "        print(output)\n",
    "        return\n",
    "    \n",
    "    solve(sr+1, sc, dr, dc, output + 'V')\n",
    "    solve(sr, sc+1, dr, dc, output + 'H')\n",
    "        \n",
    "solve(0, 0, 2, 3, '')"
   ]
  },
  {
   "cell_type": "markdown",
   "metadata": {},
   "source": [
    "### Print Maze Paths with Jumps"
   ]
  },
  {
   "cell_type": "code",
   "execution_count": 53,
   "metadata": {},
   "outputs": [
    {
     "name": "stdout",
     "output_type": "stream",
     "text": [
      "['H1H1V1V1', 'H1H1V2', 'H1V1H1V1', 'H1V1V1H1', 'H1V1D1', 'H1V2H1', 'H1D1V1', 'H2V1V1', 'H2V2', 'V1H1H1V1', 'V1H1V1H1', 'V1H1D1', 'V1H2V1', 'V1V1H1H1', 'V1V1H2', 'V1D1H1', 'V2H1H1', 'V2H2', 'D1H1V1', 'D1V1H1', 'D1D1', 'D2']\n"
     ]
    }
   ],
   "source": [
    "def solve(sr, sc, dr, dc, path):    \n",
    "    if sr == dr and sc == dc:\n",
    "        output.append(path)\n",
    "        return\n",
    "    \n",
    "    for step in range(1, dc-sc+1):\n",
    "        solve(sr, sc+step, dr, dc, path + 'H' + str(step))\n",
    "        \n",
    "    for step in range(1, dr-sr+1):\n",
    "        solve(sr+step, sc, dr, dc, path + 'V' + str(step))\n",
    "        \n",
    "    step = 1\n",
    "    while step < (dc-sc+1) and step < (dr-sr+1):\n",
    "        solve(sr+step, sc+step, dr, dc, path + 'D' + str(step))\n",
    "        step += 1\n",
    "\n",
    "output = []\n",
    "solve(0, 0, 2, 2, '')\n",
    "print(output)"
   ]
  },
  {
   "cell_type": "markdown",
   "metadata": {},
   "source": [
    "### Print Permutations"
   ]
  },
  {
   "cell_type": "code",
   "execution_count": 54,
   "metadata": {},
   "outputs": [
    {
     "name": "stdout",
     "output_type": "stream",
     "text": [
      "['ABC', 'ACB', 'BAC', 'BCA', 'CAB', 'CBA']\n"
     ]
    }
   ],
   "source": [
    "def solve(s, result):\n",
    "    if len(s) == 0:\n",
    "        output.append(result)\n",
    "        return\n",
    "    \n",
    "    for i in range(len(s)):\n",
    "        solve(s[:i] + s[i+1:], result + s[i])\n",
    "\n",
    "output = []\n",
    "solve('ABC', '')\n",
    "print(output)"
   ]
  },
  {
   "cell_type": "markdown",
   "metadata": {},
   "source": [
    "### Print Encodings"
   ]
  },
  {
   "cell_type": "code",
   "execution_count": 59,
   "metadata": {},
   "outputs": [
    {
     "name": "stdout",
     "output_type": "stream",
     "text": [
      "idicca\n"
     ]
    }
   ],
   "source": [
    "def solve(s, output):\n",
    "    if len(s) == 0:\n",
    "        print(output)\n",
    "        return\n",
    "    \n",
    "    if len(s) == 1:\n",
    "        if s == '0':\n",
    "            return\n",
    "        else:\n",
    "            code = chr(int(s)+ord('a')-1)\n",
    "            solve(s[1:], output + code)\n",
    "    else:\n",
    "        id1 = s[0]\n",
    "        if id1 == '0':\n",
    "            return\n",
    "        else:\n",
    "            code = chr(int(id1)+ord('a')-1)\n",
    "            solve(s[1:], output + code)\n",
    "            \n",
    "        id2 = s[:2]\n",
    "        if int(id2) < 27:\n",
    "            code = chr(int(id2)+ord('a')-1)\n",
    "            solve(s[2:], output + code)\n",
    "        \n",
    "\n",
    "solve('949331', '')"
   ]
  },
  {
   "cell_type": "markdown",
   "metadata": {},
   "source": [
    "### Print Flood Fill (Maze w/ obstacles) Paths"
   ]
  },
  {
   "cell_type": "code",
   "execution_count": 39,
   "metadata": {},
   "outputs": [
    {
     "name": "stdout",
     "output_type": "stream",
     "text": [
      "BBRBBRRRR\n",
      "BBRRTTRRBBLBBRR\n",
      "BBRRTTRRRBLBLBBRR\n",
      "BBRRRBBRR\n"
     ]
    }
   ],
   "source": [
    "G = [[0, 1, 0, 0, 0, 0],\n",
    "     [0, 1, 0, 1, 0, 0],\n",
    "     [0, 0, 0, 0, 0, 1],\n",
    "     [1, 0, 1, 0, 1, 1],\n",
    "     [1, 0, 0, 0, 0, 0]]\n",
    "\n",
    "def solve(G, row, col, path, visited):\n",
    "    if row < 0 or col < 0 or row >= m or col >= n or G[row][col] == 1 or visited[row][col]:\n",
    "        return\n",
    "    if row == (m - 1) and col == (n - 1):\n",
    "        print(path)\n",
    "        return\n",
    "    \n",
    "    visited[row][col] = True\n",
    "    solve(G, row-1, col, path + 'T', visited)\n",
    "    solve(G, row+1, col, path + 'B', visited)\n",
    "    solve(G, row, col-1, path + 'L', visited)\n",
    "    solve(G, row, col+1, path + 'R', visited)\n",
    "    visited[row][col] = False\n",
    "    \n",
    "m = len(G)\n",
    "n = len(G[0])\n",
    "visited = [[False for _ in range(n)] for _ in range(m)]\n",
    "    \n",
    "solve(G, 0, 0, '', visited)"
   ]
  },
  {
   "cell_type": "markdown",
   "metadata": {},
   "source": [
    "### Print Target Sum Subsets"
   ]
  },
  {
   "cell_type": "code",
   "execution_count": 62,
   "metadata": {},
   "outputs": [
    {
     "name": "stdout",
     "output_type": "stream",
     "text": [
      "[[20, 40], [10, 50], [10, 20, 30]]\n"
     ]
    }
   ],
   "source": [
    "def solve(A, idx, T, total, subset):\n",
    "    if idx == len(A):\n",
    "        if total == T:\n",
    "            output.append(subset)\n",
    "        return\n",
    "    \n",
    "    solve(A, idx+1, T, total, subset)\n",
    "    solve(A, idx+1, T, total + A[idx], subset + [A[idx]])\n",
    "    \n",
    "A = [10, 20, 30, 40, 50]\n",
    "T = 60\n",
    "\n",
    "output = []\n",
    "solve(A, 0, T, 0, [])\n",
    "print(output)"
   ]
  },
  {
   "cell_type": "markdown",
   "metadata": {},
   "source": [
    "### N-Queens"
   ]
  },
  {
   "cell_type": "code",
   "execution_count": 72,
   "metadata": {},
   "outputs": [
    {
     "name": "stdout",
     "output_type": "stream",
     "text": [
      "[[(0, 1), (1, 3), (2, 0), (3, 2)], [(0, 2), (1, 0), (2, 3), (3, 1)]]\n"
     ]
    }
   ],
   "source": [
    "\n",
    "n = 4\n",
    "B = [[0 for _ in range(n)] for _ in range(n)]\n",
    "\n",
    "def solve(B, row, result):\n",
    "    if row == len(B):\n",
    "        output.append(result[:])\n",
    "        return\n",
    "    \n",
    "    for col in range(len(B)):\n",
    "        if isSafeCell(B, row, col):\n",
    "            B[row][col] = 1\n",
    "            result.append((row, col))\n",
    "            \n",
    "            solve(B, row + 1, result)\n",
    "            \n",
    "            result.pop()\n",
    "            B[row][col] = 0\n",
    "            \n",
    "def isSafeCell(B, row, col):\n",
    "    for r in range(row-1, -1, -1):\n",
    "        if B[r][col]:\n",
    "            return False\n",
    "\n",
    "    r = row - 1\n",
    "    c = col - 1\n",
    "    while r >= 0  and c >= 0:\n",
    "        if B[r][c]:\n",
    "            return False\n",
    "        r -= 1\n",
    "        c -= 1\n",
    "\n",
    "    r = row - 1\n",
    "    c = col + 1\n",
    "    while r >= 0 and c < len(B):\n",
    "        if B[r][c]:\n",
    "            return False\n",
    "        r -= 1\n",
    "        c += 1\n",
    "\n",
    "    return True\n",
    "\n",
    "output = []\n",
    "solve(B, 0, [])\n",
    "print(output)"
   ]
  },
  {
   "cell_type": "code",
   "execution_count": 74,
   "metadata": {
    "scrolled": false
   },
   "outputs": [
    {
     "name": "stdout",
     "output_type": "stream",
     "text": [
      "[[(0, 1), (1, 3), (2, 0), (3, 2)], [(0, 2), (1, 0), (2, 3), (3, 1)]]\n"
     ]
    }
   ],
   "source": [
    "class Board(object):\n",
    "    def __init__(self, n):\n",
    "        self.n = n\n",
    "        self.board = [[0 for _ in range(n)] for _ in range(n)]\n",
    "        \n",
    "    def solve(self, row, result, output):\n",
    "        if row == self.n:\n",
    "            output.append(result[:])\n",
    "            return\n",
    "        \n",
    "        for col in range(self.n):\n",
    "            if self.isSafeCell(row, col):\n",
    "                \n",
    "                self.board[row][col] = 1\n",
    "                result.append((row, col))\n",
    "                \n",
    "                self.solve(row+1, result, output)\n",
    "                \n",
    "                result.pop()\n",
    "                self.board[row][col] = 0\n",
    "                \n",
    "            \n",
    "    def nQueens(self):\n",
    "        result = []\n",
    "        output = []\n",
    "        self.solve(0, result, output)\n",
    "        return output\n",
    "        \n",
    "    def isSafeCell(self, row, col):\n",
    "        \n",
    "        # Vertical check\n",
    "        for r in range(row-1, -1, -1):\n",
    "            if self.board[r][col]:\n",
    "                return False\n",
    "            \n",
    "        # Main diagonal check\n",
    "        r = row - 1\n",
    "        c = col - 1\n",
    "        while r >= 0  and c >= 0:\n",
    "            if self.board[r][c]:\n",
    "                return False\n",
    "            r -= 1\n",
    "            c -= 1\n",
    "            \n",
    "        # Minor diagonal check\n",
    "        r = row - 1\n",
    "        c = col + 1\n",
    "        while r >= 0 and c < self.n:\n",
    "            if self.board[r][c]:\n",
    "                return False\n",
    "            r -= 1\n",
    "            c += 1\n",
    "\n",
    "        return True\n",
    "    \n",
    "    def display(self):\n",
    "        for row in self.board:\n",
    "            print(row)\n",
    "            \n",
    "b = Board(4)\n",
    "output = b.nQueens()\n",
    "print(output)"
   ]
  },
  {
   "cell_type": "markdown",
   "metadata": {},
   "source": [
    "### Knights Tour"
   ]
  },
  {
   "cell_type": "code",
   "execution_count": 42,
   "metadata": {
    "scrolled": false
   },
   "outputs": [
    {
     "name": "stdout",
     "output_type": "stream",
     "text": [
      "Start: (0, 2)\n",
      "56\n",
      "[[(0, 2), (1, 4), (3, 3), (4, 1), (2, 2), (1, 0), (3, 1), (4, 3), (2, 4), (0, 3), (1, 1), (3, 0), (4, 2), (3, 4), (1, 3), (0, 1), (2, 0), (1, 2), (0, 4), (2, 3), (4, 4), (3, 2), (4, 0), (2, 1)], [(0, 2), (1, 4), (3, 3), (4, 1), (2, 2), (1, 0), (3, 1), (4, 3), (2, 4), (0, 3), (1, 1), (3, 0), (4, 2), (3, 4), (1, 3), (0, 1), (2, 0), (1, 2), (0, 0), (2, 1), (4, 0), (3, 2), (4, 4), (2, 3)], [(0, 2), (1, 4), (3, 3), (4, 1), (2, 2), (1, 0), (3, 1), (4, 3), (2, 4), (0, 3), (1, 1), (3, 0), (4, 2), (3, 4), (1, 3), (0, 1), (2, 0), (3, 2), (4, 4), (2, 3), (0, 4), (1, 2), (0, 0), (2, 1)], [(0, 2), (1, 4), (3, 3), (4, 1), (2, 2), (1, 0), (3, 1), (4, 3), (2, 4), (0, 3), (1, 1), (3, 0), (4, 2), (3, 4), (1, 3), (0, 1), (2, 0), (3, 2), (4, 0), (2, 1), (0, 0), (1, 2), (0, 4), (2, 3)], [(0, 2), (1, 4), (3, 3), (4, 1), (2, 0), (0, 1), (1, 3), (3, 4), (4, 2), (3, 0), (1, 1), (0, 3), (2, 4), (4, 3), (2, 2), (1, 0), (3, 1), (1, 2), (0, 4), (2, 3), (4, 4), (3, 2), (4, 0), (2, 1)], [(0, 2), (1, 4), (3, 3), (4, 1), (2, 0), (0, 1), (1, 3), (3, 4), (4, 2), (3, 0), (1, 1), (0, 3), (2, 4), (4, 3), (2, 2), (1, 0), (3, 1), (1, 2), (0, 0), (2, 1), (4, 0), (3, 2), (4, 4), (2, 3)], [(0, 2), (1, 4), (3, 3), (4, 1), (2, 0), (0, 1), (1, 3), (3, 4), (4, 2), (3, 0), (1, 1), (0, 3), (2, 4), (4, 3), (2, 2), (1, 0), (3, 1), (2, 3), (0, 4), (1, 2), (0, 0), (2, 1), (4, 0), (3, 2)], [(0, 2), (1, 4), (3, 3), (4, 1), (2, 0), (0, 1), (1, 3), (3, 4), (4, 2), (3, 0), (1, 1), (0, 3), (2, 4), (4, 3), (2, 2), (1, 0), (3, 1), (2, 3), (4, 4), (3, 2), (4, 0), (2, 1), (0, 0), (1, 2)], [(0, 2), (1, 4), (3, 3), (4, 1), (2, 0), (0, 1), (1, 3), (3, 4), (4, 2), (3, 0), (1, 1), (0, 3), (2, 2), (1, 0), (3, 1), (4, 3), (2, 4), (3, 2), (4, 4), (2, 3), (0, 4), (1, 2), (0, 0), (2, 1)], [(0, 2), (1, 4), (3, 3), (4, 1), (2, 0), (0, 1), (1, 3), (3, 4), (4, 2), (3, 0), (1, 1), (0, 3), (2, 2), (1, 0), (3, 1), (4, 3), (2, 4), (3, 2), (4, 0), (2, 1), (0, 0), (1, 2), (0, 4), (2, 3)], [(0, 2), (1, 4), (3, 3), (4, 1), (2, 0), (0, 1), (1, 3), (3, 4), (4, 2), (3, 0), (1, 1), (0, 3), (2, 2), (1, 0), (3, 1), (4, 3), (2, 4), (1, 2), (0, 4), (2, 3), (4, 4), (3, 2), (4, 0), (2, 1)], [(0, 2), (1, 4), (3, 3), (4, 1), (2, 0), (0, 1), (1, 3), (3, 4), (4, 2), (3, 0), (1, 1), (0, 3), (2, 2), (1, 0), (3, 1), (4, 3), (2, 4), (1, 2), (0, 0), (2, 1), (4, 0), (3, 2), (4, 4), (2, 3)], [(0, 2), (1, 4), (3, 3), (4, 1), (2, 0), (0, 1), (1, 3), (3, 4), (4, 2), (3, 0), (2, 2), (1, 0), (3, 1), (4, 3), (2, 4), (0, 3), (1, 1), (2, 3), (0, 4), (1, 2), (0, 0), (2, 1), (4, 0), (3, 2)], [(0, 2), (1, 4), (3, 3), (4, 1), (2, 0), (0, 1), (1, 3), (3, 4), (4, 2), (3, 0), (2, 2), (1, 0), (3, 1), (4, 3), (2, 4), (0, 3), (1, 1), (2, 3), (4, 4), (3, 2), (4, 0), (2, 1), (0, 0), (1, 2)], [(0, 2), (1, 4), (3, 3), (4, 1), (2, 0), (0, 1), (1, 3), (3, 4), (4, 2), (3, 0), (2, 2), (1, 0), (3, 1), (4, 3), (2, 4), (0, 3), (1, 1), (3, 2), (4, 4), (2, 3), (0, 4), (1, 2), (0, 0), (2, 1)], [(0, 2), (1, 4), (3, 3), (4, 1), (2, 0), (0, 1), (1, 3), (3, 4), (4, 2), (3, 0), (2, 2), (1, 0), (3, 1), (4, 3), (2, 4), (0, 3), (1, 1), (3, 2), (4, 0), (2, 1), (0, 0), (1, 2), (0, 4), (2, 3)], [(0, 2), (1, 4), (3, 3), (4, 1), (2, 0), (0, 1), (1, 3), (3, 4), (2, 2), (1, 0), (3, 1), (4, 3), (2, 4), (0, 3), (1, 1), (3, 0), (4, 2), (2, 3), (0, 4), (1, 2), (0, 0), (2, 1), (4, 0), (3, 2)], [(0, 2), (1, 4), (3, 3), (4, 1), (2, 0), (0, 1), (1, 3), (3, 4), (2, 2), (1, 0), (3, 1), (4, 3), (2, 4), (0, 3), (1, 1), (3, 0), (4, 2), (2, 3), (4, 4), (3, 2), (4, 0), (2, 1), (0, 0), (1, 2)], [(0, 2), (1, 4), (3, 3), (4, 1), (2, 0), (0, 1), (1, 3), (3, 4), (2, 2), (1, 0), (3, 1), (4, 3), (2, 4), (0, 3), (1, 1), (3, 0), (4, 2), (2, 1), (4, 0), (3, 2), (4, 4), (2, 3), (0, 4), (1, 2)], [(0, 2), (1, 4), (3, 3), (4, 1), (2, 0), (0, 1), (1, 3), (3, 4), (2, 2), (1, 0), (3, 1), (4, 3), (2, 4), (0, 3), (1, 1), (3, 0), (4, 2), (2, 1), (0, 0), (1, 2), (0, 4), (2, 3), (4, 4), (3, 2)], [(0, 2), (1, 4), (3, 3), (4, 1), (2, 0), (0, 1), (2, 2), (1, 0), (3, 1), (4, 3), (2, 4), (0, 3), (1, 1), (3, 0), (4, 2), (3, 4), (1, 3), (3, 2), (4, 4), (2, 3), (0, 4), (1, 2), (0, 0), (2, 1)], [(0, 2), (1, 4), (3, 3), (4, 1), (2, 0), (0, 1), (2, 2), (1, 0), (3, 1), (4, 3), (2, 4), (0, 3), (1, 1), (3, 0), (4, 2), (3, 4), (1, 3), (3, 2), (4, 0), (2, 1), (0, 0), (1, 2), (0, 4), (2, 3)], [(0, 2), (1, 4), (3, 3), (4, 1), (2, 0), (0, 1), (2, 2), (1, 0), (3, 1), (4, 3), (2, 4), (0, 3), (1, 1), (3, 0), (4, 2), (3, 4), (1, 3), (2, 1), (4, 0), (3, 2), (4, 4), (2, 3), (0, 4), (1, 2)], [(0, 2), (1, 4), (3, 3), (4, 1), (2, 0), (0, 1), (2, 2), (1, 0), (3, 1), (4, 3), (2, 4), (0, 3), (1, 1), (3, 0), (4, 2), (3, 4), (1, 3), (2, 1), (0, 0), (1, 2), (0, 4), (2, 3), (4, 4), (3, 2)], [(0, 2), (1, 4), (2, 2), (1, 0), (3, 1), (4, 3), (2, 4), (0, 3), (1, 1), (3, 0), (4, 2), (3, 4), (1, 3), (0, 1), (2, 0), (4, 1), (3, 3), (2, 1), (4, 0), (3, 2), (4, 4), (2, 3), (0, 4), (1, 2)], [(0, 2), (1, 4), (2, 2), (1, 0), (3, 1), (4, 3), (2, 4), (0, 3), (1, 1), (3, 0), (4, 2), (3, 4), (1, 3), (0, 1), (2, 0), (4, 1), (3, 3), (2, 1), (0, 0), (1, 2), (0, 4), (2, 3), (4, 4), (3, 2)], [(0, 2), (1, 4), (2, 2), (1, 0), (3, 1), (4, 3), (2, 4), (0, 3), (1, 1), (3, 0), (4, 2), (3, 4), (1, 3), (0, 1), (2, 0), (4, 1), (3, 3), (1, 2), (0, 4), (2, 3), (4, 4), (3, 2), (4, 0), (2, 1)], [(0, 2), (1, 4), (2, 2), (1, 0), (3, 1), (4, 3), (2, 4), (0, 3), (1, 1), (3, 0), (4, 2), (3, 4), (1, 3), (0, 1), (2, 0), (4, 1), (3, 3), (1, 2), (0, 0), (2, 1), (4, 0), (3, 2), (4, 4), (2, 3)], [(0, 2), (1, 0), (2, 2), (1, 4), (3, 3), (4, 1), (2, 0), (0, 1), (1, 3), (3, 4), (4, 2), (3, 0), (1, 1), (0, 3), (2, 4), (4, 3), (3, 1), (1, 2), (0, 4), (2, 3), (4, 4), (3, 2), (4, 0), (2, 1)], [(0, 2), (1, 0), (2, 2), (1, 4), (3, 3), (4, 1), (2, 0), (0, 1), (1, 3), (3, 4), (4, 2), (3, 0), (1, 1), (0, 3), (2, 4), (4, 3), (3, 1), (1, 2), (0, 0), (2, 1), (4, 0), (3, 2), (4, 4), (2, 3)], [(0, 2), (1, 0), (2, 2), (1, 4), (3, 3), (4, 1), (2, 0), (0, 1), (1, 3), (3, 4), (4, 2), (3, 0), (1, 1), (0, 3), (2, 4), (4, 3), (3, 1), (2, 3), (0, 4), (1, 2), (0, 0), (2, 1), (4, 0), (3, 2)], [(0, 2), (1, 0), (2, 2), (1, 4), (3, 3), (4, 1), (2, 0), (0, 1), (1, 3), (3, 4), (4, 2), (3, 0), (1, 1), (0, 3), (2, 4), (4, 3), (3, 1), (2, 3), (4, 4), (3, 2), (4, 0), (2, 1), (0, 0), (1, 2)], [(0, 2), (1, 0), (3, 1), (4, 3), (2, 4), (0, 3), (2, 2), (1, 4), (3, 3), (4, 1), (2, 0), (0, 1), (1, 3), (3, 4), (4, 2), (3, 0), (1, 1), (2, 3), (0, 4), (1, 2), (0, 0), (2, 1), (4, 0), (3, 2)], [(0, 2), (1, 0), (3, 1), (4, 3), (2, 4), (0, 3), (2, 2), (1, 4), (3, 3), (4, 1), (2, 0), (0, 1), (1, 3), (3, 4), (4, 2), (3, 0), (1, 1), (2, 3), (4, 4), (3, 2), (4, 0), (2, 1), (0, 0), (1, 2)], [(0, 2), (1, 0), (3, 1), (4, 3), (2, 4), (0, 3), (2, 2), (1, 4), (3, 3), (4, 1), (2, 0), (0, 1), (1, 3), (3, 4), (4, 2), (3, 0), (1, 1), (3, 2), (4, 4), (2, 3), (0, 4), (1, 2), (0, 0), (2, 1)], [(0, 2), (1, 0), (3, 1), (4, 3), (2, 4), (0, 3), (2, 2), (1, 4), (3, 3), (4, 1), (2, 0), (0, 1), (1, 3), (3, 4), (4, 2), (3, 0), (1, 1), (3, 2), (4, 0), (2, 1), (0, 0), (1, 2), (0, 4), (2, 3)], [(0, 2), (1, 0), (3, 1), (4, 3), (2, 4), (0, 3), (1, 1), (3, 0), (2, 2), (1, 4), (3, 3), (4, 1), (2, 0), (0, 1), (1, 3), (3, 4), (4, 2), (2, 3), (0, 4), (1, 2), (0, 0), (2, 1), (4, 0), (3, 2)], [(0, 2), (1, 0), (3, 1), (4, 3), (2, 4), (0, 3), (1, 1), (3, 0), (2, 2), (1, 4), (3, 3), (4, 1), (2, 0), (0, 1), (1, 3), (3, 4), (4, 2), (2, 3), (4, 4), (3, 2), (4, 0), (2, 1), (0, 0), (1, 2)], [(0, 2), (1, 0), (3, 1), (4, 3), (2, 4), (0, 3), (1, 1), (3, 0), (2, 2), (1, 4), (3, 3), (4, 1), (2, 0), (0, 1), (1, 3), (3, 4), (4, 2), (2, 1), (4, 0), (3, 2), (4, 4), (2, 3), (0, 4), (1, 2)], [(0, 2), (1, 0), (3, 1), (4, 3), (2, 4), (0, 3), (1, 1), (3, 0), (2, 2), (1, 4), (3, 3), (4, 1), (2, 0), (0, 1), (1, 3), (3, 4), (4, 2), (2, 1), (0, 0), (1, 2), (0, 4), (2, 3), (4, 4), (3, 2)], [(0, 2), (1, 0), (3, 1), (4, 3), (2, 4), (0, 3), (1, 1), (3, 0), (4, 2), (3, 4), (2, 2), (1, 4), (3, 3), (4, 1), (2, 0), (0, 1), (1, 3), (3, 2), (4, 4), (2, 3), (0, 4), (1, 2), (0, 0), (2, 1)], [(0, 2), (1, 0), (3, 1), (4, 3), (2, 4), (0, 3), (1, 1), (3, 0), (4, 2), (3, 4), (2, 2), (1, 4), (3, 3), (4, 1), (2, 0), (0, 1), (1, 3), (3, 2), (4, 0), (2, 1), (0, 0), (1, 2), (0, 4), (2, 3)], [(0, 2), (1, 0), (3, 1), (4, 3), (2, 4), (0, 3), (1, 1), (3, 0), (4, 2), (3, 4), (2, 2), (1, 4), (3, 3), (4, 1), (2, 0), (0, 1), (1, 3), (2, 1), (4, 0), (3, 2), (4, 4), (2, 3), (0, 4), (1, 2)], [(0, 2), (1, 0), (3, 1), (4, 3), (2, 4), (0, 3), (1, 1), (3, 0), (4, 2), (3, 4), (2, 2), (1, 4), (3, 3), (4, 1), (2, 0), (0, 1), (1, 3), (2, 1), (0, 0), (1, 2), (0, 4), (2, 3), (4, 4), (3, 2)], [(0, 2), (1, 0), (3, 1), (4, 3), (2, 4), (0, 3), (1, 1), (3, 0), (4, 2), (3, 4), (1, 3), (0, 1), (2, 2), (1, 4), (3, 3), (4, 1), (2, 0), (1, 2), (0, 4), (2, 3), (4, 4), (3, 2), (4, 0), (2, 1)], [(0, 2), (1, 0), (3, 1), (4, 3), (2, 4), (0, 3), (1, 1), (3, 0), (4, 2), (3, 4), (1, 3), (0, 1), (2, 2), (1, 4), (3, 3), (4, 1), (2, 0), (1, 2), (0, 0), (2, 1), (4, 0), (3, 2), (4, 4), (2, 3)], [(0, 2), (1, 0), (3, 1), (4, 3), (2, 4), (0, 3), (1, 1), (3, 0), (4, 2), (3, 4), (1, 3), (0, 1), (2, 2), (1, 4), (3, 3), (4, 1), (2, 0), (3, 2), (4, 4), (2, 3), (0, 4), (1, 2), (0, 0), (2, 1)], [(0, 2), (1, 0), (3, 1), (4, 3), (2, 4), (0, 3), (1, 1), (3, 0), (4, 2), (3, 4), (1, 3), (0, 1), (2, 2), (1, 4), (3, 3), (4, 1), (2, 0), (3, 2), (4, 0), (2, 1), (0, 0), (1, 2), (0, 4), (2, 3)], [(0, 2), (1, 0), (3, 1), (4, 3), (2, 4), (0, 3), (1, 1), (3, 0), (4, 2), (3, 4), (1, 3), (0, 1), (2, 0), (4, 1), (2, 2), (1, 4), (3, 3), (2, 1), (4, 0), (3, 2), (4, 4), (2, 3), (0, 4), (1, 2)], [(0, 2), (1, 0), (3, 1), (4, 3), (2, 4), (0, 3), (1, 1), (3, 0), (4, 2), (3, 4), (1, 3), (0, 1), (2, 0), (4, 1), (2, 2), (1, 4), (3, 3), (2, 1), (0, 0), (1, 2), (0, 4), (2, 3), (4, 4), (3, 2)], [(0, 2), (1, 0), (3, 1), (4, 3), (2, 4), (0, 3), (1, 1), (3, 0), (4, 2), (3, 4), (1, 3), (0, 1), (2, 0), (4, 1), (2, 2), (1, 4), (3, 3), (1, 2), (0, 4), (2, 3), (4, 4), (3, 2), (4, 0), (2, 1)], [(0, 2), (1, 0), (3, 1), (4, 3), (2, 4), (0, 3), (1, 1), (3, 0), (4, 2), (3, 4), (1, 3), (0, 1), (2, 0), (4, 1), (2, 2), (1, 4), (3, 3), (1, 2), (0, 0), (2, 1), (4, 0), (3, 2), (4, 4), (2, 3)], [(0, 2), (1, 0), (3, 1), (4, 3), (2, 2), (1, 4), (3, 3), (4, 1), (2, 0), (0, 1), (1, 3), (3, 4), (4, 2), (3, 0), (1, 1), (0, 3), (2, 4), (3, 2), (4, 4), (2, 3), (0, 4), (1, 2), (0, 0), (2, 1)], [(0, 2), (1, 0), (3, 1), (4, 3), (2, 2), (1, 4), (3, 3), (4, 1), (2, 0), (0, 1), (1, 3), (3, 4), (4, 2), (3, 0), (1, 1), (0, 3), (2, 4), (3, 2), (4, 0), (2, 1), (0, 0), (1, 2), (0, 4), (2, 3)], [(0, 2), (1, 0), (3, 1), (4, 3), (2, 2), (1, 4), (3, 3), (4, 1), (2, 0), (0, 1), (1, 3), (3, 4), (4, 2), (3, 0), (1, 1), (0, 3), (2, 4), (1, 2), (0, 4), (2, 3), (4, 4), (3, 2), (4, 0), (2, 1)], [(0, 2), (1, 0), (3, 1), (4, 3), (2, 2), (1, 4), (3, 3), (4, 1), (2, 0), (0, 1), (1, 3), (3, 4), (4, 2), (3, 0), (1, 1), (0, 3), (2, 4), (1, 2), (0, 0), (2, 1), (4, 0), (3, 2), (4, 4), (2, 3)]]\n",
      "Start: (0, 3)\n"
     ]
    },
    {
     "name": "stdout",
     "output_type": "stream",
     "text": [
      "0\n",
      "[]\n"
     ]
    },
    {
     "data": {
      "text/plain": [
       "[]"
      ]
     },
     "execution_count": 42,
     "metadata": {},
     "output_type": "execute_result"
    }
   ],
   "source": [
    "class Board(object):\n",
    "    def __init__(self, n):\n",
    "        self.n = n\n",
    "        self.board = [[0 for _ in range(n)] for _ in range(n)]\n",
    "        self.delta = [(-2, 1), (-1, 2), (1, 2), (2, 1), (2, -1), (1, -2), (-1, -2), (-2, -1)]\n",
    "        \n",
    "    def solve(self, row, col, count, result, output):\n",
    "        if row < 0 or col < 0 or row >= self.n or col >= self.n or self.board[row][col] > 0:\n",
    "            return\n",
    "        if count == self.n * self.n:\n",
    "            self.board[row][col] = count\n",
    "            output.append(result[:])\n",
    "            self.board[row][col] = 0  # Finds multiple solution for starting cell\n",
    "            return\n",
    "        \n",
    "        for dx, dy in self.delta:\n",
    "            self.board[row][col] = count\n",
    "            result.append((row, col))\n",
    "            self.solve(row+dx, col+dy, count+1, result, output)\n",
    "            self.board[row][col] = 0\n",
    "            result.pop()\n",
    "        return\n",
    "        \n",
    "    def tour(self, srow, scol):\n",
    "        print(f'Start: ({srow}, {scol})')\n",
    "        output = []\n",
    "        self.solve(srow, scol, 1, [], output)\n",
    "        print(len(output))\n",
    "        print(output)\n",
    "        return output\n",
    "        \n",
    "    def display(self):\n",
    "        for row in self.board:\n",
    "            print(row)\n",
    "        print('-----' * self.n)\n",
    "        \n",
    "        \n",
    "b = Board(5)\n",
    "b.tour(0, 2)\n",
    "b.tour(0, 3)"
   ]
  },
  {
   "cell_type": "code",
   "execution_count": null,
   "metadata": {},
   "outputs": [],
   "source": []
  }
 ],
 "metadata": {
  "kernelspec": {
   "display_name": "Python 3",
   "language": "python",
   "name": "python3"
  },
  "language_info": {
   "codemirror_mode": {
    "name": "ipython",
    "version": 3
   },
   "file_extension": ".py",
   "mimetype": "text/x-python",
   "name": "python",
   "nbconvert_exporter": "python",
   "pygments_lexer": "ipython3",
   "version": "3.6.9"
  }
 },
 "nbformat": 4,
 "nbformat_minor": 4
}
