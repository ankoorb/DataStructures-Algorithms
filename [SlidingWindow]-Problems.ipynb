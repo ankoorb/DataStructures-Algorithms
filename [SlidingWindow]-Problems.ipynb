{
 "cells": [
  {
   "cell_type": "markdown",
   "metadata": {},
   "source": [
    "# Fixed Size Window"
   ]
  },
  {
   "cell_type": "markdown",
   "metadata": {},
   "source": [
    "### Maximum Sum of `k` Consecutive Elements in an Array : `Brute Force`"
   ]
  },
  {
   "cell_type": "code",
   "execution_count": 1,
   "metadata": {},
   "outputs": [
    {
     "name": "stdout",
     "output_type": "stream",
     "text": [
      "Max Sum of 3 consecutive elements:  18\n"
     ]
    }
   ],
   "source": [
    "k = 3\n",
    "A = [2, 3, 5, 2, 9, 7, 1]\n",
    "n = len(A)\n",
    "\n",
    "\n",
    "cache = []\n",
    "for i in range(n):\n",
    "    if i + k > n:\n",
    "        break\n",
    "    total = 0\n",
    "    for j in range(i, i + k):\n",
    "        total += A[j]\n",
    "    cache.append(total)\n",
    "    \n",
    "print(f\"Max Sum of {k} consecutive elements: \", max(cache))"
   ]
  },
  {
   "cell_type": "markdown",
   "metadata": {},
   "source": [
    "### Maximum Sum of `k` Consecutive Elements in an Array : `Optimal`"
   ]
  },
  {
   "cell_type": "code",
   "execution_count": 2,
   "metadata": {},
   "outputs": [
    {
     "name": "stdout",
     "output_type": "stream",
     "text": [
      "Max Sum of 3 consecutive elements: 18\n"
     ]
    }
   ],
   "source": [
    "k = 3\n",
    "A = [2, 3, 5, 2, 9, 7, 1]\n",
    "n = len(A)\n",
    "\n",
    "\n",
    "i = 0\n",
    "j = 0\n",
    "total = 0\n",
    "maxSum = float('-inf')\n",
    "while j < n:\n",
    "    total += A[j]\n",
    "    if j - i + 1 < k:\n",
    "        j += 1\n",
    "    elif j - i + 1 == k:\n",
    "        maxSum = max(maxSum, total)\n",
    "        total -= A[i]\n",
    "        i += 1\n",
    "        j += 1\n",
    "        \n",
    "print(f\"Max Sum of {k} consecutive elements: {maxSum}\")"
   ]
  },
  {
   "cell_type": "markdown",
   "metadata": {},
   "source": [
    "### First Negative Number in every Window of Size `k` : `Brute Force`"
   ]
  },
  {
   "cell_type": "code",
   "execution_count": 3,
   "metadata": {},
   "outputs": [
    {
     "name": "stdout",
     "output_type": "stream",
     "text": [
      "[-1, -1, -7, -15, -15, 0]\n"
     ]
    }
   ],
   "source": [
    "k = 3\n",
    "A = [12, -1, -7, 8, -15, 30, 16, 28]\n",
    "n = len(A)\n",
    "\n",
    "output = []\n",
    "for i in range(n):\n",
    "    if i + k > n:\n",
    "        break\n",
    "    temp = []\n",
    "    for j in range(i, i + k):\n",
    "        if A[j] < 0:\n",
    "            temp.append(A[j])\n",
    "    if len(temp) > 0:\n",
    "        output.append(temp[0])\n",
    "    else:\n",
    "        output.append(0)\n",
    "        \n",
    "print(output)"
   ]
  },
  {
   "cell_type": "markdown",
   "metadata": {},
   "source": [
    "### First Negative Number in every Window of Size `k` : `Optimal`"
   ]
  },
  {
   "cell_type": "code",
   "execution_count": 4,
   "metadata": {},
   "outputs": [
    {
     "name": "stdout",
     "output_type": "stream",
     "text": [
      "[-1, -1, -7, -15, -15, 0]\n"
     ]
    }
   ],
   "source": [
    "from collections import deque\n",
    "\n",
    "k = 3\n",
    "A = [12, -1, -7, 8, -15, 30, 16, 28]\n",
    "n = len(A)\n",
    "\n",
    "\n",
    "i = 0\n",
    "j = 0\n",
    "output = []\n",
    "Q = deque([])\n",
    "\n",
    "while j < n:\n",
    "    \n",
    "    if A[j] < 0:\n",
    "        Q.append(A[j])\n",
    "    \n",
    "    if j - i + 1 < k:\n",
    "        j += 1\n",
    "    elif j - i + 1 == k:\n",
    "        if len(Q) == 0:\n",
    "            output.append(0)\n",
    "        else:\n",
    "            output.append(Q[0])\n",
    "            if A[i] == Q[0]:\n",
    "                Q.popleft()\n",
    "        i += 1\n",
    "        j += 1\n",
    "            \n",
    "print(output)"
   ]
  },
  {
   "cell_type": "markdown",
   "metadata": {},
   "source": [
    "### Count Occurences of Anagrams : `Optimal`"
   ]
  },
  {
   "cell_type": "code",
   "execution_count": 5,
   "metadata": {},
   "outputs": [
    {
     "name": "stdout",
     "output_type": "stream",
     "text": [
      "4\n"
     ]
    }
   ],
   "source": [
    "s = \"AABAABAA\"\n",
    "p = \"AABA\"\n",
    "\n",
    "\n",
    "n = len(s)\n",
    "k = len(p)\n",
    "\n",
    "freqP = {}\n",
    "for c in p:\n",
    "    freqP[c] = freqP.get(c, 0) + 1\n",
    "            \n",
    "i = 0\n",
    "j = 0\n",
    "output = 0\n",
    "count = len(freqP)\n",
    "\n",
    "while j < n:\n",
    "    \n",
    "    # 1. Calculation\n",
    "    if s[j] in freqP:\n",
    "        freqP[s[j]] = freqP[s[j]] - 1\n",
    "        if freqP[s[j]] == 0:\n",
    "            count -= 1\n",
    "            \n",
    "    if j - i + 1 < k:\n",
    "        j += 1\n",
    "        \n",
    "    elif j - i + 1 == k:\n",
    "        \n",
    "        # 2. Calculation to result\n",
    "        if count == 0:\n",
    "            output += 1\n",
    "            \n",
    "        # 3. Slide the window\n",
    "        if s[i] in freqP:\n",
    "            freqP[s[i]] = freqP[s[i]] + 1\n",
    "            if freqP[s[i]] == 1:\n",
    "                count += 1\n",
    "                \n",
    "        i += 1\n",
    "        j += 1\n",
    "        \n",
    "print(output)"
   ]
  },
  {
   "cell_type": "markdown",
   "metadata": {},
   "source": [
    "### Maximum of all Subarrays of size `k` : `Brute Force`"
   ]
  },
  {
   "cell_type": "code",
   "execution_count": 6,
   "metadata": {},
   "outputs": [
    {
     "name": "stdout",
     "output_type": "stream",
     "text": [
      "[3, 3, 5, 5, 6, 7]\n"
     ]
    }
   ],
   "source": [
    "A = [1, 3, -1, -3, 5, 3, 6, 7]\n",
    "\n",
    "k = 3\n",
    "n = len(A)\n",
    "output = []\n",
    "for i in range(n):\n",
    "    if i + k > n:\n",
    "        break\n",
    "    \n",
    "    maxVal = float('-inf')\n",
    "    \n",
    "    for j in range(i, i + k):\n",
    "        maxVal = max(maxVal, A[j])\n",
    "        \n",
    "    output.append(maxVal)\n",
    "    \n",
    "print(output)"
   ]
  },
  {
   "cell_type": "markdown",
   "metadata": {},
   "source": [
    "### Maximum of all Subarrays of size `k` : `Optimal`"
   ]
  },
  {
   "cell_type": "code",
   "execution_count": 7,
   "metadata": {},
   "outputs": [
    {
     "name": "stdout",
     "output_type": "stream",
     "text": [
      "[3, 3, 5, 5, 6, 7]\n"
     ]
    }
   ],
   "source": [
    "A = [1, 3, -1, -3, 5, 3, 6, 7]\n",
    "\n",
    "k = 3\n",
    "n = len(A)\n",
    "\n",
    "i = 0\n",
    "j = 0\n",
    "output = []\n",
    "Q = deque([])\n",
    "\n",
    "while j < n:\n",
    "    \n",
    "    # 1. Calculation\n",
    "    while len(Q) > 0 and Q[len(Q)-1] < A[j]:\n",
    "        Q.pop()\n",
    "    Q.append(A[j])\n",
    "    \n",
    "    if j - i + 1 < k:\n",
    "        j += 1\n",
    "        \n",
    "    elif j - i + 1 == k:\n",
    "        \n",
    "        # 2. Calculation to result\n",
    "        output.append(Q[0])\n",
    "        \n",
    "        # 3. Slide the window\n",
    "        if Q[0] == A[i]:\n",
    "            Q.popleft()\n",
    "        \n",
    "        i += 1\n",
    "        j += 1\n",
    "        \n",
    "print(output)"
   ]
  },
  {
   "cell_type": "markdown",
   "metadata": {},
   "source": [
    "### Maximum of Minimum of every Window Size"
   ]
  },
  {
   "cell_type": "code",
   "execution_count": null,
   "metadata": {},
   "outputs": [],
   "source": []
  },
  {
   "cell_type": "markdown",
   "metadata": {},
   "source": [
    "# Variable Size Window"
   ]
  },
  {
   "cell_type": "markdown",
   "metadata": {},
   "source": [
    "### Largest Subarray of Sum `k` : `Optimal`"
   ]
  },
  {
   "cell_type": "code",
   "execution_count": 8,
   "metadata": {},
   "outputs": [
    {
     "name": "stdout",
     "output_type": "stream",
     "text": [
      "Largest Subarray of Sum 5 has size:  4\n"
     ]
    }
   ],
   "source": [
    "A = [4, 1, 1, 1, 2, 3, 5]\n",
    "k = 5\n",
    "\n",
    "n = len(A)\n",
    "\n",
    "i = 0\n",
    "j = 0\n",
    "total = 0\n",
    "maxL = float('-inf')\n",
    "\n",
    "while j < n:\n",
    "    \n",
    "    total += A[j]\n",
    "    \n",
    "    if total < k:\n",
    "        j += 1\n",
    "        \n",
    "    elif total == k:\n",
    "        maxL = max(maxL, j - i + 1)\n",
    "        j += 1\n",
    "    else:\n",
    "        while total > k:\n",
    "            total -= A[i]\n",
    "            i += 1\n",
    "        j += 1\n",
    "        \n",
    "print(f\"Largest Subarray of Sum {k} has size: \", maxL)"
   ]
  },
  {
   "cell_type": "markdown",
   "metadata": {},
   "source": [
    "### Longest Substring with `k` Unique Characters : `Optimal`"
   ]
  },
  {
   "cell_type": "code",
   "execution_count": 9,
   "metadata": {},
   "outputs": [
    {
     "name": "stdout",
     "output_type": "stream",
     "text": [
      "Length of Longest Substring with 3 Unique Characters is 7\n"
     ]
    }
   ],
   "source": [
    "S = \"AABACBEBEBE\"\n",
    "\n",
    "k = 3\n",
    "n = len(S)\n",
    "\n",
    "i = 0\n",
    "j = 0\n",
    "freq = {}\n",
    "maxL = float('-inf')\n",
    "\n",
    "while j < n:\n",
    "    \n",
    "    c = S[j]\n",
    "    freq[c] = freq.get(c, 0) + 1\n",
    "    \n",
    "    if len(freq) < k:\n",
    "        j += 1\n",
    "        \n",
    "    elif len(freq) == k:\n",
    "        maxL = max(maxL, j - i + 1)\n",
    "        j += 1\n",
    "        \n",
    "    else:\n",
    "        while len(freq) > k:\n",
    "            c = S[i]\n",
    "            freq[c] -= 1\n",
    "            if freq[c] == 0:\n",
    "                freq.pop(c)\n",
    "            i += 1\n",
    "        j += 1\n",
    "        \n",
    "print(f\"Length of Longest Substring with {k} Unique Characters is {maxL}\")"
   ]
  },
  {
   "cell_type": "markdown",
   "metadata": {},
   "source": [
    "### Longest Substring without Repeating Characters"
   ]
  },
  {
   "cell_type": "code",
   "execution_count": 13,
   "metadata": {},
   "outputs": [
    {
     "name": "stdout",
     "output_type": "stream",
     "text": [
      "Length of Longest Substring with all Unique Characters is 3 and Substring is 'WKE'\n"
     ]
    }
   ],
   "source": [
    "S = \"PWWKEW\"\n",
    "\n",
    "n = len(S)\n",
    "\n",
    "\n",
    "i = 0\n",
    "j = 0\n",
    "freq = {}\n",
    "subS = \"\"\n",
    "maxL = float('-inf')\n",
    "\n",
    "while j < n:\n",
    "    \n",
    "    c = S[j]\n",
    "    freq[c] = freq.get(c, 0) + 1\n",
    "    \n",
    "    if len(freq) < j - i + 1:\n",
    "        while len(freq) < j - i + 1:\n",
    "            c = S[i]\n",
    "            freq[c] -= 1\n",
    "            if freq[c] == 0:\n",
    "                freq.pop(c)\n",
    "            i += 1\n",
    "        j += 1\n",
    "        \n",
    "    elif len(freq) == j - i + 1:\n",
    "        if maxL < j - i + 1:\n",
    "            maxL = j - i + 1\n",
    "            subS = S[i:j+1]\n",
    "        j += 1\n",
    "        \n",
    "print(f\"Length of Longest Substring with all Unique Characters is {maxL} and Substring is '{subS}'\")"
   ]
  },
  {
   "cell_type": "markdown",
   "metadata": {},
   "source": [
    "### Pick Toys - Longest Substring with `k` Unique Characters"
   ]
  },
  {
   "cell_type": "code",
   "execution_count": 15,
   "metadata": {},
   "outputs": [
    {
     "name": "stdout",
     "output_type": "stream",
     "text": [
      "Length of Longest Substring with 2 Unique Characters is 4\n"
     ]
    }
   ],
   "source": [
    "S = \"ABACCAB\"\n",
    "\n",
    "k = 2\n",
    "n = len(S)\n",
    "\n",
    "i = 0\n",
    "j = 0\n",
    "freq = {}\n",
    "maxL = float('-inf')\n",
    "\n",
    "while j < n:\n",
    "    \n",
    "    c = S[j]\n",
    "    freq[c] = freq.get(c, 0) + 1\n",
    "    \n",
    "    if len(freq) < k:\n",
    "        j += 1\n",
    "        \n",
    "    elif len(freq) == k:\n",
    "        maxL = max(maxL, j - i + 1)\n",
    "        j += 1\n",
    "        \n",
    "    else:\n",
    "        while len(freq) > k:\n",
    "            c = S[i]\n",
    "            freq[c] -= 1\n",
    "            if freq[c] == 0:\n",
    "                freq.pop(c)\n",
    "            i += 1\n",
    "        j += 1\n",
    "        \n",
    "print(f\"Length of Longest Substring with {k} Unique Characters is {maxL}\")"
   ]
  },
  {
   "cell_type": "markdown",
   "metadata": {},
   "source": [
    "### Minimum Window Substring"
   ]
  },
  {
   "cell_type": "code",
   "execution_count": 27,
   "metadata": {},
   "outputs": [
    {
     "name": "stdout",
     "output_type": "stream",
     "text": [
      "6 ADOBEC\n"
     ]
    }
   ],
   "source": [
    "S = \"ADOBECODEBANC\"\n",
    "T = \"ABC\"\n",
    "\n",
    "freq = {}\n",
    "for c in T:\n",
    "    freq[c] = freq.get(c, 0) + 1\n",
    "    \n",
    "i = 0\n",
    "j = 0\n",
    "output = \"\"\n",
    "count = len(freq)\n",
    "minL = float('inf')\n",
    "\n",
    "while j < n:\n",
    "    \n",
    "    # 1. Calculation\n",
    "    c = S[j]\n",
    "    if c in freq:\n",
    "        freq[c] -= 1\n",
    "        if freq[c] == 0:\n",
    "            count -= 1\n",
    "            \n",
    "    if count > 0:\n",
    "        j += 1\n",
    "\n",
    "    elif count == 0:\n",
    "        \n",
    "        # 2. Calculation to result\n",
    "        if minL > j - i + 1:\n",
    "            minL = j - i + 1\n",
    "            output = S[i:j+1]\n",
    "            \n",
    "        c = S[i]\n",
    "        if c in freq:\n",
    "            freq[c] += 1\n",
    "            if freq[c] == 1:\n",
    "                count += 1\n",
    "            \n",
    "        i += 1\n",
    "        j += 1\n",
    "    \n",
    "    \n",
    "print(minL, output)"
   ]
  },
  {
   "cell_type": "code",
   "execution_count": null,
   "metadata": {},
   "outputs": [],
   "source": []
  }
 ],
 "metadata": {
  "kernelspec": {
   "display_name": "Python 3",
   "language": "python",
   "name": "python3"
  },
  "language_info": {
   "codemirror_mode": {
    "name": "ipython",
    "version": 3
   },
   "file_extension": ".py",
   "mimetype": "text/x-python",
   "name": "python",
   "nbconvert_exporter": "python",
   "pygments_lexer": "ipython3",
   "version": "3.6.9"
  }
 },
 "nbformat": 4,
 "nbformat_minor": 4
}
