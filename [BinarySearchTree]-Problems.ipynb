{
 "cells": [
  {
   "cell_type": "markdown",
   "metadata": {},
   "source": [
    "### Binary Tree Constructor"
   ]
  },
  {
   "cell_type": "code",
   "execution_count": 55,
   "metadata": {},
   "outputs": [],
   "source": [
    "def generateBT(A):\n",
    "    class Pair(object):\n",
    "        def __init__(self, node=None, state=None):\n",
    "            self.node = node\n",
    "            self.state = state\n",
    "\n",
    "    i = 1\n",
    "    root = Node(A[0])\n",
    "    pair = Pair(root, 0)\n",
    "    stack = [pair]\n",
    "\n",
    "    while len(stack) > 0:\n",
    "        top = stack[-1]\n",
    "\n",
    "        if top.state == 0:\n",
    "            if A[i] != None:\n",
    "                node = Node(A[i])\n",
    "                top.node.left = node\n",
    "                stack.append(Pair(node, 0))\n",
    "            else:\n",
    "                top.node.left = None\n",
    "\n",
    "            top.state += 1\n",
    "            i += 1\n",
    "\n",
    "        elif top.state == 1:\n",
    "            if A[i] != None:\n",
    "                node = Node(A[i])\n",
    "                top.node.right = node\n",
    "                stack.append(Pair(node, 0))\n",
    "            else:\n",
    "                top.node.right = None\n",
    "\n",
    "            top.state += 1\n",
    "            i += 1\n",
    "\n",
    "        else:\n",
    "            stack.pop()\n",
    "            \n",
    "    return root"
   ]
  },
  {
   "cell_type": "markdown",
   "metadata": {},
   "source": [
    "### Binary Search Tree Node"
   ]
  },
  {
   "cell_type": "code",
   "execution_count": 1,
   "metadata": {},
   "outputs": [],
   "source": [
    "class Node(object):\n",
    "    def __init__(self, val, left=None, right=None):\n",
    "        self.val = val\n",
    "        self.left = left\n",
    "        self.right = right"
   ]
  },
  {
   "cell_type": "markdown",
   "metadata": {},
   "source": [
    "### Binary Search Tree Constructor"
   ]
  },
  {
   "cell_type": "code",
   "execution_count": 2,
   "metadata": {},
   "outputs": [],
   "source": [
    "def generate(A, low, high):\n",
    "    if low > high:\n",
    "        return None\n",
    "    \n",
    "    mid = low + (high - low) // 2\n",
    "    \n",
    "    val = A[mid]\n",
    "    \n",
    "    Lchild = generate(A, low, mid - 1)\n",
    "    Rchild = generate(A, mid + 1, high)\n",
    "    \n",
    "    node = Node(val, Lchild, Rchild)\n",
    "    \n",
    "    return node\n",
    "\n",
    "A = [12, 25, 37, 50, 62, 75, 87]\n",
    "root = generate(A, 0, len(A)-1)"
   ]
  },
  {
   "cell_type": "markdown",
   "metadata": {},
   "source": [
    "### Display a Binary Search Tree"
   ]
  },
  {
   "cell_type": "code",
   "execution_count": 3,
   "metadata": {},
   "outputs": [
    {
     "name": "stdout",
     "output_type": "stream",
     "text": [
      "25 <- 50 -> 75\n",
      "12 <- 25 -> 37\n",
      ". <- 12 -> .\n",
      ". <- 37 -> .\n",
      "62 <- 75 -> 87\n",
      ". <- 62 -> .\n",
      ". <- 87 -> .\n"
     ]
    }
   ],
   "source": [
    "def display(node):\n",
    "    if node == None:\n",
    "        return\n",
    "    s = \"\"\n",
    "    s += \".\" if node.left == None else str(node.left.val)\n",
    "    s += \" <- \" + str(node.val) + \" -> \"\n",
    "    s += \".\" if node.right == None else str(node.right.val)\n",
    "    print(s)\n",
    "\n",
    "    display(node.left)\n",
    "    display(node.right)\n",
    "        \n",
    "display(root)"
   ]
  },
  {
   "cell_type": "markdown",
   "metadata": {},
   "source": [
    "### Size of a Binary Search Tree"
   ]
  },
  {
   "cell_type": "code",
   "execution_count": 4,
   "metadata": {},
   "outputs": [
    {
     "name": "stdout",
     "output_type": "stream",
     "text": [
      "7\n"
     ]
    }
   ],
   "source": [
    "def size(node):\n",
    "    if node == None:\n",
    "        return 0\n",
    "    L = size(node.left)\n",
    "    R = size(node.right)\n",
    "    return L + R + 1\n",
    "\n",
    "print(size(root))"
   ]
  },
  {
   "cell_type": "markdown",
   "metadata": {},
   "source": [
    "### Sum of Nodes in a Binary Search Tree"
   ]
  },
  {
   "cell_type": "code",
   "execution_count": 5,
   "metadata": {},
   "outputs": [
    {
     "name": "stdout",
     "output_type": "stream",
     "text": [
      "348\n"
     ]
    }
   ],
   "source": [
    "def treeSum(node):\n",
    "    if node == None:\n",
    "        return 0\n",
    "    L = treeSum(node.left)\n",
    "    R = treeSum(node.right)\n",
    "    return L + R + node.val\n",
    "\n",
    "print(treeSum(root))"
   ]
  },
  {
   "cell_type": "markdown",
   "metadata": {},
   "source": [
    "### Max in a Binary Search Tree"
   ]
  },
  {
   "cell_type": "code",
   "execution_count": 8,
   "metadata": {},
   "outputs": [
    {
     "name": "stdout",
     "output_type": "stream",
     "text": [
      "87\n"
     ]
    }
   ],
   "source": [
    "def maximum(node):\n",
    "    if node.right != None:\n",
    "        return maximum(node.right)\n",
    "    else:\n",
    "        return node.val\n",
    "\n",
    "print(maximum(root))"
   ]
  },
  {
   "cell_type": "markdown",
   "metadata": {},
   "source": [
    "### Min in a Binary Search Tree"
   ]
  },
  {
   "cell_type": "code",
   "execution_count": 10,
   "metadata": {},
   "outputs": [
    {
     "name": "stdout",
     "output_type": "stream",
     "text": [
      "12\n"
     ]
    }
   ],
   "source": [
    "def minimum(node):\n",
    "    if node.left != None:\n",
    "        return minimum(node.left)\n",
    "    else:\n",
    "        return node.val\n",
    "\n",
    "print(minimum(root))"
   ]
  },
  {
   "cell_type": "markdown",
   "metadata": {},
   "source": [
    "### Find a node in a Binary Search Tree"
   ]
  },
  {
   "cell_type": "code",
   "execution_count": 29,
   "metadata": {},
   "outputs": [
    {
     "data": {
      "text/plain": [
       "True"
      ]
     },
     "execution_count": 29,
     "metadata": {},
     "output_type": "execute_result"
    }
   ],
   "source": [
    "def find(node, x):\n",
    "    if node == None:\n",
    "        return False\n",
    "    \n",
    "    if x < node.val:\n",
    "        return find(node.left, x)\n",
    "    elif x > node.val:\n",
    "        return find(node.right, x)\n",
    "    else:\n",
    "        return True\n",
    "    \n",
    "find(root, 12)"
   ]
  },
  {
   "cell_type": "markdown",
   "metadata": {},
   "source": [
    "### Insert Node in a Binary Search Tree"
   ]
  },
  {
   "cell_type": "code",
   "execution_count": 54,
   "metadata": {},
   "outputs": [
    {
     "name": "stdout",
     "output_type": "stream",
     "text": [
      "25 <- 50 -> 75\n",
      "12 <- 25 -> 37\n",
      ". <- 12 -> .\n",
      "30 <- 37 -> 40\n",
      "27 <- 30 -> 33\n",
      ". <- 27 -> .\n",
      ". <- 33 -> .\n",
      ". <- 40 -> .\n",
      "62 <- 75 -> 87\n",
      ". <- 62 -> .\n",
      ". <- 87 -> .\n"
     ]
    }
   ],
   "source": [
    "def insert(node, x):\n",
    "    if node == None:\n",
    "        return Node(x)\n",
    "    \n",
    "    if x < node.val:\n",
    "        node.left = insert(node.left, x)\n",
    "    elif x > node.val:\n",
    "        node.right = insert(node.right, x)\n",
    "        \n",
    "    return node\n",
    "    \n",
    "root = insertNode(root, 30)\n",
    "root = insertNode(root, 40)\n",
    "root = insertNode(root, 27)\n",
    "root = insertNode(root, 33)\n",
    "\n",
    "display(root)"
   ]
  },
  {
   "cell_type": "markdown",
   "metadata": {},
   "source": [
    "### Delete / Remove a Node from a Binary Search Tree"
   ]
  },
  {
   "cell_type": "code",
   "execution_count": 26,
   "metadata": {},
   "outputs": [
    {
     "name": "stdout",
     "output_type": "stream",
     "text": [
      "25 <- 50 -> 75\n",
      "12 <- 25 -> 37\n",
      "5 <- 12 -> .\n",
      ". <- 5 -> .\n",
      ". <- 37 -> .\n",
      "62 <- 75 -> 87\n",
      ". <- 62 -> .\n",
      ". <- 87 -> .\n"
     ]
    }
   ],
   "source": [
    "def delete(node, x):\n",
    "    if node == None:\n",
    "        return None\n",
    "    \n",
    "    if x > node.val:\n",
    "        node.right = delete(node.right, x)\n",
    "    elif x < node.val:\n",
    "        node.left = delete(node.left, x)\n",
    "    else:\n",
    "        if node.left != None and node.right != None:\n",
    "            Lmax = maximum(node.left)\n",
    "            node.val = Lmax\n",
    "            node.left = delete(node.left, Lmax)\n",
    "            return node\n",
    "            \n",
    "        elif node.left != None:\n",
    "            return node.left\n",
    "        \n",
    "        elif node.right != None:\n",
    "            return node.right\n",
    "            \n",
    "        else:\n",
    "            return None\n",
    "        \n",
    "    return node\n",
    "\n",
    "root = delete(root, 100)\n",
    "display(root)"
   ]
  },
  {
   "cell_type": "markdown",
   "metadata": {},
   "source": [
    "### Binary Search Tree to Greater Sum Tree"
   ]
  },
  {
   "cell_type": "code",
   "execution_count": 32,
   "metadata": {},
   "outputs": [
    {
     "name": "stdout",
     "output_type": "stream",
     "text": [
      "336 <- 274 -> 162\n",
      "348 <- 336 -> 311\n",
      ". <- 348 -> .\n",
      ". <- 311 -> .\n",
      "224 <- 162 -> 87\n",
      ". <- 224 -> .\n",
      ". <- 87 -> .\n"
     ]
    }
   ],
   "source": [
    "root = generate(A, 0, len(A)-1)\n",
    "\n",
    "def reverseInorder(node):\n",
    "    def solve(node):\n",
    "        nonlocal total \n",
    "        if node == None:\n",
    "            return\n",
    "        solve(node.right)\n",
    "        val = node.val\n",
    "        node.val += total\n",
    "        total += val\n",
    "        solve(node.left)\n",
    "        \n",
    "    total = 0\n",
    "    solve(node)\n",
    "\n",
    "reverseInorder(root)\n",
    "display(root)"
   ]
  },
  {
   "cell_type": "markdown",
   "metadata": {},
   "source": [
    "### Lowest Common Ancestor of a Binary Search Tree"
   ]
  },
  {
   "cell_type": "code",
   "execution_count": 43,
   "metadata": {},
   "outputs": [
    {
     "name": "stdout",
     "output_type": "stream",
     "text": [
      "62\n"
     ]
    }
   ],
   "source": [
    "A = [12, 25, 30, 37, 40, 50, 55, 60, 61, 62, 71, 73, 74, 75, 87]\n",
    "root = generate(A, 0, len(A)-1)\n",
    "\n",
    "def LCA(node, x, y):\n",
    "    if x < node.val and y < node.val:\n",
    "        return LCA(node.left, x, y)\n",
    "    elif x > node.val and y > node.val:\n",
    "        return LCA(node.right, x, y)\n",
    "    else:\n",
    "        return node\n",
    "        \n",
    "x = 61\n",
    "y = 71\n",
    "print(LCA(root, x, y).val)"
   ]
  },
  {
   "cell_type": "markdown",
   "metadata": {},
   "source": [
    "### Binary Search Tree Nodes in a Range"
   ]
  },
  {
   "cell_type": "code",
   "execution_count": 39,
   "metadata": {},
   "outputs": [
    {
     "name": "stdout",
     "output_type": "stream",
     "text": [
      "[30, 37, 40, 50, 60, 62, 70]\n"
     ]
    }
   ],
   "source": [
    "A = [12, 25, 30, 37, 40, 50, 60, 62, 70, 75, 87]\n",
    "root = generate(A, 0, len(A)-1)\n",
    "\n",
    "def nodesInRange(node, low, high):\n",
    "    if node == None:\n",
    "        return\n",
    "    \n",
    "    if low < node.val and high < node.val:\n",
    "        nodesInRange(node.left, low, high)\n",
    "    elif low > node.val and high > node.val:\n",
    "        nodesInRange(node.right, low, high)\n",
    "    else:\n",
    "        nodesInRange(node.left, low, high)\n",
    "        output.append(node.val)\n",
    "        nodesInRange(node.right, low, high)\n",
    "        \n",
    "\n",
    "output = []\n",
    "nodesInRange(root, 27, 72)\n",
    "print(output)"
   ]
  },
  {
   "cell_type": "markdown",
   "metadata": {},
   "source": [
    "### Target Sum Pair in Binary Search Tree"
   ]
  },
  {
   "cell_type": "code",
   "execution_count": 69,
   "metadata": {},
   "outputs": [
    {
     "name": "stdout",
     "output_type": "stream",
     "text": [
      "[(25, 75), (30, 70), (40, 60)]\n"
     ]
    }
   ],
   "source": [
    "A = [12, 25, 30, 37, 40, 50, 60, 62, 70, 75, 87]\n",
    "root = generate(A, 0, len(A)-1)\n",
    "\n",
    "def sumPair(node, T, root):\n",
    "    if node == None:\n",
    "        return\n",
    "    \n",
    "    sumPair(node.left, T, root)\n",
    "    \n",
    "    complement = T - node.val\n",
    "    if node.val < complement:\n",
    "        if find(root, complement) == True:\n",
    "            output.append((node.val, complement))\n",
    "    \n",
    "    sumPair(node.right, T, root)\n",
    "    \n",
    "\n",
    "T = 100\n",
    "output = []\n",
    "sumPair(root, T, root)\n",
    "print(output)"
   ]
  },
  {
   "cell_type": "markdown",
   "metadata": {},
   "source": [
    "### Target Sum Pair in Binary Search Tree - Optimal"
   ]
  },
  {
   "cell_type": "code",
   "execution_count": 74,
   "metadata": {},
   "outputs": [
    {
     "name": "stdout",
     "output_type": "stream",
     "text": [
      "[(25, 75), (30, 70), (40, 60)]\n"
     ]
    }
   ],
   "source": [
    "class Pair(object):\n",
    "    def __init__(self, node=None, state=0):\n",
    "        self.node = node\n",
    "        self.state = state\n",
    "\n",
    "def getNextLeft(stack):\n",
    "    while len(stack) > 0:\n",
    "        top = stack[-1]\n",
    "        if top.state == 0:\n",
    "            if top.node.left != None:\n",
    "                stack.append(Pair(top.node.left, 0))\n",
    "            top.state += 1\n",
    "            \n",
    "        elif top.state == 1:\n",
    "            if top.node.right != None:\n",
    "                stack.append(Pair(top.node.right, 0))\n",
    "            top.state += 1\n",
    "            return top.node\n",
    "        else:\n",
    "            stack.pop()\n",
    "            \n",
    "    return None\n",
    "            \n",
    "def getNextRight(stack):\n",
    "    while len(stack) > 0: \n",
    "        \n",
    "        top = stack[-1]\n",
    "        if top.state == 0:\n",
    "            if top.node.right != None:\n",
    "                stack.append(Pair(top.node.right, 0))\n",
    "            top.state += 1\n",
    "            \n",
    "        elif top.state == 1:\n",
    "            if top.node.left != None:\n",
    "                stack.append(Pair(top.node.left, 0))\n",
    "            top.state += 1\n",
    "            return top.node\n",
    "        else:\n",
    "            stack.pop()\n",
    "            \n",
    "    return None\n",
    "            \n",
    "def getSumPair(node, T):\n",
    "    \n",
    "    output = []\n",
    "    \n",
    "    stackL = [Pair(node, 0)]\n",
    "    stackR = [Pair(node, 0)]\n",
    "    \n",
    "    L = getNextLeft(stackL)\n",
    "    R = getNextRight(stackR)\n",
    "    \n",
    "    while L.val < R.val:\n",
    "        if L.val + R.val < T:\n",
    "            L = getNextLeft(stackL)\n",
    "        elif L.val + R.val > T:\n",
    "            R = getNextRight(stackR)\n",
    "        else:\n",
    "            output.append((L.val, R.val))\n",
    "            L = getNextLeft(stackL)\n",
    "            R = getNextRight(stackR)\n",
    "            \n",
    "    return output\n",
    "\n",
    "T = 100\n",
    "output = getSumPair(root, T)\n",
    "print(output)"
   ]
  },
  {
   "cell_type": "markdown",
   "metadata": {},
   "source": [
    "### Binary Search Tree Node Count in a Range"
   ]
  },
  {
   "cell_type": "code",
   "execution_count": 75,
   "metadata": {},
   "outputs": [
    {
     "name": "stdout",
     "output_type": "stream",
     "text": [
      "Number of nodes in range(27, 72) is: 7\n"
     ]
    }
   ],
   "source": [
    "A = [12, 25, 30, 37, 40, 50, 60, 62, 70, 75, 87]\n",
    "root = generate(A, 0, len(A)-1)\n",
    "\n",
    "def nodesInRange(node, low, high):\n",
    "    def solve(node, low, high):\n",
    "        nonlocal count\n",
    "        if node == None:\n",
    "            return\n",
    "\n",
    "        if low < node.val and high < node.val:\n",
    "            solve(node.left, low, high)\n",
    "        elif low > node.val and high > node.val:\n",
    "            solve(node.right, low, high)\n",
    "        else:\n",
    "            solve(node.left, low, high)\n",
    "            count += 1\n",
    "            solve(node.right, low, high)\n",
    "        \n",
    "    count = 0\n",
    "    solve(root, low, high)\n",
    "    return count\n",
    "        \n",
    "low = 27\n",
    "high = 72\n",
    "count = nodesInRange(root, low, high)\n",
    "print(f\"Number of nodes in range({low}, {high}) is: {count}\")"
   ]
  },
  {
   "cell_type": "markdown",
   "metadata": {},
   "source": [
    "### Binary Tree to Binary Search Tree"
   ]
  },
  {
   "cell_type": "code",
   "execution_count": 67,
   "metadata": {},
   "outputs": [
    {
     "name": "stdout",
     "output_type": "stream",
     "text": [
      "13 <- 56 -> 35\n",
      "15 <- 13 -> 32\n",
      "30 <- 15 -> 12\n",
      ". <- 30 -> .\n",
      ". <- 12 -> .\n",
      ". <- 32 -> .\n",
      "19 <- 35 -> 43\n",
      ". <- 19 -> .\n",
      "24 <- 43 -> 11\n",
      ". <- 24 -> .\n",
      ". <- 11 -> .\n",
      "\n",
      "15 <- 24 -> 32\n",
      "12 <- 15 -> 19\n",
      "11 <- 12 -> 13\n",
      ". <- 11 -> .\n",
      ". <- 13 -> .\n",
      ". <- 19 -> .\n",
      "30 <- 32 -> 43\n",
      ". <- 30 -> .\n",
      "35 <- 43 -> 56\n",
      ". <- 35 -> .\n",
      ". <- 56 -> .\n"
     ]
    }
   ],
   "source": [
    "B = [56, 13, 15, 30, None, None, 12, None, None, 32, None, None, 35, 19, None, None, 43, 24, None, None, 11, None, None]\n",
    "\n",
    "root = generateBT(B)\n",
    "display(root)\n",
    "\n",
    "def toBST(node):\n",
    "    def inorder(node):\n",
    "        if node == None:\n",
    "            return\n",
    "        inorder(node.left)\n",
    "        values.append(node.val)\n",
    "        inorder(node.right)\n",
    "        \n",
    "    def populate(node):\n",
    "        nonlocal idx\n",
    "        if node == None:\n",
    "            return\n",
    "        \n",
    "        populate(node.left)\n",
    "        node.val = values[idx]\n",
    "        idx += 1\n",
    "        populate(node.right)\n",
    "        \n",
    "    values = []\n",
    "    inorder(node)\n",
    "    values.sort()\n",
    "    idx = 0\n",
    "    populate(node)\n",
    "    \n",
    "toBST(root)\n",
    "print()\n",
    "display(root)"
   ]
  },
  {
   "cell_type": "markdown",
   "metadata": {},
   "source": [
    "### Kth Smallest / Largest Element"
   ]
  },
  {
   "cell_type": "code",
   "execution_count": 86,
   "metadata": {},
   "outputs": [
    {
     "name": "stdout",
     "output_type": "stream",
     "text": [
      "37\n"
     ]
    }
   ],
   "source": [
    "A = [10, 20, 30, 35, 37, 40, 60, 70, 80]\n",
    "\n",
    "root = generate(A, 0, len(A)-1)\n",
    "\n",
    "\n",
    "def kThSmallest(node, k):\n",
    "    def inorder(node):\n",
    "        \n",
    "        if node == None:\n",
    "            return\n",
    "        nonlocal count, output\n",
    "        if count < 0:\n",
    "            return\n",
    "        inorder(node.left)\n",
    "        count -= 1\n",
    "        if count == 0:\n",
    "            output = node.val\n",
    "        inorder(node.right)\n",
    "    \n",
    "    count = k\n",
    "    output = -1\n",
    "    inorder(node)\n",
    "    return output\n",
    "\n",
    "k = 5\n",
    "output = kThSmallest(root, k)\n",
    "print(output)"
   ]
  },
  {
   "cell_type": "markdown",
   "metadata": {},
   "source": [
    "### Closest Value in a BST"
   ]
  },
  {
   "cell_type": "code",
   "execution_count": 87,
   "metadata": {},
   "outputs": [
    {
     "name": "stdout",
     "output_type": "stream",
     "text": [
      "37\n"
     ]
    }
   ],
   "source": [
    "A = [10, 20, 30, 35, 37, 40, 60, 70, 80]\n",
    "\n",
    "root = generate(A, 0, len(A)-1)\n",
    "\n",
    "def closest(node, T):\n",
    "    if node == None:\n",
    "        return float('inf')\n",
    "    if node.val == T:\n",
    "        return 0\n",
    "    if T < node.val:\n",
    "        return min(abs(T - node.val), closest(node.left, T))\n",
    "    else:\n",
    "        return min(abs(T - node.val), closest(node.right, T))\n",
    "    \n",
    "T = 36\n",
    "diff = closest(root, T)\n",
    "print(T + diff)"
   ]
  },
  {
   "cell_type": "markdown",
   "metadata": {},
   "source": [
    "### BST to Min Heap"
   ]
  },
  {
   "cell_type": "code",
   "execution_count": 91,
   "metadata": {},
   "outputs": [
    {
     "name": "stdout",
     "output_type": "stream",
     "text": [
      "40 <- 55 -> 65\n",
      ". <- 40 -> 50\n",
      ". <- 50 -> .\n",
      "60 <- 65 -> 70\n",
      ". <- 60 -> .\n",
      ". <- 70 -> .\n",
      "\n",
      "50 <- 40 -> 60\n",
      ". <- 50 -> 55\n",
      ". <- 55 -> .\n",
      "65 <- 60 -> 70\n",
      ". <- 65 -> .\n",
      ". <- 70 -> .\n"
     ]
    }
   ],
   "source": [
    "A = [40, 50, 55, 60, 65, 70]\n",
    "\n",
    "root = generate(A, 0, len(A)-1)\n",
    "display(root)\n",
    "\n",
    "def toHeap(node):\n",
    "    def inorder(node):\n",
    "        if node == None:\n",
    "            return\n",
    "        inorder(node.left)\n",
    "        values.append(node.val)\n",
    "        inorder(node.right)\n",
    "        \n",
    "    def populate(node):\n",
    "        nonlocal idx\n",
    "        if node == None:\n",
    "            return\n",
    "        node.val = values[idx]\n",
    "        idx += 1\n",
    "        populate(node.left)\n",
    "        populate(node.right)\n",
    "        \n",
    "    values = []\n",
    "    inorder(node)\n",
    "    values.sort()\n",
    "    idx = 0\n",
    "    populate(node)\n",
    "    \n",
    "toHeap(root)\n",
    "print()\n",
    "display(root)"
   ]
  },
  {
   "cell_type": "markdown",
   "metadata": {},
   "source": [
    "### Inorder Successor of Binary Search Tree"
   ]
  },
  {
   "cell_type": "code",
   "execution_count": 99,
   "metadata": {},
   "outputs": [
    {
     "name": "stdout",
     "output_type": "stream",
     "text": [
      "30\n"
     ]
    }
   ],
   "source": [
    "def find(node, x):\n",
    "    if node == None:\n",
    "        return None\n",
    "    \n",
    "    if x < node.val:\n",
    "        return find(node.left, x)\n",
    "    elif x > node.val:\n",
    "        return find(node.right, x)\n",
    "    else:\n",
    "        return node\n",
    "    \n",
    "def getSuccessor(node, x):\n",
    "    curr = find(node, x)\n",
    "    \n",
    "    if curr == None:\n",
    "        return None\n",
    "    \n",
    "    # Case 1: Node has right child\n",
    "    if curr.right != None:\n",
    "        temp = curr.right\n",
    "        while temp.left != None:\n",
    "            temp = temp.left\n",
    "        return temp\n",
    "    else:\n",
    "        successor = None\n",
    "        ancestor = node\n",
    "        while ancestor != curr:\n",
    "            if curr.val < ancestor.val:\n",
    "                successor = ancestor\n",
    "                ancestor = ancestor.left\n",
    "            else:\n",
    "                ancestor = ancestor.right\n",
    "        return successor\n",
    "    \n",
    "A = [12, 25, 30, 37, 40, 50, 60, 62, 70, 75, 87]\n",
    "root = generate(A, 0, len(A)-1)\n",
    "out = getSuccessor(root, 25)\n",
    "print(out.val)"
   ]
  },
  {
   "cell_type": "markdown",
   "metadata": {},
   "source": [
    "### Median in Binary Search Tree  `TODO`"
   ]
  },
  {
   "cell_type": "code",
   "execution_count": null,
   "metadata": {},
   "outputs": [],
   "source": []
  },
  {
   "cell_type": "markdown",
   "metadata": {},
   "source": [
    "### Merge 2 Binary Search Trees in O(H) space `TODO`"
   ]
  },
  {
   "cell_type": "code",
   "execution_count": 77,
   "metadata": {},
   "outputs": [],
   "source": [
    "A = [15, 17, 20, 30, 40]\n",
    "root1 = generate(A, 0, len(A)-1)\n",
    "\n",
    "B = [16, 18, 24, 29, 30]\n",
    "root2 = generate(B, 0, len(B)-1)\n",
    "\n",
    "def mergeBST(node1, node2):\n",
    "    class Pair(object):\n",
    "        def __init__(self, node=None, state=0):\n",
    "            self.node = node\n",
    "            self.state = state\n",
    "        \n",
    "    output = []\n",
    "    \n",
    "    stack1 = [Pair(node1, 0)]\n",
    "    stack2 = [Pair(node2, 0)]\n",
    "    \n",
    "    while len(stack1) > 0 and len(stack2) > 0:\n",
    "        top1 = stack1[-1]\n",
    "        top2 = stack2[-1]"
   ]
  }
 ],
 "metadata": {
  "kernelspec": {
   "display_name": "Python 3",
   "language": "python",
   "name": "python3"
  },
  "language_info": {
   "codemirror_mode": {
    "name": "ipython",
    "version": 3
   },
   "file_extension": ".py",
   "mimetype": "text/x-python",
   "name": "python",
   "nbconvert_exporter": "python",
   "pygments_lexer": "ipython3",
   "version": "3.6.9"
  }
 },
 "nbformat": 4,
 "nbformat_minor": 4
}
