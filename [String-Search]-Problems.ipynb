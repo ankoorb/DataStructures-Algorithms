{
 "cells": [
  {
   "cell_type": "markdown",
   "metadata": {},
   "source": [
    "### KMP Prefix Array"
   ]
  },
  {
   "cell_type": "code",
   "execution_count": 27,
   "metadata": {},
   "outputs": [
    {
     "name": "stdout",
     "output_type": "stream",
     "text": [
      "[0, 0, 0, 1, 2, 0, 1, 2, 3, 4, 5, 3]\n"
     ]
    }
   ],
   "source": [
    "p = 'BACBADBACBAC'\n",
    "L = [0] * len(p)\n",
    "for i in range(1, len(p)):\n",
    "    l = L[i-1]\n",
    "    while l > 0 and p[i] != p[l]:\n",
    "        l = L[l-1]\n",
    "    if p[i] == p[l]:\n",
    "        l += 1\n",
    "    L[i] = l\n",
    "print(L)"
   ]
  },
  {
   "cell_type": "markdown",
   "metadata": {},
   "source": [
    "### Rabin Karp Algorithm (Rolling Hash)"
   ]
  },
  {
   "cell_type": "code",
   "execution_count": 28,
   "metadata": {},
   "outputs": [
    {
     "name": "stdout",
     "output_type": "stream",
     "text": [
      "[4, 10, 18] ['ABC', 'ABC', 'ABC']\n"
     ]
    }
   ],
   "source": [
    "s = \"ABAAABCDBBABCDDEBCABC\"\n",
    "p = \"ABC\"\n",
    "# o/p: 4, 10, 18\n",
    "\n",
    "d = 26\n",
    "n = len(s)\n",
    "k = len(p)\n",
    "prime = 2**31 - 1 # 2^32\n",
    "\n",
    "# Compute power array\n",
    "power = [0] * n\n",
    "power[0] = 1\n",
    "for i in range(1, k):\n",
    "    power[i] = (power[i-1] * d) % prime\n",
    "    \n",
    "# Compute hash for p and first k length window of s\n",
    "pHash = 0\n",
    "sHash = 0\n",
    "for i in range(k):\n",
    "    pHash = (pHash * d + (ord(p[i])-ord('A'))) % prime\n",
    "    sHash = (sHash * d + (ord(s[i])-ord('A'))) % prime\n",
    "    \n",
    "# Compute rolling hash by sliding window\n",
    "indices = []\n",
    "output = []\n",
    "for i in range(k, n):\n",
    "    sHash = ((sHash - power[k-1] * (ord(s[i-k])-ord('A'))) % prime + prime) % prime\n",
    "    sHash = (sHash * d + (ord(s[i])-ord('A'))) % prime\n",
    "    \n",
    "    if sHash == pHash:\n",
    "        if s[i-k+1:i+1] == p:\n",
    "            output.append(s[i-k+1:i+1])\n",
    "            indices.append(i-k+1)\n",
    "print(indices, output)"
   ]
  },
  {
   "cell_type": "code",
   "execution_count": null,
   "metadata": {},
   "outputs": [],
   "source": []
  }
 ],
 "metadata": {
  "kernelspec": {
   "display_name": "Python 3",
   "language": "python",
   "name": "python3"
  },
  "language_info": {
   "codemirror_mode": {
    "name": "ipython",
    "version": 3
   },
   "file_extension": ".py",
   "mimetype": "text/x-python",
   "name": "python",
   "nbconvert_exporter": "python",
   "pygments_lexer": "ipython3",
   "version": "3.6.9"
  }
 },
 "nbformat": 4,
 "nbformat_minor": 4
}
