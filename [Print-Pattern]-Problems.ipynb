{
 "cells": [
  {
   "cell_type": "markdown",
   "metadata": {},
   "source": [
    "### Pattern # 1"
   ]
  },
  {
   "cell_type": "code",
   "execution_count": 1,
   "metadata": {},
   "outputs": [
    {
     "name": "stdout",
     "output_type": "stream",
     "text": [
      "*\t\n",
      "\n",
      "\n",
      "*\t*\t\n",
      "\n",
      "\n",
      "*\t*\t*\t\n",
      "\n",
      "\n",
      "*\t*\t*\t*\t\n",
      "\n",
      "\n",
      "*\t*\t*\t*\t*\t\n",
      "\n",
      "\n"
     ]
    }
   ],
   "source": [
    "n = 5\n",
    "\n",
    "for i in range(1, n + 1):\n",
    "    print('*\\t' * i)\n",
    "    print('\\n')"
   ]
  },
  {
   "cell_type": "code",
   "execution_count": 2,
   "metadata": {},
   "outputs": [
    {
     "name": "stdout",
     "output_type": "stream",
     "text": [
      "*\t\n",
      "\n",
      "\n",
      "*\t*\t\n",
      "\n",
      "\n",
      "*\t*\t*\t\n",
      "\n",
      "\n",
      "*\t*\t*\t*\t\n",
      "\n",
      "\n",
      "*\t*\t*\t*\t*\t\n",
      "\n",
      "\n"
     ]
    }
   ],
   "source": [
    "# Another approach\n",
    "n = 5\n",
    "for i in range(1, n + 1):\n",
    "    s = ''\n",
    "    for j in range(1, i + 1):\n",
    "        s += \"*\\t\"\n",
    "    print(s)\n",
    "    print('\\n')"
   ]
  },
  {
   "cell_type": "markdown",
   "metadata": {},
   "source": [
    "### Pattern # 2"
   ]
  },
  {
   "cell_type": "code",
   "execution_count": 3,
   "metadata": {},
   "outputs": [
    {
     "name": "stdout",
     "output_type": "stream",
     "text": [
      "*\t*\t*\t*\t*\t\n",
      "\n",
      "\n",
      "*\t*\t*\t*\t\n",
      "\n",
      "\n",
      "*\t*\t*\t\n",
      "\n",
      "\n",
      "*\t*\t\n",
      "\n",
      "\n",
      "*\t\n",
      "\n",
      "\n",
      "\n",
      "\n",
      "\n"
     ]
    }
   ],
   "source": [
    "n = 5\n",
    "\n",
    "for i in range(n, -1, -1):\n",
    "    print('*\\t' * i)\n",
    "    print('\\n')"
   ]
  },
  {
   "cell_type": "code",
   "execution_count": 4,
   "metadata": {},
   "outputs": [
    {
     "name": "stdout",
     "output_type": "stream",
     "text": [
      "*\t*\t*\t*\t*\t\n",
      "\n",
      "\n",
      "*\t*\t*\t*\t\n",
      "\n",
      "\n",
      "*\t*\t*\t\n",
      "\n",
      "\n",
      "*\t*\t\n",
      "\n",
      "\n",
      "*\t\n",
      "\n",
      "\n",
      "\n",
      "\n",
      "\n"
     ]
    }
   ],
   "source": [
    "# Another approach\n",
    "n = 5\n",
    "\n",
    "for i in range(n, -1, -1):\n",
    "    s = ''\n",
    "    for j in range(1, i + 1):\n",
    "        s += \"*\\t\"\n",
    "    print(s)\n",
    "    print('\\n')"
   ]
  },
  {
   "cell_type": "markdown",
   "metadata": {},
   "source": [
    "### Pattern # 3"
   ]
  },
  {
   "cell_type": "code",
   "execution_count": 5,
   "metadata": {},
   "outputs": [
    {
     "name": "stdout",
     "output_type": "stream",
     "text": [
      "\t\t\t\t*\t\n",
      "\n",
      "\n",
      "\t\t\t*\t*\t\n",
      "\n",
      "\n",
      "\t\t*\t*\t*\t\n",
      "\n",
      "\n",
      "\t*\t*\t*\t*\t\n",
      "\n",
      "\n",
      "*\t*\t*\t*\t*\t\n",
      "\n",
      "\n"
     ]
    }
   ],
   "source": [
    "n = 5\n",
    "\n",
    "for i in range(n - 1, -1, -1):\n",
    "    s = \"\\t\" * i\n",
    "    for j in range(i + 1, n + 1):\n",
    "        s += \"*\\t\"\n",
    "    print(s)\n",
    "    print('\\n')"
   ]
  },
  {
   "cell_type": "markdown",
   "metadata": {},
   "source": [
    "### Pattern # 4"
   ]
  },
  {
   "cell_type": "code",
   "execution_count": 6,
   "metadata": {},
   "outputs": [
    {
     "name": "stdout",
     "output_type": "stream",
     "text": [
      "*\t*\t*\t*\t*\t\n",
      "\n",
      "\n",
      "\t*\t*\t*\t*\t\n",
      "\n",
      "\n",
      "\t\t*\t*\t*\t\n",
      "\n",
      "\n",
      "\t\t\t*\t*\t\n",
      "\n",
      "\n",
      "\t\t\t\t*\t\n",
      "\n",
      "\n",
      "\t\t\t\t\t\n",
      "\n",
      "\n"
     ]
    }
   ],
   "source": [
    "n = 5\n",
    "\n",
    "for i in range(n, -1, -1):\n",
    "    s = \"\\t\" * (n - i)\n",
    "    for j in range(i):\n",
    "        s += \"*\\t\"\n",
    "    print(s)\n",
    "    print('\\n')"
   ]
  },
  {
   "cell_type": "markdown",
   "metadata": {},
   "source": [
    "### Pattern # 5"
   ]
  },
  {
   "cell_type": "code",
   "execution_count": 7,
   "metadata": {},
   "outputs": [
    {
     "name": "stdout",
     "output_type": "stream",
     "text": [
      "\t\t*\t\n",
      "\n",
      "\n",
      "\t*\t*\t*\t\n",
      "\n",
      "\n",
      "*\t*\t*\t*\t*\t\n",
      "\n",
      "\n",
      "\t*\t*\t*\t\n",
      "\n",
      "\n",
      "\t\t*\t\n",
      "\n",
      "\n"
     ]
    }
   ],
   "source": [
    "n = 5 # Odd always\n",
    "\n",
    "assert n % 2 == 1\n",
    "\n",
    "tab = n // 2\n",
    "asterisk = 1\n",
    "for i in range(1, n + 1):\n",
    "    s = \"\"\n",
    "    for j in range(1, tab + 1):\n",
    "        s += \"\\t\"\n",
    "    for j in range(1, asterisk + 1):\n",
    "        s += \"*\\t\"\n",
    "\n",
    "    if i <= n // 2:\n",
    "        tab -= 1\n",
    "        asterisk += 2\n",
    "    else:\n",
    "        tab += 1\n",
    "        asterisk -= 2\n",
    "        \n",
    "    print(s)\n",
    "    print('\\n')"
   ]
  },
  {
   "cell_type": "markdown",
   "metadata": {},
   "source": [
    "### Pattern # 6"
   ]
  },
  {
   "cell_type": "code",
   "execution_count": 8,
   "metadata": {},
   "outputs": [
    {
     "name": "stdout",
     "output_type": "stream",
     "text": [
      "*\t*\t*\t\t*\t*\t*\t\n",
      "\n",
      "\n",
      "*\t*\t\t\t\t*\t*\t\n",
      "\n",
      "\n",
      "*\t\t\t\t\t\t*\t\n",
      "\n",
      "\n",
      "*\t*\t\t\t\t*\t*\t\n",
      "\n",
      "\n",
      "*\t*\t*\t\t*\t*\t*\t\n",
      "\n",
      "\n"
     ]
    }
   ],
   "source": [
    "n = 5\n",
    "\n",
    "assert n % 2 == 1\n",
    "\n",
    "tab = 1\n",
    "asterisk = n // 2 \n",
    "\n",
    "for i in range(1, n + 1):\n",
    "    s = \"\"\n",
    "    for j in range(asterisk, -1, -1):\n",
    "        s += \"*\\t\"\n",
    "    for j in range(tab):\n",
    "        s += \"\\t\" \n",
    "    for j in range(asterisk, -1, -1):\n",
    "        s += \"*\\t\"\n",
    "    \n",
    "    if i <= n // 2:\n",
    "        tab += 2\n",
    "        asterisk -= 1\n",
    "    else:\n",
    "        tab -= 2\n",
    "        asterisk += 1\n",
    "        \n",
    "    print(s)\n",
    "    print('\\n')"
   ]
  },
  {
   "cell_type": "code",
   "execution_count": 9,
   "metadata": {},
   "outputs": [
    {
     "name": "stdout",
     "output_type": "stream",
     "text": [
      "*\t*\t*\t\t*\t*\t*\t\n",
      "\n",
      "\n",
      "*\t*\t\t\t\t*\t*\t\n",
      "\n",
      "\n",
      "*\t\t\t\t\t\t*\t\n",
      "\n",
      "\n",
      "*\t*\t\t\t\t*\t*\t\n",
      "\n",
      "\n",
      "*\t*\t*\t\t*\t*\t*\t\n",
      "\n",
      "\n"
     ]
    }
   ],
   "source": [
    "# Another approach\n",
    "n = 5\n",
    "\n",
    "assert n % 2 == 1\n",
    "\n",
    "tab = 1\n",
    "asterisk = n // 2 + 1\n",
    "\n",
    "for i in range(1, n + 1):\n",
    "    s = \"\"\n",
    "    for j in range(1, asterisk + 1):\n",
    "        s += \"*\\t\"\n",
    "    for j in range(tab):\n",
    "        s += \"\\t\" \n",
    "    for j in range(1, asterisk + 1):\n",
    "        s += \"*\\t\"\n",
    "    \n",
    "    if i <= n // 2:\n",
    "        tab += 2\n",
    "        asterisk -= 1\n",
    "    else:\n",
    "        tab -= 2\n",
    "        asterisk += 1\n",
    "        \n",
    "    print(s)\n",
    "    print('\\n')"
   ]
  },
  {
   "cell_type": "markdown",
   "metadata": {},
   "source": [
    "### Pattern # 7"
   ]
  },
  {
   "cell_type": "code",
   "execution_count": 10,
   "metadata": {},
   "outputs": [
    {
     "name": "stdout",
     "output_type": "stream",
     "text": [
      "*\t\t\t\t\t\n",
      "\n",
      "\n",
      "\t*\t\t\t\t\n",
      "\n",
      "\n",
      "\t\t*\t\t\t\n",
      "\n",
      "\n",
      "\t\t\t*\t\t\n",
      "\n",
      "\n",
      "\t\t\t\t*\t\n",
      "\n",
      "\n"
     ]
    }
   ],
   "source": [
    "n = 5\n",
    "\n",
    "assert n % 2 == 1\n",
    "\n",
    "for i in range(n):\n",
    "    s = \"\"\n",
    "    for j in range(n):\n",
    "        if j < i:\n",
    "            s += \"\\t\"\n",
    "        elif j == i:\n",
    "            s += \"*\\t\"\n",
    "        else:\n",
    "            s += \"\\t\"\n",
    "    print(s)\n",
    "    print('\\n')"
   ]
  },
  {
   "cell_type": "code",
   "execution_count": 11,
   "metadata": {},
   "outputs": [
    {
     "name": "stdout",
     "output_type": "stream",
     "text": [
      "*\t\t\t\t\t\n",
      "\n",
      "\n",
      "\t*\t\t\t\t\n",
      "\n",
      "\n",
      "\t\t*\t\t\t\n",
      "\n",
      "\n",
      "\t\t\t*\t\t\n",
      "\n",
      "\n",
      "\t\t\t\t*\t\n",
      "\n",
      "\n"
     ]
    }
   ],
   "source": [
    "# Another approach\n",
    "n = 5\n",
    "\n",
    "assert n % 2 == 1\n",
    "\n",
    "for i in range(n):\n",
    "    s = \"\"\n",
    "    for j in range(n):\n",
    "        if j == i:\n",
    "            s += \"*\\t\"\n",
    "        else:\n",
    "            s += \"\\t\"\n",
    "    print(s)\n",
    "    print('\\n')"
   ]
  },
  {
   "cell_type": "markdown",
   "metadata": {},
   "source": [
    "### Pattern # 8"
   ]
  },
  {
   "cell_type": "code",
   "execution_count": 12,
   "metadata": {},
   "outputs": [
    {
     "name": "stdout",
     "output_type": "stream",
     "text": [
      "\t\t\t\t*\t\n",
      "\n",
      "\n",
      "\t\t\t*\t\t\n",
      "\n",
      "\n",
      "\t\t*\t\t\t\n",
      "\n",
      "\n",
      "\t*\t\t\t\t\n",
      "\n",
      "\n",
      "*\t\t\t\t\t\n",
      "\n",
      "\n"
     ]
    }
   ],
   "source": [
    "n = 5\n",
    "\n",
    "assert n % 2 == 1\n",
    "\n",
    "for i in range(n):\n",
    "    s = \"\"\n",
    "    for j in range(n):\n",
    "        if i + j == n - 1:\n",
    "            s += \"*\\t\"\n",
    "        else:\n",
    "            s += \"\\t\"\n",
    "    print(s)\n",
    "    print('\\n')"
   ]
  },
  {
   "cell_type": "markdown",
   "metadata": {},
   "source": [
    "### Pattern # 9"
   ]
  },
  {
   "cell_type": "code",
   "execution_count": 13,
   "metadata": {},
   "outputs": [
    {
     "name": "stdout",
     "output_type": "stream",
     "text": [
      "*\t\t\t\t*\t\n",
      "\n",
      "\n",
      "\t*\t\t*\t\t\n",
      "\n",
      "\n",
      "\t\t*\t\t\t\n",
      "\n",
      "\n",
      "\t*\t\t*\t\t\n",
      "\n",
      "\n",
      "*\t\t\t\t*\t\n",
      "\n",
      "\n"
     ]
    }
   ],
   "source": [
    "n = 5\n",
    "\n",
    "assert n % 2 == 1\n",
    "\n",
    "for i in range(n):\n",
    "    s = \"\"\n",
    "    for j in range(n):\n",
    "        if i == j:\n",
    "            s += \"*\\t\"\n",
    "        elif i + j == n - 1:\n",
    "            s += \"*\\t\"\n",
    "        else:\n",
    "            s += \"\\t\"\n",
    "    print(s)\n",
    "    print('\\n')"
   ]
  },
  {
   "cell_type": "code",
   "execution_count": 14,
   "metadata": {},
   "outputs": [
    {
     "name": "stdout",
     "output_type": "stream",
     "text": [
      "*\t\t\t\t*\t\n",
      "\n",
      "\n",
      "\t*\t\t*\t\t\n",
      "\n",
      "\n",
      "\t\t*\t\t\t\n",
      "\n",
      "\n",
      "\t*\t\t*\t\t\n",
      "\n",
      "\n",
      "*\t\t\t\t*\t\n",
      "\n",
      "\n"
     ]
    }
   ],
   "source": [
    "# Another approach\n",
    "n = 5\n",
    "\n",
    "assert n % 2 == 1\n",
    "\n",
    "for i in range(n):\n",
    "    s = \"\"\n",
    "    for j in range(n):\n",
    "        if i == j or i + j == n - 1:\n",
    "            s += \"*\\t\"\n",
    "        else:\n",
    "            s += \"\\t\"\n",
    "    print(s)\n",
    "    print('\\n')"
   ]
  },
  {
   "cell_type": "markdown",
   "metadata": {},
   "source": [
    "### Pattern # 10"
   ]
  },
  {
   "cell_type": "code",
   "execution_count": 15,
   "metadata": {},
   "outputs": [
    {
     "name": "stdout",
     "output_type": "stream",
     "text": [
      "\t\t*\t\n",
      "\n",
      "\n",
      "\t*\t\t*\t\n",
      "\n",
      "\n",
      "*\t\t\t\t*\t\n",
      "\n",
      "\n",
      "\t*\t\t*\t\n",
      "\n",
      "\n",
      "\t\t*\t\n",
      "\n",
      "\n"
     ]
    }
   ],
   "source": [
    "n = 5\n",
    "\n",
    "assert n % 2 == 1\n",
    "\n",
    "inner = -1\n",
    "outer = n // 2\n",
    "for i in range(1, n + 1):\n",
    "    s = \"\"\n",
    "    for j in range(1, outer + 1):\n",
    "        s += \"\\t\"\n",
    "    s += \"*\\t\"\n",
    "    for j in range(1, inner + 1):\n",
    "        s += \"\\t\"\n",
    "    if i > 1 and i < n:\n",
    "        s += \"*\\t\"\n",
    "        \n",
    "    if i <= n // 2:\n",
    "        outer -= 1\n",
    "        inner += 2\n",
    "    else:\n",
    "        outer += 1\n",
    "        inner -= 2\n",
    "        \n",
    "    print(s)\n",
    "    print('\\n')"
   ]
  },
  {
   "cell_type": "markdown",
   "metadata": {},
   "source": [
    "### Pattern # 11"
   ]
  },
  {
   "cell_type": "code",
   "execution_count": 16,
   "metadata": {},
   "outputs": [
    {
     "name": "stdout",
     "output_type": "stream",
     "text": [
      "1\t\n",
      "2\t3\t\n",
      "4\t5\t6\t\n",
      "7\t8\t9\t10\t\n",
      "11\t12\t13\t14\t15\t\n"
     ]
    }
   ],
   "source": [
    "n = 5\n",
    "\n",
    "k = 1\n",
    "for i in range(1, n + 1):\n",
    "    s = \"\"\n",
    "    for j in range(1, i + 1):\n",
    "        s += str(k) + \"\\t\"\n",
    "        k += 1\n",
    "    print(s)"
   ]
  },
  {
   "cell_type": "markdown",
   "metadata": {},
   "source": [
    "### Pattern # 12 `Fibonacci Sequence`"
   ]
  },
  {
   "cell_type": "code",
   "execution_count": 17,
   "metadata": {},
   "outputs": [
    {
     "name": "stdout",
     "output_type": "stream",
     "text": [
      "0\t\n",
      "1\t1\t\n",
      "2\t3\t5\t\n",
      "8\t13\t21\t34\t\n",
      "55\t89\t144\t233\t377\t\n"
     ]
    }
   ],
   "source": [
    "n = 5\n",
    "\n",
    "curr = 0\n",
    "prev = 0\n",
    "prev_prev = 0\n",
    "\n",
    "for i in range(1, n + 1):\n",
    "    s = \"\"\n",
    "    for j in range(1, i + 1):\n",
    "        s += str(curr) + \"\\t\"\n",
    "        if i == 1:\n",
    "            curr = 1\n",
    "        else:\n",
    "            prev_prev = prev\n",
    "            prev = curr\n",
    "            curr = prev_prev + prev\n",
    "    print(s)"
   ]
  },
  {
   "cell_type": "markdown",
   "metadata": {},
   "source": [
    "### Pattern # 13 `Pascal's Triangle`"
   ]
  },
  {
   "cell_type": "code",
   "execution_count": 18,
   "metadata": {},
   "outputs": [
    {
     "name": "stdout",
     "output_type": "stream",
     "text": [
      "1\t\n",
      "1\t1\t\n",
      "1\t2\t1\t\n",
      "1\t3\t3\t1\t\n",
      "1\t4\t6\t4\t1\t\n"
     ]
    }
   ],
   "source": [
    "n = 5\n",
    "\n",
    "for i in range(0, n):\n",
    "    s = \"\"\n",
    "    iCj = 1\n",
    "    for j in range(i + 1):\n",
    "        s += f\"{iCj}\\t\"\n",
    "        iCjp1 = iCj * (i - j) / (j + 1)\n",
    "        iCj = int(iCjp1)\n",
    "    print(s)"
   ]
  },
  {
   "cell_type": "markdown",
   "metadata": {},
   "source": [
    "### Pattern # 14"
   ]
  },
  {
   "cell_type": "code",
   "execution_count": 19,
   "metadata": {},
   "outputs": [
    {
     "name": "stdout",
     "output_type": "stream",
     "text": [
      "3 * 1 = 3\n",
      "3 * 2 = 6\n",
      "3 * 3 = 9\n",
      "3 * 4 = 12\n",
      "3 * 5 = 15\n",
      "3 * 6 = 18\n",
      "3 * 7 = 21\n",
      "3 * 8 = 24\n",
      "3 * 9 = 27\n",
      "3 * 10 = 30\n"
     ]
    }
   ],
   "source": [
    "x = 3\n",
    "\n",
    "for i in range(1, 11):\n",
    "    s = f\"{x} * {i} = {x * i}\"\n",
    "    print(s)"
   ]
  },
  {
   "cell_type": "markdown",
   "metadata": {},
   "source": [
    "### Pattern # 15"
   ]
  },
  {
   "cell_type": "code",
   "execution_count": 20,
   "metadata": {},
   "outputs": [
    {
     "name": "stdout",
     "output_type": "stream",
     "text": [
      "\t\t1\t\n",
      "\n",
      "\n",
      "\t2\t3\t2\t\n",
      "\n",
      "\n",
      "3\t4\t5\t4\t3\t\n",
      "\n",
      "\n",
      "\t2\t3\t2\t\n",
      "\n",
      "\n",
      "\t\t1\t\n",
      "\n",
      "\n"
     ]
    }
   ],
   "source": [
    "n = 5 # Odd always\n",
    "\n",
    "assert n % 2 == 1\n",
    "\n",
    "tab = n // 2\n",
    "asterisk = 1\n",
    "rValue = 1\n",
    "for i in range(1, n + 1):\n",
    "    s = \"\"\n",
    "    for j in range(1, tab + 1):\n",
    "        s += \"\\t\"\n",
    "    \n",
    "    cValue = rValue\n",
    "    for j in range(1, asterisk + 1):\n",
    "        s += f\"{cValue}\\t\"\n",
    "        if j <= asterisk // 2:\n",
    "            cValue += 1\n",
    "        else:\n",
    "            cValue -= 1 \n",
    "            \n",
    "    if i <= n // 2:\n",
    "        tab -= 1\n",
    "        asterisk += 2\n",
    "        rValue += 1\n",
    "    else:\n",
    "        tab += 1\n",
    "        asterisk -= 2\n",
    "        rValue -= 1\n",
    "        \n",
    "    print(s)\n",
    "    print('\\n')"
   ]
  },
  {
   "cell_type": "markdown",
   "metadata": {},
   "source": [
    "### Pattern # 16"
   ]
  },
  {
   "cell_type": "code",
   "execution_count": 21,
   "metadata": {},
   "outputs": [
    {
     "name": "stdout",
     "output_type": "stream",
     "text": [
      "1\t\t\t\t\t\t1\t\n",
      "\n",
      "\n",
      "1\t2\t\t\t\t2\t1\t\n",
      "\n",
      "\n",
      "1\t2\t3\t\t3\t2\t1\t\n",
      "\n",
      "\n",
      "1\t2\t3\t4\t3\t2\t1\t\n",
      "\n",
      "\n"
     ]
    }
   ],
   "source": [
    "n = 4\n",
    "\n",
    "asterisk = 1\n",
    "tab = 2 * n - 3\n",
    "\n",
    "for i in range(n):\n",
    "    s = \"\"\n",
    "    cValue = 1\n",
    "    for j in range(asterisk):\n",
    "        s += f\"{cValue}\\t\"\n",
    "        cValue += 1\n",
    "        \n",
    "    for j in range(tab):\n",
    "        s += \"\\t\"\n",
    "        \n",
    "    if i == n - 1:\n",
    "        cValue -= 1\n",
    "        asterisk -= 1\n",
    "    for j in range(asterisk):\n",
    "        cValue -= 1\n",
    "        s += f\"{cValue}\\t\"\n",
    "        \n",
    "    asterisk += 1\n",
    "    tab -= 2\n",
    "        \n",
    "    print(s)\n",
    "    print('\\n')"
   ]
  },
  {
   "cell_type": "markdown",
   "metadata": {},
   "source": [
    "### Pattern # 17"
   ]
  },
  {
   "cell_type": "code",
   "execution_count": 22,
   "metadata": {},
   "outputs": [
    {
     "name": "stdout",
     "output_type": "stream",
     "text": [
      "\t\t*\t\n",
      "\n",
      "\n",
      "\t\t*\t*\t\n",
      "\n",
      "\n",
      "*\t*\t*\t*\t*\t\n",
      "\n",
      "\n",
      "\t\t*\t*\t\n",
      "\n",
      "\n",
      "\t\t*\t\n",
      "\n",
      "\n"
     ]
    }
   ],
   "source": [
    "n = 5 # Always odd\n",
    "\n",
    "assert n % 2 == 1\n",
    "\n",
    "tab = n // 2\n",
    "asterisk = 1\n",
    "\n",
    "for i in range(n):\n",
    "    s = \"\"\n",
    "    for j in range(1, tab + 1):\n",
    "        if i == (n // 2):\n",
    "            s += \"*\\t\"\n",
    "        else:\n",
    "            s += \"\\t\"\n",
    "        \n",
    "    for j in range(1, asterisk + 1):\n",
    "        s += \"*\\t\"\n",
    "        \n",
    "    if i < n // 2:\n",
    "        asterisk += 1\n",
    "    else:\n",
    "        asterisk -= 1\n",
    "        \n",
    "    print(s)\n",
    "    print('\\n')"
   ]
  },
  {
   "cell_type": "markdown",
   "metadata": {},
   "source": [
    "### Pattern # 18"
   ]
  },
  {
   "cell_type": "code",
   "execution_count": 23,
   "metadata": {},
   "outputs": [
    {
     "name": "stdout",
     "output_type": "stream",
     "text": [
      "*\t*\t*\t*\t*\t\n",
      "\n",
      "\n",
      "\t*\t\t*\t\n",
      "\n",
      "\n",
      "\t\t*\t\n",
      "\n",
      "\n",
      "\t*\t*\t*\t\n",
      "\n",
      "\n",
      "*\t*\t*\t*\t*\t\n",
      "\n",
      "\n"
     ]
    }
   ],
   "source": [
    "n = 5 # Always odd\n",
    "\n",
    "assert n % 2 == 1\n",
    "\n",
    "tab = 0\n",
    "asterisk = n\n",
    "\n",
    "for i in range(1, n + 1):\n",
    "    s = \"\"\n",
    "    for j in range(1, tab + 1):\n",
    "        s += \"\\t\"\n",
    "    for j in range(1, asterisk + 1):\n",
    "        if i > 1 and i <= n // 2 and j > 1 and j < asterisk:\n",
    "            s += \"\\t\"\n",
    "        else:\n",
    "            s += \"*\\t\"\n",
    "        \n",
    "    if i <= n // 2:\n",
    "        asterisk -= 2\n",
    "        tab += 1\n",
    "    else:\n",
    "        asterisk += 2\n",
    "        tab -= 1\n",
    "    print(s)\n",
    "    print('\\n')"
   ]
  },
  {
   "cell_type": "markdown",
   "metadata": {},
   "source": [
    "### Pattern # 19 "
   ]
  },
  {
   "cell_type": "code",
   "execution_count": 3,
   "metadata": {},
   "outputs": [
    {
     "name": "stdout",
     "output_type": "stream",
     "text": [
      "*\t\t*\t*\t*\t\n",
      "\n",
      "\n",
      "*\t\t*\t\t\t\n",
      "\n",
      "\n",
      "*\t*\t*\t*\t*\t\n",
      "\n",
      "\n",
      "\t\t*\t\t*\t\n",
      "\n",
      "\n",
      "*\t*\t*\t\t*\t\n",
      "\n",
      "\n"
     ]
    }
   ],
   "source": [
    "n = 5 # Always odd\n",
    "\n",
    "assert n % 2 == 1\n",
    "\n",
    "for i in range(1, n + 1):\n",
    "    s = \"\"\n",
    "    for j in range(1, n + 1):\n",
    "        if i == 1:\n",
    "            if j == 1 or j >= (n // 2) + 1:\n",
    "                s += \"*\\t\"\n",
    "            else:\n",
    "                s += \"\\t\"\n",
    "        elif i <= (n // 2):\n",
    "            if j == 1 or j == (n // 2) + 1:\n",
    "                s += \"*\\t\"\n",
    "            else:\n",
    "                s += \"\\t\"\n",
    "        elif i == (n // 2) + 1:\n",
    "            s += \"*\\t\"\n",
    "        elif i < n:\n",
    "            if j == n or j == (n // 2) + 1:\n",
    "                s += \"*\\t\"\n",
    "            else:\n",
    "                s += \"\\t\"\n",
    "        else:\n",
    "            if j == n or j <= (n // 2) + 1:\n",
    "                s += \"*\\t\"\n",
    "            else:\n",
    "                s += \"\\t\" \n",
    "    print(s)\n",
    "    print('\\n')"
   ]
  },
  {
   "cell_type": "markdown",
   "metadata": {},
   "source": [
    "### Pattern # 20"
   ]
  },
  {
   "cell_type": "code",
   "execution_count": 25,
   "metadata": {},
   "outputs": [
    {
     "name": "stdout",
     "output_type": "stream",
     "text": [
      "*\t\t\t\t*\t\n",
      "\n",
      "\n",
      "*\t\t\t\t*\t\n",
      "\n",
      "\n",
      "*\t\t*\t\t*\t\n",
      "\n",
      "\n",
      "*\t*\t\t*\t*\t\n",
      "\n",
      "\n",
      "*\t\t\t\t*\t\n",
      "\n",
      "\n"
     ]
    }
   ],
   "source": [
    "n = 5 # Always odd\n",
    "\n",
    "assert n % 2 == 1\n",
    "\n",
    "for i in range(1, n + 1):\n",
    "    s = \"\"\n",
    "    for j in range(1, n + 1):\n",
    "        if j == 1 or j == n:\n",
    "            s += \"*\\t\"\n",
    "        elif i > n // 2 and (i == j or i + j == n + 1):\n",
    "            s += \"*\\t\"\n",
    "        else:\n",
    "            s += \"\\t\"\n",
    "    print(s)\n",
    "    print('\\n')"
   ]
  },
  {
   "cell_type": "code",
   "execution_count": null,
   "metadata": {},
   "outputs": [],
   "source": []
  }
 ],
 "metadata": {
  "kernelspec": {
   "display_name": "Python 3",
   "language": "python",
   "name": "python3"
  },
  "language_info": {
   "codemirror_mode": {
    "name": "ipython",
    "version": 3
   },
   "file_extension": ".py",
   "mimetype": "text/x-python",
   "name": "python",
   "nbconvert_exporter": "python",
   "pygments_lexer": "ipython3",
   "version": "3.6.9"
  }
 },
 "nbformat": 4,
 "nbformat_minor": 4
}
