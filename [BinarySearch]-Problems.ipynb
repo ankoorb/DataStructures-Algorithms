{
 "cells": [
  {
   "cell_type": "markdown",
   "metadata": {},
   "source": [
    "### Template: https://leetcode.com/discuss/general-discussion/786126/python-powerful-ultimate-binary-search-template-solved-many-problems"
   ]
  },
  {
   "cell_type": "code",
   "execution_count": 6,
   "metadata": {},
   "outputs": [
    {
     "name": "stdout",
     "output_type": "stream",
     "text": [
      "23\n",
      "9\n"
     ]
    }
   ],
   "source": [
    "lengths = {}  # a 1:many map of lengths to their movies\n",
    "    for length in movie_lengths:\n",
    "        # put each length of a movie into a hash table as we scan over\n",
    "        # all the movies (by length) see if the complement movie is\n",
    "        # already in lengths.  by the time we reach the end of the\n",
    "        # movies by lengths every movie has been checked for its\n",
    "        # complement and since we check before insertion, no one has\n",
    "        # to watch the same movie twice.\n",
    "\n",
    "        complement = flight_length - length\n",
    "        if complement in lengths:\n",
    "            return True\n",
    "\n",
    "        lengths[length] = True\n",
    "\n",
    "    return False\n"
   ]
  },
  {
   "cell_type": "code",
   "execution_count": 7,
   "metadata": {},
   "outputs": [],
   "source": [
    "def findBestMoviePair(movieDurations, flightDuration):\n",
    "    durationMap = {}\n",
    "    for i, duration in enumerate(movieDurations):\n",
    "        complement = flightDuration - duration\n",
    "        if complement in durationMap:\n",
    "            return [i, durationMap[complement]]\n",
    "        durationMap[duration] = i"
   ]
  },
  {
   "cell_type": "code",
   "execution_count": 8,
   "metadata": {},
   "outputs": [],
   "source": [
    "findBestMoviePair([90, 85, 75, 110, 120, 150], 250)"
   ]
  },
  {
   "cell_type": "code",
   "execution_count": 9,
   "metadata": {},
   "outputs": [],
   "source": [
    "def findBestMoviePair(movieDurations, flightDuration):\n",
    "    movieDurations.sort()\n",
    "    n = len(movieDurations)\n",
    "    i = 0\n",
    "    j = n - 1\n",
    "    while i < j:\n",
    "        if movieDurations"
   ]
  },
  {
   "cell_type": "code",
   "execution_count": 10,
   "metadata": {},
   "outputs": [
    {
     "data": {
      "text/plain": [
       "[(2, 75), (1, 85), (0, 90), (3, 110), (4, 120), (5, 150)]"
      ]
     },
     "execution_count": 10,
     "metadata": {},
     "output_type": "execute_result"
    }
   ],
   "source": [
    "class Pair(object):\n",
    "    def __init__(self, idx, duration):\n",
    "        self.idx = idx\n",
    "        self.duration = duration\n",
    "        \n",
    "    def __lt__(self, other):\n",
    "        return self.duration < other.duration\n",
    "    \n",
    "    \n",
    "d = [90, 85, 75, 110, 120, 150]\n",
    "durations = []\n",
    "for i, x in enumerate(d):\n",
    "    durations.append(Pair(i, x))\n",
    "    \n",
    "durations.sort()\n",
    "\n",
    "[(x.idx, x.duration) for x in durations]"
   ]
  },
  {
   "cell_type": "code",
   "execution_count": null,
   "metadata": {},
   "outputs": [],
   "source": [
    "def combineRopes(array):\n",
    "    prefix = 0\n",
    "    prefix_sum = {prefix}\n",
    "    for element in array:\n",
    "        prefix += element\n",
    "        \n",
    "    "
   ]
  },
  {
   "cell_type": "code",
   "execution_count": 22,
   "metadata": {},
   "outputs": [
    {
     "name": "stdout",
     "output_type": "stream",
     "text": [
      "[(2, 75), (1, 85), (0, 90), (3, 110), (4, 120), (5, 150)]\n"
     ]
    },
    {
     "data": {
      "text/plain": [
       "[0, 5]"
      ]
     },
     "execution_count": 22,
     "metadata": {},
     "output_type": "execute_result"
    }
   ],
   "source": [
    "class Pair(object):\n",
    "    def __init__(self, idx, duration):\n",
    "        self.idx = idx\n",
    "        self.duration = duration\n",
    "        \n",
    "    def __lt__(self, other):\n",
    "        return self.duration < other.duration\n",
    "\n",
    "def findBestMoviePair(movieDurations, flightDuration):\n",
    "    durations = []\n",
    "    n = len(movieDurations)\n",
    "    for idx, duration in enumerate(movieDurations):\n",
    "        durations.append(Pair(idx, duration))\n",
    "        \n",
    "    i = 0\n",
    "    j = n - 1\n",
    "    durations.sort()\n",
    "    \n",
    "    print([(d.idx, d.duration) for d in durations])\n",
    "    max_total = float('-inf')\n",
    "    output = [-1, -1]\n",
    "    while i < j:\n",
    "        total = durations[i].duration + durations[j].duration\n",
    "        if total <= flightDuration:\n",
    "            if total > max_total:\n",
    "                max_total = total\n",
    "                output[0] = durations[i].idx\n",
    "                output[1] = durations[j].idx\n",
    "            i += 1\n",
    "        else:\n",
    "            j -= 1\n",
    "        \n",
    "    output.sort()\n",
    "    return output\n",
    "\n",
    "movieDurations = [90, 85, 75, 110, 120, 150]\n",
    "flightDuration = 250\n",
    "\n",
    "findBestMoviePair(movieDurations, flightDuration)"
   ]
  },
  {
   "cell_type": "code",
   "execution_count": 17,
   "metadata": {},
   "outputs": [
    {
     "data": {
      "text/plain": [
       "230"
      ]
     },
     "execution_count": 17,
     "metadata": {},
     "output_type": "execute_result"
    }
   ],
   "source": [
    "110 + 120"
   ]
  },
  {
   "cell_type": "code",
   "execution_count": null,
   "metadata": {},
   "outputs": [],
   "source": []
  },
  {
   "cell_type": "code",
   "execution_count": null,
   "metadata": {},
   "outputs": [],
   "source": []
  },
  {
   "cell_type": "code",
   "execution_count": null,
   "metadata": {},
   "outputs": [],
   "source": []
  },
  {
   "cell_type": "code",
   "execution_count": null,
   "metadata": {},
   "outputs": [],
   "source": []
  },
  {
   "cell_type": "code",
   "execution_count": null,
   "metadata": {},
   "outputs": [],
   "source": []
  },
  {
   "cell_type": "code",
   "execution_count": null,
   "metadata": {},
   "outputs": [],
   "source": []
  }
 ],
 "metadata": {
  "kernelspec": {
   "display_name": "Python 3",
   "language": "python",
   "name": "python3"
  },
  "language_info": {
   "codemirror_mode": {
    "name": "ipython",
    "version": 3
   },
   "file_extension": ".py",
   "mimetype": "text/x-python",
   "name": "python",
   "nbconvert_exporter": "python",
   "pygments_lexer": "ipython3",
   "version": "3.6.9"
  }
 },
 "nbformat": 4,
 "nbformat_minor": 4
}
