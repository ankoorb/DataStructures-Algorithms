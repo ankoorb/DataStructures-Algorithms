{
 "cells": [
  {
   "cell_type": "markdown",
   "metadata": {},
   "source": [
    "### Binary Tree Node"
   ]
  },
  {
   "cell_type": "code",
   "execution_count": 1,
   "metadata": {},
   "outputs": [],
   "source": [
    "class Node(object):\n",
    "    def __init__(self, val, left=None, right=None):\n",
    "        self.val = val\n",
    "        self.left = left\n",
    "        self.right = right"
   ]
  },
  {
   "cell_type": "markdown",
   "metadata": {},
   "source": [
    "### Binary Tree Constructor"
   ]
  },
  {
   "cell_type": "code",
   "execution_count": 2,
   "metadata": {},
   "outputs": [],
   "source": [
    "A = [50, 25, 12, None, None, 37, 30, None, None, None, 75, 62, None, 70, None, None, 87, None, None]\n",
    "\n",
    "i = 1\n",
    "root = Node(A[0])\n",
    "stack = [[root, 0]]\n",
    "\n",
    "while len(stack) > 0:\n",
    "    \n",
    "    top = stack[-1]\n",
    "    \n",
    "    if top[1] == 0:\n",
    "        if A[i] != None:\n",
    "            node = Node(A[i])\n",
    "            top[0].left = node\n",
    "            top[1] += 1\n",
    "            stack.append([node, 0])\n",
    "        else:\n",
    "            top[0].left = None\n",
    "            top[1] += 1\n",
    "            \n",
    "        i += 1\n",
    "            \n",
    "    elif top[1] == 1:\n",
    "        if A[i] != None:\n",
    "            node = Node(A[i])\n",
    "            top[0].right = node\n",
    "            top[1] += 1\n",
    "            stack.append([node, 0])\n",
    "        else:\n",
    "            top[0].right = None\n",
    "            top[1] += 1\n",
    "            \n",
    "        i += 1\n",
    "            \n",
    "    else:\n",
    "        stack.pop()"
   ]
  },
  {
   "cell_type": "code",
   "execution_count": 3,
   "metadata": {},
   "outputs": [],
   "source": [
    "# Function to generate a Binary Tree\n",
    "\n",
    "def generate(A):\n",
    "    class Pair(object):\n",
    "        def __init__(self, node=None, state=None):\n",
    "            self.node = node\n",
    "            self.state = state\n",
    "\n",
    "    i = 1\n",
    "    root = Node(A[0])\n",
    "    pair = Pair(root, 0)\n",
    "    stack = [pair]\n",
    "\n",
    "    while len(stack) > 0:\n",
    "        top = stack[-1]\n",
    "\n",
    "        if top.state == 0:\n",
    "            if A[i] != None:\n",
    "                node = Node(A[i])\n",
    "                top.node.left = node\n",
    "                stack.append(Pair(node, 0))\n",
    "            else:\n",
    "                top.node.left = None\n",
    "\n",
    "            top.state += 1\n",
    "            i += 1\n",
    "\n",
    "        elif top.state == 1:\n",
    "            if A[i] != None:\n",
    "                node = Node(A[i])\n",
    "                top.node.right = node\n",
    "                stack.append(Pair(node, 0))\n",
    "            else:\n",
    "                top.node.right = None\n",
    "\n",
    "            top.state += 1\n",
    "            i += 1\n",
    "\n",
    "        else:\n",
    "            stack.pop()\n",
    "            \n",
    "    return root"
   ]
  },
  {
   "cell_type": "markdown",
   "metadata": {},
   "source": [
    "### Display a Binary Tree"
   ]
  },
  {
   "cell_type": "code",
   "execution_count": 4,
   "metadata": {},
   "outputs": [
    {
     "name": "stdout",
     "output_type": "stream",
     "text": [
      "25 <- 50 -> 75\n",
      "12 <- 25 -> 37\n",
      ". <- 12 -> .\n",
      "30 <- 37 -> .\n",
      ". <- 30 -> .\n",
      "62 <- 75 -> 87\n",
      ". <- 62 -> 70\n",
      ". <- 70 -> .\n",
      ". <- 87 -> .\n"
     ]
    }
   ],
   "source": [
    "root = generate(A)\n",
    "\n",
    "def display(node):\n",
    "    if node == None:\n",
    "        return\n",
    "    s = \"\"\n",
    "    s += \".\" if node.left == None else str(node.left.val)\n",
    "    s += \" <- \" + str(node.val) + \" -> \"\n",
    "    s += \".\" if node.right == None else str(node.right.val)\n",
    "    print(s)\n",
    "\n",
    "    display(node.left)\n",
    "    display(node.right)\n",
    "        \n",
    "display(root)"
   ]
  },
  {
   "cell_type": "markdown",
   "metadata": {},
   "source": [
    "### Size of a Binary Tree "
   ]
  },
  {
   "cell_type": "code",
   "execution_count": 5,
   "metadata": {},
   "outputs": [
    {
     "name": "stdout",
     "output_type": "stream",
     "text": [
      "Number of nodes OR size of tree:  9\n"
     ]
    }
   ],
   "source": [
    "root = generate(A)\n",
    "\n",
    "def size(node):\n",
    "    if node == None:\n",
    "        return 0\n",
    "    \n",
    "    sizeL = size(node.left)\n",
    "    sizeR = size(node.right)\n",
    "    sizeTotal = sizeL + sizeR + 1\n",
    "    return sizeTotal\n",
    "\n",
    "print(\"Number of nodes OR size of tree: \", size(root))"
   ]
  },
  {
   "cell_type": "markdown",
   "metadata": {},
   "source": [
    "### Sum of Nodes in a Binary Tree"
   ]
  },
  {
   "cell_type": "code",
   "execution_count": 6,
   "metadata": {},
   "outputs": [
    {
     "name": "stdout",
     "output_type": "stream",
     "text": [
      "Sum of nodes:  448\n"
     ]
    }
   ],
   "source": [
    "root = generate(A)\n",
    "\n",
    "def treeSum(node):\n",
    "    if node == None:\n",
    "        return 0\n",
    "    \n",
    "    sumL = treeSum(node.left)\n",
    "    sumR = treeSum(node.right)\n",
    "    sumTotal = node.val + sumL + sumR\n",
    "    return sumTotal\n",
    "\n",
    "print(\"Sum of nodes: \", treeSum(root))"
   ]
  },
  {
   "cell_type": "markdown",
   "metadata": {},
   "source": [
    "### Maximum value in a Binary tree"
   ]
  },
  {
   "cell_type": "code",
   "execution_count": 7,
   "metadata": {},
   "outputs": [
    {
     "name": "stdout",
     "output_type": "stream",
     "text": [
      "Maximum value in tree:  87\n"
     ]
    }
   ],
   "source": [
    "root = generate(A)\n",
    "\n",
    "def maximum(node):\n",
    "    if node == None:\n",
    "        return float('-inf')\n",
    "    \n",
    "    maxL = maximum(node.left)\n",
    "    maxR = maximum(node.right)\n",
    "   \n",
    "    return max([node.val, maxL, maxR])\n",
    "\n",
    "print(\"Maximum value in tree: \", maximum(root))"
   ]
  },
  {
   "cell_type": "markdown",
   "metadata": {},
   "source": [
    "### Height of a Binary Tree"
   ]
  },
  {
   "cell_type": "code",
   "execution_count": 8,
   "metadata": {},
   "outputs": [
    {
     "name": "stdout",
     "output_type": "stream",
     "text": [
      "Height of tree:  3\n"
     ]
    }
   ],
   "source": [
    "root = generate(A)\n",
    "\n",
    "def height(node):\n",
    "    if node == None:\n",
    "        return -1\n",
    "    \n",
    "    heightL = height(node.left)\n",
    "    heightR = height(node.right)\n",
    "    \n",
    "    return max(heightL, heightR) + 1\n",
    "\n",
    "print(\"Height of tree: \", height(root))"
   ]
  },
  {
   "cell_type": "markdown",
   "metadata": {},
   "source": [
    "### Preorder Traversal of a Binary Tree"
   ]
  },
  {
   "cell_type": "code",
   "execution_count": 9,
   "metadata": {},
   "outputs": [
    {
     "name": "stdout",
     "output_type": "stream",
     "text": [
      "50\n",
      "25\n",
      "12\n",
      "37\n",
      "30\n",
      "75\n",
      "62\n",
      "70\n",
      "87\n"
     ]
    }
   ],
   "source": [
    "root = generate(A)\n",
    "\n",
    "def preorder(node):\n",
    "    if node == None:\n",
    "        return\n",
    "    \n",
    "    print(node.val)\n",
    "    preorder(node.left)\n",
    "    preorder(node.right)\n",
    "    \n",
    "preorder(root)"
   ]
  },
  {
   "cell_type": "markdown",
   "metadata": {},
   "source": [
    "### Inorder Traversal of a Binary Tree"
   ]
  },
  {
   "cell_type": "code",
   "execution_count": 10,
   "metadata": {},
   "outputs": [
    {
     "name": "stdout",
     "output_type": "stream",
     "text": [
      "12\n",
      "25\n",
      "30\n",
      "37\n",
      "50\n",
      "62\n",
      "70\n",
      "75\n",
      "87\n"
     ]
    }
   ],
   "source": [
    "root = generate(A)\n",
    "\n",
    "def inorder(node):\n",
    "    if node == None:\n",
    "        return\n",
    "    \n",
    "    inorder(node.left)\n",
    "    print(node.val)\n",
    "    inorder(node.right)\n",
    "    \n",
    "inorder(root)"
   ]
  },
  {
   "cell_type": "markdown",
   "metadata": {},
   "source": [
    "### Postorder Traversal of a Binary Tree"
   ]
  },
  {
   "cell_type": "code",
   "execution_count": 11,
   "metadata": {},
   "outputs": [
    {
     "name": "stdout",
     "output_type": "stream",
     "text": [
      "12\n",
      "30\n",
      "37\n",
      "25\n",
      "70\n",
      "62\n",
      "87\n",
      "75\n",
      "50\n"
     ]
    }
   ],
   "source": [
    "root = generate(A)\n",
    "\n",
    "def postorder(node):\n",
    "    if node == None:\n",
    "        return\n",
    "    \n",
    "    postorder(node.left)\n",
    "    postorder(node.right)\n",
    "    print(node.val)\n",
    "    \n",
    "postorder(root)"
   ]
  },
  {
   "cell_type": "markdown",
   "metadata": {},
   "source": [
    "### Preorder, Inorder and Postorder Traversal of a Binary Tree"
   ]
  },
  {
   "cell_type": "code",
   "execution_count": 12,
   "metadata": {},
   "outputs": [
    {
     "name": "stdout",
     "output_type": "stream",
     "text": [
      "50  in Preorder\n",
      "25  in Preorder\n",
      "12  in Preorder\n",
      "12  in Inorder\n",
      "12  in Postorder\n",
      "25  in Inorder\n",
      "37  in Preorder\n",
      "30  in Preorder\n",
      "30  in Inorder\n",
      "30  in Postorder\n",
      "37  in Inorder\n",
      "37  in Postorder\n",
      "25  in Postorder\n",
      "50  in Inorder\n",
      "75  in Preorder\n",
      "62  in Preorder\n",
      "62  in Inorder\n",
      "70  in Preorder\n",
      "70  in Inorder\n",
      "70  in Postorder\n",
      "62  in Postorder\n",
      "75  in Inorder\n",
      "87  in Preorder\n",
      "87  in Inorder\n",
      "87  in Postorder\n",
      "75  in Postorder\n",
      "50  in Postorder\n"
     ]
    }
   ],
   "source": [
    "root = generate(A)\n",
    "\n",
    "def traversal(node):\n",
    "    if node == None:\n",
    "        return\n",
    "    \n",
    "    print(node.val, \" in Preorder\")\n",
    "    traversal(node.left)\n",
    "    print(node.val, \" in Inorder\")\n",
    "    traversal(node.right)\n",
    "    print(node.val, \" in Postorder\")\n",
    "    \n",
    "traversal(root)"
   ]
  },
  {
   "cell_type": "markdown",
   "metadata": {},
   "source": [
    "### Level Order Traversal of a Binary Tree"
   ]
  },
  {
   "cell_type": "code",
   "execution_count": 13,
   "metadata": {},
   "outputs": [
    {
     "name": "stdout",
     "output_type": "stream",
     "text": [
      "[50]\n",
      "[25, 75]\n",
      "[12, 37, 62, 87]\n",
      "[30, 70]\n"
     ]
    }
   ],
   "source": [
    "from collections import deque\n",
    "\n",
    "def levelOrder(node):\n",
    "    Q = deque([node])\n",
    "    output = []\n",
    "    while len(Q) > 0:\n",
    "        size = len(Q)\n",
    "        temp = []\n",
    "        for _ in range(size):\n",
    "            node = Q.popleft()\n",
    "            temp.append(node.val)\n",
    "            if node.left != None:\n",
    "                Q.append(node.left)\n",
    "            if node.right != None:\n",
    "                Q.append(node.right)\n",
    "        output.append(temp)\n",
    "    return output\n",
    "\n",
    "\n",
    "root = generate(A)\n",
    "output = levelOrder(root)\n",
    "for out in output:\n",
    "    print(out)"
   ]
  },
  {
   "cell_type": "markdown",
   "metadata": {},
   "source": [
    "### Iterative : Preorder, Inorder and Postorder Traversal of a Binary Tree"
   ]
  },
  {
   "cell_type": "code",
   "execution_count": 14,
   "metadata": {},
   "outputs": [
    {
     "name": "stdout",
     "output_type": "stream",
     "text": [
      "Preorder: 50, 25, 12, 37, 30, 75, 62, 70, 87, \n",
      "Inorder: 12, 25, 30, 37, 50, 62, 70, 75, 87, \n",
      "Postorder: 12, 30, 37, 25, 70, 62, 87, 75, 50, \n"
     ]
    }
   ],
   "source": [
    "root = generate(A)\n",
    "\n",
    "class Pair(object):\n",
    "    def __init__(self, node=None, state=None):\n",
    "        self.node = node\n",
    "        self.state = state\n",
    "\n",
    "preord = \"Preorder: \"\n",
    "inord = \"Inorder: \"\n",
    "postord = \"Postorder: \"\n",
    "stack = [Pair(root, 0)]\n",
    "\n",
    "while len(stack) > 0:\n",
    "    \n",
    "    top = stack[-1]\n",
    "    \n",
    "    if top.state == 0:\n",
    "        preord += str(top.node.val) + \", \"\n",
    "        if top.node.left:\n",
    "            stack.append(Pair(top.node.left, 0))\n",
    "        top.state += 1\n",
    "        \n",
    "    elif top.state == 1:\n",
    "        inord += str(top.node.val) + \", \"\n",
    "        if top.node.right:\n",
    "            stack.append(Pair(top.node.right, 0))\n",
    "        top.state += 1\n",
    "        \n",
    "    elif top.state == 2:\n",
    "        postord += str(top.node.val) + \", \"\n",
    "        stack.pop()\n",
    "\n",
    "print(preord)\n",
    "print(inord)\n",
    "print(postord)"
   ]
  },
  {
   "cell_type": "markdown",
   "metadata": {},
   "source": [
    "### Find a Node in a Binary Tree"
   ]
  },
  {
   "cell_type": "code",
   "execution_count": 15,
   "metadata": {},
   "outputs": [
    {
     "name": "stdout",
     "output_type": "stream",
     "text": [
      "True\n"
     ]
    }
   ],
   "source": [
    "root = generate(A)\n",
    "\n",
    "def find(node, x):\n",
    "    if node == None:\n",
    "        return False\n",
    "    \n",
    "    if node.val == x:\n",
    "        return True\n",
    "    \n",
    "    L = find(node.left, x)\n",
    "    if L == True:\n",
    "        return True\n",
    "    \n",
    "    R = find(node.right, x)\n",
    "    if R == True:\n",
    "        return True\n",
    "    \n",
    "    return False\n",
    "\n",
    "\n",
    "print(find(root, 30))"
   ]
  },
  {
   "cell_type": "markdown",
   "metadata": {},
   "source": [
    "### Node to Root Path in a Binary Tree"
   ]
  },
  {
   "cell_type": "code",
   "execution_count": 16,
   "metadata": {},
   "outputs": [
    {
     "name": "stdout",
     "output_type": "stream",
     "text": [
      "[30, 37, 25, 50]\n"
     ]
    }
   ],
   "source": [
    "root = generate(A)\n",
    "\n",
    "def pathToRoot(node, x):\n",
    "    if node == None:\n",
    "        return []\n",
    "    \n",
    "    if node.val == x:\n",
    "        return [node.val]\n",
    "    \n",
    "    L = pathToRoot(node.left, x)\n",
    "    if len(L) > 0:\n",
    "        L.append(node.val)\n",
    "        return L\n",
    "    \n",
    "    R = pathToRoot(node.right, x)\n",
    "    if len(R) > 0:\n",
    "        R.append(node.val)\n",
    "        return R\n",
    "    \n",
    "    return []\n",
    "\n",
    "\n",
    "path = pathToRoot(root, 30)\n",
    "print(path)"
   ]
  },
  {
   "cell_type": "markdown",
   "metadata": {},
   "source": [
    "### Nodes `K` Levels Down in a Binary Tree"
   ]
  },
  {
   "cell_type": "code",
   "execution_count": 17,
   "metadata": {},
   "outputs": [
    {
     "name": "stdout",
     "output_type": "stream",
     "text": [
      "[12, 37, 62, 87]\n",
      "[12, 37, 62, 87]\n"
     ]
    }
   ],
   "source": [
    "from collections import deque\n",
    "\n",
    "# Queue: BFS\n",
    "k = 2\n",
    "root = generate(A)\n",
    "\n",
    "level = 0\n",
    "output = []\n",
    "Q = deque([root])\n",
    "\n",
    "while len(Q) > 0:\n",
    "    size = len(Q)\n",
    "    for _ in range(size):\n",
    "        node = Q.popleft()\n",
    "        if level == k:\n",
    "            output.append(node.val)\n",
    "        if node.left != None:\n",
    "            Q.append(node.left)\n",
    "        if node.right != None:\n",
    "            Q.append(node.right)\n",
    "    level += 1\n",
    "    \n",
    "print(output)\n",
    "\n",
    "\n",
    "# Recursive: DFS\n",
    "def nodesAtKLevel(node, k):\n",
    "    if node == None or k < 0:\n",
    "        return\n",
    "    \n",
    "    if k == 0:\n",
    "        output.append(node.val)\n",
    "        \n",
    "    nodesAtKLevel(node.left, k-1)\n",
    "    nodesAtKLevel(node.right, k-1)\n",
    "\n",
    "k = 2\n",
    "output = []\n",
    "nodesAtKLevel(root, k)\n",
    "print(output)"
   ]
  },
  {
   "cell_type": "markdown",
   "metadata": {},
   "source": [
    "### All Nodes Distance `K` in a Binary Tree"
   ]
  },
  {
   "cell_type": "code",
   "execution_count": 18,
   "metadata": {},
   "outputs": [
    {
     "name": "stdout",
     "output_type": "stream",
     "text": [
      "['T', 'U', 'V', 'W', 'H', 'I', 'C']\n"
     ]
    }
   ],
   "source": [
    "B = ['A', 'B', 'D', 'H', None, None, 'I', None, None, 'E', 'J', 'P', 'T', 'X', None, None, 'Y', None, \n",
    "     None, 'U', None, None, 'Q', None, None, 'K', 'R', 'V', 'Z', None, None, None, 'W', None, None, \n",
    "     'S', None, None, 'C', 'F', 'L', None, None, 'M', None, None, 'G', 'N', None, None, 'O', None, None]\n",
    "\n",
    "\n",
    "def pathToRoot(node, x):\n",
    "    if node == None:\n",
    "        return []\n",
    "    if node.val == x:\n",
    "        return [node]\n",
    "    L = pathToRoot(node.left, x)\n",
    "    if len(L) > 0:\n",
    "        L.append(node)\n",
    "        return L\n",
    "    R = pathToRoot(node.right, x)\n",
    "    if len(R) > 0:\n",
    "        R.append(node)\n",
    "        return R\n",
    "    return []\n",
    "\n",
    "def nodesAtKLevel(node, k, block):\n",
    "    if node == None or k < 0 or node == block:\n",
    "        return\n",
    "    if k == 0:\n",
    "        output.append(node.val)\n",
    "    nodesAtKLevel(node.left, k-1, block)\n",
    "    nodesAtKLevel(node.right, k-1, block)\n",
    "\n",
    "\n",
    "k = 3\n",
    "x = 'E'\n",
    "root = generate(B)\n",
    "\n",
    "output = []\n",
    "path = pathToRoot(root, x)\n",
    "for i in range(len(path)):\n",
    "    node = path[i]\n",
    "    block = None if i == 0 else path[i-1]\n",
    "    nodesAtKLevel(node, k-i, block)\n",
    "    \n",
    "print(output)"
   ]
  },
  {
   "cell_type": "markdown",
   "metadata": {},
   "source": [
    "### Root to Leaf Path in Range"
   ]
  },
  {
   "cell_type": "code",
   "execution_count": 19,
   "metadata": {},
   "outputs": [
    {
     "name": "stdout",
     "output_type": "stream",
     "text": [
      "[50, 25, 12]\n",
      "[50, 25, 37, 30]\n"
     ]
    }
   ],
   "source": [
    "def pathToLeafRange(node, path, total, low, high):\n",
    "    if node == None:\n",
    "        return\n",
    "    \n",
    "    if node.left == None and node.right == None:\n",
    "        total += node.val\n",
    "        if total >= low and total <= high:\n",
    "            path.append(node.val)\n",
    "            output.append(path)\n",
    "        return\n",
    "    \n",
    "    pathToLeafRange(node.left, path + [node.val], total + node.val, low, high)\n",
    "    pathToLeafRange(node.right, path + [node.val], total + node.val, low, high)\n",
    "\n",
    "\n",
    "low = 50\n",
    "high = 200\n",
    "root = generate(A)\n",
    "\n",
    "total = 0\n",
    "path = []\n",
    "output = []\n",
    "pathToLeafRange(root, path, total, low, high)\n",
    "\n",
    "for out in output:\n",
    "    print(out)"
   ]
  },
  {
   "cell_type": "markdown",
   "metadata": {},
   "source": [
    "### Transform a Binary Tree to Left Cloned Tree"
   ]
  },
  {
   "cell_type": "code",
   "execution_count": 20,
   "metadata": {},
   "outputs": [
    {
     "name": "stdout",
     "output_type": "stream",
     "text": [
      "[50]\n",
      "[50, 75]\n",
      "[25, 75, 87]\n",
      "[25, 37, 62, 87]\n",
      "[12, 37, 62, 70]\n",
      "[12, 30, 70]\n",
      "[30]\n"
     ]
    }
   ],
   "source": [
    "def leftClone(node):\n",
    "    if node == None:\n",
    "        return None\n",
    "    \n",
    "    L = leftClone(node.left)\n",
    "    R = leftClone(node.right)\n",
    "\n",
    "    newNode = Node(node.val, left=L)\n",
    "    node.right = R\n",
    "    node.left = newNode\n",
    "    \n",
    "    return node\n",
    "    \n",
    "    \n",
    "root = generate(A)\n",
    "clone = leftClone(root)\n",
    "output = levelOrder(clone)\n",
    "for out in output:\n",
    "    print(out)"
   ]
  },
  {
   "cell_type": "markdown",
   "metadata": {},
   "source": [
    "### Transform Left Cloned Binary Tree to Original Binary Tree"
   ]
  },
  {
   "cell_type": "code",
   "execution_count": 21,
   "metadata": {},
   "outputs": [
    {
     "name": "stdout",
     "output_type": "stream",
     "text": [
      "[50]\n",
      "[25, 75]\n",
      "[12, 37, 62, 87]\n",
      "[30, 70]\n"
     ]
    }
   ],
   "source": [
    "root = generate(A)\n",
    "clone = leftClone(root)\n",
    "\n",
    "def cloneToOriginal(node):\n",
    "    if node == None:\n",
    "        return None\n",
    "    \n",
    "    L = cloneToOriginal(node.left.left) # Jump immediate node\n",
    "    R = cloneToOriginal(node.right)\n",
    "    \n",
    "    node.left = L\n",
    "    node.right = R\n",
    "    \n",
    "    return node\n",
    "\n",
    "original = cloneToOriginal(clone)\n",
    "output = levelOrder(original)\n",
    "for out in output:\n",
    "    print(out)"
   ]
  },
  {
   "cell_type": "markdown",
   "metadata": {},
   "source": [
    "### Single Child Parent and Only Child Nodes in a Binary Tree"
   ]
  },
  {
   "cell_type": "code",
   "execution_count": 22,
   "metadata": {},
   "outputs": [
    {
     "name": "stdout",
     "output_type": "stream",
     "text": [
      "Single Child Parents:  [37, 62]\n",
      "Only Child Nodes:  [30, 70]\n"
     ]
    }
   ],
   "source": [
    "root = generate(A)\n",
    "\n",
    "def singleChildParent(node, parent):\n",
    "    if node == None:\n",
    "        return\n",
    "     \n",
    "    if parent != None and parent.left == node and parent.right == None:\n",
    "        output.append(parent.val)\n",
    "        return\n",
    "        \n",
    "    elif parent != None and parent.right == node and parent.left == None:\n",
    "        output.append(parent.val)\n",
    "        return\n",
    "        \n",
    "    singleChildParent(node.left, node)\n",
    "    singleChildParent(node.right, node) \n",
    "    return\n",
    "    \n",
    "    \n",
    "def onlyChildNode(node, parent):\n",
    "    if node == None:\n",
    "        return\n",
    "    \n",
    "    if parent != None and parent.left == node and parent.right == None:\n",
    "        output.append(node.val)\n",
    "        \n",
    "    elif parent != None and parent.right == node and parent.left == None:\n",
    "        output.append(node.val)\n",
    "        \n",
    "    onlyChildNode(node.left, node)\n",
    "    onlyChildNode(node.right, node)\n",
    "    return\n",
    "        \n",
    "\n",
    "output = []\n",
    "parent = None\n",
    "singleChildParent(root, parent)\n",
    "print(\"Single Child Parents: \", output)\n",
    "\n",
    "output = []\n",
    "parent = None\n",
    "onlyChildNode(root, parent)\n",
    "print(\"Only Child Nodes: \", output)"
   ]
  },
  {
   "cell_type": "markdown",
   "metadata": {},
   "source": [
    "### Remove Leaf Nodes from a Binary Tree"
   ]
  },
  {
   "cell_type": "code",
   "execution_count": 23,
   "metadata": {},
   "outputs": [
    {
     "name": "stdout",
     "output_type": "stream",
     "text": [
      "[50]\n",
      "[25, 75]\n",
      "[37, 62]\n"
     ]
    }
   ],
   "source": [
    "root = generate(A)\n",
    "\n",
    "def removeLeaf(node):\n",
    "    if node == None:\n",
    "        return None\n",
    "    \n",
    "    if node.left == None and node.right == None:\n",
    "        return None\n",
    "    \n",
    "    L = removeLeaf(node.left)\n",
    "    R = removeLeaf(node.right)\n",
    "    \n",
    "    node.left = L\n",
    "    node.right = R\n",
    "    \n",
    "    return node\n",
    "    \n",
    "rl = removeLeaf(root)\n",
    "\n",
    "output = levelOrder(rl)\n",
    "for out in output:\n",
    "    print(out)"
   ]
  },
  {
   "cell_type": "markdown",
   "metadata": {},
   "source": [
    "### Diameter of a Binary Tree"
   ]
  },
  {
   "cell_type": "code",
   "execution_count": 24,
   "metadata": {},
   "outputs": [
    {
     "name": "stdout",
     "output_type": "stream",
     "text": [
      "Diameter O(n^2):  6\n",
      "Diameter O(n):  6\n"
     ]
    }
   ],
   "source": [
    "def diameterQuadratic(node):\n",
    "    if node == None:\n",
    "        return 0\n",
    "    \n",
    "    Ld = diameterQuadratic(node.left)\n",
    "    Rd = diameterQuadratic(node.right)\n",
    "    \n",
    "    Hd = height(node.left) + height(node.right) + 2\n",
    "    \n",
    "    diameter = max([Ld, Rd, Hd])\n",
    "    return diameter\n",
    "    \n",
    "root = generate(A)\n",
    "diameter = diameterQuadratic(root)\n",
    "print('Diameter O(n^2): ', diameter)\n",
    "\n",
    "\n",
    "def computeDiameter(node):\n",
    "    if node == None:\n",
    "        return (0, -1)\n",
    "    \n",
    "    Ld, Lh = computeDiameter(node.left)\n",
    "    Rd, Rh = computeDiameter(node.right)\n",
    "    \n",
    "    Hd = Lh + Rh + 2\n",
    "    H = max(Lh, Rh) + 1\n",
    "    \n",
    "    diameter = max([Ld, Rd, Hd])\n",
    "    return diameter, H\n",
    "\n",
    "root = generate(A)\n",
    "diameter, _ = computeDiameter(root)\n",
    "print('Diameter O(n): ', diameter)"
   ]
  },
  {
   "cell_type": "markdown",
   "metadata": {},
   "source": [
    "### Tilt of a Binary Tree"
   ]
  },
  {
   "cell_type": "code",
   "execution_count": 25,
   "metadata": {},
   "outputs": [
    {
     "name": "stdout",
     "output_type": "stream",
     "text": [
      "Tilt:  30\n",
      "Tilt:  30\n"
     ]
    }
   ],
   "source": [
    "C = [50, 10, 30, None, None, 20, None, None, 40, None, None]\n",
    "root = generate(C)\n",
    "\n",
    "\n",
    "# Pair approach\n",
    "def tilt(node):\n",
    "    if node == None:\n",
    "        return (0, 0)\n",
    "    \n",
    "    Lt, Ls = tilt(node.left)\n",
    "    Rt, Rs = tilt(node.right)\n",
    "    T = abs(Ls - Rs) + Rt + Lt\n",
    "    S = Ls + Rs + node.val\n",
    "    return T, S\n",
    "  \n",
    "T, _ = tilt(root)\n",
    "print('Tilt: ', T)\n",
    "\n",
    "\n",
    "# Traverse and update \n",
    "def computeTilt(node):\n",
    "    tilt = 0\n",
    "    def solve(node):\n",
    "        nonlocal tilt\n",
    "        if node == None:\n",
    "            return 0\n",
    "        \n",
    "        L = solve(node.left)\n",
    "        R = solve(node.right)\n",
    "        tilt += abs(L - R)\n",
    "        return L + R + node.val\n",
    "    \n",
    "    solve(root)    \n",
    "    return tilt\n",
    "\n",
    "print('Tilt: ', computeTilt(root))"
   ]
  },
  {
   "cell_type": "markdown",
   "metadata": {},
   "source": [
    "### Is given Binary Tree a Binary Search Tree"
   ]
  },
  {
   "cell_type": "code",
   "execution_count": 26,
   "metadata": {},
   "outputs": [
    {
     "name": "stdout",
     "output_type": "stream",
     "text": [
      "Tree based on \"A\" isBST?  (12, 87, True)\n",
      "Tree based on \"C\" isBST?  (10, 50, False)\n"
     ]
    }
   ],
   "source": [
    "def isBST(node):\n",
    "    if node == None:\n",
    "        return (float('inf'), float('-inf'), True)\n",
    "    \n",
    "    Lmin, Lmax, Lbst = isBST(node.left)\n",
    "    Rmin, Rmax, Rbst = isBST(node.right)\n",
    "    \n",
    "    minVal = min([Lmin, Rmin, node.val])\n",
    "    maxVal = max([Lmax, Rmax, node.val])\n",
    "    Tbst = Lbst and Rbst and (node.val >= Lmax and node.val <= Rmin)\n",
    "    \n",
    "    return (minVal, maxVal, Tbst)\n",
    "    \n",
    "root = generate(A)\n",
    "print('Tree based on \"A\" isBST? ', isBST(root))\n",
    "\n",
    "root = generate(C)\n",
    "isBST(root)\n",
    "print('Tree based on \"C\" isBST? ', isBST(root))"
   ]
  },
  {
   "cell_type": "markdown",
   "metadata": {},
   "source": [
    "### Balanced Binary Tree"
   ]
  },
  {
   "cell_type": "code",
   "execution_count": 27,
   "metadata": {},
   "outputs": [
    {
     "name": "stdout",
     "output_type": "stream",
     "text": [
      "Tree based on \"A\" isBalanced?  True\n",
      "Tree based on \"D\" isBalanced?  False\n",
      "Tree based on \"A\" isBalanced?  True\n",
      "Tree based on \"D\" isBalanced?  False\n"
     ]
    }
   ],
   "source": [
    "D = [50, 25, 12, 5, None, None, None, None, 60, None, 70, None, 87, None, None]\n",
    "root1 = generate(A)\n",
    "root2 = generate(D)\n",
    "\n",
    "\n",
    "# Traverse and update approach\n",
    "def isBalancedTree(node):\n",
    "    def solve(node):\n",
    "        nonlocal isBalanced\n",
    "        if node == None:\n",
    "            return 0\n",
    "        Lh = solve(node.left)\n",
    "        Rh = solve(node.right)\n",
    "        H = max(Lh, Rh) + 1\n",
    "        if abs(Lh - Rh) > 1:\n",
    "            isBalanced = False\n",
    "        return H\n",
    "    \n",
    "    isBalanced = True\n",
    "    solve(node)\n",
    "    return isBalanced\n",
    "\n",
    "print('Tree based on \"A\" isBalanced? ', isBalancedTree(root1))\n",
    "print('Tree based on \"D\" isBalanced? ', isBalancedTree(root2))\n",
    "\n",
    "\n",
    "# Pair approach\n",
    "def isBalancedTree(node):\n",
    "    if node == None:\n",
    "        return (0, True)\n",
    "    Lh, Lb = isBalancedTree(node.left)\n",
    "    Rh, Rb = isBalancedTree(node.right)\n",
    "    H = max(Lh, Rh) + 1\n",
    "    B = Lb and Rb and (abs(Lh-Rh) <= 1)\n",
    "    return (H, B)\n",
    "\n",
    "print('Tree based on \"A\" isBalanced? ', isBalancedTree(root1)[1])\n",
    "print('Tree based on \"D\" isBalanced? ', isBalancedTree(root2)[1])"
   ]
  },
  {
   "cell_type": "markdown",
   "metadata": {},
   "source": [
    "### Largest Binary Search Tree Subtree"
   ]
  },
  {
   "cell_type": "code",
   "execution_count": 28,
   "metadata": {},
   "outputs": [
    {
     "name": "stdout",
     "output_type": "stream",
     "text": [
      "Largest BST in Binary Tree is at Node: 62 with 7 nodes\n"
     ]
    }
   ],
   "source": [
    "E = [50, 25, 12, None, None, 37, 30, None, None, 40, None, None, 75, 62, 60, 51, \n",
    "     None, None, 61, None, None, 77, 74, None, None, 78, None, None, 87, None, None]\n",
    "\n",
    "root = generate(E)\n",
    "\n",
    "def largestBST(node):\n",
    "    if node == None:\n",
    "        return (float('inf'), float('-inf'), True, None, 0)\n",
    "    \n",
    "    Lmin, Lmax, Lbst, Lnode, Lsize = largestBST(node.left)\n",
    "    Rmin, Rmax, Rbst, Rnode, Rsize = largestBST(node.right)\n",
    "    \n",
    "    minVal = min([Lmin, Rmin, node.val])\n",
    "    maxVal = max([Lmax, Rmax, node.val])\n",
    "    Tbst = Lbst and Rbst and (node.val >= Lmax and node.val <= Rmin)\n",
    "    \n",
    "    if Tbst:\n",
    "        BSTnode = node\n",
    "        BSTsize = Lsize + Rsize + 1\n",
    "    elif Lsize > Rsize:\n",
    "        BSTnode = Lnode\n",
    "        BSTsize = Lsize\n",
    "    else:\n",
    "        BSTnode = Rnode\n",
    "        BSTsize = Rsize\n",
    "        \n",
    "    return (minVal, maxVal, Tbst, BSTnode, BSTsize)\n",
    "    \n",
    "\n",
    "_, _, _, node, size = largestBST(root)\n",
    "print(f\"Largest BST in Binary Tree is at Node: {node.val} with {size} nodes\")"
   ]
  },
  {
   "cell_type": "markdown",
   "metadata": {},
   "source": [
    "### Invert/Reverse a Binary Tree"
   ]
  },
  {
   "cell_type": "code",
   "execution_count": 29,
   "metadata": {},
   "outputs": [
    {
     "name": "stdout",
     "output_type": "stream",
     "text": [
      "['A']\n",
      "['B', 'C']\n",
      "['D', 'E', 'F', 'G']\n",
      "['H', 'I', 'J', 'K', 'L', 'M', 'N', 'O']\n",
      "['P', 'Q', 'R', 'S']\n",
      "['T', 'U', 'V', 'W']\n",
      "['X', 'Y', 'Z']\n",
      "\n",
      "['A']\n",
      "['C', 'B']\n",
      "['G', 'F', 'E', 'D']\n",
      "['O', 'N', 'M', 'L', 'K', 'J', 'I', 'H']\n",
      "['S', 'R', 'Q', 'P']\n",
      "['W', 'V', 'U', 'T']\n",
      "['Z', 'Y', 'X']\n"
     ]
    }
   ],
   "source": [
    "root = generate(B)\n",
    "levels = levelOrder(root)\n",
    "for level in levels:\n",
    "    print(level)\n",
    "    \n",
    "def invert(node):\n",
    "    if node == None:\n",
    "        return node\n",
    "    \n",
    "    L = invert(node.left)\n",
    "    R = invert(node.right)\n",
    "    node.left = R\n",
    "    node.right = L\n",
    "    return node\n",
    "    \n",
    "root = invert(root)\n",
    "print()\n",
    "levels = levelOrder(root)\n",
    "for level in levels:\n",
    "    print(level)"
   ]
  },
  {
   "cell_type": "markdown",
   "metadata": {},
   "source": [
    "### Check if 2 Binary Trees are Mirror of Each Other"
   ]
  },
  {
   "cell_type": "code",
   "execution_count": 30,
   "metadata": {},
   "outputs": [
    {
     "name": "stdout",
     "output_type": "stream",
     "text": [
      "True\n",
      "False\n"
     ]
    }
   ],
   "source": [
    "C = [50, 10, 30, None, None, 20, None, None, 40, None, None]\n",
    "F = [50, 40, None, None, 10, 20, None, None, 30, None, None]\n",
    "\n",
    "root1 = generate(C)\n",
    "root2 = generate(F)\n",
    "root3 = generate(E)\n",
    "\n",
    "def areMirror(node1, node2):\n",
    "    if node1 == None and node2 == None:\n",
    "        return True\n",
    "    \n",
    "    if node1 == None or node2 == None:\n",
    "        return False\n",
    "    \n",
    "    L = areMirror(node1.left, node2.right)\n",
    "    R = areMirror(node1.right, node2.left)\n",
    "    \n",
    "    if L and R and node1.val == node2.val:\n",
    "        return True\n",
    "    \n",
    "    return False\n",
    "\n",
    "print(areMirror(root1, root2))\n",
    "print(areMirror(root1, root3))"
   ]
  },
  {
   "cell_type": "markdown",
   "metadata": {},
   "source": [
    "### Check if 2 Binary Trees are Identical"
   ]
  },
  {
   "cell_type": "code",
   "execution_count": 31,
   "metadata": {},
   "outputs": [
    {
     "name": "stdout",
     "output_type": "stream",
     "text": [
      "True\n",
      "False\n"
     ]
    }
   ],
   "source": [
    "C = [50, 10, 30, None, None, 20, None, None, 40, None, None]\n",
    "F = [50, 40, None, None, 10, 20, None, None, 30, None, None]\n",
    "\n",
    "root1 = generate(C)\n",
    "root2 = generate(F)\n",
    "\n",
    "def areIdentical(node1, node2):\n",
    "    if node1 == None and node2 == None:\n",
    "        return True\n",
    "    \n",
    "    if node1 == None or node2 == None:\n",
    "        return False\n",
    "    \n",
    "    L = areIdentical(node1.left, node2.left)\n",
    "    R = areIdentical(node1.right, node2.right)\n",
    "    \n",
    "    if L and R and node1.val == node2.val:\n",
    "        return True\n",
    "    return False\n",
    "\n",
    "print(areIdentical(root1, root1))\n",
    "print(areIdentical(root1, root2))"
   ]
  },
  {
   "cell_type": "markdown",
   "metadata": {},
   "source": [
    "### Check if a Binary Tree is a Subtree of another Binary Tree"
   ]
  },
  {
   "cell_type": "code",
   "execution_count": 32,
   "metadata": {},
   "outputs": [
    {
     "name": "stdout",
     "output_type": "stream",
     "text": [
      "True\n"
     ]
    }
   ],
   "source": [
    "G = ['A', 'B', 'D', 'H', None, None, 'I', None, None, 'E', None, None, 'C', 'F', \n",
    "     None, None, 'G', 'J', 'L', None, None, 'M', None, None, 'K', None, None]\n",
    "H = ['C', 'F', None, None, 'G', 'J', 'L', None, None, 'M', None, None, 'K', None, None]\n",
    "\n",
    "main = generate(G)\n",
    "sub = generate(H)\n",
    "\n",
    "def isSubtree(main, sub):\n",
    "    if sub == None:\n",
    "        return True\n",
    "    \n",
    "    if main == None:\n",
    "        return False\n",
    "    \n",
    "    if areIdentical(main, sub):\n",
    "        return True\n",
    "\n",
    "    L = isSubtree(main.left, sub)\n",
    "    R = isSubtree(main.right, sub)\n",
    "    \n",
    "    return L or R\n",
    "\n",
    "print(isSubtree(main, sub))"
   ]
  },
  {
   "cell_type": "markdown",
   "metadata": {},
   "source": [
    "### Check if a Binary Tree is a Sumtree"
   ]
  },
  {
   "cell_type": "code",
   "execution_count": 33,
   "metadata": {},
   "outputs": [
    {
     "name": "stdout",
     "output_type": "stream",
     "text": [
      "(112, True)\n",
      "13 <- 56 -> 15\n",
      "5 <- 13 -> 3\n",
      "3 <- 5 -> 2\n",
      ". <- 3 -> .\n",
      ". <- 2 -> .\n",
      ". <- 3 -> .\n",
      "9 <- 15 -> 3\n",
      ". <- 9 -> .\n",
      "2 <- 3 -> 1\n",
      ". <- 2 -> .\n",
      ". <- 1 -> .\n"
     ]
    }
   ],
   "source": [
    "I = [56, 13, 5, 3, None, None, 2, None, None, 3, None, None, 15, 9, None, None, 3, 2, None, None, 1, None, None]\n",
    "root = generate(I)\n",
    "\n",
    "def sumTree(node):\n",
    "    if node == None:\n",
    "        return (0, True)\n",
    "    \n",
    "    if node.left == None and node.right == None:\n",
    "        return (node.val, True)\n",
    "    \n",
    "    Lsum, L = sumTree(node.left)\n",
    "    Rsum, R = sumTree(node.right)\n",
    "     \n",
    "    S = L and R and node.val == Lsum + Rsum\n",
    "    Tsum = Lsum + Rsum + node.val\n",
    "    \n",
    "    return Tsum, S\n",
    "\n",
    "print(sumTree(root))\n",
    "display(root)"
   ]
  },
  {
   "cell_type": "markdown",
   "metadata": {},
   "source": [
    "### Get Leaf Nodes of a Binary Tree"
   ]
  },
  {
   "cell_type": "code",
   "execution_count": 34,
   "metadata": {},
   "outputs": [
    {
     "name": "stdout",
     "output_type": "stream",
     "text": [
      "[12, 30, 70, 87]\n"
     ]
    }
   ],
   "source": [
    "def leafNodes(node):\n",
    "    if node == None:\n",
    "        return\n",
    "    \n",
    "    if node.left == None and node.right == None:\n",
    "        leaves.append(node.val)\n",
    "        return\n",
    "    \n",
    "    leafNodes(node.left)\n",
    "    leafNodes(node.right)\n",
    "    \n",
    "root = generate(A)\n",
    "\n",
    "leaves = []   \n",
    "leafNodes(root)\n",
    "print(leaves)"
   ]
  },
  {
   "cell_type": "markdown",
   "metadata": {},
   "source": [
    "### Left Side / Right Side View of a Binary Tree"
   ]
  },
  {
   "cell_type": "code",
   "execution_count": 35,
   "metadata": {},
   "outputs": [
    {
     "name": "stdout",
     "output_type": "stream",
     "text": [
      "Left View:  ['A', 'B', 'D', 'H', 'J', 'P', 'T']\n",
      "Right View:  ['A', 'C', 'G', 'M', 'R', 'S', 'T']\n"
     ]
    }
   ],
   "source": [
    "from collections import deque, OrderedDict\n",
    "\n",
    "J = ['A', 'B', 'D', 'H', None, None, 'I', 'J', None, None, 'K', None, None, 'E', None, None, 'C', 'F', None, \n",
    "     None, 'G', 'L', 'N', 'P', None, None, None, None, 'M', 'Q', 'S', None, 'T', None, None, None, 'R', None, None]\n",
    "\n",
    "root = generate(J)\n",
    "\n",
    "def leftView(node):\n",
    "    level = 0\n",
    "    Q = deque([root])\n",
    "    leftLevel = OrderedDict()\n",
    "\n",
    "    while len(Q) > 0:\n",
    "        size = len(Q)\n",
    "        for _ in range(size):\n",
    "            node = Q.popleft()\n",
    "\n",
    "            if level not in leftLevel:\n",
    "                leftLevel[level] = [node.val]\n",
    "            else:\n",
    "                leftLevel[level].append(node.val)\n",
    "\n",
    "            if node.left != None:\n",
    "                Q.append(node.left)\n",
    "            if node.right != None:\n",
    "                Q.append(node.right)\n",
    "        level += 1\n",
    "        \n",
    "    left = []\n",
    "    for level in leftLevel.keys():\n",
    "        left.append(leftLevel[level][0])\n",
    "    return left\n",
    "\n",
    "def rightView(node):\n",
    "    level = 0\n",
    "    Q = deque([root])\n",
    "    rightLevel = OrderedDict()\n",
    "\n",
    "    while len(Q) > 0:\n",
    "        size = len(Q)\n",
    "        for _ in range(size):\n",
    "            node = Q.popleft()\n",
    "\n",
    "            if level not in rightLevel:\n",
    "                rightLevel[level] = [node.val]\n",
    "            else:\n",
    "                rightLevel[level].append(node.val)\n",
    "\n",
    "            if node.right != None:\n",
    "                Q.append(node.right)\n",
    "                \n",
    "            if node.left != None:\n",
    "                Q.append(node.left)\n",
    "            \n",
    "        level += 1\n",
    "        \n",
    "    right = []\n",
    "    for level in rightLevel.keys():\n",
    "        right.append(rightLevel[level][0])\n",
    "    return right\n",
    "    \n",
    "\n",
    "print('Left View: ', leftView(root))\n",
    "print('Right View: ', rightView(root))"
   ]
  },
  {
   "cell_type": "markdown",
   "metadata": {},
   "source": [
    "### Top View of a Binary Tree"
   ]
  },
  {
   "cell_type": "code",
   "execution_count": 36,
   "metadata": {},
   "outputs": [
    {
     "name": "stdout",
     "output_type": "stream",
     "text": [
      "['L', 'D', 'B', 'A', 'C', 'G', 'K']\n"
     ]
    }
   ],
   "source": [
    "K = ['A', 'B', 'D', 'L', None, None, None, 'E', None, None, 'C', 'F', 'H', \n",
    "     None, None, 'I', None, 'J', None, 'K', None, None, 'G', None, None]\n",
    "\n",
    "root = generate(K)\n",
    "\n",
    "Q = deque([(root, 0)])\n",
    "distMap = {}\n",
    "\n",
    "while len(Q) > 0:\n",
    "    size = len(Q)\n",
    "    for _ in range(size):\n",
    "        node, x = Q.popleft()\n",
    "        if x not in distMap:\n",
    "            distMap[x] = node.val\n",
    "            \n",
    "        if node.left != None:\n",
    "            Q.append((node.left, x - 1))\n",
    "        if node.right != None:\n",
    "            Q.append((node.right, x + 1))\n",
    "    \n",
    "distSorted = sorted(distMap.keys())\n",
    "\n",
    "topView = []\n",
    "for dist in distSorted:\n",
    "    topView.append(distMap[dist])\n",
    "print(topView)"
   ]
  },
  {
   "cell_type": "markdown",
   "metadata": {},
   "source": [
    "### Bottom View of a Binary Tree"
   ]
  },
  {
   "cell_type": "code",
   "execution_count": 37,
   "metadata": {},
   "outputs": [
    {
     "name": "stdout",
     "output_type": "stream",
     "text": [
      "['H', 'D', 'I', 'F', 'J', 'G', 'K']\n"
     ]
    }
   ],
   "source": [
    "L = ['A', 'B', 'D', 'H', None, None, 'I', None, None, 'E', None, None, 'C', 'F', \n",
    "     None, None, 'G', 'J', None, None, 'K', None, None]\n",
    "\n",
    "root = generate(L)\n",
    "\n",
    "Q = deque([(root, 0)])\n",
    "distMap = {}\n",
    "\n",
    "while len(Q) > 0:\n",
    "    size = len(Q)\n",
    "    for _ in range(size):\n",
    "        node, x = Q.popleft()\n",
    "        \n",
    "        distMap[x] = node.val\n",
    "            \n",
    "        if node.left != None:\n",
    "            Q.append((node.left, x - 1))\n",
    "        if node.right != None:\n",
    "            Q.append((node.right, x + 1))\n",
    "    \n",
    "distSorted = sorted(distMap.keys())\n",
    "\n",
    "bottomView = []\n",
    "for dist in distSorted:\n",
    "    bottomView.append(distMap[dist])\n",
    "print(bottomView)"
   ]
  },
  {
   "cell_type": "markdown",
   "metadata": {},
   "source": [
    "# TODO"
   ]
  },
  {
   "cell_type": "markdown",
   "metadata": {},
   "source": [
    "### Vertical Order Traversal"
   ]
  },
  {
   "cell_type": "code",
   "execution_count": 38,
   "metadata": {},
   "outputs": [
    {
     "name": "stdout",
     "output_type": "stream",
     "text": [
      "[['H'], ['D'], ['B', 'I', 'J'], ['A', 'E', 'F'], ['C', 'K', 'L'], ['G'], ['M']]\n"
     ]
    }
   ],
   "source": [
    "from collections import defaultdict, deque\n",
    "\n",
    "\n",
    "M = ['A', 'B', 'D', 'H', None, None, 'I', None, None, 'E', 'J', None, None, \n",
    "     'K', None, None, 'C', 'F', None, None, 'G', 'L', None, None, 'M', None, None]\n",
    "\n",
    "root = generate(M)\n",
    "\n",
    "\n",
    "Q = deque([(root, 0, 0)])\n",
    "distMap = defaultdict(list)\n",
    "\n",
    "while len(Q) > 0:\n",
    "    size = len(Q)\n",
    "    for _ in range(size):\n",
    "        node, x, y = Q.popleft()\n",
    "        \n",
    "        distMap[x].append((y, node.val))\n",
    "        \n",
    "        if node.left != None:\n",
    "            Q.append((node.left, x - 1, y + 1))\n",
    "            \n",
    "        if node.right != None:\n",
    "            Q.append((node.right, x + 1, y + 1))\n",
    "            \n",
    "vertical = []\n",
    "minDist = min(distMap)\n",
    "maxDist = max(distMap)\n",
    "\n",
    "for dist in range(minDist, maxDist + 1):\n",
    "    vals = sorted(distMap[dist], key=lambda e: (e[0], e[1]))\n",
    "    vertical.append([e[1] for e in vals])\n",
    "    \n",
    "print(vertical)"
   ]
  },
  {
   "cell_type": "markdown",
   "metadata": {},
   "source": [
    "### Boundary Traversal of a Binary Tree"
   ]
  },
  {
   "cell_type": "code",
   "execution_count": 39,
   "metadata": {},
   "outputs": [
    {
     "name": "stdout",
     "output_type": "stream",
     "text": [
      "[2, 9, 4, 3, 7, 6, 5, 7, 8]\n"
     ]
    }
   ],
   "source": [
    "N = [2, 9, 4, 3, None, None, 11, None, 7, None, None, 6, None, None, 8, 1, None, 5, None, None, 7, None, None]\n",
    "\n",
    "root = generate(N)\n",
    "\n",
    "    \n",
    "def boundaryTraversal(node):\n",
    "    \n",
    "    def leftBoundary(node):\n",
    "        if node == None:\n",
    "            return\n",
    "        if node.left == None and node.right == None:\n",
    "            return\n",
    "        boundary.append(node.val)\n",
    "        if node.left == None:\n",
    "            leftBoundary(node.right)\n",
    "        else:\n",
    "            leftBoundary(node.left)\n",
    "\n",
    "    def rightBoundary(node):\n",
    "        if node == None:\n",
    "            return\n",
    "        if node.left == None and node.right == None:\n",
    "            return\n",
    "        if node.right == None:\n",
    "            rightBoundary(node.left)\n",
    "        else:\n",
    "            rightBoundary(node.right)\n",
    "        boundary.append(node.val)\n",
    "\n",
    "    def leafNodes(node):\n",
    "        if node == None:\n",
    "            return\n",
    "\n",
    "        if node.left == None and node.right == None:\n",
    "            boundary.append(node.val)\n",
    "            return\n",
    "\n",
    "        leafNodes(node.left)\n",
    "        leafNodes(node.right)\n",
    "    \n",
    "    \n",
    "    boundary = []\n",
    "    if node == None:\n",
    "        return boundary\n",
    "    \n",
    "    boundary.append(node.val)\n",
    "    \n",
    "    if node.left == None and node.right == None:\n",
    "        return boundary\n",
    "    \n",
    "    leftBoundary(node.left)\n",
    "    leafNodes(node)\n",
    "    rightBoundary(node.right)\n",
    "    \n",
    "    return boundary\n",
    "    \n",
    "output = boundaryTraversal(root)\n",
    "print(output)"
   ]
  },
  {
   "cell_type": "markdown",
   "metadata": {},
   "source": [
    "### Diagonal Traversal of a Binary Tree"
   ]
  },
  {
   "cell_type": "code",
   "execution_count": 40,
   "metadata": {},
   "outputs": [
    {
     "name": "stdout",
     "output_type": "stream",
     "text": [
      "defaultdict(<class 'list'>, {0: ['A', 'C', 'G', 'M'], 1: ['B', 'E', 'K', 'F', 'L'], 2: ['D', 'I', 'J'], 3: ['H']})\n"
     ]
    }
   ],
   "source": [
    "root = generate(M)\n",
    "\n",
    "\n",
    "def diagonalTraverse(node, d):\n",
    "    if node == None:\n",
    "        return\n",
    "    \n",
    "    diagMap[d].append(node.val)\n",
    "        \n",
    "    diagonalTraverse(node.left, d + 1)\n",
    "    diagonalTraverse(node.right, d)\n",
    "    \n",
    "diagMap = defaultdict(list)\n",
    "diagonalTraverse(root, 0)\n",
    "print(diagMap)"
   ]
  },
  {
   "cell_type": "markdown",
   "metadata": {},
   "source": [
    "### Diagonal Sum of a Binary Tree"
   ]
  },
  {
   "cell_type": "code",
   "execution_count": 41,
   "metadata": {},
   "outputs": [
    {
     "name": "stdout",
     "output_type": "stream",
     "text": [
      "{0: 212, 1: 319, 2: 237, 3: 51}\n"
     ]
    }
   ],
   "source": [
    "root = generate(E)\n",
    "\n",
    "def diagonalSum(node, d):\n",
    "    if node == None:\n",
    "        return\n",
    "    \n",
    "    diagMap[d] = diagMap.get(d, 0) + node.val\n",
    "    diagonalSum(node.left, d + 1)\n",
    "    diagonalSum(node.right, d)\n",
    "    \n",
    "diagMap = {}\n",
    "diagonalSum(root, 0)\n",
    "print(diagMap)"
   ]
  },
  {
   "cell_type": "markdown",
   "metadata": {},
   "source": [
    "### Transform a Binary Tree to Sum Tree"
   ]
  },
  {
   "cell_type": "code",
   "execution_count": 42,
   "metadata": {},
   "outputs": [
    {
     "name": "stdout",
     "output_type": "stream",
     "text": [
      "[50]\n",
      "[25, 75]\n",
      "[12, 37, 62, 87]\n",
      "[30, 70]\n",
      "\n",
      "[398]\n",
      "[79, 219]\n",
      "[0, 30, 70, 0]\n",
      "[0, 0]\n"
     ]
    }
   ],
   "source": [
    "root = generate(A)\n",
    "\n",
    "def toSumTree(node):\n",
    "    if node == None:\n",
    "        return 0\n",
    "    \n",
    "    L = toSumTree(node.left)\n",
    "    R = toSumTree(node.right)\n",
    "    \n",
    "    val = L + R + node.val\n",
    "    node.val = L + R\n",
    "    return val\n",
    "\n",
    "output = levelOrder(root)\n",
    "for out in output:\n",
    "    print(out)\n",
    "    \n",
    "toSumTree(root)\n",
    "\n",
    "print()\n",
    "output = levelOrder(root)\n",
    "for out in output:\n",
    "    print(out)"
   ]
  },
  {
   "cell_type": "markdown",
   "metadata": {},
   "source": [
    "### Serialize a Binary Tree"
   ]
  },
  {
   "cell_type": "code",
   "execution_count": 43,
   "metadata": {},
   "outputs": [
    {
     "name": "stdout",
     "output_type": "stream",
     "text": [
      "50,25,12,#,#,37,30,#,#,#,75,62,#,70,#,#,87,#,#\n"
     ]
    }
   ],
   "source": [
    "J = ['A', 'B', 'D', 'H', None, None, 'I', 'J', None, None, 'K', None, None, 'E', None, None, 'C', 'F', None, \n",
    "     None, 'G', 'L', 'N', 'P', None, None, None, None, 'M', 'Q', 'S', None, 'T', None, None, None, 'R', None, None]\n",
    "\n",
    "root = generate(A)\n",
    "\n",
    "\n",
    "def serialize(node):\n",
    "    if node == None:\n",
    "        output.append(\"#\")\n",
    "        return \n",
    "    output.append(str(node.val))\n",
    "    serialize(node.left)\n",
    "    serialize(node.right)\n",
    "    \n",
    "    \n",
    "output = []\n",
    "serialize(root)\n",
    "print(\",\".join(output))"
   ]
  },
  {
   "cell_type": "markdown",
   "metadata": {},
   "source": [
    "### Node with `K` Leaves in its Subtree"
   ]
  },
  {
   "cell_type": "code",
   "execution_count": 44,
   "metadata": {},
   "outputs": [
    {
     "name": "stdout",
     "output_type": "stream",
     "text": [
      "Nodes with 2 leaves in its subtree:  [25, 75]\n"
     ]
    }
   ],
   "source": [
    "root = generate(A)\n",
    "\n",
    "def kLeaves(node, k):\n",
    "    if node == None:\n",
    "        return 0\n",
    "    if node.left == None and node.right == None:\n",
    "        return 1\n",
    "    L = kLeaves(node.left, k)\n",
    "    R = kLeaves(node.right, k)\n",
    "    \n",
    "    T = L + R\n",
    "    if T == k:\n",
    "        output.append(node.val)\n",
    "    \n",
    "    return T\n",
    "\n",
    "k = 2\n",
    "output = []\n",
    "kLeaves(root, k)\n",
    "print(f\"Nodes with {k} leaves in its subtree: \", output)"
   ]
  },
  {
   "cell_type": "markdown",
   "metadata": {},
   "source": [
    "### Paths with a given Sum"
   ]
  },
  {
   "cell_type": "code",
   "execution_count": 45,
   "metadata": {},
   "outputs": [
    {
     "name": "stdout",
     "output_type": "stream",
     "text": [
      "[[50, 25, 37, 30]]\n"
     ]
    }
   ],
   "source": [
    "root = generate(A)\n",
    "\n",
    "\n",
    "def pathsWithSum(node, path, T):\n",
    "    if node == None:\n",
    "        return \n",
    "    \n",
    "    if node.left == None and node.right == None:\n",
    "        T -= node.val\n",
    "        if T == 0:\n",
    "            path.append(node.val)\n",
    "            output.append(path)\n",
    "        return\n",
    "    \n",
    "    pathsWithSum(node.left, path + [node.val], T-node.val)\n",
    "    pathsWithSum(node.right, path + [node.val], T-node.val)\n",
    "\n",
    "T = 142\n",
    "path = []\n",
    "output = []    \n",
    "pathsWithSum(root, path, T)\n",
    "print(output)"
   ]
  },
  {
   "cell_type": "markdown",
   "metadata": {},
   "source": [
    "### Flip Equivalent Binary Trees / Isomorphic Binary Trees"
   ]
  },
  {
   "cell_type": "code",
   "execution_count": 46,
   "metadata": {},
   "outputs": [
    {
     "name": "stdout",
     "output_type": "stream",
     "text": [
      "True\n"
     ]
    }
   ],
   "source": [
    "x = generate(A)\n",
    "y = generate(A)\n",
    "temp = y.left\n",
    "y.left = y.right\n",
    "y.right = temp\n",
    "\n",
    "\n",
    "def flipEquivalent(x, y):\n",
    "    if x == None and y == None:\n",
    "        return True\n",
    "    \n",
    "    if x == None or y == None:\n",
    "        return False\n",
    "    \n",
    "    if x.val == y.val:\n",
    "        return True\n",
    "    \n",
    "    identical = flipEquivalent(x.left, y.left) and flipEquivalent(x.right, y.right)\n",
    "    flipped = flipEquivalent(x.left, y.right) and flipEquivalent(x.right, y.left)\n",
    "    \n",
    "    return identical or flipped\n",
    "\n",
    "print(flipEquivalent(x, y))"
   ]
  },
  {
   "cell_type": "markdown",
   "metadata": {},
   "source": [
    "### LCA "
   ]
  },
  {
   "cell_type": "code",
   "execution_count": null,
   "metadata": {},
   "outputs": [],
   "source": []
  },
  {
   "cell_type": "code",
   "execution_count": null,
   "metadata": {},
   "outputs": [],
   "source": [
    "def rotationalCipher(input, rotation_factor):\n",
    "  # Write your code here\n",
    "  output = \"\"\n",
    "  for char in input:\n",
    "    if char.isalnum():\n",
    "      if char.isupper():\n",
    "        idx = (ord(char)-ord('A'))\n",
    "        output += chr((idx + rotation_factor) % 26)\n",
    "      elif char.islower():\n",
    "        idx = (ord(char)-ord('a'))\n",
    "        output += chr((idx+rotation_factor) % 26)\n",
    "      elif char.isdigit():\n",
    "        idx = (ord(char)-ord('0'))\n",
    "        output += chr((idx+rotation_factor) % 10)\n",
    "    else:\n",
    "      output += char\n",
    "      \n",
    "    print(output)\n",
    "  \n",
    "  return output"
   ]
  },
  {
   "cell_type": "code",
   "execution_count": 58,
   "metadata": {},
   "outputs": [],
   "source": [
    "idx = ((ord('Z') - ord('A')) + 39) % 26"
   ]
  },
  {
   "cell_type": "code",
   "execution_count": 60,
   "metadata": {},
   "outputs": [
    {
     "data": {
      "text/plain": [
       "'M'"
      ]
     },
     "execution_count": 60,
     "metadata": {},
     "output_type": "execute_result"
    }
   ],
   "source": [
    "chr(idx + ord('A'))"
   ]
  },
  {
   "cell_type": "code",
   "execution_count": 62,
   "metadata": {},
   "outputs": [
    {
     "data": {
      "text/plain": [
       "['',\n",
       " 'a',\n",
       " 'b',\n",
       " 'ab',\n",
       " 'c',\n",
       " 'ac',\n",
       " 'bc',\n",
       " 'abc',\n",
       " 'd',\n",
       " 'ad',\n",
       " 'bd',\n",
       " 'abd',\n",
       " 'cd',\n",
       " 'acd',\n",
       " 'bcd',\n",
       " 'abcd']"
      ]
     },
     "execution_count": 62,
     "metadata": {},
     "output_type": "execute_result"
    }
   ],
   "source": [
    "def solve(s, i):\n",
    "    if i == len(s):\n",
    "        return [\"\"]\n",
    "    result = solve(s, i+1)\n",
    "    output = []\n",
    "    for r in result:\n",
    "        output.append('' + r)\n",
    "        output.append(s[i] + r)\n",
    "    return output\n",
    "\n",
    "solve('abcd', 0)"
   ]
  },
  {
   "cell_type": "code",
   "execution_count": 66,
   "metadata": {},
   "outputs": [
    {
     "data": {
      "text/plain": [
       "1151292.546497023"
      ]
     },
     "execution_count": 66,
     "metadata": {},
     "output_type": "execute_result"
    }
   ],
   "source": [
    "import math\n",
    "math.log(10**5) * 10**5"
   ]
  },
  {
   "cell_type": "code",
   "execution_count": null,
   "metadata": {},
   "outputs": [],
   "source": []
  },
  {
   "cell_type": "code",
   "execution_count": null,
   "metadata": {},
   "outputs": [],
   "source": []
  },
  {
   "cell_type": "code",
   "execution_count": null,
   "metadata": {},
   "outputs": [],
   "source": []
  }
 ],
 "metadata": {
  "kernelspec": {
   "display_name": "Python 3",
   "language": "python",
   "name": "python3"
  },
  "language_info": {
   "codemirror_mode": {
    "name": "ipython",
    "version": 3
   },
   "file_extension": ".py",
   "mimetype": "text/x-python",
   "name": "python",
   "nbconvert_exporter": "python",
   "pygments_lexer": "ipython3",
   "version": "3.6.9"
  }
 },
 "nbformat": 4,
 "nbformat_minor": 4
}
