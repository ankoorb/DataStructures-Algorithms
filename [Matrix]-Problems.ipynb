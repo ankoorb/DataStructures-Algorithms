{
 "cells": [
  {
   "cell_type": "markdown",
   "metadata": {},
   "source": [
    "### Matrix Multiplication"
   ]
  },
  {
   "cell_type": "code",
   "execution_count": 1,
   "metadata": {},
   "outputs": [
    {
     "name": "stdout",
     "output_type": "stream",
     "text": [
      "18, 24, 30, 36, \n",
      "38, 40, 42, 44, \n"
     ]
    }
   ],
   "source": [
    "A = [[1, 3, 1],\n",
    "     [3, 1, 3]]\n",
    "\n",
    "B = [[3, 5, 7, 9],\n",
    "     [2, 4, 6, 8],\n",
    "     [9, 7, 5, 3]]\n",
    "\n",
    "aRows = len(A)\n",
    "aCols = len(A[0])\n",
    "bRows = len(B)\n",
    "bCols = len(B[0])\n",
    "\n",
    "C = [[0 for _ in range(bCols)] for _ in range(aRows)]\n",
    "\n",
    "assert aCols == bRows\n",
    "\n",
    "for i in range(aRows):\n",
    "    for j in range(bCols):\n",
    "        total = 0\n",
    "        for k in range(aCols):\n",
    "            C[i][j] += A[i][k] * B[k][j]\n",
    "        \n",
    "output = \"\"\n",
    "for i in range(aRows):\n",
    "    for j in range(bCols):\n",
    "        output += str(C[i][j]) + \", \"\n",
    "    print(output)\n",
    "    output = \"\""
   ]
  },
  {
   "cell_type": "markdown",
   "metadata": {},
   "source": [
    "### Wave Traversal"
   ]
  },
  {
   "cell_type": "code",
   "execution_count": 2,
   "metadata": {},
   "outputs": [
    {
     "name": "stdout",
     "output_type": "stream",
     "text": [
      "11\n",
      "21\n",
      "31\n",
      "32\n",
      "22\n",
      "12\n",
      "13\n",
      "23\n",
      "33\n",
      "34\n",
      "24\n",
      "14\n"
     ]
    }
   ],
   "source": [
    "A = [[11, 12, 13, 14], \n",
    "     [21, 22, 23, 24], \n",
    "     [31, 32, 33, 34]]\n",
    "\n",
    "rows = len(A)\n",
    "cols = len(A[0])\n",
    "\n",
    "for j in range(cols):\n",
    "    if j % 2 == 0:\n",
    "        for i in range(rows):\n",
    "            print(A[i][j])\n",
    "    else:\n",
    "        for i in range(rows-1, -1, -1):\n",
    "            print(A[i][j])"
   ]
  },
  {
   "cell_type": "markdown",
   "metadata": {},
   "source": [
    "### Spiral Traversal"
   ]
  },
  {
   "cell_type": "code",
   "execution_count": 31,
   "metadata": {},
   "outputs": [
    {
     "name": "stdout",
     "output_type": "stream",
     "text": [
      "11\n",
      "21\n",
      "31\n",
      "41\n",
      "51\n",
      "52\n",
      "53\n",
      "54\n",
      "55\n",
      "56\n",
      "46\n",
      "36\n",
      "26\n",
      "16\n",
      "15\n",
      "14\n",
      "13\n",
      "12\n",
      "22\n",
      "32\n",
      "42\n",
      "43\n",
      "44\n",
      "45\n",
      "35\n",
      "25\n",
      "24\n",
      "23\n",
      "33\n",
      "34\n"
     ]
    }
   ],
   "source": [
    "A = [[11, 12, 13, 14, 15, 16], \n",
    "     [21, 22, 23, 24, 25, 26], \n",
    "     [31, 32, 33, 34, 35, 36],\n",
    "     [41, 42, 43, 44, 45, 46],\n",
    "     [51, 52, 53, 54, 55, 56]]\n",
    "\n",
    "m = len(A)\n",
    "n = len(A[0])\n",
    "\n",
    "rMin = 0\n",
    "cMin = 0\n",
    "rMax = m - 1\n",
    "cMax = n - 1\n",
    "\n",
    "mn = m * n\n",
    "\n",
    "k = 0\n",
    "while k < mn:\n",
    "    \n",
    "    for i in range(rMin, rMax + 1):\n",
    "        print(A[i][cMin])\n",
    "        k += 1\n",
    "    cMin += 1\n",
    "    \n",
    "    for j in range(cMin, cMax + 1):\n",
    "        print(A[rMax][j])\n",
    "        k += 1\n",
    "    rMax -= 1\n",
    "    \n",
    "    for i in range(rMax, rMin - 1, -1):\n",
    "        print(A[i][cMax])\n",
    "        k += 1\n",
    "    cMax -= 1\n",
    "    \n",
    "    for j in range(cMax, cMin - 1, -1):\n",
    "        print(A[rMin][j])\n",
    "        k += 1\n",
    "    rMin += 1"
   ]
  },
  {
   "cell_type": "markdown",
   "metadata": {},
   "source": [
    "### Exit point of a Matrix"
   ]
  },
  {
   "cell_type": "code",
   "execution_count": 21,
   "metadata": {},
   "outputs": [
    {
     "name": "stdout",
     "output_type": "stream",
     "text": [
      "Exit cell: (1, 3)\n"
     ]
    }
   ],
   "source": [
    "M = [[0, 0, 1, 0], \n",
    "     [1, 0, 0, 0], \n",
    "     [0, 0, 0, 0], \n",
    "     [1, 0, 1, 0]]\n",
    "\n",
    "m = len(M)\n",
    "n = len(M[0])\n",
    "\n",
    "i = 0\n",
    "j = 0\n",
    "move = 0  # East: 0, South: 1, West: 2, North: 3\n",
    "\n",
    "while True:\n",
    "    \n",
    "    move = (move + M[i][j]) % 4\n",
    "    \n",
    "    if move == 0:\n",
    "        j += 1\n",
    "    elif move == 1:\n",
    "        i += 1\n",
    "    elif move == 2:\n",
    "        j -= 1\n",
    "    elif move == 3:\n",
    "        i -= 1\n",
    "       \n",
    "    \n",
    "    if i < 0:\n",
    "        i += 1\n",
    "        break\n",
    "    elif j < 0:\n",
    "        j += 1\n",
    "        break\n",
    "    elif i == m:\n",
    "        i -= 1\n",
    "        break\n",
    "    elif j == n:\n",
    "        j -= 1\n",
    "        break\n",
    "        \n",
    "print(f'Exit cell: {i, j}')"
   ]
  },
  {
   "cell_type": "markdown",
   "metadata": {},
   "source": [
    "### Transpose Matrix"
   ]
  },
  {
   "cell_type": "code",
   "execution_count": 19,
   "metadata": {},
   "outputs": [
    {
     "data": {
      "text/plain": [
       "[['a', 'e', 'i', 'm'],\n",
       " ['b', 'f', 'j', 'n'],\n",
       " ['c', 'g', 'k', 'o'],\n",
       " ['d', 'h', 'l', 'p']]"
      ]
     },
     "execution_count": 19,
     "metadata": {},
     "output_type": "execute_result"
    }
   ],
   "source": [
    "M = [['a', 'b', 'c', 'd'], \n",
    "     ['e', 'f', 'g', 'h'], \n",
    "     ['i', 'j', 'k', 'l'], \n",
    "     ['m', 'n', 'o', 'p']]\n",
    "\n",
    "m = len(M)\n",
    "n = len(M[0])\n",
    "\n",
    "for i in range(m):\n",
    "    for j in range(i, n):\n",
    "        temp = M[i][j]\n",
    "        M[i][j] = M[j][i]\n",
    "        M[j][i] = temp\n",
    "        \n",
    "M"
   ]
  },
  {
   "cell_type": "markdown",
   "metadata": {},
   "source": [
    "### Rotate matrix by 90 degrees (`O(1)` space and `O(n^2)` time)"
   ]
  },
  {
   "cell_type": "code",
   "execution_count": 18,
   "metadata": {},
   "outputs": [
    {
     "data": {
      "text/plain": [
       "[['m', 'i', 'e', 'a'],\n",
       " ['n', 'j', 'f', 'b'],\n",
       " ['o', 'k', 'g', 'c'],\n",
       " ['p', 'l', 'h', 'd']]"
      ]
     },
     "execution_count": 18,
     "metadata": {},
     "output_type": "execute_result"
    }
   ],
   "source": [
    "M = [['a', 'b', 'c', 'd'], \n",
    "     ['e', 'f', 'g', 'h'], \n",
    "     ['i', 'j', 'k', 'l'], \n",
    "     ['m', 'n', 'o', 'p']]\n",
    "\n",
    "m = len(M)\n",
    "n = len(M[0])\n",
    "\n",
    "for i in range(m):\n",
    "    for j in range(i, n):\n",
    "        temp = M[i][j]\n",
    "        M[i][j] = M[j][i]\n",
    "        M[j][i] = temp\n",
    "        \n",
    "for i in range(m):\n",
    "    M[i].reverse()\n",
    "    \n",
    "M"
   ]
  },
  {
   "cell_type": "markdown",
   "metadata": {},
   "source": [
    "### Shell Rotate"
   ]
  },
  {
   "cell_type": "code",
   "execution_count": 75,
   "metadata": {},
   "outputs": [
    {
     "data": {
      "text/plain": [
       "[[11, 12, 13, 14, 15, 16],\n",
       " [21, 54, 53, 52, 42, 26],\n",
       " [31, 55, 33, 34, 32, 36],\n",
       " [41, 45, 43, 44, 22, 46],\n",
       " [51, 35, 25, 24, 23, 56],\n",
       " [61, 62, 63, 64, 65, 66]]"
      ]
     },
     "execution_count": 75,
     "metadata": {},
     "output_type": "execute_result"
    }
   ],
   "source": [
    "def reverse(A, i, j):\n",
    "    while i < j:\n",
    "        temp = A[i]\n",
    "        A[i] = A[j]\n",
    "        A[j] = temp\n",
    "        i += 1\n",
    "        j -= 1\n",
    "        \n",
    "def rotate(rot):\n",
    "    n = len(A)\n",
    "    rot = rot % n\n",
    "    if rot < 0:\n",
    "        rot += n\n",
    "        \n",
    "    reverse(A, 0, n - rot - 1)\n",
    "    reverse(A, n - rot, n - 1)\n",
    "    reverse(A, 0, n - 1)\n",
    "    return A\n",
    "    \n",
    "def fillArray(shell):\n",
    "    m = len(M)\n",
    "    n = len(M[0])\n",
    "    \n",
    "    rMin = shell - 1\n",
    "    cMin = shell - 1\n",
    "    rMax = m - shell\n",
    "    cMax = m - shell\n",
    "    \n",
    "    size = 2 * (rMax - rMin + 1) + 2 * (cMax - cMin + 1) - 4\n",
    "    \n",
    "    A = [0] * size\n",
    "\n",
    "    k = 0\n",
    "    for i in range(rMin, rMax + 1):\n",
    "        A[k] = M[i][cMin]\n",
    "        k += 1\n",
    "    cMin += 1\n",
    "\n",
    "    for j in range(cMin, cMax + 1):\n",
    "        A[k] = M[rMax][j]\n",
    "        k += 1\n",
    "    rMax -= 1\n",
    "\n",
    "    for i in range(rMax, rMin - 1, -1):\n",
    "        A[k] = M[i][cMax]\n",
    "        k += 1\n",
    "    cMax -= 1\n",
    "\n",
    "    for j in range(cMax, cMin - 1, -1):\n",
    "        A[k] = M[rMin][j]\n",
    "        k += 1\n",
    "    rMin += 1\n",
    "        \n",
    "    return A\n",
    "\n",
    "def fillMatrix():\n",
    "    m = len(M)\n",
    "    n = len(M[0])\n",
    "    size = len(A)\n",
    "    \n",
    "    rMin = shell - 1\n",
    "    cMin = shell - 1\n",
    "    rMax = m - shell\n",
    "    cMax = m - shell\n",
    "    \n",
    "    k = 0\n",
    "    for i in range(rMin, rMax + 1):\n",
    "        M[i][cMin] = A[k]\n",
    "        k += 1\n",
    "    cMin += 1\n",
    "\n",
    "    for j in range(cMin, cMax + 1):\n",
    "        M[rMax][j] = A[k]\n",
    "        k += 1\n",
    "    rMax -= 1\n",
    "\n",
    "    for i in range(rMax, rMin - 1, -1):\n",
    "        M[i][cMax] = A[k]\n",
    "        k += 1\n",
    "    cMax -= 1\n",
    "\n",
    "    for j in range(cMax, cMin - 1, -1):\n",
    "        M[rMin][j] = A[k]\n",
    "        k += 1\n",
    "    rMin += 1\n",
    "    \n",
    "    return M\n",
    "\n",
    "\n",
    "# Inputs\n",
    "M = [[11, 12, 13, 14, 15, 16], \n",
    "     [21, 22, 23, 24, 25, 26], \n",
    "     [31, 32, 33, 34, 35, 36], \n",
    "     [41, 42, 43, 44, 45, 46], \n",
    "     [51, 52, 53, 54, 55, 56], \n",
    "     [61, 62, 63, 64, 65, 66]]\n",
    "\n",
    "rot = -5\n",
    "shell = 2\n",
    "\n",
    "\n",
    "# Solve\n",
    "A = fillArray(shell)\n",
    "rotate(rot)\n",
    "fillMatrix()\n",
    "M"
   ]
  },
  {
   "cell_type": "markdown",
   "metadata": {},
   "source": [
    "### Upper Triangle: Diagonal Traversal"
   ]
  },
  {
   "cell_type": "code",
   "execution_count": 131,
   "metadata": {},
   "outputs": [
    {
     "name": "stdout",
     "output_type": "stream",
     "text": [
      "[['a', 'f', 'k', 'p'], ['b', 'g', 'l'], ['c', 'h'], ['d']]\n"
     ]
    }
   ],
   "source": [
    "M = [['a', 'b', 'c', 'd'], \n",
    "     ['e', 'f', 'g', 'h'], \n",
    "     ['i', 'j', 'k', 'l'], \n",
    "     ['m', 'n', 'o', 'p']]\n",
    "\n",
    "m = len(M)\n",
    "n = len(M[0])\n",
    "\n",
    "k = 0\n",
    "output = []\n",
    "for diag in range(m):\n",
    "    i = 0\n",
    "    j = diag\n",
    "    temp = []\n",
    "    while i < n and j < n:\n",
    "        temp.append(M[i][j])\n",
    "        i += 1\n",
    "        j += 1\n",
    "    output.append(temp)\n",
    "\n",
    "print(output)"
   ]
  },
  {
   "cell_type": "markdown",
   "metadata": {},
   "source": [
    "### Saddle Point in Matrix"
   ]
  },
  {
   "cell_type": "code",
   "execution_count": 20,
   "metadata": {},
   "outputs": [
    {
     "name": "stdout",
     "output_type": "stream",
     "text": [
      "61\n"
     ]
    }
   ],
   "source": [
    "M = [[11, 12, 13, 14, 15, 16],\n",
    "     [26, 25, 24, 23, 22, 21],\n",
    "     [31, 32, 33, 34, 35, 36],\n",
    "     [46, 45, 44, 43, 42, 41],\n",
    "     [51, 52, 53, 54, 55, 56],\n",
    "     [66, 65, 64, 63, 62, 61]]\n",
    "\n",
    "m = len(M)\n",
    "n = len(M[0])\n",
    "\n",
    "for i in range(m):\n",
    "    cMin = 0\n",
    "    for j in range(1, n):\n",
    "        if M[i][j] < M[i][cMin]:\n",
    "            cMin = j\n",
    "            \n",
    "    flag = True\n",
    "    for k in range(m):\n",
    "        if M[k][cMin] > M[i][cMin]:\n",
    "            flag = False\n",
    "            break\n",
    "    \n",
    "    if flag:\n",
    "        print(M[i][cMin])\n",
    "        \n",
    "if not flag:\n",
    "    print(\"Invalid\")"
   ]
  },
  {
   "cell_type": "markdown",
   "metadata": {},
   "source": [
    "### Print Matrix in using 1 Loop `O(n)`"
   ]
  },
  {
   "cell_type": "code",
   "execution_count": 17,
   "metadata": {},
   "outputs": [
    {
     "name": "stdout",
     "output_type": "stream",
     "text": [
      "\n",
      "A B C D \n",
      "E F G H \n",
      "I J K L \n",
      "\n",
      "\n",
      "A E I \n",
      "B F J \n",
      "C G K \n",
      "D H L "
     ]
    }
   ],
   "source": [
    "M = [['a', 'b', 'c', 'd'], \n",
    "     ['e', 'f', 'g', 'h'], \n",
    "     ['i', 'j', 'k', 'l']]\n",
    "\n",
    "m = len(M)\n",
    "n = len(M[0])\n",
    "size = m * n\n",
    "\n",
    "for k in range(size):\n",
    "    i = k // n  # Divide by col dim\n",
    "    j = k % n  # Modulo by col dim\n",
    "    if j == 0:\n",
    "        print()\n",
    "    print(M[i][j].upper(), end = \" \")\n",
    "    \n",
    "print('\\n')\n",
    "for k in range(size):\n",
    "    i = k % m  # Modulo by row dim\n",
    "    j = k // m  # Divide by row dim\n",
    "    if i == 0:\n",
    "        print()\n",
    "    print(M[i][j].upper(), end = \" \")"
   ]
  },
  {
   "cell_type": "markdown",
   "metadata": {},
   "source": [
    "### Flipping an Image"
   ]
  },
  {
   "cell_type": "code",
   "execution_count": 79,
   "metadata": {},
   "outputs": [
    {
     "name": "stdout",
     "output_type": "stream",
     "text": [
      "[0, 0, 1, 1, 0]\n",
      "[1, 0, 0, 1, 1]\n",
      "[1, 0, 0, 1, 0]\n",
      "[1, 0, 1, 0, 1]\n",
      "\n",
      "[1, 0, 0, 1, 1]\n",
      "[0, 0, 1, 1, 0]\n",
      "[1, 0, 1, 1, 0]\n",
      "[0, 1, 0, 1, 0]\n"
     ]
    }
   ],
   "source": [
    "M = [[1, 0, 0, 1, 1], \n",
    "     [0, 0, 1, 1, 0], \n",
    "     [1, 0, 1, 1, 0], \n",
    "     [0, 1, 0, 1, 0]]\n",
    "\n",
    "c = len(M[0])\n",
    "        \n",
    "for row in M:\n",
    "    for j in range((c + 1) // 2):\n",
    "        tmp = row[j]\n",
    "        row[j] = 1 - row[c - 1 - j]\n",
    "        row[c - 1 - j] = 1 - tmp\n",
    "        \n",
    "for row in M:\n",
    "    print(row)\n",
    "print()\n",
    "    \n",
    "for row in M:\n",
    "    i = 0\n",
    "    j = len(row) - 1\n",
    "    while i <= j:\n",
    "        tmp = row[i]\n",
    "        row[i] = row[j] ^ 1\n",
    "        row[j] = tmp ^ 1\n",
    "        i += 1\n",
    "        j -= 1\n",
    "        \n",
    "for row in M:\n",
    "    print(row)"
   ]
  },
  {
   "cell_type": "markdown",
   "metadata": {},
   "source": [
    "### Set Matrix Zero"
   ]
  },
  {
   "cell_type": "code",
   "execution_count": 3,
   "metadata": {},
   "outputs": [
    {
     "name": "stdout",
     "output_type": "stream",
     "text": [
      "[1, 0, 0, 1]\n",
      "[0, 0, 1, 1]\n",
      "[0, 1, 0, 1]\n",
      "[0, 0, 0, 1]\n",
      "\n",
      "[0, 0, 0, 1]\n",
      "[0, 0, 0, 0]\n",
      "[0, 0, 0, 0]\n",
      "[0, 0, 0, 0]\n"
     ]
    }
   ],
   "source": [
    "M = [[1, 1, 1, 1], \n",
    "     [1, 0, 1, 1], \n",
    "     [1, 1, 0, 1], \n",
    "     [0, 0, 0, 1]]\n",
    "\n",
    "m = len(M)\n",
    "n = len(M[0])\n",
    "\n",
    "col0 = 1\n",
    "for i in range(m):\n",
    "    # First column rows\n",
    "    if M[i][0] == 0:\n",
    "        col0 = 0\n",
    "        \n",
    "    # Remaining column rows\n",
    "    for j in range(1, n):\n",
    "        if M[i][j] == 0:\n",
    "            M[i][0] = 0\n",
    "            M[0][j] = 0\n",
    "            \n",
    "for row in M:\n",
    "    print(row)\n",
    "            \n",
    "for i in range(m-1, -1, -1):\n",
    "    for j in range(n-1, 0, -1):\n",
    "        if M[i][0] == 0 or M[0][j] == 0:\n",
    "            M[i][j] = 0\n",
    "    if col0 == 0:\n",
    "        M[i][0] = 0\n",
    "\n",
    "print()\n",
    "for row in M:\n",
    "    print(row)"
   ]
  },
  {
   "cell_type": "code",
   "execution_count": null,
   "metadata": {},
   "outputs": [],
   "source": []
  },
  {
   "cell_type": "markdown",
   "metadata": {},
   "source": [
    "### Convolution Operation"
   ]
  },
  {
   "cell_type": "code",
   "execution_count": null,
   "metadata": {},
   "outputs": [],
   "source": []
  },
  {
   "cell_type": "code",
   "execution_count": null,
   "metadata": {},
   "outputs": [],
   "source": []
  }
 ],
 "metadata": {
  "kernelspec": {
   "display_name": "Python 3",
   "language": "python",
   "name": "python3"
  },
  "language_info": {
   "codemirror_mode": {
    "name": "ipython",
    "version": 3
   },
   "file_extension": ".py",
   "mimetype": "text/x-python",
   "name": "python",
   "nbconvert_exporter": "python",
   "pygments_lexer": "ipython3",
   "version": "3.6.9"
  }
 },
 "nbformat": 4,
 "nbformat_minor": 4
}
