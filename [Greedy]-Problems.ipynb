{
 "cells": [
  {
   "cell_type": "markdown",
   "metadata": {},
   "source": [
    "### `N` Meetings in a Room"
   ]
  },
  {
   "cell_type": "code",
   "execution_count": 5,
   "metadata": {},
   "outputs": [
    {
     "name": "stdout",
     "output_type": "stream",
     "text": [
      "Maximum number of meetings that can take place in room is:  4  and order is:  [0, 2, 4, 3]\n"
     ]
    }
   ],
   "source": [
    "M = [(1, 2), (0, 6), (3, 4), (8, 9), (5, 7), (8, 9)]\n",
    "\n",
    "n = len(M)\n",
    "\n",
    "info = [(M[i][0], M[i][1], i) for i in range(n)]    \n",
    "info.sort(key = lambda e: (e[1], e[2]))\n",
    "\n",
    "output = [info[0][2]]\n",
    "for i in range(1, n):\n",
    "    idx = output[-1]\n",
    "    if info[i][0] >= M[idx][1]:\n",
    "        output.append(info[i][2])\n",
    "        \n",
    "print(\"Maximum number of meetings that can take place in room is: \", len(output), \" and order is: \", output)"
   ]
  },
  {
   "cell_type": "markdown",
   "metadata": {},
   "source": [
    "### Maximum Number of Platforms Required"
   ]
  },
  {
   "cell_type": "code",
   "execution_count": 6,
   "metadata": {},
   "outputs": [
    {
     "name": "stdout",
     "output_type": "stream",
     "text": [
      "Maximum number of platforms required are 3\n"
     ]
    }
   ],
   "source": [
    "T = [(120, 600), (50, 550), (550, 700), (200, 500), (700, 900), (850, 1000)]\n",
    "\n",
    "n = len(T)\n",
    "\n",
    "A = [a for a, _ in T]\n",
    "D = [d for _, d in T]\n",
    "\n",
    "A.sort()\n",
    "D.sort()\n",
    "\n",
    "i = 0\n",
    "j = 0\n",
    "p = 0\n",
    "maxP = float('-inf')\n",
    "\n",
    "while i < n and j < n:\n",
    "    if A[i] <= D[j]:\n",
    "        p += 1\n",
    "        i += 1\n",
    "    elif A[i] > D[j]:\n",
    "        p -= 1\n",
    "        j += 1\n",
    "        \n",
    "    maxP = max(maxP, p)\n",
    "    \n",
    "print(f\"Maximum number of platforms required are {maxP}\")"
   ]
  },
  {
   "cell_type": "markdown",
   "metadata": {},
   "source": [
    "### Job Sequencing Problem"
   ]
  },
  {
   "cell_type": "code",
   "execution_count": 21,
   "metadata": {},
   "outputs": [
    {
     "name": "stdout",
     "output_type": "stream",
     "text": [
      "Maximum profit is 322 and Job sequence is [8, 6, 5, 2, 4, 3]\n"
     ]
    }
   ],
   "source": [
    "# Data: (id, deadline, profit)\n",
    "J = [(1, 4, 20), (2, 5, 60), (3, 6, 70), (4, 6, 65), (5, 4, 25), (6, 2, 80), (7, 2, 10), (8, 2, 22)]\n",
    "\n",
    "n = len(J)\n",
    "\n",
    "\n",
    "J.sort(key=lambda e: e[2], reverse=True)\n",
    "\n",
    "profit = 0\n",
    "max_deadline = float('-inf')\n",
    "\n",
    "for _, d, _ in J:\n",
    "    max_deadline = max(max_deadline, d)\n",
    "    \n",
    "jobs = [-1] * max_deadline\n",
    "\n",
    "for i in range(n):\n",
    "    idx = J[i][1] - 1\n",
    "    \n",
    "    for j in range(idx, -1, -1):\n",
    "        \n",
    "        if jobs[j] == -1:\n",
    "            jobs[j] = J[i][0]\n",
    "            profit += J[i][2]\n",
    "            break\n",
    "    \n",
    "print(f\"Maximum profit is {profit} and Job sequence is {jobs}\")"
   ]
  },
  {
   "cell_type": "markdown",
   "metadata": {},
   "source": [
    "### Fractional Knapsack Problem"
   ]
  },
  {
   "cell_type": "code",
   "execution_count": 30,
   "metadata": {},
   "outputs": [
    {
     "name": "stdout",
     "output_type": "stream",
     "text": [
      "Maximum value of Knapsack is 240.0\n"
     ]
    }
   ],
   "source": [
    "C = 50\n",
    "A = [(120, 30), (60, 10), (100, 20)]  # (value, weight)\n",
    "\n",
    "\n",
    "A.sort(key=lambda e: (e[0]/e[1]), reverse=True)\n",
    "\n",
    "n = len(A)\n",
    "maxValue = 0\n",
    "currWeight = 0\n",
    "\n",
    "for i in range(n):\n",
    "    \n",
    "    if currWeight + A[i][1] <= C:\n",
    "        maxValue += A[i][0]\n",
    "        currWeight += A[i][1]\n",
    "        \n",
    "    else:\n",
    "        cLeft = C - currWeight\n",
    "        maxValue += (A[i][0] / A[i][1]) * cLeft\n",
    "        break\n",
    "        \n",
    "print(f\"Maximum value of Knapsack is {maxValue}\")"
   ]
  },
  {
   "cell_type": "markdown",
   "metadata": {},
   "source": [
    "### Minimum Number of Coins to make Change"
   ]
  },
  {
   "cell_type": "code",
   "execution_count": 33,
   "metadata": {},
   "outputs": [
    {
     "name": "stdout",
     "output_type": "stream",
     "text": [
      "Minimum number of coins to make a change for $49 is 7, and coins are: [25, 10, 10, 1, 1, 1, 1]\n"
     ]
    }
   ],
   "source": [
    "V = 49\n",
    "coins = [1, 5, 10, 25, 50, 100]\n",
    "\n",
    "n = len(coins)\n",
    "\n",
    "value = V\n",
    "i = n - 1\n",
    "output = []\n",
    "minCoins = 0\n",
    "\n",
    "while V > 0 and i >= 0:\n",
    "    if coins[i] > V:\n",
    "        i -= 1\n",
    "    else:\n",
    "        V -= coins[i]\n",
    "        minCoins += 1\n",
    "        output.append(coins[i])\n",
    "\n",
    "print(f\"Minimum number of coins to make a change for ${value} is {minCoins}, and coins are: {output}\")"
   ]
  },
  {
   "cell_type": "code",
   "execution_count": null,
   "metadata": {},
   "outputs": [],
   "source": []
  }
 ],
 "metadata": {
  "kernelspec": {
   "display_name": "Python 3",
   "language": "python",
   "name": "python3"
  },
  "language_info": {
   "codemirror_mode": {
    "name": "ipython",
    "version": 3
   },
   "file_extension": ".py",
   "mimetype": "text/x-python",
   "name": "python",
   "nbconvert_exporter": "python",
   "pygments_lexer": "ipython3",
   "version": "3.6.9"
  }
 },
 "nbformat": 4,
 "nbformat_minor": 4
}
