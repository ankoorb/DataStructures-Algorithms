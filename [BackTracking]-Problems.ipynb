{
 "cells": [
  {
   "cell_type": "markdown",
   "metadata": {},
   "source": [
    "### Generalized Abbreviation : Recursion"
   ]
  },
  {
   "cell_type": "code",
   "execution_count": 10,
   "metadata": {},
   "outputs": [
    {
     "name": "stdout",
     "output_type": "stream",
     "text": [
      "['4', '3d', '2r1', '2rd', '1o2', '1o1d', '1or1', '1ord', 'w3', 'w2d', 'w1r1', 'w1rd', 'wo2', 'wo1d', 'wor1', 'word']\n"
     ]
    }
   ],
   "source": [
    "def abbreviation(s):\n",
    "    \n",
    "    def solve(s, result, count, i):\n",
    "        if i == len(s):\n",
    "            if count == 0:\n",
    "                output.append(result)\n",
    "            else:\n",
    "                output.append(result + str(count))\n",
    "            return\n",
    "        \n",
    "        solve(s, result, count + 1, i + 1)\n",
    "        \n",
    "        if count > 0:\n",
    "            solve(s, result + str(count) + s[i], 0, i + 1)\n",
    "        else:\n",
    "            solve(s, result + s[i], 0, i + 1)\n",
    "        \n",
    "        \n",
    "    result = \"\"\n",
    "    output = []\n",
    "    solve(s, result, 0, 0)\n",
    "    return output\n",
    "\n",
    "s = \"word\"\n",
    "output = abbreviation(s)\n",
    "print(output)"
   ]
  },
  {
   "cell_type": "markdown",
   "metadata": {},
   "source": [
    "### `n` Queens : Backtracking + Branch and Bound"
   ]
  },
  {
   "cell_type": "code",
   "execution_count": 4,
   "metadata": {},
   "outputs": [
    {
     "name": "stdout",
     "output_type": "stream",
     "text": [
      "[[(0, 1), (1, 3), (2, 0), (3, 2)], [(0, 2), (1, 0), (2, 3), (3, 1)]]\n"
     ]
    }
   ],
   "source": [
    "class Board(object):\n",
    "    def __init__(self, n):\n",
    "        self.n = n\n",
    "        self.board = [[0 for _ in range(n)] for _ in range(n)]\n",
    "        self.cols = [False for _ in range(n)]\n",
    "        self.diags = [False for _ in range(2 * n - 2)]\n",
    "        self.aDiags = [False for _ in range(2 * n - 2)]\n",
    "        \n",
    "    def solve(self, row, result, output):\n",
    "        if row == self.n:\n",
    "            output.append(result[:])\n",
    "            return\n",
    "        \n",
    "        for col in range(self.n):\n",
    "            if (self.cols[col] == False) and (self.diags[row + col] == False) and (\n",
    "                self.aDiags[row - col + self.n - 1] == False):\n",
    "                \n",
    "                self.board[row][col] = 1\n",
    "                result.append((row, col))\n",
    "                \n",
    "                self.cols[col] = True\n",
    "                self.diags[row + col] = True\n",
    "                self.aDiags[row - col + self.n - 1] = True\n",
    "                \n",
    "                self.solve(row + 1, result, output)\n",
    "                \n",
    "                # Backtrack\n",
    "                self.cols[col] = False\n",
    "                self.diags[row + col] = False\n",
    "                self.aDiags[row - col + self.n - 1] = False\n",
    "                \n",
    "                result.pop()\n",
    "                self.board[row][col] = 0\n",
    "                \n",
    "            \n",
    "    def nQueens(self):\n",
    "        result = []\n",
    "        output = []\n",
    "        self.solve(0, result, output)\n",
    "        return output\n",
    "    \n",
    "    def display(self):\n",
    "        for row in self.board:\n",
    "            print(row)\n",
    "            \n",
    "b = Board(4)\n",
    "output = b.nQueens()\n",
    "print(output)"
   ]
  },
  {
   "cell_type": "markdown",
   "metadata": {},
   "source": [
    "### Maximum Score Words Formed by Letters : Backtracking"
   ]
  },
  {
   "cell_type": "code",
   "execution_count": 30,
   "metadata": {},
   "outputs": [
    {
     "name": "stdout",
     "output_type": "stream",
     "text": [
      "23\n"
     ]
    }
   ],
   "source": [
    "words = [\"dog\", \"cat\", \"dad\", \"good\"]\n",
    "letters = [\"a\", \"a\", \"c\", \"d\", \"d\", \"d\", \"g\", \"o\", \"o\"]\n",
    "score = [1, 0, 9, 5, 0, 0, 3, 0, 0, 0, 0, 0, 0, 0, 2, 0, 0, 0, 0, 0, 0, 0, 0, 0, 0, 0]\n",
    "\n",
    "def maxScore(words, letters, score):\n",
    "\n",
    "    def solve(words, i):\n",
    "        if i == len(words):\n",
    "            return 0\n",
    "        \n",
    "        # Exclude word\n",
    "        exclude_score = 0 + solve(words, i + 1)\n",
    "        \n",
    "        # Include word\n",
    "        flag = True\n",
    "        word_score = 0\n",
    "        word = words[i]\n",
    "        \n",
    "        for c in word:\n",
    "            if freq[ord(c)-ord('a')] == 0:\n",
    "                flag = False\n",
    "                \n",
    "            freq[ord(c)-ord('a')] -= 1\n",
    "            word_score += score[ord(c)-ord('a')]\n",
    "            \n",
    "        include_score = 0\n",
    "        if flag == True:\n",
    "            include_score = word_score + solve(words, i + 1)\n",
    "            \n",
    "        # Backtrack\n",
    "        for c in word:\n",
    "            freq[ord(c)-ord('a')] += 1\n",
    "        \n",
    "        return max(exclude_score, include_score)\n",
    "    \n",
    "    freq = [0] * 26\n",
    "    for letter in letters:\n",
    "        freq[ord(letter)-ord('a')] += 1\n",
    "    \n",
    "    output = solve(words, 0)\n",
    "    return output\n",
    "    \n",
    "output = maxScore(words, letters, score)\n",
    "print(output)"
   ]
  },
  {
   "cell_type": "markdown",
   "metadata": {},
   "source": [
    "### Elimination Game / Josepheus Problem"
   ]
  },
  {
   "cell_type": "code",
   "execution_count": 24,
   "metadata": {},
   "outputs": [
    {
     "name": "stdout",
     "output_type": "stream",
     "text": [
      "4\n"
     ]
    }
   ],
   "source": [
    "def eliminate(n, k):\n",
    "    if n == 0:\n",
    "        return 0\n",
    "    \n",
    "    x = eliminate(n-1, k)\n",
    "    y = (x + k) % n # mapping x to y\n",
    "    \n",
    "    return y\n",
    "\n",
    "n = 10\n",
    "k = 4\n",
    "print(eliminate(n, k))"
   ]
  },
  {
   "cell_type": "markdown",
   "metadata": {},
   "source": [
    "### Lexicographical Numbers - Recursion"
   ]
  },
  {
   "cell_type": "code",
   "execution_count": 29,
   "metadata": {},
   "outputs": [
    {
     "name": "stdout",
     "output_type": "stream",
     "text": [
      "[1, 10, 11, 12, 13, 2, 3, 4, 5, 6, 7, 8, 9]\n"
     ]
    }
   ],
   "source": [
    "def lexicographical(n):\n",
    "    def solve(i, n):\n",
    "        if i > n:\n",
    "            return \n",
    "        \n",
    "        output.append(i)\n",
    "        for j in range(10):\n",
    "            if i * 10 + j > n:\n",
    "                return\n",
    "            solve(i * 10 + j, n)\n",
    "            \n",
    "    output = []\n",
    "    for i in range(1, 10):\n",
    "        solve(i, n)\n",
    "        \n",
    "    return output\n",
    "\n",
    "n = 13\n",
    "output = lexicographical(n)\n",
    "print(output)"
   ]
  },
  {
   "cell_type": "markdown",
   "metadata": {},
   "source": [
    "### Gold Mine - II : Recursion"
   ]
  },
  {
   "cell_type": "code",
   "execution_count": 76,
   "metadata": {},
   "outputs": [
    {
     "name": "stdout",
     "output_type": "stream",
     "text": [
      "[1, 2, 3, 4]\n",
      "[1, 2]\n",
      "[8, 6, 3, 4, 1, 3, 9, 4, 2, 8, 7, 1, 8, 2, 9, 3, 2]\n",
      "[5, 6, 7, 1, 9, 8]\n",
      "80\n"
     ]
    }
   ],
   "source": [
    "def maxGold(G):\n",
    "    \n",
    "    def solve(G, i, j, bag):\n",
    "        if i < 0 or i >= m or j < 0 or j >= n or G[i][j] == 0 or visited[i][j] == True:\n",
    "            return\n",
    "        \n",
    "        visited[i][j] = True\n",
    "        bag.append(G[i][j])\n",
    "        \n",
    "        solve(G, i-1, j, bag)\n",
    "        solve(G, i, j+1, bag)\n",
    "        solve(G, i+1, j, bag)\n",
    "        solve(G, i, j-1, bag)\n",
    "        \n",
    "    m = len(G)\n",
    "    n = len(G[0])\n",
    "    visited = [[False for _ in range(n)] for _ in range(m)]\n",
    "    \n",
    "    gold = 0\n",
    "    for i in range(m):\n",
    "        for j in range(n):\n",
    "            if G[i][j] != 0 and visited[i][j] == False:\n",
    "                bag = []\n",
    "                solve(G, i, j, bag)\n",
    "                print(bag)\n",
    "                gold = max(gold, sum(bag))\n",
    "                \n",
    "    return gold\n",
    "                \n",
    "                \n",
    "G = [[1, 0, 1, 2, 0, 8, 0],\n",
    "     [2, 0, 0, 0, 0, 6, 0],\n",
    "     [3, 0, 0, 9, 2, 3, 4],\n",
    "     [4, 0, 2, 3, 8, 3, 1],\n",
    "     [0, 0, 0, 0, 0, 9, 0],\n",
    "     [5, 6, 7, 0, 7, 4, 2],\n",
    "     [8, 9, 1, 0, 1, 0, 8]]\n",
    "\n",
    "output = maxGold(G)\n",
    "print(output)"
   ]
  },
  {
   "cell_type": "markdown",
   "metadata": {},
   "source": [
    "### Sudoku : Backtracking"
   ]
  },
  {
   "cell_type": "code",
   "execution_count": 93,
   "metadata": {
    "scrolled": false
   },
   "outputs": [
    {
     "name": "stdout",
     "output_type": "stream",
     "text": [
      "[3, 1, 6, 5, 7, 8, 4, 9, 2]\n",
      "[5, 2, 9, 1, 3, 4, 7, 6, 8]\n",
      "[4, 8, 7, 6, 2, 9, 5, 3, 1]\n",
      "[2, 6, 3, 4, 1, 5, 9, 8, 7]\n",
      "[9, 7, 4, 8, 6, 3, 1, 2, 5]\n",
      "[8, 5, 1, 7, 9, 2, 6, 4, 3]\n",
      "[1, 3, 8, 9, 4, 7, 2, 5, 6]\n",
      "[6, 9, 2, 3, 5, 1, 8, 7, 4]\n",
      "[7, 4, 5, 2, 8, 6, 3, 1, 9]\n"
     ]
    }
   ],
   "source": [
    "class Sudoku(object):\n",
    "    \n",
    "    def __init__(self, B):\n",
    "        self.B = B\n",
    "        self.n = len(B)\n",
    "        \n",
    "    def solve(self, i, j):\n",
    "        if i == self.n:\n",
    "            self.display()\n",
    "            return\n",
    "        \n",
    "        if j == self.n - 1:\n",
    "            ni = i + 1\n",
    "            nj = 0\n",
    "        else:\n",
    "            ni = i\n",
    "            nj = j + 1\n",
    "            \n",
    "        if self.B[i][j] != 0:\n",
    "            self.solve(ni, nj)\n",
    "        else:\n",
    "            for value in range(1, 10):\n",
    "                if self.isValid(i, j, value):\n",
    "                    \n",
    "                    self.B[i][j] = value\n",
    "                    \n",
    "                    self.solve(ni, nj)\n",
    "                    \n",
    "                    self.B[i][j] = 0\n",
    "            \n",
    "        \n",
    "    def isValid(self, i, j, value):\n",
    "        for col in range(self.n):\n",
    "            if self.B[i][col] == value:\n",
    "                return False\n",
    "            \n",
    "        for row in range(self.n):\n",
    "            if self.B[row][j] == value:\n",
    "                return False\n",
    "            \n",
    "        si = (i // 3) * 3\n",
    "        sj = (j // 3) * 3\n",
    "        \n",
    "        for i in range(3):\n",
    "            for j in range(3):\n",
    "                if self.B[i+si][j+sj] == value:\n",
    "                    return False\n",
    "                \n",
    "        return True\n",
    "            \n",
    "    def display(self):\n",
    "        for row in self.B:\n",
    "            print(row)\n",
    "        \n",
    "        \n",
    "B = [[3, 0, 6, 5, 0, 8, 4, 0, 0],\n",
    "     [5, 2, 0, 0, 0, 0, 0, 0, 0],\n",
    "     [0, 8, 7, 0, 0, 0, 0, 3, 1],\n",
    "     [0, 0, 3, 0, 1, 0, 0, 8, 0],\n",
    "     [9, 0, 0, 8, 6, 3, 0, 0, 5],\n",
    "     [0, 5, 0, 0, 9, 0, 6, 0, 0],\n",
    "     [1, 3, 0, 0, 0, 0, 2, 5, 0],\n",
    "     [0, 0, 0, 0, 0, 0, 0, 7, 4],\n",
    "     [0, 0, 5, 2, 0, 6, 3, 0, 0]]\n",
    "\n",
    "s = Sudoku(B)\n",
    "s.solve(0, 0)"
   ]
  },
  {
   "cell_type": "markdown",
   "metadata": {},
   "source": [
    "### Crossword Puzzle : Backtracking"
   ]
  },
  {
   "cell_type": "code",
   "execution_count": 94,
   "metadata": {},
   "outputs": [],
   "source": [
    "words = [\"HISTORY\", \"CIVICS\", \"MATHS\", \"PHYSICS\", \"GEOGRAPHY\", \"CHEMISTRY\"]\n",
    "\n",
    "B = [['+', '+', '+', '+', '+', '+', '+', '+', '+', '-'],\n",
    "     ['-', '+', '+', '+', '+', '+', '+', '+', '+', '-'],\n",
    "     ['-', '-', '-', '-', '-', '-', '-', '+', '+', '-'],\n",
    "     ['-', '+', '+', '+', '+', '+', '+', '+', '+', '-'],\n",
    "     ['-', '+', '+', '+', '+', '+', '+', '+', '+', '-'],\n",
    "     ['-', '+', '+', '+', '+', '-', '-', '-', '-', '-'],\n",
    "     ['-', '-', '-', '-', '-', '-', '+', '+', '+', '-'],\n",
    "     ['-', '+', '+', '+', '+', '+', '+', '+', '+', '-'],\n",
    "     ['+', '-', '-', '-', '-', '-', '-', '-', '-', '-'],\n",
    "     ['+', '+', '+', '+', '+', '+', '+', '+', '+', '+']]\n",
    "\n",
    "class Crossword(object):\n",
    "    \n",
    "    def __init__(self, B, words):\n",
    "        self.B = B\n",
    "        self.words = words\n",
    "        \n",
    "    def solve(self, idx):\n",
    "        \n",
    "        word = self.words[idx]\n",
    "        \n",
    "        for i in range(10):\n",
    "            for j in range(10):\n",
    "                if self.B[i][j] == '-' or self.B[i][j] == word[0]:\n",
    "                    if self.canPlaceHorizontally(i, j, word):\n",
    "                        self.placeHorizontally(i, j, word)\n",
    "                        self.solve(idx + 1)\n",
    "                        self.unplaceHorizontally(i, j, word)\n",
    "                \n",
    "                    if self.canPlaceVertically(i, j, word):\n",
    "                        self.placeVertically(i, j, word)\n",
    "                        self.solve(idx + 1)\n",
    "                        self.unplaceVertically(i, j, word)\n",
    "                        \n",
    "    def canPlaceHorizontally(self, i, j, word):\n",
    "        pass\n",
    "    \n",
    "    def placeHorizontally(self, i, j, word):\n",
    "        pass\n",
    "    \n",
    "    def unplaceHorizontally(self, i, j, word):\n",
    "        pass\n",
    "        \n",
    "    def canPlaceVertically(self, i, j, word):\n",
    "        pass\n",
    "    \n",
    "    def placeVertically(self, i, j, word):\n",
    "        pass\n",
    "    \n",
    "    def unplaceVertically(self, i, j, word):\n",
    "        pass"
   ]
  },
  {
   "cell_type": "code",
   "execution_count": null,
   "metadata": {},
   "outputs": [],
   "source": []
  },
  {
   "cell_type": "code",
   "execution_count": null,
   "metadata": {},
   "outputs": [],
   "source": []
  },
  {
   "cell_type": "code",
   "execution_count": null,
   "metadata": {},
   "outputs": [],
   "source": []
  },
  {
   "cell_type": "code",
   "execution_count": null,
   "metadata": {},
   "outputs": [],
   "source": []
  },
  {
   "cell_type": "code",
   "execution_count": null,
   "metadata": {},
   "outputs": [],
   "source": []
  },
  {
   "cell_type": "code",
   "execution_count": null,
   "metadata": {},
   "outputs": [],
   "source": []
  },
  {
   "cell_type": "code",
   "execution_count": null,
   "metadata": {},
   "outputs": [],
   "source": []
  },
  {
   "cell_type": "code",
   "execution_count": null,
   "metadata": {},
   "outputs": [],
   "source": []
  },
  {
   "cell_type": "code",
   "execution_count": null,
   "metadata": {},
   "outputs": [],
   "source": []
  },
  {
   "cell_type": "code",
   "execution_count": null,
   "metadata": {},
   "outputs": [],
   "source": []
  },
  {
   "cell_type": "code",
   "execution_count": null,
   "metadata": {},
   "outputs": [],
   "source": []
  },
  {
   "cell_type": "code",
   "execution_count": null,
   "metadata": {},
   "outputs": [],
   "source": []
  },
  {
   "cell_type": "code",
   "execution_count": null,
   "metadata": {},
   "outputs": [],
   "source": []
  },
  {
   "cell_type": "code",
   "execution_count": null,
   "metadata": {},
   "outputs": [],
   "source": []
  },
  {
   "cell_type": "code",
   "execution_count": null,
   "metadata": {},
   "outputs": [],
   "source": []
  },
  {
   "cell_type": "code",
   "execution_count": null,
   "metadata": {},
   "outputs": [],
   "source": []
  },
  {
   "cell_type": "code",
   "execution_count": null,
   "metadata": {},
   "outputs": [],
   "source": []
  },
  {
   "cell_type": "code",
   "execution_count": null,
   "metadata": {},
   "outputs": [],
   "source": []
  },
  {
   "cell_type": "code",
   "execution_count": null,
   "metadata": {},
   "outputs": [],
   "source": []
  },
  {
   "cell_type": "code",
   "execution_count": null,
   "metadata": {},
   "outputs": [],
   "source": []
  },
  {
   "cell_type": "code",
   "execution_count": null,
   "metadata": {},
   "outputs": [],
   "source": []
  },
  {
   "cell_type": "code",
   "execution_count": null,
   "metadata": {},
   "outputs": [],
   "source": []
  },
  {
   "cell_type": "code",
   "execution_count": null,
   "metadata": {},
   "outputs": [],
   "source": []
  },
  {
   "cell_type": "code",
   "execution_count": null,
   "metadata": {},
   "outputs": [],
   "source": []
  }
 ],
 "metadata": {
  "kernelspec": {
   "display_name": "Python 3",
   "language": "python",
   "name": "python3"
  },
  "language_info": {
   "codemirror_mode": {
    "name": "ipython",
    "version": 3
   },
   "file_extension": ".py",
   "mimetype": "text/x-python",
   "name": "python",
   "nbconvert_exporter": "python",
   "pygments_lexer": "ipython3",
   "version": "3.6.9"
  }
 },
 "nbformat": 4,
 "nbformat_minor": 4
}
