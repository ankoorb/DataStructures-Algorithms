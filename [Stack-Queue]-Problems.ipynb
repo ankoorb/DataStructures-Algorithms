{
 "cells": [
  {
   "cell_type": "markdown",
   "metadata": {},
   "source": [
    "### Duplicate Brackets"
   ]
  },
  {
   "cell_type": "code",
   "execution_count": 26,
   "metadata": {},
   "outputs": [
    {
     "name": "stdout",
     "output_type": "stream",
     "text": [
      "Duplicates in : ((a + b) + (c + d)) False\n",
      "Duplicates in : (a + b) + ((c + d)) True\n"
     ]
    }
   ],
   "source": [
    "sf = \"((a + b) + (c + d))\"\n",
    "st = \"(a + b) + ((c + d))\"\n",
    "\n",
    "def solve(s):\n",
    "    stack = []\n",
    "    for c in s:\n",
    "        if c == \")\":\n",
    "            if stack[-1] == \"(\":\n",
    "                return True\n",
    "            else:\n",
    "                while stack[-1] != \"(\":\n",
    "                    stack.pop()\n",
    "                stack.pop()\n",
    "        else:\n",
    "            stack.append(c)\n",
    "    return False\n",
    "\n",
    "print(f\"Duplicates in : {sf}\", solve(sf))\n",
    "print(f\"Duplicates in : {st}\", solve(st))"
   ]
  },
  {
   "cell_type": "markdown",
   "metadata": {},
   "source": [
    "### Balanced Brackets"
   ]
  },
  {
   "cell_type": "code",
   "execution_count": 10,
   "metadata": {},
   "outputs": [
    {
     "name": "stdout",
     "output_type": "stream",
     "text": [
      "[(a + b) + {(c + d) * (e / f)}] balanced?  True\n",
      "[(a + b) + {(c + d) * (e / f)]} balanced?  False\n",
      "[(a + b) + {(c + d) * (e / f)} balanced?  False\n",
      "[(a + b) + {(c + d) * (e / f)}]) balanced?  False\n"
     ]
    }
   ],
   "source": [
    "E = [\"[(a + b) + {(c + d) * (e / f)}]\", \n",
    "     \"[(a + b) + {(c + d) * (e / f)]}\",\n",
    "     \"[(a + b) + {(c + d) * (e / f)}\", \n",
    "     \"[(a + b) + {(c + d) * (e / f)}])\"]\n",
    "\n",
    "def solve(e):\n",
    "    stack = []\n",
    "    mapping = {\")\": \"(\", \"}\": \"{\", \"]\": \"[\"}\n",
    "    for c in e:\n",
    "        if c == \"(\" or c == \"{\" or c == \"[\":\n",
    "            stack.append(c)\n",
    "        elif c == \")\" or c == \"}\" or c == \"]\":\n",
    "            if len(stack) == 0:\n",
    "                return False\n",
    "            else:\n",
    "                if stack[-1] == mapping[c]:\n",
    "                    stack.pop()\n",
    "                else:\n",
    "                    return False\n",
    "        else:\n",
    "            continue\n",
    "            \n",
    "    return len(stack) == 0\n",
    "\n",
    "for e in E:\n",
    "    print(f\"{e} balanced? \", solve(e))"
   ]
  },
  {
   "cell_type": "markdown",
   "metadata": {},
   "source": [
    "### Next/Nearest Greater Element to Right - Backward (Better)"
   ]
  },
  {
   "cell_type": "code",
   "execution_count": 15,
   "metadata": {},
   "outputs": [
    {
     "name": "stdout",
     "output_type": "stream",
     "text": [
      "[5, 9, 12, 12, 12, -1, 8, -1, -1]\n"
     ]
    }
   ],
   "source": [
    "A = [2, 5, 9, 3, 1, 12, 6, 8, 7]\n",
    "\n",
    "n = len(A)\n",
    "output = [0] * n\n",
    "\n",
    "stack = [A[n-1]]\n",
    "output[n-1] = -1\n",
    "\n",
    "for i in range(n-2, -1, -1):\n",
    "    while len(stack) and stack[-1] <= A[i]:\n",
    "        stack.pop()\n",
    "    if len(stack):\n",
    "        output[i] = stack[-1]\n",
    "    else:\n",
    "        output[i] = -1\n",
    "    stack.append(A[i])\n",
    "        \n",
    "print(output)"
   ]
  },
  {
   "cell_type": "markdown",
   "metadata": {},
   "source": [
    "### Next/Nearest Greater Element to Right - Forward (Alternative)"
   ]
  },
  {
   "cell_type": "code",
   "execution_count": 17,
   "metadata": {},
   "outputs": [
    {
     "name": "stdout",
     "output_type": "stream",
     "text": [
      "[5, 9, 12, 12, 12, -1, 8, -1, -1]\n"
     ]
    }
   ],
   "source": [
    "A = [2, 5, 9, 3, 1, 12, 6, 8, 7]\n",
    "\n",
    "n = len(A)\n",
    "output = [0] * n\n",
    "\n",
    "stack = [0]\n",
    "\n",
    "for i in range(1, n):\n",
    "    while len(stack) and A[i] > A[stack[-1]]:\n",
    "        idx = stack[-1]\n",
    "        output[idx] = A[i]\n",
    "        stack.pop()\n",
    "    stack.append(i)\n",
    "    \n",
    "while len(stack):\n",
    "    idx = stack[-1]\n",
    "    output[idx] = -1\n",
    "    stack.pop()\n",
    "    \n",
    "print(output)"
   ]
  },
  {
   "cell_type": "markdown",
   "metadata": {},
   "source": [
    "### Next/Nearest Greater Element to Left"
   ]
  },
  {
   "cell_type": "code",
   "execution_count": 21,
   "metadata": {},
   "outputs": [
    {
     "name": "stdout",
     "output_type": "stream",
     "text": [
      "[-1, 9, 8, 7, 6, 5, 4, 3, 2, 1]\n"
     ]
    }
   ],
   "source": [
    "A = [2, 5, 9, 3, 1, 12, 6, 8, 7]\n",
    "\n",
    "n = len(A)\n",
    "output = [0] * n\n",
    "\n",
    "stack = [A[0]]\n",
    "output[0] = -1\n",
    "\n",
    "for i in range(1, n):\n",
    "    while len(stack) and stack[-1] <= A[i]:\n",
    "        stack.pop()\n",
    "    if len(stack):\n",
    "        output[i] = stack[-1]\n",
    "    else:\n",
    "        output[i] = -1\n",
    "    \n",
    "    stack.append(A[i])\n",
    "    \n",
    "print(output)"
   ]
  },
  {
   "cell_type": "markdown",
   "metadata": {},
   "source": [
    "### Next/Nearest Smaller Element to Right"
   ]
  },
  {
   "cell_type": "code",
   "execution_count": 24,
   "metadata": {},
   "outputs": [
    {
     "name": "stdout",
     "output_type": "stream",
     "text": [
      "[1, 3, 3, 1, -1, 6, -1, 7, -1]\n"
     ]
    }
   ],
   "source": [
    "A = [2, 5, 9, 3, 1, 12, 6, 8, 7]\n",
    "\n",
    "n = len(A)\n",
    "output = [0] * n\n",
    "\n",
    "stack = [A[n-1]]\n",
    "output[n-1] = -1\n",
    "\n",
    "for i in range(n-2, -1, -1):\n",
    "    while len(stack) and stack[-1] >= A[i]:\n",
    "        stack.pop()\n",
    "    if len(stack):\n",
    "        output[i] = stack[-1]\n",
    "    else:\n",
    "        output[i] = -1\n",
    "    \n",
    "    stack.append(A[i])\n",
    "    \n",
    "print(output)"
   ]
  },
  {
   "cell_type": "markdown",
   "metadata": {},
   "source": [
    "### Next/Nearest Smaller Element to Left"
   ]
  },
  {
   "cell_type": "code",
   "execution_count": 25,
   "metadata": {},
   "outputs": [
    {
     "name": "stdout",
     "output_type": "stream",
     "text": [
      "[-1, 2, 5, 2, -1, 1, 1, 6, 6]\n"
     ]
    }
   ],
   "source": [
    "A = [2, 5, 9, 3, 1, 12, 6, 8, 7]\n",
    "\n",
    "n = len(A)\n",
    "output = [0] * n\n",
    "\n",
    "stack = [A[0]]\n",
    "output[0] = -1\n",
    "\n",
    "for i in range(1, n):\n",
    "    while len(stack) and stack[-1] >= A[i]:\n",
    "        stack.pop()\n",
    "        \n",
    "    if len(stack):\n",
    "        output[i] = stack[-1]\n",
    "    else:\n",
    "        output[i] = -1\n",
    "    \n",
    "    stack.append(A[i])\n",
    "    \n",
    "print(output)"
   ]
  },
  {
   "cell_type": "markdown",
   "metadata": {},
   "source": [
    "### Stock Span"
   ]
  },
  {
   "cell_type": "code",
   "execution_count": 31,
   "metadata": {},
   "outputs": [
    {
     "data": {
      "text/plain": [
       "[1, 1, 1, 2, 1, 4, 6]"
      ]
     },
     "execution_count": 31,
     "metadata": {},
     "output_type": "execute_result"
    }
   ],
   "source": [
    "A = [100, 80, 60, 70, 60, 75, 85] \n",
    "\n",
    "n = len(A)\n",
    "output = [0] * n\n",
    "\n",
    "stack = [0]\n",
    "output[0] = 1\n",
    "\n",
    "for i in range(1, n):\n",
    "    while len(stack) and A[stack[-1]] <= A[i]:\n",
    "        stack.pop()\n",
    "    if len(stack):\n",
    "        output[i] = i - stack[-1]\n",
    "    else:\n",
    "        output[i] = i + 1\n",
    "    stack.append(i)\n",
    "    \n",
    "output"
   ]
  },
  {
   "cell_type": "markdown",
   "metadata": {},
   "source": [
    "### Largest Area Histogram"
   ]
  },
  {
   "cell_type": "code",
   "execution_count": 38,
   "metadata": {},
   "outputs": [
    {
     "name": "stdout",
     "output_type": "stream",
     "text": [
      "12\n"
     ]
    }
   ],
   "source": [
    "A = [6, 2, 5, 4, 5, 1, 6]\n",
    "\n",
    "n = len(A)\n",
    "\n",
    "stackR = [n-1]\n",
    "boundR = [0] * n\n",
    "boundR[n-1] = n\n",
    "\n",
    "for i in range(n-2, -1, -1):\n",
    "    while len(stackR) and A[stackR[-1]] >= A[i]:\n",
    "        stackR.pop()\n",
    "    if len(stackR):\n",
    "        boundR[i] = stackR[-1]\n",
    "    else:\n",
    "        boundR[i] = n\n",
    "    stackR.append(i)\n",
    "    \n",
    "stackL = [0]\n",
    "boundL = [0] * n\n",
    "boundL[0] = -1\n",
    "\n",
    "for i in range(1, n):\n",
    "    while len(stackL) and A[stackL[-1]] >= A[i]:\n",
    "        stackL.pop()\n",
    "    if len(stackL):\n",
    "        boundL[i] = stackL[-1]\n",
    "    else:\n",
    "        boundL[i] = -1\n",
    "    stackL.append(i)\n",
    "    \n",
    "maxArea = 0\n",
    "for i in range(n):\n",
    "    width = boundR[i] - boundL[i] - 1\n",
    "    area = width * A[i]\n",
    "    maxArea = max(maxArea, area)\n",
    "\n",
    "print(maxArea)"
   ]
  },
  {
   "cell_type": "markdown",
   "metadata": {},
   "source": [
    "### Sliding Window Maximum"
   ]
  },
  {
   "cell_type": "code",
   "execution_count": 192,
   "metadata": {},
   "outputs": [
    {
     "name": "stdout",
     "output_type": "stream",
     "text": [
      "[9, 9, 8, 14, 14, 14, 14]\n"
     ]
    }
   ],
   "source": [
    "A = [2, 9, 3, 8, 1, 7, 14, 12, 6, 3]\n",
    "k = 4\n",
    "\n",
    "n = len(A)\n",
    "\n",
    "stack = [n-1]\n",
    "ngr = [0] * n\n",
    "ngr[n-1] = float('inf')\n",
    "\n",
    "for i in range(n-2, -1, -1):\n",
    "    while len(stack) and A[stack[-1]] <= A[i]:\n",
    "        stack.pop()\n",
    "    if len(stack):\n",
    "        ngr[i] = stack[-1]\n",
    "    else:\n",
    "        ngr[i] = float('inf')\n",
    "    stack.append(i)\n",
    "    \n",
    "\n",
    "j = 0\n",
    "wMax = []\n",
    "for i in range(n - k + 1):\n",
    "    if j < i:\n",
    "        j = i\n",
    "    \n",
    "    while ngr[j] < i + k:\n",
    "        j = ngr[j]\n",
    "        \n",
    "    wMax.append(A[j])\n",
    "    \n",
    "print(wMax)"
   ]
  },
  {
   "cell_type": "markdown",
   "metadata": {},
   "source": [
    "### Infix Evaluation"
   ]
  },
  {
   "cell_type": "code",
   "execution_count": 83,
   "metadata": {},
   "outputs": [
    {
     "name": "stdout",
     "output_type": "stream",
     "text": [
      "-2.0\n"
     ]
    }
   ],
   "source": [
    "E = \"1 + 1\"\n",
    "E = \"2 + 6 * 4 / 8 - 3\"\n",
    "E = \"2 + ( 5 - 3 * 6 / 2 )\"\n",
    "\n",
    "E = E.split()\n",
    "\n",
    "def operation(x, y, operator):\n",
    "    if operator == \"+\":\n",
    "        return x + y\n",
    "    elif operator == \"-\":\n",
    "        return x - y\n",
    "    elif operator == \"*\":\n",
    "        return x * y\n",
    "    elif operator == \"/\":\n",
    "        return x / y\n",
    "    \n",
    "precedence = {\"+\": 1, \"-\": 1, \"*\": 2, \"/\": 2}\n",
    "\n",
    "n = len(E)\n",
    "\n",
    "stackN = []\n",
    "stackOp = []\n",
    "\n",
    "for i in range(n):\n",
    "    c = E[i]\n",
    "    if c == \"(\":\n",
    "        stackOp.append(c)\n",
    "    elif c.isdigit():\n",
    "        stackN.append(int(c))\n",
    "    elif c == \")\":\n",
    "        while stackOp[-1] != \"(\":\n",
    "            op = stackOp.pop()\n",
    "            y = stackN.pop()\n",
    "            x = stackN.pop()\n",
    "            v = operation(x, y, op)\n",
    "            stackN.append(v)\n",
    "        stackOp.pop()\n",
    "    elif c == \"+\" or c == \"-\" or c == \"*\" or c == \"/\":\n",
    "        while stackOp and stackOp[-1] != \"(\" and precedence[c] <= precedence[stackOp[-1]]:\n",
    "            op = stackOp.pop()\n",
    "            y = stackN.pop()\n",
    "            x = stackN.pop()\n",
    "            v = operation(x, y, op)\n",
    "            stackN.append(v)\n",
    "        stackOp.append(c)\n",
    "        \n",
    "while stackOp:\n",
    "    op = stackOp.pop()\n",
    "    y = stackN.pop()\n",
    "    x = stackN.pop()\n",
    "    v = operation(x, y, op)\n",
    "    stackN.append(v)\n",
    "    \n",
    "print(stackN[-1])"
   ]
  },
  {
   "cell_type": "markdown",
   "metadata": {},
   "source": [
    "### Infix Conversions: Infix to Prefix and Postfix"
   ]
  },
  {
   "cell_type": "code",
   "execution_count": 92,
   "metadata": {},
   "outputs": [
    {
     "name": "stdout",
     "output_type": "stream",
     "text": [
      "Prefix: +++a/*b+cd+efgh ,  Postfix: abcd+*ef+/+g+h+\n"
     ]
    }
   ],
   "source": [
    "E = \"a*(b-c+d)/e\"\n",
    "E = \"a+(b*(c+d)/(e+f))+g+h\"\n",
    "E = list(E)\n",
    "\n",
    "n = len(E)\n",
    "\n",
    "pre = []\n",
    "post = []\n",
    "operator = []\n",
    "\n",
    "for i in range(n):\n",
    "    c = E[i]\n",
    "    if c == \"(\":\n",
    "        operator.append(c)\n",
    "    elif c.isalpha():\n",
    "        pre.append(c)\n",
    "        post.append(c)\n",
    "    elif c == \")\":\n",
    "        while operator[-1] != \"(\":\n",
    "            op = operator.pop()\n",
    "            py = pre.pop()\n",
    "            px = pre.pop()\n",
    "            yp = post.pop()\n",
    "            xp = post.pop()\n",
    "            pv = op + px + py\n",
    "            vp = xp + yp + op\n",
    "            pre.append(pv)\n",
    "            post.append(vp)\n",
    "        operator.pop()\n",
    "    elif c in precedence:\n",
    "        while len(operator) > 0 and operator[-1] != \"(\" and precedence[c] <= precedence[operator[-1]]:\n",
    "            op = operator.pop()\n",
    "            py = pre.pop()\n",
    "            px = pre.pop()\n",
    "            yp = post.pop()\n",
    "            xp = post.pop()\n",
    "            pv = op + px + py\n",
    "            vp = xp + yp + op\n",
    "            pre.append(pv)\n",
    "            post.append(vp)\n",
    "        operator.append(c)\n",
    "        \n",
    "while len(operator) > 0:\n",
    "    op = operator.pop()\n",
    "    py = pre.pop()\n",
    "    px = pre.pop()\n",
    "    yp = post.pop()\n",
    "    xp = post.pop()\n",
    "    pv = op + px + py\n",
    "    vp = xp + yp + op\n",
    "    pre.append(pv)\n",
    "    post.append(vp)\n",
    "    \n",
    "print(\"Prefix:\", pre[-1], \", \", \"Postfix:\", post[-1])"
   ]
  },
  {
   "cell_type": "markdown",
   "metadata": {},
   "source": [
    "### Postfix: Evaluation and Postfix to Infix and Prefix Conversions"
   ]
  },
  {
   "cell_type": "code",
   "execution_count": 103,
   "metadata": {},
   "outputs": [
    {
     "name": "stdout",
     "output_type": "stream",
     "text": [
      "Postfix: 264*8/+3- = 2.0\n"
     ]
    }
   ],
   "source": [
    "# Evaluation\n",
    "\n",
    "E = \"264*8/+3-\"\n",
    "\n",
    "n = len(E)\n",
    "stack = []\n",
    "\n",
    "for i in range(n):\n",
    "    c = E[i]\n",
    "    if c in [\"+\", \"-\", \"*\", \"/\"]:\n",
    "        y = stack.pop()\n",
    "        x = stack.pop()\n",
    "        v = operation(x, y, c)\n",
    "        stack.append(v)\n",
    "    else:\n",
    "        stack.append(int(c))\n",
    "        \n",
    "print(f\"Postfix: {E} = {stack[-1]}\")"
   ]
  },
  {
   "cell_type": "code",
   "execution_count": 100,
   "metadata": {},
   "outputs": [
    {
     "name": "stdout",
     "output_type": "stream",
     "text": [
      "Postfix: abc*d/+e- => Infix: ((a+((b*c)/d))-e)\n"
     ]
    }
   ],
   "source": [
    "# Postfix to Infix\n",
    "\n",
    "E = \"abc*d/+e-\"\n",
    "\n",
    "n = len(E)\n",
    "stack = []\n",
    "\n",
    "for i in range(n):\n",
    "    c = E[i]\n",
    "    if c in [\"+\", \"-\", \"*\", \"/\"]:\n",
    "        y = stack.pop()\n",
    "        x = stack.pop()\n",
    "        v = \"(\" + x + c + y + \")\"\n",
    "        stack.append(v)\n",
    "    else:\n",
    "        stack.append(c)\n",
    "        \n",
    "print(f\"Postfix: {E} => Infix: {stack[-1]}\")"
   ]
  },
  {
   "cell_type": "code",
   "execution_count": 101,
   "metadata": {},
   "outputs": [
    {
     "name": "stdout",
     "output_type": "stream",
     "text": [
      "Postfix: abc*d/+e- => Prefix: -+a/*bcde\n"
     ]
    }
   ],
   "source": [
    "# Postfix to Prefix\n",
    "\n",
    "E = \"abc*d/+e-\"\n",
    "\n",
    "n = len(E)\n",
    "stack = []\n",
    "\n",
    "for i in range(n):\n",
    "    c = E[i]\n",
    "    if c in [\"+\", \"-\", \"*\", \"/\"]:\n",
    "        y = stack.pop()\n",
    "        x = stack.pop()\n",
    "        v = c + x + y\n",
    "        stack.append(v)\n",
    "    else:\n",
    "        stack.append(c)\n",
    "        \n",
    "print(f\"Postfix: {E} => Prefix: {stack[-1]}\")"
   ]
  },
  {
   "cell_type": "markdown",
   "metadata": {},
   "source": [
    "### Prefix: Evaluation and Prefix to Infix and Postfix Conversions¶"
   ]
  },
  {
   "cell_type": "code",
   "execution_count": 110,
   "metadata": {},
   "outputs": [
    {
     "name": "stdout",
     "output_type": "stream",
     "text": [
      "Prefix: -+2/*6483 = 2.0\n"
     ]
    }
   ],
   "source": [
    "# Evaluation\n",
    "\n",
    "E = \"-+2/*6483\"\n",
    "\n",
    "n = len(E)\n",
    "stack = []\n",
    "\n",
    "for i in range(n-1, -1, -1):\n",
    "    c = E[i]\n",
    "    if c in [\"+\", \"-\", \"*\", \"/\"]:\n",
    "        x = stack.pop()\n",
    "        y = stack.pop()\n",
    "        v = operation(x, y, c)\n",
    "        stack.append(v)\n",
    "    else:\n",
    "        stack.append(int(c))\n",
    "        \n",
    "print(f\"Prefix: {E} = {stack[-1]}\")"
   ]
  },
  {
   "cell_type": "code",
   "execution_count": 108,
   "metadata": {},
   "outputs": [
    {
     "name": "stdout",
     "output_type": "stream",
     "text": [
      "Prefix: -+a/*bcde => Infix: ((a+((b*c)/d))-e)\n"
     ]
    }
   ],
   "source": [
    "# Prefix to Infix\n",
    "\n",
    "E = \"-+a/*bcde\"\n",
    "\n",
    "n = len(E)\n",
    "stack = []\n",
    "\n",
    "for i in range(n-1, -1, -1):\n",
    "    c = E[i]\n",
    "    if c in [\"+\", \"-\", \"*\", \"/\"]:\n",
    "        x = stack.pop()\n",
    "        y = stack.pop()\n",
    "        v = \"(\" + x + c + y + \")\"\n",
    "        stack.append(v)\n",
    "    else:\n",
    "        stack.append(c)\n",
    "        \n",
    "print(f\"Prefix: {E} => Infix: {stack[-1]}\")"
   ]
  },
  {
   "cell_type": "code",
   "execution_count": 109,
   "metadata": {},
   "outputs": [
    {
     "name": "stdout",
     "output_type": "stream",
     "text": [
      "Prefix: -+a/*bcde => Postfix: abc*d/+e-\n"
     ]
    }
   ],
   "source": [
    "# Prefix to Postfix\n",
    "\n",
    "E = \"-+a/*bcde\"\n",
    "\n",
    "n = len(E)\n",
    "stack = []\n",
    "\n",
    "for i in range(n-1, -1, -1):\n",
    "    c = E[i]\n",
    "    if c in [\"+\", \"-\", \"*\", \"/\"]:\n",
    "        x = stack.pop()\n",
    "        y = stack.pop()\n",
    "        v = x + y + c\n",
    "        stack.append(v)\n",
    "    else:\n",
    "        stack.append(c)\n",
    "        \n",
    "print(f\"Prefix: {E} => Postfix: {stack[-1]}\")"
   ]
  },
  {
   "cell_type": "markdown",
   "metadata": {},
   "source": [
    "### Celebrity Problem"
   ]
  },
  {
   "cell_type": "code",
   "execution_count": 123,
   "metadata": {},
   "outputs": [
    {
     "name": "stdout",
     "output_type": "stream",
     "text": [
      "3\n"
     ]
    }
   ],
   "source": [
    "M = [[0, 1, 1, 1, 1],\n",
    "     [1, 0, 0, 1, 0],\n",
    "     [1, 0, 0, 1, 0],\n",
    "     [0, 0, 0, 0, 0],\n",
    "     [0, 1, 0, 1, 0]]\n",
    "\n",
    "n = len(M)\n",
    "\n",
    "stack = [i for i in range(n)]\n",
    "\n",
    "while len(stack) >= 2:\n",
    "    i = stack.pop()\n",
    "    j = stack.pop()\n",
    "    if M[i][j] == 1:\n",
    "        stack.append(j)\n",
    "    else:\n",
    "        stack.append(i)\n",
    "\n",
    "celebrity = True\n",
    "potential = stack.pop()\n",
    "\n",
    "for i in range(n):\n",
    "    if i != potential:\n",
    "        if M[i][potential] == 0 or M[potential][i] == 1:\n",
    "            celebrity = False\n",
    "        \n",
    "print(potential if celebrity else None)"
   ]
  },
  {
   "cell_type": "markdown",
   "metadata": {},
   "source": [
    "### Merge Overlapping Intervals"
   ]
  },
  {
   "cell_type": "code",
   "execution_count": 229,
   "metadata": {},
   "outputs": [
    {
     "name": "stdout",
     "output_type": "stream",
     "text": [
      "A:  [(1, 8), (5, 12), (14, 19), (22, 28), (25, 27), (27, 30)]\n",
      "Merged:  [(1, 12), (14, 19), (22, 30)]\n"
     ]
    }
   ],
   "source": [
    "A = [(22, 28), (1, 8), (25, 27), (14, 19), (27, 30), (5, 12)]\n",
    "\n",
    "A.sort(key=lambda e: e[0])\n",
    "\n",
    "n = len(A)\n",
    "stack = [A[0]]\n",
    "\n",
    "for i in range(1, n):\n",
    "    if A[i][0] > stack[-1][1]:\n",
    "        stack.append(A[i])\n",
    "    else:\n",
    "        interval = stack.pop()\n",
    "        start = interval[0]\n",
    "        end = max(interval[1], A[i][1])\n",
    "        stack.append((start, end))\n",
    "        \n",
    "        \n",
    "        \n",
    "print(\"A: \", A)\n",
    "print(\"Merged: \", stack)"
   ]
  },
  {
   "cell_type": "markdown",
   "metadata": {},
   "source": [
    "### Smallest Number Following Pattern"
   ]
  },
  {
   "cell_type": "code",
   "execution_count": 226,
   "metadata": {},
   "outputs": [
    {
     "name": "stdout",
     "output_type": "stream",
     "text": [
      "[3, 2, 1, 4, 6, 5, 7]\n"
     ]
    }
   ],
   "source": [
    "s = \"DDIDDDID\"\n",
    "s = \"DDIIDI\"\n",
    "\n",
    "n = len(s)\n",
    "output = []\n",
    "\n",
    "val = 1\n",
    "stack = []\n",
    "for i in range(n):\n",
    "    c = s[i]\n",
    "    if c == \"D\":\n",
    "        stack.append(val)\n",
    "        val += 1\n",
    "    else:\n",
    "        stack.append(val)\n",
    "        val += 1\n",
    "        while len(stack):\n",
    "            output.append(stack.pop())\n",
    "\n",
    "stack.append(val)\n",
    "while len(stack):\n",
    "    output.append(stack.pop())\n",
    "    \n",
    "print(output)"
   ]
  },
  {
   "cell_type": "markdown",
   "metadata": {},
   "source": [
    "### Normal Stack"
   ]
  },
  {
   "cell_type": "code",
   "execution_count": 222,
   "metadata": {},
   "outputs": [
    {
     "name": "stdout",
     "output_type": "stream",
     "text": [
      "Raise: StackOverFlow\n",
      "|5|\n",
      "|4|\n",
      "|3|\n",
      "|2|\n",
      "|1|\n",
      "Top:  5\n",
      "size:  5\n",
      "Raise: StackUnderFlow\n"
     ]
    }
   ],
   "source": [
    "class Stack(object):\n",
    "    \n",
    "    def __init__(self, capacity):\n",
    "        self.topIdx = -1\n",
    "        self.data = [0] * capacity\n",
    "        \n",
    "    def push(self, item):\n",
    "        if self.topIdx == len(self.data) - 1:\n",
    "            print(\"Raise: StackOverFlow\")\n",
    "        else:\n",
    "            self.topIdx += 1\n",
    "            self.data[self.topIdx] = item\n",
    "        \n",
    "    def display(self):\n",
    "        for i in range(self.topIdx, -1, -1):\n",
    "            print(\"|\" + str(self.data[i]) + \"|\")\n",
    "        \n",
    "    def top(self):\n",
    "        return self.data[self.topIdx]\n",
    "        \n",
    "    def pop(self):\n",
    "        if self.topIdx == -1:\n",
    "            print(\"Raise: StackUnderFlow\")\n",
    "            return -1\n",
    "        else:\n",
    "            val = self.top()\n",
    "            self.topIdx -= 1\n",
    "            return val\n",
    "        \n",
    "    def size(self):\n",
    "        return self.topIdx + 1\n",
    "        \n",
    "        \n",
    "s = Stack(5)\n",
    "\n",
    "A = [1, 2, 3, 4, 5, 6]\n",
    "\n",
    "for e in A:\n",
    "    s.push(e)\n",
    "\n",
    "s.display()\n",
    "\n",
    "print(\"Top: \", s.top())\n",
    "print(\"size: \", s.size())\n",
    "\n",
    "for _ in range(6):\n",
    "    s.pop()"
   ]
  },
  {
   "cell_type": "markdown",
   "metadata": {},
   "source": [
    "### Dynamic Stack"
   ]
  },
  {
   "cell_type": "code",
   "execution_count": 165,
   "metadata": {},
   "outputs": [
    {
     "name": "stdout",
     "output_type": "stream",
     "text": [
      "[1, 2, 3, 4, 5, 6, 7, 8, 9, 10]\n"
     ]
    }
   ],
   "source": [
    "class Stack(object):\n",
    "    \n",
    "    def __init__(self, capacity):\n",
    "        self.topIdx = -1\n",
    "        self.data = [0] * capacity\n",
    "        \n",
    "    def push(self, item):\n",
    "        if self.topIdx == len(self.data) - 1:\n",
    "            temp = [0] * 2 * self.size()\n",
    "            for i in range(self.size()):\n",
    "                temp[i] = self.data[i]\n",
    "            self.data = temp\n",
    "            self.topIdx += 1\n",
    "            self.data[self.topIdx] = item\n",
    "        else:\n",
    "            self.topIdx += 1\n",
    "            self.data[self.topIdx] = item\n",
    "        \n",
    "    def display(self):\n",
    "        for i in range(self.topIdx, -1, -1):\n",
    "            print(self.data[i])\n",
    "        \n",
    "    def top(self):\n",
    "        return self.data[self.topIdx]\n",
    "        \n",
    "    def pop(self):\n",
    "        if self.topIdx == -1:\n",
    "            print(\"Raise: StackUnderFlow\")\n",
    "            return -1\n",
    "        else:\n",
    "            val = self.top()\n",
    "            self.topIdx -= 1\n",
    "            return val\n",
    "        \n",
    "    def size(self):\n",
    "        return self.topIdx + 1\n",
    "        \n",
    "        \n",
    "s = Stack(5)\n",
    "\n",
    "A = [1, 2, 3, 4, 5, 6, 7, 8, 9, 10]\n",
    "\n",
    "for e in A:\n",
    "    s.push(e)\n",
    "    \n",
    "print(s.data)"
   ]
  },
  {
   "cell_type": "markdown",
   "metadata": {},
   "source": [
    "### Minimum Stack - I : Min value in O(1)"
   ]
  },
  {
   "cell_type": "code",
   "execution_count": 174,
   "metadata": {},
   "outputs": [
    {
     "name": "stdout",
     "output_type": "stream",
     "text": [
      "[10, 9, 8, 7, 6, 5, 4, 3, 2, 1]\n",
      "1\n",
      "[10, 9, 8, 7, 6, 5, 4, 3]\n"
     ]
    }
   ],
   "source": [
    "class MinStack(object):\n",
    "    \n",
    "    def __init__(self):\n",
    "        self.data = []\n",
    "        self.minData = []\n",
    "        \n",
    "    def _min(self):\n",
    "        if len(self.minData):\n",
    "            return self.minData[-1]\n",
    "        else:\n",
    "            print(\"Raise: StackUnderFlow\")\n",
    "            return -1\n",
    "        \n",
    "    def push(self, item):\n",
    "        if self.minData:\n",
    "            if item < self.minData[-1]:\n",
    "                self.minData.append(item)\n",
    "        else:\n",
    "            self.minData.append(item)\n",
    "        self.data.append(item)\n",
    "        \n",
    "    def display(self):\n",
    "        for i in range(self.size()-1, -1, -1):\n",
    "            print(self.data[i])\n",
    "        \n",
    "    def top(self):\n",
    "        return self.data[self.size()-1]\n",
    "        \n",
    "    def pop(self):\n",
    "        if len(self.data) == 0:\n",
    "            print(\"Raise: StackUnderFlow\")\n",
    "            return -1\n",
    "        else:\n",
    "            val = self.data.pop()\n",
    "            if val == self.minData[-1]:\n",
    "                self.minData.pop()\n",
    "            return val\n",
    "            \n",
    "        \n",
    "    def size(self):\n",
    "        return len(self.data)\n",
    "        \n",
    "        \n",
    "ms = MinStack()\n",
    "\n",
    "A = [10, 9, 8, 7, 6, 5, 4, 3, 2, 1]\n",
    "\n",
    "for e in A:\n",
    "    ms.push(e)\n",
    "    \n",
    "print(ms.data)\n",
    "print(ms._min())\n",
    "ms.pop()\n",
    "ms.pop()\n",
    "print(ms.minData)"
   ]
  },
  {
   "cell_type": "markdown",
   "metadata": {},
   "source": [
    "### Minimum Stack - II : Use O(1) space for min value"
   ]
  },
  {
   "cell_type": "code",
   "execution_count": null,
   "metadata": {},
   "outputs": [],
   "source": [
    "class MinStack(object):\n",
    "\n",
    "    def __init__(self):\n",
    "        self.stack = []\n",
    "        self.min = None \n",
    "        \n",
    "    def push(self, x):\n",
    "        if len(self.stack) == 0:\n",
    "            self.stack.append(x)\n",
    "            self.min = x\n",
    "        else:\n",
    "            if x >= self.min:\n",
    "                self.stack.append(x)\n",
    "            else:\n",
    "                self.stack.append(2 * x - self.min)\n",
    "                self.min = x\n",
    "                \n",
    "    def pop(self):\n",
    "        if len(self.stack) == 0:\n",
    "            raise IndexError\n",
    "            \n",
    "        if self.stack[-1] < self.min:\n",
    "            val = self.min\n",
    "            self.min = 2 * self.min - self.stack[-1]\n",
    "            self.stack.pop()\n",
    "            return val\n",
    "        return self.stack.pop()\n",
    "        \n",
    "    def top(self):\n",
    "        if len(self.stack) == 0:\n",
    "            raise IndexError\n",
    "        \n",
    "        if self.stack[-1] < self.min:\n",
    "            if self.stack[-1] < 0:\n",
    "                return self.min\n",
    "            else:\n",
    "                return 2 * self.min - self.stack[-1]\n",
    "        return self.stack[-1]\n",
    "        \n",
    "\n",
    "    def getMin(self):\n",
    "        if len(self.stack) == 0:\n",
    "            return -1\n",
    "        return self.min"
   ]
  },
  {
   "cell_type": "markdown",
   "metadata": {},
   "source": [
    "### Normal Queue"
   ]
  },
  {
   "cell_type": "code",
   "execution_count": 216,
   "metadata": {},
   "outputs": [
    {
     "name": "stdout",
     "output_type": "stream",
     "text": [
      "----------------\n",
      "10  8  5  4  1  \n",
      "----------------\n",
      "10\n",
      "8\n",
      "5\n",
      "5\n",
      "4\n",
      "1\n",
      "7\n",
      "Raise: StackUnderFlow\n",
      "-1\n"
     ]
    }
   ],
   "source": [
    "class Queue(object):\n",
    "    \n",
    "    def __init__(self, capacity=5):\n",
    "        self.capacity = capacity\n",
    "        self.data = [0] * self.capacity\n",
    "        self.head = 0\n",
    "        self.size = 0\n",
    "        \n",
    "    def add(self, x):\n",
    "        if self.size == len(self.data):\n",
    "            print(\"Raise: StackOverFlow\")\n",
    "        else:\n",
    "            tail = (self.head + self.size) % self.capacity\n",
    "            self.data[tail] = x\n",
    "            self.size += 1\n",
    "    \n",
    "    def remove(self):\n",
    "        if self.size == 0:\n",
    "            print(\"Raise: StackUnderFlow\")\n",
    "            return -1\n",
    "        else:\n",
    "            val = self.data[self.head]\n",
    "            self.head = (self.head + 1) % self.capacity\n",
    "            self.size -= 1\n",
    "            return val\n",
    "        \n",
    "    def front(self):\n",
    "        if self.size == 0:\n",
    "            return -1\n",
    "        else:\n",
    "            return self.data[self.head]\n",
    "    \n",
    "    def display(self):\n",
    "        s = \"\"\n",
    "        for i in range(self.size):\n",
    "            idx = (i + self.head) % self.capacity\n",
    "            s += str(self.data[idx]) + \"  \"\n",
    "        \n",
    "        print(\"-\" * len(s))\n",
    "        print(s)\n",
    "        print(\"-\" * len(s))\n",
    "        \n",
    "q = Queue(5)\n",
    "\n",
    "A = [10, 8, 5, 4, 1]\n",
    "\n",
    "for e in A:\n",
    "    q.add(e)\n",
    "    \n",
    "q.display()    \n",
    "\n",
    "print(q.remove())\n",
    "print(q.remove())\n",
    "print(q.front())\n",
    "q.add(7)\n",
    "print(q.remove())\n",
    "print(q.remove())\n",
    "print(q.remove())\n",
    "print(q.remove())\n",
    "print(q.remove())"
   ]
  },
  {
   "cell_type": "markdown",
   "metadata": {},
   "source": [
    "### Dynamic Queue"
   ]
  },
  {
   "cell_type": "code",
   "execution_count": 220,
   "metadata": {},
   "outputs": [
    {
     "name": "stdout",
     "output_type": "stream",
     "text": [
      "10\n",
      "8\n",
      "------------\n",
      "5  4  1  2  \n",
      "------------\n",
      "---------------\n",
      "5  4  1  2  6  \n",
      "---------------\n",
      "------------------\n",
      "3  4  1  2  6  3  \n",
      "------------------\n",
      "---------------------\n",
      "3  7  1  2  6  3  7  \n",
      "---------------------\n"
     ]
    }
   ],
   "source": [
    "class Queue(object):\n",
    "    \n",
    "    def __init__(self, capacity=5):\n",
    "        self.capacity = capacity\n",
    "        self.data = [0] * self.capacity\n",
    "        self.head = 0\n",
    "        self.size = 0\n",
    "        \n",
    "    def add(self, x):\n",
    "        if self.size == len(self.data):\n",
    "            temp = [0] * (2 * self.capacity)\n",
    "            for i in range(self.size):\n",
    "                idx = (i + self.head) % self.capacity\n",
    "                temp[i] = self.data[idx]\n",
    "            self.data = temp\n",
    "            self.head = 0\n",
    "            tail = (self.head + self.size) % self.capacity\n",
    "            self.data[tail] = x\n",
    "            self.size += 1\n",
    "        else:\n",
    "            tail = (self.head + self.size) % self.capacity\n",
    "            self.data[tail] = x\n",
    "            self.size += 1\n",
    "    \n",
    "    def remove(self):\n",
    "        if self.size == 0:\n",
    "            print(\"Raise: StackUnderFlow\")\n",
    "            return -1\n",
    "        else:\n",
    "            val = self.data[self.head]\n",
    "            self.head = (self.head + 1) % self.capacity\n",
    "            self.size -= 1\n",
    "            return val\n",
    "        \n",
    "    def front(self):\n",
    "        if self.size == 0:\n",
    "            return -1\n",
    "        else:\n",
    "            return self.data[self.head]\n",
    "    \n",
    "    def display(self):\n",
    "        s = \"\"\n",
    "        for i in range(self.size):\n",
    "            idx = (i + self.head) % self.capacity\n",
    "            s += str(self.data[idx]) + \"  \"\n",
    "        \n",
    "        print(\"-\" * len(s))\n",
    "        print(s)\n",
    "        print(\"-\" * len(s))\n",
    "        \n",
    "q = Queue(5)\n",
    "\n",
    "A = [10, 8, 5, 4, 1]\n",
    "\n",
    "for e in A:\n",
    "    q.add(e)\n",
    "    \n",
    "print(q.remove())\n",
    "print(q.remove())\n",
    "\n",
    "B = [2, 6, 3, 7]\n",
    "for e in B:\n",
    "    q.add(e)\n",
    "    q.display()"
   ]
  },
  {
   "cell_type": "markdown",
   "metadata": {},
   "source": [
    "# Extra"
   ]
  },
  {
   "cell_type": "markdown",
   "metadata": {},
   "source": [
    "### String Compare after deletion `stack`"
   ]
  },
  {
   "cell_type": "code",
   "execution_count": 231,
   "metadata": {},
   "outputs": [
    {
     "name": "stdout",
     "output_type": "stream",
     "text": [
      "False\n"
     ]
    }
   ],
   "source": [
    "s = \"zb#c\"\n",
    "t = \"zd#d\"\n",
    "\n",
    "stackS = []\n",
    "stackT = []\n",
    "\n",
    "for c in s:\n",
    "    if c == \"#\":\n",
    "        stackS.pop()\n",
    "    else:\n",
    "        stackS.append(c)\n",
    "        \n",
    "for c in t:\n",
    "    if c == \"#\":\n",
    "        stackT.pop()\n",
    "    else:\n",
    "        stackT.append(c)\n",
    "        \n",
    "while stackS and stackT:\n",
    "    if stackS.pop() != stackT.pop():\n",
    "        print(False)\n",
    "        break"
   ]
  },
  {
   "cell_type": "markdown",
   "metadata": {},
   "source": [
    "### Print Binary Numbers from 1 to N `queue`"
   ]
  },
  {
   "cell_type": "code",
   "execution_count": 9,
   "metadata": {},
   "outputs": [
    {
     "data": {
      "text/plain": [
       "['1000', '1001', '1010', '1011', '1100', '1101', '1110', '1111']"
      ]
     },
     "execution_count": 9,
     "metadata": {},
     "output_type": "execute_result"
    }
   ],
   "source": [
    "from collections import deque\n",
    "\n",
    "n = 8\n",
    "\n",
    "Q = deque(['1'])\n",
    "n -= 1\n",
    "output = []\n",
    "\n",
    "while n != 0:\n",
    "    d = Q.popleft()\n",
    "    if n != 0:\n",
    "        Q.append(d + \"0\")\n",
    "    if n != 0:\n",
    "        Q.append(d + \"1\")\n",
    "    n -= 1\n",
    "        \n",
    "while Q:\n",
    "    output.append(Q.popleft())\n",
    "    \n",
    "output"
   ]
  },
  {
   "cell_type": "markdown",
   "metadata": {},
   "source": [
    "### Driving a Mustang"
   ]
  },
  {
   "cell_type": "code",
   "execution_count": 12,
   "metadata": {},
   "outputs": [
    {
     "name": "stdout",
     "output_type": "stream",
     "text": [
      "1\n"
     ]
    }
   ],
   "source": [
    "fuel = [4, 6, 6, 5]\n",
    "cost = [7, 3, 4, 5]\n",
    "\n",
    "n = len(fuel)\n",
    "\n",
    "start = 0\n",
    "end = 1\n",
    "\n",
    "curr_fuel = fuel[start] - cost[start]\n",
    "while end != start and curr_fuel < 0:\n",
    "    while(curr_fuel < 0 and start != end):\n",
    "        curr_fuel -= fuel[start] - cost[start]\n",
    "        start = (start + 1) % n \n",
    "        if start == 0: \n",
    "            print(-1)\n",
    "            break\n",
    "  \n",
    "    curr_fuel += fuel[end] - cost[end] \n",
    "\n",
    "    end = (end + 1) % n\n",
    "    \n",
    "print(start)"
   ]
  },
  {
   "cell_type": "code",
   "execution_count": null,
   "metadata": {},
   "outputs": [],
   "source": []
  }
 ],
 "metadata": {
  "kernelspec": {
   "display_name": "Python 3",
   "language": "python",
   "name": "python3"
  },
  "language_info": {
   "codemirror_mode": {
    "name": "ipython",
    "version": 3
   },
   "file_extension": ".py",
   "mimetype": "text/x-python",
   "name": "python",
   "nbconvert_exporter": "python",
   "pygments_lexer": "ipython3",
   "version": "3.6.9"
  }
 },
 "nbformat": 4,
 "nbformat_minor": 4
}
