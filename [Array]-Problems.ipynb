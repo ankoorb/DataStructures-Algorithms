{
 "cells": [
  {
   "cell_type": "markdown",
   "metadata": {},
   "source": [
    "### Span of Array"
   ]
  },
  {
   "cell_type": "code",
   "execution_count": null,
   "metadata": {},
   "outputs": [],
   "source": [
    "A = [6, 15, 30, 40, 4, 11, 9]\n",
    "\n",
    "n = len(A)\n",
    "eMax = A[0]\n",
    "eMin = A[0]\n",
    "for i in range(1, n):\n",
    "    if A[i] > eMax:\n",
    "        eMax = A[i]\n",
    "    if A[i] < eMin:\n",
    "        eMin = A[i]\n",
    "print(eMax - eMin)"
   ]
  },
  {
   "cell_type": "markdown",
   "metadata": {},
   "source": [
    "### Find Element in Array"
   ]
  },
  {
   "cell_type": "code",
   "execution_count": null,
   "metadata": {},
   "outputs": [],
   "source": [
    "k = 40\n",
    "A = [6, 15, 30, 40, 4, 11, 9]\n",
    "\n",
    "n = len(A)\n",
    "for i in range(n):\n",
    "    if A[i] == k:\n",
    "        print(i)\n",
    "        break\n",
    "else:\n",
    "    print(-1)"
   ]
  },
  {
   "cell_type": "markdown",
   "metadata": {},
   "source": [
    "### Bar Chart"
   ]
  },
  {
   "cell_type": "code",
   "execution_count": null,
   "metadata": {},
   "outputs": [],
   "source": [
    "A = [3, 1, 0, 7, 5]\n",
    "\n",
    "n = len(A)\n",
    "eMax = max(A)\n",
    "\n",
    "for i in range(eMax, 0, -1):\n",
    "    s = \"\"\n",
    "    for j in range(n):\n",
    "        if A[j] >= i:\n",
    "            s += \"*\\t\"\n",
    "        else:\n",
    "            s += \"\\t\"\n",
    "    print(s)"
   ]
  },
  {
   "cell_type": "markdown",
   "metadata": {},
   "source": [
    "### Sum of 2 Arrays"
   ]
  },
  {
   "cell_type": "code",
   "execution_count": null,
   "metadata": {},
   "outputs": [],
   "source": [
    "A = [9, 3, 4, 6, 8]\n",
    "B = [1, 9, 8, 8]\n",
    "\n",
    "C = []\n",
    "m = len(A)\n",
    "n = len(B)\n",
    "\n",
    "i = m - 1\n",
    "j = n - 1\n",
    "carry = 0\n",
    "while i >= 0 or j >= 0 or carry:\n",
    "    \n",
    "    eA = 0 if i < 0 else A[i]\n",
    "    eB = 0 if j < 0 else B[j]    \n",
    "        \n",
    "    s = eA + eB + carry\n",
    "    carry = s // 10\n",
    "    C.append(s % 10)\n",
    "    i -= 1\n",
    "    j -= 1\n",
    "C.reverse()\n",
    "C"
   ]
  },
  {
   "cell_type": "markdown",
   "metadata": {},
   "source": [
    "### Difference of 2 Arrays"
   ]
  },
  {
   "cell_type": "code",
   "execution_count": null,
   "metadata": {},
   "outputs": [],
   "source": [
    "# NOTE: A > B\n",
    "A = [3, 3, 3, 3, 3]\n",
    "B = [2, 3, 6, 4, 2]\n",
    "\n",
    "# A = [1, 0, 0, 0]\n",
    "# B = [1]\n",
    "\n",
    "# A = [1, 0, 0, 0]\n",
    "# B = [9, 9, 9]\n",
    "\n",
    "C = []\n",
    "m = len(A)\n",
    "n = len(B)\n",
    "\n",
    "i = m - 1\n",
    "j = n - 1\n",
    "\n",
    "borrow = 0\n",
    "while i >= 0:\n",
    "    eA = A[i]\n",
    "    eB = 0 if j < 0 else B[j]\n",
    "    \n",
    "    eA += borrow\n",
    "    if eA < eB:\n",
    "        eA += 10\n",
    "        borrow = -1\n",
    "    else:\n",
    "        borrow = 0\n",
    "        \n",
    "        \n",
    "    d = eA - eB\n",
    "    C.append(d)\n",
    "    i -= 1\n",
    "    j -= 1\n",
    "    \n",
    "while C[-1] == 0:\n",
    "    C.pop()\n",
    "    \n",
    "C.reverse()\n",
    "print(C)"
   ]
  },
  {
   "cell_type": "markdown",
   "metadata": {},
   "source": [
    "### Reverse an Array"
   ]
  },
  {
   "cell_type": "code",
   "execution_count": null,
   "metadata": {},
   "outputs": [],
   "source": [
    "def reverse(A, i, j):\n",
    "    while i < j:\n",
    "        temp = A[i]\n",
    "        A[i] = A[j]\n",
    "        A[j] = temp\n",
    "        i += 1\n",
    "        j -= 1\n",
    "        \n",
    "A = [\"A\", \"P\", \"P\", \"L\", \"E\"]\n",
    "n = len(A)\n",
    "reverse(A, 0, n - 1)\n",
    "print(A)"
   ]
  },
  {
   "cell_type": "markdown",
   "metadata": {},
   "source": [
    "### Rotate an Array"
   ]
  },
  {
   "cell_type": "code",
   "execution_count": null,
   "metadata": {},
   "outputs": [],
   "source": [
    "A = [1, 2, 3, 4, 5, 6, 7, 8]\n",
    "k = -1\n",
    "\n",
    "def rotate(A, k):\n",
    "    n = len(A)\n",
    "    k = k % n\n",
    "    reverse(A, 0, n - k - 1)\n",
    "    reverse(A, n - k, n - 1)\n",
    "    reverse(A, 0, n - 1)\n",
    "    \n",
    "rotate(A, k)\n",
    "A"
   ]
  },
  {
   "cell_type": "markdown",
   "metadata": {},
   "source": [
    "### Inverse of an Array"
   ]
  },
  {
   "cell_type": "code",
   "execution_count": null,
   "metadata": {},
   "outputs": [],
   "source": [
    "A = [3, 4, 1, 2, 0]\n",
    "\n",
    "n = len(A)\n",
    "I = [0] * n\n",
    "for i in range(n):\n",
    "    idx = A[i]\n",
    "    I[idx] = i\n",
    "    \n",
    "print(I)"
   ]
  },
  {
   "cell_type": "markdown",
   "metadata": {},
   "source": [
    "### All subarrays of an Array"
   ]
  },
  {
   "cell_type": "code",
   "execution_count": 2,
   "metadata": {},
   "outputs": [
    {
     "data": {
      "text/plain": [
       "[['A'],\n",
       " ['A', 'B'],\n",
       " ['A', 'B', 'C'],\n",
       " ['A', 'B', 'C', 'D'],\n",
       " ['B'],\n",
       " ['B', 'C'],\n",
       " ['B', 'C', 'D'],\n",
       " ['C'],\n",
       " ['C', 'D'],\n",
       " ['D']]"
      ]
     },
     "execution_count": 2,
     "metadata": {},
     "output_type": "execute_result"
    }
   ],
   "source": [
    "X = ['A', 'B', 'C', 'D']\n",
    "\n",
    "n = len(X)\n",
    "output = []\n",
    "for i in range(n):\n",
    "    for j in range(i, n):\n",
    "        temp = []\n",
    "        for k in range(i, j + 1):\n",
    "            temp.append(X[k])\n",
    "        output.append(temp)\n",
    "\n",
    "output"
   ]
  },
  {
   "cell_type": "markdown",
   "metadata": {},
   "source": [
    "### Subsets of an Array"
   ]
  },
  {
   "cell_type": "code",
   "execution_count": 1,
   "metadata": {},
   "outputs": [
    {
     "name": "stdout",
     "output_type": "stream",
     "text": [
      "[[], ['A'], ['B'], ['A', 'B'], ['C'], ['A', 'C'], ['B', 'C'], ['A', 'B', 'C']]\n"
     ]
    }
   ],
   "source": [
    "X = ['A', 'B', 'C']\n",
    "\n",
    "n = len(X)\n",
    "subsets = []\n",
    "limit = 2**n\n",
    "for i in range(limit):\n",
    "    idx = i\n",
    "    subset = []\n",
    "    for j in range(n):\n",
    "        r = idx % 2\n",
    "        idx = idx // 2\n",
    "        if r == 0:\n",
    "            continue\n",
    "        else:\n",
    "            subset.append(X[j])\n",
    "    subsets.append(subset)\n",
    "\n",
    "print(subsets)"
   ]
  },
  {
   "cell_type": "code",
   "execution_count": null,
   "metadata": {},
   "outputs": [],
   "source": [
    "# Subsets of a string\n",
    "S = \"ABC\"\n",
    "\n",
    "n = len(S)\n",
    "subsets = []\n",
    "limit = 2**n\n",
    "for i in range(limit):\n",
    "    s = \"\"\n",
    "    idx = i\n",
    "    for j in range(n - 1, -1, -1):\n",
    "        r = idx % 2\n",
    "        idx = idx // 2\n",
    "        if r == 0:\n",
    "            s = \"\" + s\n",
    "        else:\n",
    "            s = S[j] + s\n",
    "    subsets.append(s)\n",
    "    \n",
    "print(subsets)"
   ]
  },
  {
   "cell_type": "markdown",
   "metadata": {},
   "source": [
    "### Binary Search"
   ]
  },
  {
   "cell_type": "code",
   "execution_count": null,
   "metadata": {},
   "outputs": [],
   "source": [
    "A = [10, 20, 30, 40, 50, 60, 70, 80, 90]\n",
    "k = 70\n",
    "\n",
    "n = len(A)\n",
    "low = 0\n",
    "high = n - 1\n",
    "while low <= high:\n",
    "    mid = low + (high - low) // 2\n",
    "    if A[mid] == k:\n",
    "        print(mid)\n",
    "        break\n",
    "    elif A[mid] < k:\n",
    "        low = mid + 1\n",
    "    else:\n",
    "        high = mid - 1\n",
    "else:\n",
    "    print(-1)"
   ]
  },
  {
   "cell_type": "markdown",
   "metadata": {},
   "source": [
    "### Ceil and Floor of a value from an Array"
   ]
  },
  {
   "cell_type": "code",
   "execution_count": null,
   "metadata": {},
   "outputs": [],
   "source": [
    "A = [10, 20, 30, 40, 50, 60, 70, 80, 90]\n",
    "k = 30\n",
    "\n",
    "n = len(A)\n",
    "ceil = 0\n",
    "floor = 0\n",
    "\n",
    "low = 0\n",
    "high = n - 1\n",
    "while low <= high:\n",
    "    mid = low + (high - low) // 2\n",
    "    if k > A[mid]:\n",
    "        low = mid + 1\n",
    "        floor = mid\n",
    "    elif k < A[mid]:\n",
    "        high = mid - 1\n",
    "        ceil = mid\n",
    "    else:\n",
    "        ceil = mid\n",
    "        floor = mid\n",
    "        break\n",
    "        \n",
    "print('Floor: ', A[floor], ', Ceil: ', A[ceil])"
   ]
  },
  {
   "cell_type": "markdown",
   "metadata": {},
   "source": [
    "### First index and last index"
   ]
  },
  {
   "cell_type": "code",
   "execution_count": null,
   "metadata": {},
   "outputs": [],
   "source": [
    "# First\n",
    "A = [10, 10, 10, 20, 20, 30, 30, 30, 40, 40]\n",
    "k  = 40\n",
    "\n",
    "n = len(A)\n",
    "first = -1\n",
    "low = 0\n",
    "high = n - 1\n",
    "\n",
    "while low <= high:\n",
    "    mid = low + (high - low) // 2\n",
    "    if A[mid] == k:\n",
    "        first = mid\n",
    "        high = mid - 1\n",
    "    elif A[mid] > k:\n",
    "        high = mid - 1\n",
    "    else:\n",
    "        low = mid + 1\n",
    "        \n",
    "print(first)"
   ]
  },
  {
   "cell_type": "code",
   "execution_count": null,
   "metadata": {},
   "outputs": [],
   "source": [
    "# Last\n",
    "A = [10, 10, 10, 20, 20, 30, 30, 30, 40, 40]\n",
    "k  = 30\n",
    "\n",
    "n = len(A)\n",
    "last = -1\n",
    "low = 0\n",
    "high = n - 1\n",
    "\n",
    "while low <= high:\n",
    "    mid = low + (high - low) // 2\n",
    "    if A[mid] == k:\n",
    "        last = mid\n",
    "        low = mid + 1\n",
    "    elif A[mid] > k:\n",
    "        high = mid - 1\n",
    "    else:\n",
    "        low = mid + 1\n",
    "        \n",
    "print(last)"
   ]
  },
  {
   "cell_type": "markdown",
   "metadata": {},
   "source": [
    "### Remove Duplicate Elements from a Sorted Array"
   ]
  },
  {
   "cell_type": "code",
   "execution_count": 33,
   "metadata": {},
   "outputs": [
    {
     "name": "stdout",
     "output_type": "stream",
     "text": [
      "4\n"
     ]
    }
   ],
   "source": [
    "A = [1, 1, 1, 2, 2, 2, 2, 3, 3, 4, 4, 5, 6, 6]\n",
    "A = [1, 1, 1, 2, 2, 3, 3, 4]\n",
    "\n",
    "n = len(A)\n",
    "\n",
    "i = 0\n",
    "j = i + 1\n",
    "while j < n:\n",
    "    if A[i] != A[j]:\n",
    "        i += 1\n",
    "        temp = A[i]\n",
    "        A[i] = A[j]\n",
    "        A[j] = temp\n",
    "    j += 1\n",
    "        \n",
    "print(i + 1)"
   ]
  },
  {
   "cell_type": "markdown",
   "metadata": {},
   "source": [
    "### Next Permutation"
   ]
  },
  {
   "cell_type": "code",
   "execution_count": 29,
   "metadata": {},
   "outputs": [
    {
     "name": "stdout",
     "output_type": "stream",
     "text": [
      "[1, 4, 2, 3, 5]\n"
     ]
    }
   ],
   "source": [
    "A = [1, 3, 5, 4, 2]\n",
    "# A = [5, 4, 3, 2, 1]\n",
    "\n",
    "n = len(A)\n",
    "\n",
    "for i in range(n-2, -1, -1):\n",
    "    if A[i] <= A[i+1]:\n",
    "        break\n",
    "        \n",
    "for j in range(n-1, -1, -1):\n",
    "    if A[i] < A[j]:\n",
    "        break\n",
    "        \n",
    "temp = A[i]\n",
    "A[i] = A[j]\n",
    "A[j] = temp\n",
    "\n",
    "\n",
    "low = i + 1 if i != 0 else 0\n",
    "high = n - 1\n",
    "while low < high:\n",
    "    temp = A[low]\n",
    "    A[low] = A[high]\n",
    "    A[high] = temp\n",
    "    low += 1\n",
    "    high -= 1\n",
    "    \n",
    "print(A)"
   ]
  },
  {
   "cell_type": "markdown",
   "metadata": {},
   "source": [
    "### Majority Element - I"
   ]
  },
  {
   "cell_type": "code",
   "execution_count": 35,
   "metadata": {},
   "outputs": [
    {
     "name": "stdout",
     "output_type": "stream",
     "text": [
      "2\n"
     ]
    }
   ],
   "source": [
    "A = [2, 2, 1, 1, 1, 2, 2]\n",
    "\n",
    "n = len(A)\n",
    "\n",
    "count = 0\n",
    "element = 0\n",
    "\n",
    "for i in range(n):\n",
    "    \n",
    "    if count == 0:\n",
    "        element = A[i]\n",
    "        \n",
    "    if element == A[i]:\n",
    "        count += 1\n",
    "    else:\n",
    "        count -= 1\n",
    "        \n",
    "print(element)"
   ]
  },
  {
   "cell_type": "markdown",
   "metadata": {},
   "source": [
    "### Majority Element - II"
   ]
  },
  {
   "cell_type": "code",
   "execution_count": null,
   "metadata": {},
   "outputs": [],
   "source": [
    "A = [2, 2, 1, 1, 1, 2, 2]\n",
    "\n",
    "n = len(A)\n",
    "\n",
    "count = 0\n",
    "element = 0"
   ]
  },
  {
   "cell_type": "code",
   "execution_count": null,
   "metadata": {},
   "outputs": [],
   "source": []
  },
  {
   "cell_type": "markdown",
   "metadata": {},
   "source": [
    "# TODO"
   ]
  },
  {
   "cell_type": "markdown",
   "metadata": {},
   "source": [
    "### Maximum Subarray Sun : `Kadane's Algorithm`"
   ]
  },
  {
   "cell_type": "code",
   "execution_count": 42,
   "metadata": {},
   "outputs": [
    {
     "name": "stdout",
     "output_type": "stream",
     "text": [
      "6\n"
     ]
    }
   ],
   "source": [
    "# O(n^3)\n",
    "\n",
    "A = [-2, 1, -3, 4, -1, 2, 1, -5, 4]\n",
    "\n",
    "n = len(A)\n",
    "maxSum = float('-inf')\n",
    "\n",
    "for i in range(n):\n",
    "    for j in range(n):\n",
    "        temp = 0\n",
    "        for k in range(i, j):\n",
    "            temp += A[k]\n",
    "        maxSum = max(maxSum, temp)\n",
    "        \n",
    "print(maxSum)"
   ]
  },
  {
   "cell_type": "code",
   "execution_count": 54,
   "metadata": {},
   "outputs": [
    {
     "name": "stdout",
     "output_type": "stream",
     "text": [
      "6\n"
     ]
    }
   ],
   "source": [
    "# O(n^2)\n",
    "\n",
    "A = [-2, 1, -3, 4, -1, 2, 1, -5, 4]\n",
    "\n",
    "n = len(A)\n",
    "maxSum = float('-inf')\n",
    "\n",
    "for i in range(n):\n",
    "    temp = 0\n",
    "    for j in range(i, n):\n",
    "        temp += A[j]\n",
    "        maxSum = max(maxSum, temp)\n",
    "        \n",
    "print(maxSum)"
   ]
  },
  {
   "cell_type": "code",
   "execution_count": 55,
   "metadata": {},
   "outputs": [
    {
     "name": "stdout",
     "output_type": "stream",
     "text": [
      "6\n"
     ]
    }
   ],
   "source": [
    "# O(n) : Kadane's Algorithm\n",
    "\n",
    "A = [-2, 1, -3, 4, -1, 2, 1, -5, 4]\n",
    "\n",
    "n = len(A)\n",
    "\n",
    "total = 0\n",
    "maxSum = A[0]\n",
    "for i in range(1, n):\n",
    "    total += A[i]\n",
    "    maxSum = max(maxSum, total)\n",
    "    if total < 0:\n",
    "        total = 0\n",
    "        \n",
    "print(maxSum)"
   ]
  },
  {
   "cell_type": "markdown",
   "metadata": {},
   "source": [
    "### Move `-ve` to Left and `+ve` to Right"
   ]
  },
  {
   "cell_type": "code",
   "execution_count": null,
   "metadata": {},
   "outputs": [],
   "source": []
  },
  {
   "cell_type": "markdown",
   "metadata": {},
   "source": [
    "### Zig-zag Array / Wiggle Sort\n",
    "\n",
    "```\n",
    " * == My solution == \n",
    " *  Sort the array, and then insert large elements between each pair of \n",
    " *  smaller elements. \n",
    " *  \n",
    " *  Time complexity: O(nlogn) for sorting, O(n) for inserting \n",
    " *  (with a memory buffer ) \n",
    " * \n",
    " * == Sample solution == \n",
    " *  Only requires O(n). The idea is based a modified bubble sort.  \n",
    " *  A zigzag array can have two forms: (1) a < b > c < d > e < f ; \n",
    " *  or (2) a > b < c > d < e > f. The essence of a zigzag array is the \n",
    " *  switching of \"less than\" and \"larger than\" relationships, excluding\n",
    " *  the first element\n",
    " *  \n",
    " *  We will keep a flag: \"true\" means a lesser-than relation, whereas \n",
    " *  \"false\" means a larger-than relation. Say if we are processing B and C. \n",
    " *  The expected relation is the lesser-than but we have B > C -- (i). \n",
    " *  \n",
    " *  Since current expected relation is the lesser-than, we know the \n",
    " *  previous expectation is larger than. Let the previous value be A, \n",
    " *  we have A > B -- (ii) \n",
    " *  \n",
    " *  (i)(ii) ==> A >B >C , to make them into the zigzag form, we only need\n",
    " *  to swap B and C. \n",
    " *  \n",
    " *  If B is the starting element, it still makes sense to swap B and C.\n",
    " \n",
    "```"
   ]
  },
  {
   "cell_type": "code",
   "execution_count": 4,
   "metadata": {},
   "outputs": [
    {
     "name": "stdout",
     "output_type": "stream",
     "text": [
      "[1, 3, 2, 6, 4, 9, 8]\n"
     ]
    }
   ],
   "source": [
    "# O(n.logn) Approach\n",
    "\n",
    "A = [3, 4, 6, 2, 1, 8, 9]\n",
    "\n",
    "A.sort()\n",
    "\n",
    "for i in range(1, n-1, 2):\n",
    "    temp = A[i]\n",
    "    A[i] = A[i+1]\n",
    "    A[i+1] = temp\n",
    "    \n",
    "print(A)"
   ]
  },
  {
   "cell_type": "code",
   "execution_count": 6,
   "metadata": {},
   "outputs": [
    {
     "name": "stdout",
     "output_type": "stream",
     "text": [
      "[3, 6, 2, 4, 1, 9, 8]\n"
     ]
    }
   ],
   "source": [
    "# O(n) Approach\n",
    "\n",
    "A = [3, 4, 6, 2, 1, 8, 9]\n",
    "\n",
    "n = len(A)\n",
    "less = True  # Expect lesser than at start, # Keep 1st element as it is because there is previous element\n",
    "# Flag = 0 if A[i] < A[i+1]\n",
    "\n",
    "for i in range(n-1):\n",
    "    if less: # Expecting e < d\n",
    "        if A[i] > A[i+1]:\n",
    "            temp = A[i]\n",
    "            A[i] = A[i+1]\n",
    "            A[i+1] = temp\n",
    "    else:\n",
    "        if A[i] < A[i+1]:\n",
    "            temp = A[i]\n",
    "            A[i] = A[i+1]\n",
    "            A[i+1] = temp\n",
    "            \n",
    "    less = not less\n",
    "        \n",
    "print(A)"
   ]
  },
  {
   "cell_type": "code",
   "execution_count": null,
   "metadata": {},
   "outputs": [],
   "source": []
  },
  {
   "cell_type": "code",
   "execution_count": null,
   "metadata": {},
   "outputs": [],
   "source": []
  },
  {
   "cell_type": "code",
   "execution_count": 3,
   "metadata": {},
   "outputs": [
    {
     "name": "stdout",
     "output_type": "stream",
     "text": [
      "[1, 7]\n"
     ]
    }
   ],
   "source": [
    "k = 4\n",
    "A = [[1, 3, 5, 7], [1, 1, 3, 5, 7], [1, 4, 7, 9], [1, 7], [1, 2, 3, 7]]\n",
    "\n",
    "# Kind of similar: https://leetcode.com/problems/find-smallest-common-element-in-all-rows/\n",
    "\n",
    "freq = {}\n",
    "n = len(A)\n",
    "for i in range(n):\n",
    "    for j in range(len(A[i])):\n",
    "        freq[A[i][j]] = freq.get(A[i][j], 0) + 1\n",
    "        \n",
    "output = []\n",
    "for v in freq:\n",
    "    if freq[v] >= k:\n",
    "        output.append(v)\n",
    "        \n",
    "print(output)\n",
    "# O(m.n) time where m is length of longest array\n",
    "# Binary search will be O(m.n.logm)"
   ]
  },
  {
   "cell_type": "code",
   "execution_count": null,
   "metadata": {},
   "outputs": [],
   "source": []
  },
  {
   "cell_type": "code",
   "execution_count": null,
   "metadata": {},
   "outputs": [],
   "source": []
  },
  {
   "cell_type": "code",
   "execution_count": null,
   "metadata": {},
   "outputs": [],
   "source": []
  }
 ],
 "metadata": {
  "kernelspec": {
   "display_name": "Python 3",
   "language": "python",
   "name": "python3"
  },
  "language_info": {
   "codemirror_mode": {
    "name": "ipython",
    "version": 3
   },
   "file_extension": ".py",
   "mimetype": "text/x-python",
   "name": "python",
   "nbconvert_exporter": "python",
   "pygments_lexer": "ipython3",
   "version": "3.6.9"
  }
 },
 "nbformat": 4,
 "nbformat_minor": 4
}
