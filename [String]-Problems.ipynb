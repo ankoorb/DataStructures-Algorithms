{
 "cells": [
  {
   "cell_type": "markdown",
   "metadata": {},
   "source": [
    "### Palindromic Substrings"
   ]
  },
  {
   "cell_type": "code",
   "execution_count": 4,
   "metadata": {},
   "outputs": [
    {
     "name": "stdout",
     "output_type": "stream",
     "text": [
      "['A', 'B', 'BCCB', 'C', 'CC', 'C', 'B']\n"
     ]
    }
   ],
   "source": [
    "S = \"ABCCBC\"\n",
    "\n",
    "def isPalindrome(s):\n",
    "    i = 0\n",
    "    j = len(s) - 1\n",
    "    while i <= j:\n",
    "        if s[i] != s[j]:\n",
    "            return False\n",
    "        i += 1\n",
    "        j -= 1\n",
    "    return True\n",
    "\n",
    "n = len(S)\n",
    "output = []\n",
    "for i in range(n):\n",
    "    for j in range(i + 1, n):\n",
    "        temp = S[i:j]\n",
    "        if isPalindrome(temp):\n",
    "            output.append(temp)\n",
    "            \n",
    "print(output)"
   ]
  },
  {
   "cell_type": "markdown",
   "metadata": {},
   "source": [
    "### String Compression"
   ]
  },
  {
   "cell_type": "code",
   "execution_count": 3,
   "metadata": {},
   "outputs": [
    {
     "name": "stdout",
     "output_type": "stream",
     "text": [
      "ABCDAEF\n"
     ]
    }
   ],
   "source": [
    "# Compression: 1\n",
    "\n",
    "S = \"AAABBCCCDDAEEF\"\n",
    "\n",
    "n = len(S)\n",
    "t = S[0]\n",
    "for i in range(1, n):\n",
    "    if S[i-1] != S[i]:\n",
    "        t += S[i]\n",
    "print(t)"
   ]
  },
  {
   "cell_type": "code",
   "execution_count": 4,
   "metadata": {},
   "outputs": [
    {
     "name": "stdout",
     "output_type": "stream",
     "text": [
      "A3B2C3D2AE2F\n"
     ]
    }
   ],
   "source": [
    "### Compression: 2\n",
    "\n",
    "S = \"AAABBCCCDDAEEF\"\n",
    "\n",
    "n = len(S)\n",
    "count = 1\n",
    "t = S[0]\n",
    "\n",
    "for i in range(1, n):\n",
    "    if S[i-1] == S[i]:\n",
    "        count += 1\n",
    "    else:\n",
    "        if count > 1:\n",
    "            t += str(count)\n",
    "            count = 1\n",
    "        t += S[i]\n",
    "        \n",
    "if count > 1:\n",
    "    t += str(count)\n",
    "\n",
    "print(t)"
   ]
  },
  {
   "cell_type": "markdown",
   "metadata": {},
   "source": [
    "### Toggle case of characters in a string"
   ]
  },
  {
   "cell_type": "code",
   "execution_count": 8,
   "metadata": {},
   "outputs": [
    {
     "name": "stdout",
     "output_type": "stream",
     "text": [
      "sIRwILL\n"
     ]
    }
   ],
   "source": [
    "# Computation\n",
    "S = \"SirWill\"\n",
    "\n",
    "t = \"\"\n",
    "n = len(S)\n",
    "for i in range(n):\n",
    "    c = S[i]\n",
    "    \n",
    "    # Check if char is lower case\n",
    "    if ord(c) >= ord('a') and ord(c) <= ord('z'):\n",
    "        U = ord(c) - ord('a') + ord('A')\n",
    "        t += chr(U)\n",
    "    else:\n",
    "        L = ord(c) - ord('A') + ord('a')\n",
    "        t += chr(L)\n",
    "        \n",
    "print(t)"
   ]
  },
  {
   "cell_type": "code",
   "execution_count": 20,
   "metadata": {},
   "outputs": [
    {
     "name": "stdout",
     "output_type": "stream",
     "text": [
      "nOkILLlOSaNGELES\n"
     ]
    }
   ],
   "source": [
    "# Python string methods\n",
    "S = \"NoKillLosAngeles\"\n",
    "\n",
    "t = \"\"\n",
    "n = len(S)\n",
    "for i in range(n):\n",
    "    if S[i].isupper():\n",
    "        t += S[i].lower()\n",
    "    else:\n",
    "        t += S[i].upper()\n",
    "        \n",
    "print(t)"
   ]
  },
  {
   "cell_type": "markdown",
   "metadata": {},
   "source": [
    "### String with difference of every 2 consecutive characters"
   ]
  },
  {
   "cell_type": "code",
   "execution_count": 24,
   "metadata": {},
   "outputs": [
    {
     "name": "stdout",
     "output_type": "stream",
     "text": [
      "A1B2D3G-4C-2A\n"
     ]
    }
   ],
   "source": [
    "S = \"ABDGCA\"\n",
    "\n",
    "t = S[0]\n",
    "n = len(S)\n",
    "\n",
    "for i in range(1, n):\n",
    "    d = ord(S[i]) - ord(S[i-1])\n",
    "    t += str(d) + S[i]\n",
    "    \n",
    "print(t)"
   ]
  },
  {
   "cell_type": "markdown",
   "metadata": {},
   "source": [
    "### Permutations of a string - Iterative"
   ]
  },
  {
   "cell_type": "code",
   "execution_count": 37,
   "metadata": {},
   "outputs": [
    {
     "name": "stdout",
     "output_type": "stream",
     "text": [
      "['ABC', 'BAC', 'CAB', 'ACB', 'BCA', 'CBA']\n"
     ]
    }
   ],
   "source": [
    "def factorial(n):\n",
    "    v = 1\n",
    "    for i in range(2, n + 1):\n",
    "        v *= i\n",
    "    return v\n",
    "\n",
    "S = \"ABC\"\n",
    "\n",
    "n = len(S)\n",
    "output = []\n",
    "limit = factorial(n)\n",
    "\n",
    "for i in range(limit):\n",
    "    idx = i\n",
    "    t = \"\"\n",
    "    temp = list(S)\n",
    "    for j in range(n, 0, -1):\n",
    "        k = idx % j\n",
    "        idx = idx // j\n",
    "        t += temp[k]\n",
    "        temp.pop(k)\n",
    "        \n",
    "    output.append(t)\n",
    "    \n",
    "print(output)"
   ]
  },
  {
   "cell_type": "markdown",
   "metadata": {},
   "source": [
    "### Remove Prime"
   ]
  },
  {
   "cell_type": "code",
   "execution_count": 43,
   "metadata": {},
   "outputs": [
    {
     "name": "stdout",
     "output_type": "stream",
     "text": [
      "[18, 14, 72]\n"
     ]
    }
   ],
   "source": [
    "import math\n",
    "\n",
    "def isPrime(n):\n",
    "    limit = int(math.sqrt(n))\n",
    "    for i in range(2, limit + 1):\n",
    "        if n % i == 0:\n",
    "            return False\n",
    "    return True\n",
    "\n",
    "\n",
    "A = [7, 18, 3, 14, 19, 31, 72]\n",
    "n = len(A)\n",
    "\n",
    "for i in range(n - 1, -1, -1):\n",
    "    if isPrime(A[i]):\n",
    "        A.pop(i)\n",
    "\n",
    "print(A)"
   ]
  },
  {
   "cell_type": "markdown",
   "metadata": {},
   "source": [
    "### Fire Station Coverage\n",
    "\n",
    "Given a set of cities, a list of what cities various fire stations can cover, and a number of fire stations. Return whether or not it is possible to provide coverage to all cities with given number of fire stations.\n",
    "\n"
   ]
  },
  {
   "cell_type": "code",
   "execution_count": 1,
   "metadata": {},
   "outputs": [],
   "source": [
    "cities = ['A', 'B', 'C', 'D', 'E', 'F']\n",
    "locations = [['A', 'B'], ['E', 'C', 'D', 'F'], ['D', 'E'], ['C', 'E', 'F']]\n",
    "\n",
    "def coverage(cities, locations, numStations, output):\n",
    "    # Base Cases\n",
    "    if numStations <= 0 and len(cities) > 0:\n",
    "        return False\n",
    "    elif len(cities) == 0:\n",
    "        return True\n",
    "    elif len(cities) > 0 and len(locations) == 0:\n",
    "        return False\n",
    "    else:\n",
    "        # Include last fire station\n",
    "        citiesCovered = locations.pop()\n",
    "        citiesActuallyCovered = set()\n",
    "        for city in citiesCovered:\n",
    "            if city in cities:\n",
    "                citiesActuallyCovered.append(city)\n",
    "        output.append(citiesCovered)\n",
    "        \n",
    "        if coverage(cities, locations, numStations - 1, output):\n",
    "            return True\n",
    "        cities.append(citiesActuallyCovered)\n",
    "        output.pop()\n",
    "        \n",
    "        if coverage(cities, locations, numStations, output):\n",
    "            locations.append(citiesCovered)\n",
    "            return True\n",
    "        else:\n",
    "            locations.append(citiesCovered)\n",
    "            return False"
   ]
  },
  {
   "cell_type": "code",
   "execution_count": null,
   "metadata": {},
   "outputs": [],
   "source": []
  }
 ],
 "metadata": {
  "kernelspec": {
   "display_name": "Python 3",
   "language": "python",
   "name": "python3"
  },
  "language_info": {
   "codemirror_mode": {
    "name": "ipython",
    "version": 3
   },
   "file_extension": ".py",
   "mimetype": "text/x-python",
   "name": "python",
   "nbconvert_exporter": "python",
   "pygments_lexer": "ipython3",
   "version": "3.6.9"
  }
 },
 "nbformat": 4,
 "nbformat_minor": 4
}
