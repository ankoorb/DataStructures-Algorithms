{
 "cells": [
  {
   "cell_type": "markdown",
   "metadata": {},
   "source": [
    "### Check if a number is Prime"
   ]
  },
  {
   "cell_type": "code",
   "execution_count": 12,
   "metadata": {},
   "outputs": [
    {
     "name": "stdout",
     "output_type": "stream",
     "text": [
      "True\n"
     ]
    }
   ],
   "source": [
    "import math\n",
    "\n",
    "n = 17\n",
    "\n",
    "for i in range(2, int(math.sqrt(n)) + 1):\n",
    "    if n % i == 0:\n",
    "        print(False)\n",
    "        break\n",
    "else:\n",
    "    print(True)"
   ]
  },
  {
   "cell_type": "markdown",
   "metadata": {},
   "source": [
    "### Print all Fibonacci numbers till `n`"
   ]
  },
  {
   "cell_type": "code",
   "execution_count": 14,
   "metadata": {},
   "outputs": [
    {
     "name": "stdout",
     "output_type": "stream",
     "text": [
      "0\n",
      "1\n",
      "1\n",
      "2\n",
      "3\n",
      "5\n"
     ]
    }
   ],
   "source": [
    "n = 6\n",
    "\n",
    "pp = 0\n",
    "p = 1\n",
    "\n",
    "for i in range(n):\n",
    "    print(pp)\n",
    "    c = pp + p\n",
    "    pp = p\n",
    "    p = c"
   ]
  },
  {
   "cell_type": "markdown",
   "metadata": {},
   "source": [
    "### Count digits in a number"
   ]
  },
  {
   "cell_type": "code",
   "execution_count": 16,
   "metadata": {},
   "outputs": [
    {
     "name": "stdout",
     "output_type": "stream",
     "text": [
      "5\n"
     ]
    }
   ],
   "source": [
    "n = 98743\n",
    "\n",
    "count = 0\n",
    "\n",
    "while n > 0:\n",
    "    n = n // 10\n",
    "    count += 1\n",
    "    \n",
    "print(count)"
   ]
  },
  {
   "cell_type": "markdown",
   "metadata": {},
   "source": [
    "### Print digits of a number"
   ]
  },
  {
   "cell_type": "code",
   "execution_count": 32,
   "metadata": {
    "scrolled": false
   },
   "outputs": [
    {
     "name": "stdout",
     "output_type": "stream",
     "text": [
      "7\n",
      "5\n",
      "4\n",
      "0\n",
      "0\n"
     ]
    }
   ],
   "source": [
    "n = 75400\n",
    "\n",
    "tmp = n\n",
    "count = 0\n",
    "\n",
    "while tmp > 0:\n",
    "    tmp = tmp // 10\n",
    "    count += 1\n",
    "    \n",
    "d = 10**(count - 1)\n",
    "while d > 0:\n",
    "    q = n // d\n",
    "    print(q)\n",
    "    r = n % d\n",
    "    d = d // 10\n",
    "    n = r"
   ]
  },
  {
   "cell_type": "markdown",
   "metadata": {},
   "source": [
    "### Print reverse of a number"
   ]
  },
  {
   "cell_type": "code",
   "execution_count": 33,
   "metadata": {},
   "outputs": [
    {
     "name": "stdout",
     "output_type": "stream",
     "text": [
      "4\n",
      "5\n",
      "7\n"
     ]
    }
   ],
   "source": [
    "n = 754\n",
    "\n",
    "while n > 0:\n",
    "    r = n % 10\n",
    "    print(r)\n",
    "    n = n // 10"
   ]
  },
  {
   "cell_type": "markdown",
   "metadata": {},
   "source": [
    "### Inverse of a number"
   ]
  },
  {
   "cell_type": "code",
   "execution_count": 39,
   "metadata": {},
   "outputs": [
    {
     "name": "stdout",
     "output_type": "stream",
     "text": [
      "23154\n"
     ]
    }
   ],
   "source": [
    "n = 21453\n",
    "\n",
    "oIdx = 1\n",
    "inv = 0\n",
    "\n",
    "while n > 0:\n",
    "    oDig = n % 10\n",
    "    iDig = oIdx\n",
    "    iIdx = oDig\n",
    "    \n",
    "    inv += iDig * 10**(iIdx - 1)\n",
    "    \n",
    "    n = n // 10\n",
    "    oIdx += 1\n",
    "    \n",
    "print(inv)"
   ]
  },
  {
   "cell_type": "markdown",
   "metadata": {},
   "source": [
    "### Rotate a number"
   ]
  },
  {
   "cell_type": "code",
   "execution_count": 50,
   "metadata": {},
   "outputs": [
    {
     "data": {
      "text/plain": [
       "56183"
      ]
     },
     "execution_count": 50,
     "metadata": {},
     "output_type": "execute_result"
    }
   ],
   "source": [
    "n = 35618\n",
    "k = -1\n",
    "\n",
    "tmp = n\n",
    "count = 0\n",
    "while tmp > 0:\n",
    "    tmp = tmp // 10\n",
    "    count += 1\n",
    "    \n",
    "if k < 0:\n",
    "    k = k + count\n",
    "k = k % count\n",
    "    \n",
    "r = n % 10**k\n",
    "q = n // 10**k\n",
    "\n",
    "output = r * 10**(count - k) + q\n",
    "output"
   ]
  },
  {
   "cell_type": "markdown",
   "metadata": {},
   "source": [
    "### GCD and LCM of 2 numbers"
   ]
  },
  {
   "cell_type": "code",
   "execution_count": 53,
   "metadata": {},
   "outputs": [
    {
     "name": "stdout",
     "output_type": "stream",
     "text": [
      "GCD: 12, LCM: 72.0\n"
     ]
    }
   ],
   "source": [
    "x = 36\n",
    "y = 24\n",
    "\n",
    "xx = x\n",
    "yy = y\n",
    "\n",
    "while x % y > 0:\n",
    "    r = x % y\n",
    "    y = x\n",
    "    x = r\n",
    "\n",
    "gcd = x\n",
    "lcm = xx * yy / gcd\n",
    "print(f\"GCD: {gcd}, LCM: {lcm}\")"
   ]
  },
  {
   "cell_type": "markdown",
   "metadata": {},
   "source": [
    "### Prime factors of a number"
   ]
  },
  {
   "cell_type": "code",
   "execution_count": 81,
   "metadata": {},
   "outputs": [
    {
     "data": {
      "text/plain": [
       "[2, 23]"
      ]
     },
     "execution_count": 81,
     "metadata": {},
     "output_type": "execute_result"
    }
   ],
   "source": [
    "n = 1440\n",
    "n = 46\n",
    "\n",
    "output = []\n",
    "limit = int(math.sqrt(n))\n",
    "for d in range(2, limit):\n",
    "    while n % d == 0:\n",
    "        n = n // d\n",
    "        output.append(d)\n",
    "\n",
    "if n != 1:\n",
    "    output.append(n)\n",
    "output"
   ]
  },
  {
   "cell_type": "markdown",
   "metadata": {},
   "source": [
    "### Pythagorean Triplets"
   ]
  },
  {
   "cell_type": "code",
   "execution_count": 69,
   "metadata": {},
   "outputs": [
    {
     "name": "stdout",
     "output_type": "stream",
     "text": [
      "True\n"
     ]
    }
   ],
   "source": [
    "x = 5\n",
    "y = 3\n",
    "z = 4\n",
    "\n",
    "h = max(x, y)\n",
    "h = max(h, z)\n",
    "if h == x:\n",
    "    print(x*x == y*y + z*z)\n",
    "elif h == y:\n",
    "    print(y*y == x*x + z*z)\n",
    "else:\n",
    "    print(z*z == y*y + x*x)"
   ]
  },
  {
   "cell_type": "markdown",
   "metadata": {},
   "source": [
    "### `n` light bulbs switched on/off by `n` persons passing by"
   ]
  },
  {
   "cell_type": "code",
   "execution_count": 76,
   "metadata": {},
   "outputs": [
    {
     "data": {
      "text/plain": [
       "[1, 4, 9, 16, 25]"
      ]
     },
     "execution_count": 76,
     "metadata": {},
     "output_type": "execute_result"
    }
   ],
   "source": [
    "n = 30\n",
    "\n",
    "bulbs = []\n",
    "limit = int(math.sqrt(n))\n",
    "for i in range(1, limit + 1):\n",
    "    bulbs.append(i*i)\n",
    "    \n",
    "bulbs"
   ]
  },
  {
   "cell_type": "markdown",
   "metadata": {},
   "source": [
    "### Digit Frequency"
   ]
  },
  {
   "cell_type": "code",
   "execution_count": 82,
   "metadata": {},
   "outputs": [
    {
     "name": "stdout",
     "output_type": "stream",
     "text": [
      "3\n"
     ]
    }
   ],
   "source": [
    "def frequency(n, d):\n",
    "    count = 0\n",
    "    while n > 0:\n",
    "        r = n % 10\n",
    "        if r == d:\n",
    "            count += 1\n",
    "        n = n // 10\n",
    "    return count\n",
    "\n",
    "n = 99346928\n",
    "d = 9\n",
    "print(frequency(n, d))"
   ]
  },
  {
   "cell_type": "markdown",
   "metadata": {},
   "source": [
    "### Decimal to any Base"
   ]
  },
  {
   "cell_type": "code",
   "execution_count": 83,
   "metadata": {},
   "outputs": [
    {
     "name": "stdout",
     "output_type": "stream",
     "text": [
      "Octal:  1172\n",
      "Binary:  1001111010\n"
     ]
    }
   ],
   "source": [
    "def toBase(n, b):\n",
    "    c = 0\n",
    "    p = 1\n",
    "    while n > 0:\n",
    "        d = n % b\n",
    "        n = n // b\n",
    "        c += p * d\n",
    "        p *= 10\n",
    "    return c\n",
    "\n",
    "n = 634\n",
    "b = 8\n",
    "print('Octal: ', toBase(n, b))\n",
    "\n",
    "n = 634\n",
    "b = 2\n",
    "print('Binary: ', toBase(n, b))"
   ]
  },
  {
   "cell_type": "markdown",
   "metadata": {},
   "source": [
    "### Any Base to Decimal"
   ]
  },
  {
   "cell_type": "code",
   "execution_count": 84,
   "metadata": {},
   "outputs": [
    {
     "name": "stdout",
     "output_type": "stream",
     "text": [
      "Decimal:  634\n"
     ]
    }
   ],
   "source": [
    "def toDecimal(n, b):\n",
    "    c = 0\n",
    "    p = 1\n",
    "    while n > 0:\n",
    "        d = n % 10\n",
    "        n = n // 10\n",
    "        c += d * p\n",
    "        p *= b\n",
    "    return c\n",
    "\n",
    "n = 1172\n",
    "b = 8\n",
    "print('Decimal: ', toDecimal(n, b))"
   ]
  },
  {
   "cell_type": "markdown",
   "metadata": {},
   "source": [
    "### Any Base to Any Base"
   ]
  },
  {
   "cell_type": "code",
   "execution_count": 85,
   "metadata": {},
   "outputs": [
    {
     "name": "stdout",
     "output_type": "stream",
     "text": [
      "Converted:  1111010\n"
     ]
    }
   ],
   "source": [
    "n = 172\n",
    "b1 = 8\n",
    "b2 = 2\n",
    "\n",
    "d = toDecimal(n, b1)\n",
    "m = toBase(d, b2)\n",
    "print('Converted: ', m)"
   ]
  },
  {
   "cell_type": "markdown",
   "metadata": {},
   "source": [
    "### Any Base Addition"
   ]
  },
  {
   "cell_type": "code",
   "execution_count": 86,
   "metadata": {},
   "outputs": [
    {
     "name": "stdout",
     "output_type": "stream",
     "text": [
      "1212\n"
     ]
    }
   ],
   "source": [
    "def add(x, y, b):\n",
    "    z = 0\n",
    "    carry = 0\n",
    "    power = 1\n",
    "    while x > 0 or y > 0 or carry:\n",
    "        xd = x % 10\n",
    "        yd = y % 10\n",
    "        x = x // 10\n",
    "        y = y // 10\n",
    "\n",
    "        s = xd + yd + carry\n",
    "        carry = s // b\n",
    "        d = s % b\n",
    "        z += d * power\n",
    "        power *= 10\n",
    "    return z\n",
    "    \n",
    "x = 236\n",
    "y = 754\n",
    "b = 8\n",
    "print(add(x, y, b))"
   ]
  },
  {
   "cell_type": "markdown",
   "metadata": {},
   "source": [
    "### Any Base Subtraction"
   ]
  },
  {
   "cell_type": "code",
   "execution_count": 87,
   "metadata": {},
   "outputs": [
    {
     "name": "stdout",
     "output_type": "stream",
     "text": [
      "734\n"
     ]
    }
   ],
   "source": [
    "def subtract(x, y, b):\n",
    "    z = 0\n",
    "    power = 1\n",
    "    borrow = 0\n",
    "    while x > 0:\n",
    "        xd = x % 10\n",
    "        yd = y % 10\n",
    "        x = x // 10\n",
    "        y = y // 10\n",
    "\n",
    "        d = 0\n",
    "        xd += borrow\n",
    "\n",
    "        if xd < yd:\n",
    "            borrow = - 1\n",
    "            d = xd + b - yd\n",
    "        else:\n",
    "            borrow = 0\n",
    "            d = xd - yd\n",
    "\n",
    "        z += d * power\n",
    "        power *= 10\n",
    "    return z\n",
    "    \n",
    "x = 1212\n",
    "y = 256\n",
    "b = 8\n",
    "print(subtract(x, y, b))"
   ]
  },
  {
   "cell_type": "markdown",
   "metadata": {},
   "source": [
    "### Any Base Multiplication"
   ]
  },
  {
   "cell_type": "code",
   "execution_count": 88,
   "metadata": {},
   "outputs": [
    {
     "name": "stdout",
     "output_type": "stream",
     "text": [
      "204710\n"
     ]
    }
   ],
   "source": [
    "def multDigit(x, y, b):\n",
    "    z = 0\n",
    "    carry = 0\n",
    "    power = 1\n",
    "    while x > 0 or carry:\n",
    "        xd = x % 10\n",
    "        x = x // 10\n",
    "        \n",
    "        m = (xd * y) + carry\n",
    "        d = m % b\n",
    "        carry = m // b\n",
    "\n",
    "        z += d * power\n",
    "        power *= 10\n",
    "        \n",
    "    return z\n",
    "\n",
    "def product(x, y, b):\n",
    "    z = 0\n",
    "    power = 1\n",
    "    while y > 0:\n",
    "        yd = y % 10\n",
    "        y = y // 10\n",
    "        \n",
    "        m = multDigit(x, yd, b)\n",
    "        z = add(z, m * power, b)\n",
    "        power *= 10\n",
    "        \n",
    "    return z\n",
    "\n",
    "x = 2156\n",
    "y = 74\n",
    "b = 8\n",
    "print(product(x, y, b))"
   ]
  },
  {
   "cell_type": "code",
   "execution_count": null,
   "metadata": {},
   "outputs": [],
   "source": []
  }
 ],
 "metadata": {
  "kernelspec": {
   "display_name": "Python 3",
   "language": "python",
   "name": "python3"
  },
  "language_info": {
   "codemirror_mode": {
    "name": "ipython",
    "version": 3
   },
   "file_extension": ".py",
   "mimetype": "text/x-python",
   "name": "python",
   "nbconvert_exporter": "python",
   "pygments_lexer": "ipython3",
   "version": "3.6.9"
  }
 },
 "nbformat": 4,
 "nbformat_minor": 4
}
