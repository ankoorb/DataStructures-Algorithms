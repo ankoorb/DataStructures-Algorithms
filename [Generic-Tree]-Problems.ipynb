{
 "cells": [
  {
   "cell_type": "markdown",
   "metadata": {},
   "source": [
    "### Generic Tree Node"
   ]
  },
  {
   "cell_type": "code",
   "execution_count": 1,
   "metadata": {},
   "outputs": [],
   "source": [
    "class Node(object):\n",
    "    def __init__(self, val=None):\n",
    "        self.val = val\n",
    "        self.children = []"
   ]
  },
  {
   "cell_type": "markdown",
   "metadata": {},
   "source": [
    "### Generate Generic Tree using Stack"
   ]
  },
  {
   "cell_type": "code",
   "execution_count": 2,
   "metadata": {},
   "outputs": [],
   "source": [
    "A = [10, 20, 50, -1, 60, -1, -1, 30, 70, -1, 80, 110, -1, 120, -1, -1, 90, -1, -1, 40, 100, -1, -1, -1]\n",
    "\n",
    "stack = []\n",
    "root = None\n",
    "\n",
    "for e in A:\n",
    "    if e == -1:\n",
    "        stack.pop()\n",
    "    else:\n",
    "        node = Node(e)\n",
    "        \n",
    "        if len(stack) > 0:\n",
    "            stack[-1].children.append(node)\n",
    "        else:\n",
    "            root = node\n",
    "            \n",
    "        stack.append(node)\n",
    "        \n",
    "        \n",
    "def generate(A):\n",
    "    stack = []\n",
    "    root = None\n",
    "\n",
    "    for e in A:\n",
    "        if e == -1:\n",
    "            stack.pop()\n",
    "        else:\n",
    "            node = Node(e)\n",
    "\n",
    "            if len(stack) > 0:\n",
    "                stack[-1].children.append(node)\n",
    "            else:\n",
    "                root = node\n",
    "\n",
    "            stack.append(node)\n",
    "            \n",
    "    return root"
   ]
  },
  {
   "cell_type": "markdown",
   "metadata": {},
   "source": [
    "### Display Generic Tree"
   ]
  },
  {
   "cell_type": "code",
   "execution_count": 3,
   "metadata": {},
   "outputs": [
    {
     "name": "stdout",
     "output_type": "stream",
     "text": [
      "10 -> 20, 30, 40, \n",
      "20 -> 50, 60, \n",
      "50 -> \n",
      "60 -> \n",
      "30 -> 70, 80, 90, \n",
      "70 -> \n",
      "80 -> 110, 120, \n",
      "110 -> \n",
      "120 -> \n",
      "90 -> \n",
      "40 -> 100, \n",
      "100 -> \n"
     ]
    }
   ],
   "source": [
    "def display(node):\n",
    "    \n",
    "    s = str(node.val) + \" -> \"\n",
    "    for child in node.children:\n",
    "        s += str(child.val) + \", \"\n",
    "    print(s)\n",
    "    \n",
    "    for child in node.children:\n",
    "        display(child)\n",
    "        \n",
    "display(root)"
   ]
  },
  {
   "cell_type": "markdown",
   "metadata": {},
   "source": [
    "### Size / Number of Nodes in a Generic Tree"
   ]
  },
  {
   "cell_type": "code",
   "execution_count": 4,
   "metadata": {},
   "outputs": [
    {
     "name": "stdout",
     "output_type": "stream",
     "text": [
      "Number of nodes:  12\n"
     ]
    }
   ],
   "source": [
    "def size(node):\n",
    "    count = 0\n",
    "    for child in node.children:\n",
    "        count += size(child)\n",
    "    return count + 1\n",
    "\n",
    "print(\"Number of nodes: \", size(root))"
   ]
  },
  {
   "cell_type": "markdown",
   "metadata": {},
   "source": [
    "### Maximum in a Generic Tree"
   ]
  },
  {
   "cell_type": "code",
   "execution_count": 5,
   "metadata": {},
   "outputs": [
    {
     "name": "stdout",
     "output_type": "stream",
     "text": [
      "Maximum value:  120\n"
     ]
    }
   ],
   "source": [
    "def maximum(node):\n",
    "    maxVal = float('-inf')\n",
    "    for child in node.children:\n",
    "        maxVal = max(maxVal, maximum(child))\n",
    "    return max(maxVal, node.val)\n",
    "\n",
    "print(\"Maximum value: \", maximum(root))"
   ]
  },
  {
   "cell_type": "markdown",
   "metadata": {},
   "source": [
    "### Height of a Generic Tree"
   ]
  },
  {
   "cell_type": "code",
   "execution_count": 6,
   "metadata": {},
   "outputs": [
    {
     "name": "stdout",
     "output_type": "stream",
     "text": [
      "Height:  4\n"
     ]
    }
   ],
   "source": [
    "def height(node):\n",
    "    h = 0\n",
    "    for child in node.children:\n",
    "        h = max(h, height(child))\n",
    "    return h + 1\n",
    "\n",
    "print(\"Height: \", height(root))"
   ]
  },
  {
   "cell_type": "markdown",
   "metadata": {},
   "source": [
    "### Preorder Traversal of Generic Tree"
   ]
  },
  {
   "cell_type": "code",
   "execution_count": 7,
   "metadata": {},
   "outputs": [
    {
     "name": "stdout",
     "output_type": "stream",
     "text": [
      "Node Pre:  10\n",
      "Edge Pre: 10 -- 20\n",
      "Node Pre:  20\n",
      "Edge Pre: 20 -- 50\n",
      "Node Pre:  50\n",
      "Node Post:  50\n",
      "Edge Post: 50 -- 20\n",
      "Edge Pre: 20 -- 60\n",
      "Node Pre:  60\n",
      "Node Post:  60\n",
      "Edge Post: 60 -- 20\n",
      "Node Post:  20\n",
      "Edge Post: 20 -- 10\n",
      "Edge Pre: 10 -- 30\n",
      "Node Pre:  30\n",
      "Edge Pre: 30 -- 70\n",
      "Node Pre:  70\n",
      "Node Post:  70\n",
      "Edge Post: 70 -- 30\n",
      "Edge Pre: 30 -- 80\n",
      "Node Pre:  80\n",
      "Edge Pre: 80 -- 110\n",
      "Node Pre:  110\n",
      "Node Post:  110\n",
      "Edge Post: 110 -- 80\n",
      "Edge Pre: 80 -- 120\n",
      "Node Pre:  120\n",
      "Node Post:  120\n",
      "Edge Post: 120 -- 80\n",
      "Node Post:  80\n",
      "Edge Post: 80 -- 30\n",
      "Edge Pre: 30 -- 90\n",
      "Node Pre:  90\n",
      "Node Post:  90\n",
      "Edge Post: 90 -- 30\n",
      "Node Post:  30\n",
      "Edge Post: 30 -- 10\n",
      "Edge Pre: 10 -- 40\n",
      "Node Pre:  40\n",
      "Edge Pre: 40 -- 100\n",
      "Node Pre:  100\n",
      "Node Post:  100\n",
      "Edge Post: 100 -- 40\n",
      "Node Post:  40\n",
      "Edge Post: 40 -- 10\n",
      "Node Post:  10\n"
     ]
    }
   ],
   "source": [
    "def traverse(node):\n",
    "    # Pre Area\n",
    "    print(\"Node Pre: \", node.val)\n",
    "    \n",
    "    for child in node.children:\n",
    "        \n",
    "        # Edge Pre Area\n",
    "        print(f\"Edge Pre: {node.val} -- {child.val}\")\n",
    "        \n",
    "        traverse(child)\n",
    "        \n",
    "        # Edge Post Area\n",
    "        print(f\"Edge Post: {child.val} -- {node.val}\")\n",
    "        \n",
    "        \n",
    "    # Post Area\n",
    "    print(\"Node Post: \", node.val)\n",
    "        \n",
    "traverse(root)"
   ]
  },
  {
   "cell_type": "markdown",
   "metadata": {},
   "source": [
    "### Level Order Traversal"
   ]
  },
  {
   "cell_type": "code",
   "execution_count": 8,
   "metadata": {},
   "outputs": [
    {
     "name": "stdout",
     "output_type": "stream",
     "text": [
      "10\n",
      "20\n",
      "30\n",
      "40\n",
      "50\n",
      "60\n",
      "70\n",
      "80\n",
      "90\n",
      "100\n",
      "110\n",
      "120\n"
     ]
    }
   ],
   "source": [
    "from collections import deque\n",
    "\n",
    "def levelOrder(node):\n",
    "    Q = deque([node])\n",
    "    while len(Q) > 0:\n",
    "        node = Q.popleft()\n",
    "        print(node.val) \n",
    "        for child in node.children:\n",
    "            Q.append(child)\n",
    "        \n",
    "levelOrder(root)"
   ]
  },
  {
   "cell_type": "markdown",
   "metadata": {},
   "source": [
    "### Level Order Traversal Linewise : `Double Queue`"
   ]
  },
  {
   "cell_type": "code",
   "execution_count": 9,
   "metadata": {},
   "outputs": [
    {
     "name": "stdout",
     "output_type": "stream",
     "text": [
      "[10]\n",
      "[20, 30, 40]\n",
      "[50, 60, 70, 80, 90, 100]\n",
      "[110, 120]\n"
     ]
    }
   ],
   "source": [
    "from collections import deque\n",
    "\n",
    "def levelOrder(node):\n",
    "    mainQ = deque([node])\n",
    "    childQ = deque([])\n",
    "    temp = []\n",
    "    output = []\n",
    "    while len(mainQ) > 0:\n",
    "        node = mainQ.popleft()\n",
    "        temp.append(node.val)\n",
    "        \n",
    "        for child in node.children:\n",
    "            childQ.append(child)\n",
    "        \n",
    "        if len(mainQ) == 0:\n",
    "            mainQ = childQ\n",
    "            childQ = deque([])\n",
    "            output.append(temp)\n",
    "            temp = []\n",
    "    return output\n",
    "        \n",
    "output = levelOrder(root)\n",
    "for out in output:\n",
    "    print(out)"
   ]
  },
  {
   "cell_type": "markdown",
   "metadata": {},
   "source": [
    "### Level Order Traversal Linewise : `Queue` and `Marker Node` based"
   ]
  },
  {
   "cell_type": "code",
   "execution_count": 10,
   "metadata": {},
   "outputs": [
    {
     "name": "stdout",
     "output_type": "stream",
     "text": [
      "[10]\n",
      "[20, 30, 40]\n",
      "[50, 60, 70, 80, 90, 100]\n",
      "[110, 120]\n"
     ]
    }
   ],
   "source": [
    "def levelOrder(node):\n",
    "    temp = []\n",
    "    output = []\n",
    "    marker = Node(-1)\n",
    "    Q = deque([node, marker])\n",
    "    \n",
    "    while len(Q) > 0:\n",
    "        node = Q.popleft()\n",
    "        if node != marker:\n",
    "            temp.append(node.val)\n",
    "            for child in node.children:\n",
    "                Q.append(child)\n",
    "        else:\n",
    "            output.append(temp)\n",
    "            if len(Q) > 0:\n",
    "                Q.append(marker)\n",
    "                temp = []\n",
    "            \n",
    "    return output\n",
    "\n",
    "output = levelOrder(root)\n",
    "for out in output:\n",
    "    print(out)"
   ]
  },
  {
   "cell_type": "markdown",
   "metadata": {},
   "source": [
    "### Level Order Traversal Linewise : `Queue` and `Queue Size` based"
   ]
  },
  {
   "cell_type": "code",
   "execution_count": 11,
   "metadata": {},
   "outputs": [
    {
     "name": "stdout",
     "output_type": "stream",
     "text": [
      "[10]\n",
      "[20, 30, 40]\n",
      "[50, 60, 70, 80, 90, 100]\n",
      "[110, 120]\n"
     ]
    }
   ],
   "source": [
    "from collections import deque\n",
    "\n",
    "def levelOrder(node):\n",
    "    Q = deque([node])\n",
    "    output = []\n",
    "    while len(Q) > 0:\n",
    "        size = len(Q)\n",
    "        temp = []\n",
    "        for i in range(size):\n",
    "            node = Q.popleft()\n",
    "            temp.append(node.val)\n",
    "            for child in node.children:\n",
    "                Q.append(child)\n",
    "        output.append(temp)\n",
    "    return output\n",
    "        \n",
    "output = levelOrder(root)\n",
    "for out in output:\n",
    "    print(out)"
   ]
  },
  {
   "cell_type": "markdown",
   "metadata": {},
   "source": [
    "### Level Order Traversal Linewise : `Queue` and `Pair<Node, Level>` based"
   ]
  },
  {
   "cell_type": "code",
   "execution_count": 12,
   "metadata": {},
   "outputs": [
    {
     "name": "stdout",
     "output_type": "stream",
     "text": [
      "[10]\n",
      "[20, 30, 40]\n",
      "[50, 60, 70, 80, 90, 100]\n",
      "[110, 120]\n"
     ]
    }
   ],
   "source": [
    "from collections import deque\n",
    "\n",
    "def levelOrder(node):\n",
    "    level = 1\n",
    "    Q = deque([(node, level)])\n",
    "    \n",
    "    temp = []\n",
    "    output = []\n",
    "    \n",
    "    while len(Q) > 0:\n",
    "        node, lvl  = Q.popleft()\n",
    "        \n",
    "        if lvl > level:\n",
    "            level = lvl\n",
    "            output.append(temp)\n",
    "            temp = []\n",
    "            \n",
    "        temp.append(node.val)\n",
    "        \n",
    "        for child in node.children:\n",
    "            Q.append((child, level + 1))\n",
    "            \n",
    "    output.append(temp)\n",
    "            \n",
    "    return output\n",
    "\n",
    "output = levelOrder(root)\n",
    "for out in output:\n",
    "    print(out)"
   ]
  },
  {
   "cell_type": "markdown",
   "metadata": {},
   "source": [
    "### Level Order Traversal Linewise Zigzag: `Queue`"
   ]
  },
  {
   "cell_type": "code",
   "execution_count": 13,
   "metadata": {},
   "outputs": [
    {
     "name": "stdout",
     "output_type": "stream",
     "text": [
      "[10]\n",
      "[40, 30, 20]\n",
      "[50, 60, 70, 80, 90, 100]\n",
      "[120, 110]\n"
     ]
    }
   ],
   "source": [
    "def zigzag(node):\n",
    "    \n",
    "    level = 1\n",
    "    childStk = []\n",
    "    mainStk = [node]\n",
    "    \n",
    "    temp = []\n",
    "    output = []\n",
    "    \n",
    "    while len(mainStk) > 0:\n",
    "        \n",
    "        node = mainStk.pop()\n",
    "        temp.append(node.val)\n",
    "        \n",
    "        if level % 2 == 1:\n",
    "            for i in range(len(node.children)):\n",
    "                childStk.append(node.children[i])\n",
    "        \n",
    "        else:\n",
    "            for i in range(len(node.children)-1, -1, -1):\n",
    "                childStk.append(node.children[i])\n",
    "            \n",
    "        if len(mainStk) == 0:\n",
    "            mainStk = childStk\n",
    "            childStk = []\n",
    "            output.append(temp)\n",
    "            temp = []\n",
    "            level += 1\n",
    "    \n",
    "    return output\n",
    "            \n",
    "output = zigzag(root)\n",
    "for out in output:\n",
    "    print(out)"
   ]
  },
  {
   "cell_type": "markdown",
   "metadata": {},
   "source": [
    "### Mirror of a Generic Tree"
   ]
  },
  {
   "cell_type": "code",
   "execution_count": 14,
   "metadata": {},
   "outputs": [
    {
     "name": "stdout",
     "output_type": "stream",
     "text": [
      "10 -> 40, 30, 20, \n",
      "40 -> 100, \n",
      "100 -> \n",
      "30 -> 90, 80, 70, \n",
      "90 -> \n",
      "80 -> 120, 110, \n",
      "120 -> \n",
      "110 -> \n",
      "70 -> \n",
      "20 -> 60, 50, \n",
      "60 -> \n",
      "50 -> \n"
     ]
    }
   ],
   "source": [
    "def mirror(node):\n",
    "    for child in node.children:\n",
    "        mirror(child)\n",
    "    node.children.reverse()\n",
    "    \n",
    "mirror(root)\n",
    "display(root)"
   ]
  },
  {
   "cell_type": "markdown",
   "metadata": {},
   "source": [
    "### Remove Leaf Nodes from Generic Tree"
   ]
  },
  {
   "cell_type": "code",
   "execution_count": 15,
   "metadata": {},
   "outputs": [
    {
     "name": "stdout",
     "output_type": "stream",
     "text": [
      "10 -> 20, 30, 40, \n",
      "20 -> \n",
      "30 -> 80, \n",
      "80 -> \n",
      "40 -> \n"
     ]
    }
   ],
   "source": [
    "root = generate(A) \n",
    "\n",
    "def removeLeaves(node):\n",
    "    \n",
    "    for i in range(len(node.children)-1, -1, -1):\n",
    "        child = node.children[i]\n",
    "        if len(child.children) == 0:\n",
    "            node.children.pop(i)\n",
    "    \n",
    "    for child in node.children:\n",
    "        removeLeaves(child)\n",
    "        \n",
    "removeLeaves(root)\n",
    "display(root)"
   ]
  },
  {
   "cell_type": "markdown",
   "metadata": {},
   "source": [
    "### Linearize a Generic Tree `O(n^2)`"
   ]
  },
  {
   "cell_type": "code",
   "execution_count": 16,
   "metadata": {},
   "outputs": [
    {
     "name": "stdout",
     "output_type": "stream",
     "text": [
      "10 -> 20, \n",
      "20 -> 50, \n",
      "50 -> 60, \n",
      "60 -> 30, \n",
      "30 -> 70, \n",
      "70 -> 80, \n",
      "80 -> 110, \n",
      "110 -> 120, \n",
      "120 -> 90, \n",
      "90 -> 40, \n",
      "40 -> 100, \n",
      "100 -> \n"
     ]
    }
   ],
   "source": [
    "root = generate(A) \n",
    "\n",
    "def getTail(node):\n",
    "    while len(node.children) == 1:\n",
    "        node = node.children[0]\n",
    "    return node\n",
    "\n",
    "def linearize(node):\n",
    "    \n",
    "    for child in node.children:\n",
    "        linearize(child)\n",
    "        \n",
    "    while len(node.children) > 1:\n",
    "        last = node.children.pop(len(node.children)-1)\n",
    "        penult = node.children[len(node.children)-1]\n",
    "        tail = getTail(penult)\n",
    "        tail.children.append(last)\n",
    "        \n",
    "linearize(root)\n",
    "display(root)"
   ]
  },
  {
   "cell_type": "markdown",
   "metadata": {},
   "source": [
    "### Linearize a Generic Tree `O(n)`"
   ]
  },
  {
   "cell_type": "code",
   "execution_count": 17,
   "metadata": {},
   "outputs": [
    {
     "name": "stdout",
     "output_type": "stream",
     "text": [
      "10 -> 20, \n",
      "20 -> 50, \n",
      "50 -> 60, \n",
      "60 -> 30, \n",
      "30 -> 70, \n",
      "70 -> 80, \n",
      "80 -> 110, \n",
      "110 -> 120, \n",
      "120 -> 90, \n",
      "90 -> 40, \n",
      "40 -> 100, \n",
      "100 -> \n"
     ]
    }
   ],
   "source": [
    "root = generate(A) \n",
    "\n",
    "def linearize(node):\n",
    "    if len(node.children) == 0:\n",
    "        return node\n",
    "    \n",
    "    lastsTail = linearize(node.children[len(node.children)-1])\n",
    "        \n",
    "    while len(node.children) > 1:\n",
    "        last = node.children.pop(len(node.children)-1)\n",
    "        penult = node.children[len(node.children)-1]\n",
    "        penultTail = linearize(penult)\n",
    "        penultTail.children.append(last)\n",
    "        \n",
    "    return lastsTail\n",
    "        \n",
    "linearize(root)\n",
    "display(root)"
   ]
  },
  {
   "cell_type": "markdown",
   "metadata": {},
   "source": [
    "### Find an Element in a Generic Tree"
   ]
  },
  {
   "cell_type": "code",
   "execution_count": 18,
   "metadata": {},
   "outputs": [
    {
     "name": "stdout",
     "output_type": "stream",
     "text": [
      "110 in tree?  True\n",
      "111 in tree?  False\n"
     ]
    }
   ],
   "source": [
    "root = generate(A) \n",
    "\n",
    "def find(node, x):\n",
    "    if node.val == x:\n",
    "        return True\n",
    "    \n",
    "    for child in node.children:\n",
    "        exist = find(child, x)\n",
    "        if exist:\n",
    "            return True\n",
    "    return False\n",
    "\n",
    "x = 110\n",
    "print(f\"{x} in tree? \", find(root, x))\n",
    "\n",
    "x = 111\n",
    "print(f\"{x} in tree? \", find(root, x))"
   ]
  },
  {
   "cell_type": "markdown",
   "metadata": {},
   "source": [
    "### Node to Root Path"
   ]
  },
  {
   "cell_type": "code",
   "execution_count": 19,
   "metadata": {},
   "outputs": [
    {
     "name": "stdout",
     "output_type": "stream",
     "text": [
      "[110, 80, 30, 10]\n"
     ]
    }
   ],
   "source": [
    "root = generate(A) \n",
    "\n",
    "def pathToRoot(node, x):\n",
    "    if node.val == x:\n",
    "        return [node.val]\n",
    "    \n",
    "    for child in node.children:\n",
    "        pathTillChild = pathToRoot(child, x)\n",
    "        if len(pathTillChild) > 0:\n",
    "            pathTillChild.append(node.val)\n",
    "            return pathTillChild\n",
    "    return []\n",
    "\n",
    "x = 110\n",
    "output = pathToRoot(root, x)\n",
    "print(output)"
   ]
  },
  {
   "cell_type": "markdown",
   "metadata": {},
   "source": [
    "### Lowest Common Ancestor of 2 Nodes"
   ]
  },
  {
   "cell_type": "code",
   "execution_count": 20,
   "metadata": {},
   "outputs": [
    {
     "name": "stdout",
     "output_type": "stream",
     "text": [
      "LCA of 70 and 110 is  30\n",
      "LCA of 80 and 120 is  80\n"
     ]
    }
   ],
   "source": [
    "root = generate(A) \n",
    "\n",
    "def lca(node, x, y):\n",
    "    xPath = pathToRoot(node, x)\n",
    "    yPath = pathToRoot(node, y)\n",
    "    \n",
    "    i = len(xPath) - 1\n",
    "    j = len(yPath) - 1\n",
    "    while i >= 0 and j >= 0 and xPath[i] == yPath[j]:\n",
    "        i -= 1\n",
    "        j -= 1\n",
    "    i += 1\n",
    "    j += 1\n",
    "    return xPath[i]\n",
    "\n",
    "x = 70\n",
    "y = 110\n",
    "print(f\"LCA of {x} and {y} is \", lca(root, x, y))\n",
    "\n",
    "x = 80\n",
    "y = 120\n",
    "print(f\"LCA of {x} and {y} is \", lca(root, x, y))"
   ]
  },
  {
   "cell_type": "markdown",
   "metadata": {},
   "source": [
    "### Distance between 2 Nodes"
   ]
  },
  {
   "cell_type": "code",
   "execution_count": 21,
   "metadata": {},
   "outputs": [
    {
     "name": "stdout",
     "output_type": "stream",
     "text": [
      "Distance between 80 and 110 is  1\n",
      "Distance between 60 and 120 is  5\n"
     ]
    }
   ],
   "source": [
    "root = generate(A) \n",
    "\n",
    "def distance(node, x, y):\n",
    "    xPath = pathToRoot(node, x)\n",
    "    yPath = pathToRoot(node, y)\n",
    "    \n",
    "    i = len(xPath) - 1\n",
    "    j = len(yPath) - 1\n",
    "    while i >= 0 and j >= 0 and xPath[i] == yPath[j]:\n",
    "        i -= 1\n",
    "        j -= 1\n",
    "    i += 1\n",
    "    j += 1\n",
    "    return i + j\n",
    "\n",
    "x = 80\n",
    "y = 110\n",
    "print(f\"Distance between {x} and {y} is \", distance(root, x, y))\n",
    "\n",
    "x = 60\n",
    "y = 120\n",
    "print(f\"Distance between {x} and {y} is \", distance(root, x, y))"
   ]
  },
  {
   "cell_type": "markdown",
   "metadata": {},
   "source": [
    "### Are 2 Generic Trees Similar in Shape?"
   ]
  },
  {
   "cell_type": "code",
   "execution_count": 22,
   "metadata": {},
   "outputs": [
    {
     "name": "stdout",
     "output_type": "stream",
     "text": [
      "True\n",
      "False\n"
     ]
    }
   ],
   "source": [
    "A = [10, 20, 50, -1, 60, -1, -1, 30, 70, -1, 80, 110, -1, 120, -1, -1, 90, -1, -1, 40, 100, -1, -1, -1]\n",
    "B = ['A', 'B', 'C', -1, 'D', -1, -1, 'E', 'F', -1, 'G', 'H', -1, 'I', -1, -1, 'J', -1, -1, 'K', 'L', -1, -1, -1]\n",
    "C = ['A', 'B', 'C', -1, 'D', -1, -1, 'E', 'F', -1, 'G', 'H', -1, 'I', -1, -1, 'J', -1, -1, 'K', -1, -1]\n",
    "\n",
    "root1 = generate(A)\n",
    "root2 = generate(B)\n",
    "root3 = generate(C)\n",
    "\n",
    "\n",
    "def areSimilar(node1, node2):\n",
    "    if len(node1.children) != len(node2.children):\n",
    "        return False\n",
    "    \n",
    "    for i in range(len(node1.children)):\n",
    "        child1 = node1.children[i]\n",
    "        child2 = node2.children[i]\n",
    "        if areSimilar(child1, child2) == False:\n",
    "            return False\n",
    "        \n",
    "    return True\n",
    "\n",
    "print(areSimilar(root1, root2))\n",
    "print(areSimilar(root1, root3))"
   ]
  },
  {
   "cell_type": "markdown",
   "metadata": {},
   "source": [
    "### Are 2 Generic Trees Mirror in Shape?"
   ]
  },
  {
   "cell_type": "code",
   "execution_count": 23,
   "metadata": {},
   "outputs": [
    {
     "name": "stdout",
     "output_type": "stream",
     "text": [
      "True\n",
      "False\n"
     ]
    }
   ],
   "source": [
    "D = [1, 2, 5, -1, -1, 3, 6, -1, 7, 11, -1, 12, -1, -1, 8, -1, -1, 4, 9, -1, 10, -1, -1, -1]\n",
    "E = ['A', 'B', 'C', -1, 'D', -1, -1, 'E', 'F', -1, 'G', 'H', -1, 'I', -1, -1, 'J', -1, -1, 'K', 'L', -1, -1, -1]\n",
    "F = ['A', 'B', 'E', -1, 'F', -1, -1, 'C', 'G', 'K', -1, 'L', -1, -1, 'H', -1, 'I', -1, -1, 'D', 'J', -1, -1, -1]\n",
    "\n",
    "root1 = generate(D)\n",
    "root2 = generate(E)\n",
    "root3 = generate(F)\n",
    "\n",
    "def areMirror(node1, node2):\n",
    "    if len(node1.children) != len(node2.children):\n",
    "        return False\n",
    "    \n",
    "    for i in range(len(node1.children)):\n",
    "        j = len(node1.children) - 1 - i\n",
    "        child1 = node1.children[i]\n",
    "        child2 = node2.children[j]\n",
    "        if areMirror(child1, child2) == False:\n",
    "            return False\n",
    "        \n",
    "    return True\n",
    "\n",
    "print(areMirror(root1, root2))\n",
    "print(areMirror(root1, root3))"
   ]
  },
  {
   "cell_type": "markdown",
   "metadata": {},
   "source": [
    "### Is Generic Tree Symmetric?"
   ]
  },
  {
   "cell_type": "code",
   "execution_count": 24,
   "metadata": {},
   "outputs": [
    {
     "name": "stdout",
     "output_type": "stream",
     "text": [
      "False\n",
      "True\n"
     ]
    }
   ],
   "source": [
    "G = ['A', 'B', 'E', -1, 'F', -1, -1, 'C', 'G', -1, 'H', -1, 'I', -1, -1, 'D', 'J', -1, 'K', -1, -1, -1]\n",
    "\n",
    "root1 = generate(A)\n",
    "root2 = generate(G)\n",
    "\n",
    "def isSymmetric(node):\n",
    "    return areMirror(node, node)\n",
    "\n",
    "print(isSymmetric(root1))\n",
    "print(isSymmetric(root2))"
   ]
  },
  {
   "cell_type": "markdown",
   "metadata": {},
   "source": [
    "### Generic Tree Multisolver"
   ]
  },
  {
   "cell_type": "code",
   "execution_count": 25,
   "metadata": {},
   "outputs": [
    {
     "name": "stdout",
     "output_type": "stream",
     "text": [
      "Size: 12, Height: 4, Min: 10, Max: 120\n"
     ]
    }
   ],
   "source": [
    "class GenericTree(object):\n",
    "    \n",
    "    def __init__(self, A):\n",
    "        self.size = 0\n",
    "        self.height = 0\n",
    "        self.minimum = float('inf')\n",
    "        self.maximum = float('-inf')\n",
    "        self.root = self.generate(A)\n",
    "        self.multisolver(self.root, 1)\n",
    "        self.info()\n",
    "        \n",
    "    def generate(self, A):\n",
    "        stack = []\n",
    "        root = None\n",
    "        for e in A:\n",
    "            if e == -1:\n",
    "                stack.pop()\n",
    "            else:\n",
    "                node = Node(e)\n",
    "                if len(stack) > 0:\n",
    "                    stack[-1].children.append(node)\n",
    "                else:\n",
    "                    root = node\n",
    "                stack.append(node)\n",
    "        return root\n",
    "                \n",
    "    def multisolver(self, node, depth):\n",
    "        \n",
    "        self.size += 1\n",
    "        self.height = max(self.height, depth)\n",
    "        self.minimum = min(self.minimum, node.val)\n",
    "        self.maximum = max(self.maximum, node.val)\n",
    "        \n",
    "        for child in node.children:\n",
    "            self.multisolver(child, depth + 1)\n",
    "            \n",
    "    def info(self):\n",
    "        text = f\"\"\"Size: {self.size}, Height: {self.height}, Min: {self.minimum}, Max: {self.maximum}\"\"\"\n",
    "        print(text)\n",
    "        \n",
    "gt = GenericTree(A)"
   ]
  },
  {
   "cell_type": "markdown",
   "metadata": {},
   "source": [
    "### Preorder : Predecessor And Successor Of an Element in a Generic Tree"
   ]
  },
  {
   "cell_type": "code",
   "execution_count": 26,
   "metadata": {},
   "outputs": [
    {
     "name": "stdout",
     "output_type": "stream",
     "text": [
      "Predecessor: 80, Success: 120\n"
     ]
    }
   ],
   "source": [
    "# Class based\n",
    "\n",
    "class GenericTree(object):\n",
    "    \n",
    "    def __init__(self, A):\n",
    "        self.root = self.generate(A)\n",
    "        self.state = 0\n",
    "        self.predecessor = None\n",
    "        self.successor = None\n",
    "                \n",
    "    def generate(self, A):\n",
    "        stack = []\n",
    "        root = None\n",
    "        for e in A:\n",
    "            if e == -1:\n",
    "                stack.pop()\n",
    "            else:\n",
    "                node = Node(e)\n",
    "                if len(stack) > 0:\n",
    "                    stack[-1].children.append(node)\n",
    "                else:\n",
    "                    root = node\n",
    "                stack.append(node)\n",
    "        return root\n",
    "                \n",
    "    def predecessorAndSuccessor(self, node, x):\n",
    "        if self.state == 0:\n",
    "            if node.val == x:\n",
    "                self.state = 1\n",
    "            else:\n",
    "                self.predecessor = node\n",
    "        elif self.state == 1:\n",
    "            self.successor = node\n",
    "            self.state = 2\n",
    "        \n",
    "        for child in node.children:\n",
    "            self.predecessorAndSuccessor(child, x)\n",
    "            \n",
    "    def info(self):\n",
    "        text = f\"\"\"Predecessor: {self.predecessor.val}, Success: {self.successor.val}\"\"\"\n",
    "        print(text)\n",
    "        \n",
    "gt = GenericTree(A)\n",
    "gt.predecessorAndSuccessor(gt.root, 110)\n",
    "gt.info()"
   ]
  },
  {
   "cell_type": "code",
   "execution_count": 27,
   "metadata": {},
   "outputs": [
    {
     "name": "stdout",
     "output_type": "stream",
     "text": [
      "80 120\n"
     ]
    }
   ],
   "source": [
    "# Function based\n",
    "\n",
    "def predecessorAndSuccessor(node, x):\n",
    "    \n",
    "    def solve(node, x):\n",
    "        \n",
    "        nonlocal state, predecessor, successor\n",
    "        \n",
    "        if state == 0:\n",
    "            if node.val == x:\n",
    "                state = 1\n",
    "            else:\n",
    "                predecessor = node\n",
    "        elif state == 1:\n",
    "            successor = node\n",
    "            state = 2\n",
    "\n",
    "        for child in node.children:\n",
    "            solve(child, x)\n",
    "            \n",
    "    state = 0\n",
    "    predecessor = None\n",
    "    successor = None\n",
    "    solve(node, x)\n",
    "    return predecessor, successor\n",
    "\n",
    "predecessor, successor = predecessorAndSuccessor(root, 110)\n",
    "print(predecessor.val, successor.val)"
   ]
  },
  {
   "cell_type": "markdown",
   "metadata": {},
   "source": [
    "### Ceil and Floor a Value In a Generic Tree"
   ]
  },
  {
   "cell_type": "code",
   "execution_count": 28,
   "metadata": {},
   "outputs": [
    {
     "name": "stdout",
     "output_type": "stream",
     "text": [
      "70 50\n"
     ]
    }
   ],
   "source": [
    "def ceilAndFloor(node, x):\n",
    "    \n",
    "    def solve(node, x):\n",
    "        nonlocal ceil, floor\n",
    "        if node.val > x:\n",
    "            ceil = min(ceil, node.val)\n",
    "            \n",
    "        if node.val < x:\n",
    "            floor = max(floor, node.val)\n",
    "            \n",
    "        for child in node.children:\n",
    "            solve(child, x)\n",
    "            \n",
    "    ceil = float('inf')\n",
    "    floor = float('-inf')\n",
    "    solve(node, x)\n",
    "    \n",
    "    return ceil, floor\n",
    "\n",
    "ceil, floor = ceilAndFloor(root, 60)\n",
    "print(ceil, floor)"
   ]
  },
  {
   "cell_type": "markdown",
   "metadata": {},
   "source": [
    "### `K`th Largest Element in a Generic Tree"
   ]
  },
  {
   "cell_type": "code",
   "execution_count": 29,
   "metadata": {},
   "outputs": [
    {
     "data": {
      "text/plain": [
       "100"
      ]
     },
     "execution_count": 29,
     "metadata": {},
     "output_type": "execute_result"
    }
   ],
   "source": [
    "def kthLargestElement(node, k):\n",
    "    \n",
    "    def getFloor(node, x):\n",
    "        nonlocal floor    \n",
    "        if node.val < x:\n",
    "            floor = max(floor, node.val)\n",
    "            \n",
    "        for child in node.children:\n",
    "            getFloor(child, x)\n",
    "    \n",
    "    x = float('inf')\n",
    "    floor = float('-inf')\n",
    "    \n",
    "    for _ in range(k):\n",
    "        getFloor(node, x)\n",
    "        x = floor\n",
    "        floor = float('-inf')\n",
    "    return x\n",
    "\n",
    "kthLargestElement(root, 3)"
   ]
  },
  {
   "cell_type": "markdown",
   "metadata": {},
   "source": [
    "### Node with Maximum Subtree Sum in a Generic Tree"
   ]
  },
  {
   "cell_type": "code",
   "execution_count": 30,
   "metadata": {},
   "outputs": [
    {
     "name": "stdout",
     "output_type": "stream",
     "text": [
      "Maximum sum: 140, Maximum sum node: 30\n"
     ]
    }
   ],
   "source": [
    "H = [10, 20, -50, -1, -60, -1, -1, 30, -70, -1, 80, -110, -1, 120, -1, -1, 90, -1, -1, 40, -100, -1, -1, -1]\n",
    "\n",
    "root = generate(H)\n",
    "\n",
    "def maxSumSubtree(node):\n",
    "    \n",
    "    def solve(node):\n",
    "        nonlocal maxSum, maxSumNode\n",
    "        \n",
    "        _sum = 0\n",
    "        \n",
    "        for child in node.children:\n",
    "            _sum += solve(child)\n",
    "            \n",
    "        _sum += node.val\n",
    "        \n",
    "        if _sum > maxSum:\n",
    "            maxSum = _sum\n",
    "            maxSumNode = node\n",
    "            \n",
    "        return _sum\n",
    "    \n",
    "    maxSumNode = None\n",
    "    maxSum = float('-inf')\n",
    "    solve(node)\n",
    "    return maxSumNode, maxSum\n",
    "\n",
    "\n",
    "maxSumNode, maxSum = maxSumSubtree(root)\n",
    "print(f\"Maximum sum: {maxSum}, Maximum sum node: {maxSumNode.val}\")"
   ]
  },
  {
   "cell_type": "markdown",
   "metadata": {},
   "source": [
    "### Diameter Of a Generic Tree"
   ]
  },
  {
   "cell_type": "code",
   "execution_count": 56,
   "metadata": {},
   "outputs": [
    {
     "name": "stdout",
     "output_type": "stream",
     "text": [
      "5\n"
     ]
    }
   ],
   "source": [
    "root = generate(A)\n",
    "\n",
    "def computeDiameter(node):\n",
    "    \n",
    "    def solve(node):\n",
    "        nonlocal diameter\n",
    "        maxDepth = -1\n",
    "        nextMaxDepth = -1\n",
    "        \n",
    "        for child in node.children:\n",
    "            childDepth = solve(child)\n",
    "            \n",
    "            if childDepth > maxDepth:\n",
    "                nextMaxDepth = maxDepth\n",
    "                maxDepth = childDepth\n",
    "            elif childDepth > nextMaxDepth:\n",
    "                nextMaxDepth = childDepth\n",
    "            \n",
    "        candidate = maxDepth + nextMaxDepth + 2\n",
    "        diameter = max(diameter, candidate)\n",
    "            \n",
    "        return maxDepth + 1\n",
    "    \n",
    "    diameter = 0\n",
    "    solve(node)\n",
    "    return diameter\n",
    "\n",
    "print(computeDiameter(root))"
   ]
  },
  {
   "cell_type": "markdown",
   "metadata": {},
   "source": [
    "### Iterative Preorder and Postorder Traversal of a Generic Tree"
   ]
  },
  {
   "cell_type": "code",
   "execution_count": 53,
   "metadata": {},
   "outputs": [
    {
     "name": "stdout",
     "output_type": "stream",
     "text": [
      "[10, 20, 50, 60, 30, 70, 80, 110, 120, 90, 40, 100]\n",
      "[50, 60, 20, 70, 110, 120, 80, 90, 30, 100, 40, 10]\n"
     ]
    }
   ],
   "source": [
    "root = generate(A)\n",
    "\n",
    "\n",
    "pre = []\n",
    "post = []\n",
    "stack = [[root, -1]]\n",
    "\n",
    "while len(stack) > 0:\n",
    "    top = stack[-1]\n",
    "    if top[1] == -1:\n",
    "        pre.append(top[0].val)\n",
    "        stack[-1][1] += 1\n",
    "    elif top[1] == len(top[0].children):\n",
    "        post.append(top[0].val)\n",
    "        stack.pop()\n",
    "    else:\n",
    "        idx = top[1]\n",
    "        stack[-1][1] += 1\n",
    "        stack.append([top[0].children[idx], -1])\n",
    "        \n",
    "print(pre)\n",
    "print(post)"
   ]
  },
  {
   "cell_type": "markdown",
   "metadata": {},
   "source": [
    "# UnboundLocalError"
   ]
  },
  {
   "cell_type": "code",
   "execution_count": 31,
   "metadata": {},
   "outputs": [
    {
     "ename": "UnboundLocalError",
     "evalue": "local variable 'x' referenced before assignment",
     "output_type": "error",
     "traceback": [
      "\u001b[0;31m---------------------------------------------------------------------------\u001b[0m",
      "\u001b[0;31mUnboundLocalError\u001b[0m                         Traceback (most recent call last)",
      "\u001b[0;32m<ipython-input-31-842a52cefc7c>\u001b[0m in \u001b[0;36m<module>\u001b[0;34m\u001b[0m\n\u001b[1;32m      3\u001b[0m     \u001b[0mx\u001b[0m \u001b[0;34m+=\u001b[0m \u001b[0;36m1\u001b[0m\u001b[0;34m\u001b[0m\u001b[0;34m\u001b[0m\u001b[0m\n\u001b[1;32m      4\u001b[0m     \u001b[0mprint\u001b[0m\u001b[0;34m(\u001b[0m\u001b[0mx\u001b[0m\u001b[0;34m)\u001b[0m\u001b[0;34m\u001b[0m\u001b[0;34m\u001b[0m\u001b[0m\n\u001b[0;32m----> 5\u001b[0;31m \u001b[0mfoo\u001b[0m\u001b[0;34m(\u001b[0m\u001b[0;34m)\u001b[0m\u001b[0;34m\u001b[0m\u001b[0;34m\u001b[0m\u001b[0m\n\u001b[0m",
      "\u001b[0;32m<ipython-input-31-842a52cefc7c>\u001b[0m in \u001b[0;36mfoo\u001b[0;34m()\u001b[0m\n\u001b[1;32m      1\u001b[0m \u001b[0mx\u001b[0m \u001b[0;34m=\u001b[0m \u001b[0;36m10\u001b[0m\u001b[0;34m\u001b[0m\u001b[0;34m\u001b[0m\u001b[0m\n\u001b[1;32m      2\u001b[0m \u001b[0;32mdef\u001b[0m \u001b[0mfoo\u001b[0m\u001b[0;34m(\u001b[0m\u001b[0;34m)\u001b[0m\u001b[0;34m:\u001b[0m\u001b[0;34m\u001b[0m\u001b[0;34m\u001b[0m\u001b[0m\n\u001b[0;32m----> 3\u001b[0;31m     \u001b[0mx\u001b[0m \u001b[0;34m+=\u001b[0m \u001b[0;36m1\u001b[0m\u001b[0;34m\u001b[0m\u001b[0;34m\u001b[0m\u001b[0m\n\u001b[0m\u001b[1;32m      4\u001b[0m     \u001b[0mprint\u001b[0m\u001b[0;34m(\u001b[0m\u001b[0mx\u001b[0m\u001b[0;34m)\u001b[0m\u001b[0;34m\u001b[0m\u001b[0;34m\u001b[0m\u001b[0m\n\u001b[1;32m      5\u001b[0m \u001b[0mfoo\u001b[0m\u001b[0;34m(\u001b[0m\u001b[0;34m)\u001b[0m\u001b[0;34m\u001b[0m\u001b[0;34m\u001b[0m\u001b[0m\n",
      "\u001b[0;31mUnboundLocalError\u001b[0m: local variable 'x' referenced before assignment"
     ]
    }
   ],
   "source": [
    "x = 10\n",
    "def foo():\n",
    "    x += 1\n",
    "    print(x)\n",
    "foo()"
   ]
  },
  {
   "cell_type": "code",
   "execution_count": 32,
   "metadata": {},
   "outputs": [
    {
     "ename": "UnboundLocalError",
     "evalue": "local variable 'lst' referenced before assignment",
     "output_type": "error",
     "traceback": [
      "\u001b[0;31m---------------------------------------------------------------------------\u001b[0m",
      "\u001b[0;31mUnboundLocalError\u001b[0m                         Traceback (most recent call last)",
      "\u001b[0;32m<ipython-input-32-3c837463a5e5>\u001b[0m in \u001b[0;36m<module>\u001b[0;34m\u001b[0m\n\u001b[1;32m      3\u001b[0m \u001b[0;32mdef\u001b[0m \u001b[0mfoo\u001b[0m\u001b[0;34m(\u001b[0m\u001b[0;34m)\u001b[0m\u001b[0;34m:\u001b[0m\u001b[0;34m\u001b[0m\u001b[0;34m\u001b[0m\u001b[0m\n\u001b[1;32m      4\u001b[0m     \u001b[0mlst\u001b[0m \u001b[0;34m+=\u001b[0m \u001b[0;34m[\u001b[0m\u001b[0;36m5\u001b[0m\u001b[0;34m]\u001b[0m     \u001b[0;31m# ERROR here\u001b[0m\u001b[0;34m\u001b[0m\u001b[0;34m\u001b[0m\u001b[0m\n\u001b[0;32m----> 5\u001b[0;31m \u001b[0mfoo\u001b[0m\u001b[0;34m(\u001b[0m\u001b[0;34m)\u001b[0m\u001b[0;34m\u001b[0m\u001b[0;34m\u001b[0m\u001b[0m\n\u001b[0m\u001b[1;32m      6\u001b[0m \u001b[0mprint\u001b[0m\u001b[0;34m(\u001b[0m\u001b[0mlst\u001b[0m\u001b[0;34m)\u001b[0m\u001b[0;34m\u001b[0m\u001b[0;34m\u001b[0m\u001b[0m\n",
      "\u001b[0;32m<ipython-input-32-3c837463a5e5>\u001b[0m in \u001b[0;36mfoo\u001b[0;34m()\u001b[0m\n\u001b[1;32m      2\u001b[0m \u001b[0;34m\u001b[0m\u001b[0m\n\u001b[1;32m      3\u001b[0m \u001b[0;32mdef\u001b[0m \u001b[0mfoo\u001b[0m\u001b[0;34m(\u001b[0m\u001b[0;34m)\u001b[0m\u001b[0;34m:\u001b[0m\u001b[0;34m\u001b[0m\u001b[0;34m\u001b[0m\u001b[0m\n\u001b[0;32m----> 4\u001b[0;31m     \u001b[0mlst\u001b[0m \u001b[0;34m+=\u001b[0m \u001b[0;34m[\u001b[0m\u001b[0;36m5\u001b[0m\u001b[0;34m]\u001b[0m     \u001b[0;31m# ERROR here\u001b[0m\u001b[0;34m\u001b[0m\u001b[0;34m\u001b[0m\u001b[0m\n\u001b[0m\u001b[1;32m      5\u001b[0m \u001b[0mfoo\u001b[0m\u001b[0;34m(\u001b[0m\u001b[0;34m)\u001b[0m\u001b[0;34m\u001b[0m\u001b[0;34m\u001b[0m\u001b[0m\n\u001b[1;32m      6\u001b[0m \u001b[0mprint\u001b[0m\u001b[0;34m(\u001b[0m\u001b[0mlst\u001b[0m\u001b[0;34m)\u001b[0m\u001b[0;34m\u001b[0m\u001b[0;34m\u001b[0m\u001b[0m\n",
      "\u001b[0;31mUnboundLocalError\u001b[0m: local variable 'lst' referenced before assignment"
     ]
    }
   ],
   "source": [
    "lst = [1, 2, 3]\n",
    "\n",
    "def foo():\n",
    "    lst += [5]     # ERROR here\n",
    "foo()\n",
    "print(lst)"
   ]
  },
  {
   "cell_type": "code",
   "execution_count": 33,
   "metadata": {},
   "outputs": [
    {
     "name": "stdout",
     "output_type": "stream",
     "text": [
      "[1, 2, 3, 5]\n"
     ]
    }
   ],
   "source": [
    "lst = [1, 2, 3]\n",
    "\n",
    "def foo():\n",
    "    lst.append(5)\n",
    "foo()\n",
    "print(lst)"
   ]
  },
  {
   "cell_type": "code",
   "execution_count": 34,
   "metadata": {},
   "outputs": [
    {
     "name": "stdout",
     "output_type": "stream",
     "text": [
      "11\n"
     ]
    }
   ],
   "source": [
    "x = 10\n",
    "def foo():\n",
    "    global x\n",
    "    x += 1\n",
    "    print(x)\n",
    "foo()"
   ]
  },
  {
   "cell_type": "code",
   "execution_count": 35,
   "metadata": {},
   "outputs": [
    {
     "ename": "UnboundLocalError",
     "evalue": "local variable 'x' referenced before assignment",
     "output_type": "error",
     "traceback": [
      "\u001b[0;31m---------------------------------------------------------------------------\u001b[0m",
      "\u001b[0;31mUnboundLocalError\u001b[0m                         Traceback (most recent call last)",
      "\u001b[0;32m<ipython-input-35-b7a59f1d0bf1>\u001b[0m in \u001b[0;36m<module>\u001b[0;34m\u001b[0m\n\u001b[1;32m      5\u001b[0m         \u001b[0mprint\u001b[0m\u001b[0;34m(\u001b[0m\u001b[0mx\u001b[0m\u001b[0;34m)\u001b[0m\u001b[0;34m\u001b[0m\u001b[0;34m\u001b[0m\u001b[0m\n\u001b[1;32m      6\u001b[0m     \u001b[0minternal\u001b[0m\u001b[0;34m(\u001b[0m\u001b[0;34m)\u001b[0m\u001b[0;34m\u001b[0m\u001b[0;34m\u001b[0m\u001b[0m\n\u001b[0;32m----> 7\u001b[0;31m \u001b[0mexternal\u001b[0m\u001b[0;34m(\u001b[0m\u001b[0;34m)\u001b[0m\u001b[0;34m\u001b[0m\u001b[0;34m\u001b[0m\u001b[0m\n\u001b[0m",
      "\u001b[0;32m<ipython-input-35-b7a59f1d0bf1>\u001b[0m in \u001b[0;36mexternal\u001b[0;34m()\u001b[0m\n\u001b[1;32m      4\u001b[0m         \u001b[0mx\u001b[0m \u001b[0;34m+=\u001b[0m \u001b[0;36m1\u001b[0m\u001b[0;34m\u001b[0m\u001b[0;34m\u001b[0m\u001b[0m\n\u001b[1;32m      5\u001b[0m         \u001b[0mprint\u001b[0m\u001b[0;34m(\u001b[0m\u001b[0mx\u001b[0m\u001b[0;34m)\u001b[0m\u001b[0;34m\u001b[0m\u001b[0;34m\u001b[0m\u001b[0m\n\u001b[0;32m----> 6\u001b[0;31m     \u001b[0minternal\u001b[0m\u001b[0;34m(\u001b[0m\u001b[0;34m)\u001b[0m\u001b[0;34m\u001b[0m\u001b[0;34m\u001b[0m\u001b[0m\n\u001b[0m\u001b[1;32m      7\u001b[0m \u001b[0mexternal\u001b[0m\u001b[0;34m(\u001b[0m\u001b[0;34m)\u001b[0m\u001b[0;34m\u001b[0m\u001b[0;34m\u001b[0m\u001b[0m\n",
      "\u001b[0;32m<ipython-input-35-b7a59f1d0bf1>\u001b[0m in \u001b[0;36minternal\u001b[0;34m()\u001b[0m\n\u001b[1;32m      2\u001b[0m     \u001b[0mx\u001b[0m \u001b[0;34m=\u001b[0m \u001b[0;36m10\u001b[0m\u001b[0;34m\u001b[0m\u001b[0;34m\u001b[0m\u001b[0m\n\u001b[1;32m      3\u001b[0m     \u001b[0;32mdef\u001b[0m \u001b[0minternal\u001b[0m\u001b[0;34m(\u001b[0m\u001b[0;34m)\u001b[0m\u001b[0;34m:\u001b[0m\u001b[0;34m\u001b[0m\u001b[0;34m\u001b[0m\u001b[0m\n\u001b[0;32m----> 4\u001b[0;31m         \u001b[0mx\u001b[0m \u001b[0;34m+=\u001b[0m \u001b[0;36m1\u001b[0m\u001b[0;34m\u001b[0m\u001b[0;34m\u001b[0m\u001b[0m\n\u001b[0m\u001b[1;32m      5\u001b[0m         \u001b[0mprint\u001b[0m\u001b[0;34m(\u001b[0m\u001b[0mx\u001b[0m\u001b[0;34m)\u001b[0m\u001b[0;34m\u001b[0m\u001b[0;34m\u001b[0m\u001b[0m\n\u001b[1;32m      6\u001b[0m     \u001b[0minternal\u001b[0m\u001b[0;34m(\u001b[0m\u001b[0;34m)\u001b[0m\u001b[0;34m\u001b[0m\u001b[0;34m\u001b[0m\u001b[0m\n",
      "\u001b[0;31mUnboundLocalError\u001b[0m: local variable 'x' referenced before assignment"
     ]
    }
   ],
   "source": [
    "def external():\n",
    "    x = 10\n",
    "    def internal():\n",
    "        x += 1\n",
    "        print(x)\n",
    "    internal()\n",
    "external()"
   ]
  },
  {
   "cell_type": "code",
   "execution_count": 36,
   "metadata": {},
   "outputs": [
    {
     "name": "stdout",
     "output_type": "stream",
     "text": [
      "12\n"
     ]
    }
   ],
   "source": [
    "def external():\n",
    "    x = 10\n",
    "    def internal():\n",
    "        global x\n",
    "        x += 1\n",
    "        print(x)\n",
    "    internal()\n",
    "\n",
    "external() # Wrong output"
   ]
  },
  {
   "cell_type": "code",
   "execution_count": 37,
   "metadata": {},
   "outputs": [
    {
     "name": "stdout",
     "output_type": "stream",
     "text": [
      "11\n"
     ]
    }
   ],
   "source": [
    "def external():\n",
    "    x = 10\n",
    "    def internal():\n",
    "        nonlocal x\n",
    "        x += 1\n",
    "        print(x)\n",
    "    internal()\n",
    "\n",
    "external() # Correct"
   ]
  },
  {
   "cell_type": "code",
   "execution_count": 54,
   "metadata": {},
   "outputs": [
    {
     "name": "stdout",
     "output_type": "stream",
     "text": [
      "L[0] (before):  [1, 2, 3]\n",
      "L[0] (after):  [1, 2, 3, 4, 5, 6, 7, 8, 9, 10, 11, 12, 11, 12, 13, 14, 15]\n"
     ]
    }
   ],
   "source": [
    "L = [[1, 2, 3], [4, 5, 6], [7, 8, 9, 10], [11, 12], [11, 12, 13, 14, 15]]\n",
    "print('L[0] (before): ', L[0])\n",
    "\n",
    "def merge(x, y):\n",
    "    return x + y\n",
    "\n",
    "amount = len(L)\n",
    "interval = 1\n",
    "while interval < amount:\n",
    "    for i in range(0, amount - interval, interval * 2):\n",
    "        L[i] = merge(L[i], L[i+interval])\n",
    "    interval *= 2\n",
    "    \n",
    "print('L[0] (after): ', L[0])"
   ]
  },
  {
   "cell_type": "code",
   "execution_count": 44,
   "metadata": {},
   "outputs": [
    {
     "name": "stdout",
     "output_type": "stream",
     "text": [
      "0 1  in  0\n",
      "2 3  in  2\n",
      "4 5  in  4\n",
      "6 7  in  6\n",
      "0 2  in  0\n",
      "4 6  in  4\n",
      "0 4  in  0\n",
      "0 8  in  0\n"
     ]
    }
   ],
   "source": [
    "amount = 9\n",
    "interval = 1\n",
    "while interval < amount:\n",
    "    for i in range(0, amount - interval, interval * 2):\n",
    "        print(i, i + interval, ' in ', i)\n",
    "    interval *= 2"
   ]
  }
 ],
 "metadata": {
  "kernelspec": {
   "display_name": "Python 3",
   "language": "python",
   "name": "python3"
  },
  "language_info": {
   "codemirror_mode": {
    "name": "ipython",
    "version": 3
   },
   "file_extension": ".py",
   "mimetype": "text/x-python",
   "name": "python",
   "nbconvert_exporter": "python",
   "pygments_lexer": "ipython3",
   "version": "3.6.9"
  }
 },
 "nbformat": 4,
 "nbformat_minor": 4
}
