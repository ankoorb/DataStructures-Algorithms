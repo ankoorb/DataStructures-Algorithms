{
 "cells": [
  {
   "cell_type": "markdown",
   "metadata": {},
   "source": [
    "### Adjacency Matrix to Adjacency List"
   ]
  },
  {
   "cell_type": "code",
   "execution_count": 1,
   "metadata": {},
   "outputs": [
    {
     "name": "stdout",
     "output_type": "stream",
     "text": [
      "Adjacency List:  [[1, 3], [0, 2], [1, 3], [0, 2, 4], [3, 5, 6], [4, 6], [4, 5]]\n",
      "Adjacency List (weight):  [[(1, 10), (3, 40)], [(0, 10), (2, 10)], [(1, 10), (3, 10)], [(0, 40), (2, 10), (4, 2)], [(3, 2), (5, 3), (6, 8)], [(4, 3), (6, 3)], [(4, 8), (5, 3)]]\n"
     ]
    }
   ],
   "source": [
    "M = [[ 0, 10,  0, 40, 0, 0, 0], \n",
    "     [10,  0, 10,  0, 0, 0, 0], \n",
    "     [ 0, 10,  0, 10, 0, 0, 0], \n",
    "     [40,  0, 10,  0, 2, 0, 0], \n",
    "     [ 0,  0,  0,  2, 0, 3, 8], \n",
    "     [ 0,  0,  0,  0, 3, 0, 3], \n",
    "     [ 0,  0,  0,  0, 8, 3, 0]]\n",
    "\n",
    "v = len(M)\n",
    "\n",
    "# Adjacency List\n",
    "L = [[] for _ in range(v)]\n",
    "\n",
    "for i in range(v):\n",
    "    for j in range(v):\n",
    "        if M[i][j] > 0:\n",
    "            L[i].append(j)\n",
    "            \n",
    "W = [[] for _ in range(v)]\n",
    "for i in range(v):\n",
    "    for j in range(v):\n",
    "        if M[i][j] > 0:\n",
    "            W[i].append((j, M[i][j]))\n",
    "            \n",
    "print('Adjacency List: ', L)\n",
    "print('Adjacency List (weight): ', W)"
   ]
  },
  {
   "cell_type": "markdown",
   "metadata": {},
   "source": [
    "### Does a Path between Source and Destination Exist?"
   ]
  },
  {
   "cell_type": "code",
   "execution_count": 2,
   "metadata": {},
   "outputs": [
    {
     "name": "stdout",
     "output_type": "stream",
     "text": [
      "Is there a path from 0 to 6:  True\n"
     ]
    }
   ],
   "source": [
    "def pathExist(G, src, dest):\n",
    "    if src == dest:\n",
    "        return True\n",
    "    \n",
    "    visited[src] = True\n",
    "    for nbr in G[src]:\n",
    "        if visited[nbr] == False:\n",
    "            if pathExist(G, nbr, dest):\n",
    "                return True\n",
    "    return False\n",
    "    \n",
    "src = 0\n",
    "dest = 6\n",
    "v = len(L)\n",
    "visited = [False] * v\n",
    "print(f\"Is there a path from {src} to {dest}: \", pathExist(L, src, dest))"
   ]
  },
  {
   "cell_type": "markdown",
   "metadata": {},
   "source": [
    "### Find all Paths between Source and Destination using DFS"
   ]
  },
  {
   "cell_type": "code",
   "execution_count": 3,
   "metadata": {},
   "outputs": [
    {
     "name": "stdout",
     "output_type": "stream",
     "text": [
      "Paths from 0 to 6:  [[0, 1, 2, 3, 4, 5, 6], [0, 1, 2, 3, 4, 6], [0, 3, 4, 5, 6], [0, 3, 4, 6]]\n"
     ]
    }
   ],
   "source": [
    "def getPaths(G, src, dest, path):\n",
    "    if src == dest:\n",
    "        output.append(path[:])\n",
    "        return\n",
    "    \n",
    "    visited[src] = True\n",
    "    for nbr in G[src]:\n",
    "        if visited[nbr] == False:\n",
    "            getPaths(G, nbr, dest, path + [nbr])\n",
    "    visited[src] = False\n",
    "\n",
    "\n",
    "v = len(L)\n",
    "visited = [False] * v\n",
    "\n",
    "src = 0\n",
    "dest = 6\n",
    "path = [0]\n",
    "output = []\n",
    "getPaths(L, src, dest, path)\n",
    "print(f\"Paths from {src} to {dest}: \", output)"
   ]
  },
  {
   "cell_type": "markdown",
   "metadata": {},
   "source": [
    "### Shortest, Longest, Ceil, Floor, `K`th Longest Path"
   ]
  },
  {
   "cell_type": "code",
   "execution_count": 4,
   "metadata": {},
   "outputs": [
    {
     "name": "stdout",
     "output_type": "stream",
     "text": [
      "Shortest path from 0 to 6 with distance 38:  [0, 1, 2, 3, 4, 5, 6]\n",
      "Longest path from 0 to 6 with distance 50:  [0, 3, 4, 6]\n",
      "Ceil path from 0 to 6 with distance 48 > 40:  [0, 3, 4, 5, 6]\n",
      "Floor path from 0 to 6 with distance 38 < 40:  [0, 1, 2, 3, 4, 5, 6]\n",
      "3th longest path from 0 to 6 with distance 40:  [0, 1, 2, 3, 4, 6]\n"
     ]
    }
   ],
   "source": [
    "import heapq\n",
    "\n",
    "def paths(G, src, dest, k, criteria):\n",
    "    def solve(G, src, dest, k, criteria, path, dist):\n",
    "        nonlocal sDist, cDist, lDist, fDist, sPath, lPath, cPath, fPath, heap\n",
    "        if src == dest:\n",
    "            if dist < sDist:\n",
    "                sPath = path[:]\n",
    "                sDist = dist\n",
    "            if dist > lDist:\n",
    "                lPath = path[:]\n",
    "                lDist = dist\n",
    "            if dist < cDist and dist > criteria:\n",
    "                cPath = path[:]\n",
    "                cDist = dist\n",
    "            if dist > fDist and dist < criteria:\n",
    "                fPath = path[:]\n",
    "                fDist = dist\n",
    "            if len(heap) < k:\n",
    "                heapq.heappush(heap, (dist, path[:]))\n",
    "            else:\n",
    "                if dist > heap[0][0]:\n",
    "                    heapq.heappop(heap)\n",
    "                    heapq.heappush(heap, (dist, path[:]))\n",
    "            return\n",
    "\n",
    "        visited[src] = True\n",
    "        for nbr, d in G[src]:\n",
    "            if visited[nbr] == False:\n",
    "                solve(G, nbr, dest, k, criteria, path + [nbr], dist + d)\n",
    "        visited[src] = False\n",
    "    \n",
    "\n",
    "    v = len(G)\n",
    "    visited = [False] * v\n",
    "\n",
    "    sPath = []\n",
    "    cPath = []\n",
    "    lPath = []\n",
    "    fPath = []\n",
    "    sDist = float('inf')\n",
    "    cDist = float('inf')\n",
    "    lDist = float('-inf')\n",
    "    fDist = float('-inf')\n",
    "    \n",
    "    heap = []\n",
    "\n",
    "    dist = 0\n",
    "    path = [0]\n",
    "    solve(G, src, dest, k, criteria, path, dist)\n",
    "    print(f\"Shortest path from {src} to {dest} with distance {sDist}: \", sPath)\n",
    "    print(f\"Longest path from {src} to {dest} with distance {lDist}: \", lPath)\n",
    "    print(f\"Ceil path from {src} to {dest} with distance {cDist} > {criteria}: \", cPath)\n",
    "    print(f\"Floor path from {src} to {dest} with distance {fDist} < {criteria}: \", fPath)\n",
    "    print(f\"{k}th longest path from {src} to {dest} with distance {heap[0][0]}: \", heap[0][1])\n",
    "\n",
    "k = 3\n",
    "src = 0\n",
    "dest = 6\n",
    "criteria = 40\n",
    "paths(W, src, dest, k, criteria)"
   ]
  },
  {
   "cell_type": "markdown",
   "metadata": {},
   "source": [
    "### Get Connected Components of a Graph"
   ]
  },
  {
   "cell_type": "code",
   "execution_count": 5,
   "metadata": {},
   "outputs": [
    {
     "name": "stdout",
     "output_type": "stream",
     "text": [
      "Components of graph G are:  [[0, 1], [2, 3], [4, 5, 6]]\n"
     ]
    }
   ],
   "source": [
    "G = [[1], [0], [3], [2], [5, 6], [4, 6], [4, 5]]\n",
    "\n",
    "def getComponents(G, src):\n",
    "    visited[src] = True\n",
    "    component.append(src)\n",
    "    for nbr in G[src]:\n",
    "        if visited[nbr] == False:\n",
    "            getComponents(G, nbr)\n",
    "\n",
    "\n",
    "v = len(G)\n",
    "visited = [False] * v\n",
    "\n",
    "output = []\n",
    "for vertex in range(v):\n",
    "    if visited[vertex] == False:\n",
    "        component = []\n",
    "        getComponents(G, vertex)\n",
    "        output.append(component)\n",
    "        \n",
    "print('Components of graph G are: ', output)"
   ]
  },
  {
   "cell_type": "markdown",
   "metadata": {},
   "source": [
    "### Is Graph Connected?"
   ]
  },
  {
   "cell_type": "code",
   "execution_count": 6,
   "metadata": {},
   "outputs": [
    {
     "name": "stdout",
     "output_type": "stream",
     "text": [
      "Is graph L connected:  True\n",
      "Is graph G connected:  False\n"
     ]
    }
   ],
   "source": [
    "G = [[1], [0], [3], [2], [5, 6], [4, 6], [4, 5]]\n",
    "\n",
    "def isConnected(G):\n",
    "\n",
    "    def getComponents(G, src):\n",
    "        visited[src] = True\n",
    "        component.append(src)\n",
    "        for nbr in G[src]:\n",
    "            if visited[nbr] == False:\n",
    "                getComponents(G, nbr)\n",
    "\n",
    "\n",
    "    v = len(G)\n",
    "    visited = [False] * v\n",
    "\n",
    "    output = []\n",
    "    for vertex in range(v):\n",
    "        if visited[vertex] == False:\n",
    "            component = []\n",
    "            getComponents(G, vertex)\n",
    "            output.append(component)\n",
    "            \n",
    "    return False if len(output) > 1 else True\n",
    "        \n",
    "print('Is graph L connected: ', isConnected(L))\n",
    "print('Is graph G connected: ', isConnected(G))"
   ]
  },
  {
   "cell_type": "markdown",
   "metadata": {},
   "source": [
    "### Count Number of Islands using DFS"
   ]
  },
  {
   "cell_type": "code",
   "execution_count": 7,
   "metadata": {},
   "outputs": [
    {
     "name": "stdout",
     "output_type": "stream",
     "text": [
      "Number of islands:  6\n"
     ]
    }
   ],
   "source": [
    "B = [[1, 1, 0, 0, 1, 1, 1],\n",
    "     [1, 1, 0, 0, 0, 1, 1],\n",
    "     [0, 0, 0, 1, 1, 0, 0],\n",
    "     [0, 0, 1, 1, 0, 1, 1],\n",
    "     [1, 0, 0, 0, 0, 0, 0],\n",
    "     [1, 1, 1, 0, 1, 1, 1],\n",
    "     [0, 0, 1, 0, 0, 1, 1],\n",
    "     [1, 1, 1, 0, 1, 1, 1]]\n",
    "\n",
    "\n",
    "def DFS(G, i, j):\n",
    "    if i < 0 or j < 0 or i >= m or j >= n or G[i][j] == 0 or visited[i][j] == True:\n",
    "        return\n",
    "    visited[i][j] = True\n",
    "    DFS(G, i-1, j)\n",
    "    DFS(G, i, j+1)\n",
    "    DFS(G, i+1, j)\n",
    "    DFS(G, i, j-1)\n",
    "    \n",
    "m = len(B)\n",
    "n = len(B[0])\n",
    "visited = [[False for _ in range(n)] for _ in range(m)]\n",
    "    \n",
    "count = 0\n",
    "for i in range(m):\n",
    "    for j in range(n):\n",
    "        if B[i][j] == 1 and visited[i][j] == False:\n",
    "            DFS(B, i, j)\n",
    "            count += 1\n",
    "            \n",
    "print(\"Number of islands: \", count)"
   ]
  },
  {
   "cell_type": "markdown",
   "metadata": {},
   "source": [
    "### Perfect Friends"
   ]
  },
  {
   "cell_type": "code",
   "execution_count": 8,
   "metadata": {},
   "outputs": [
    {
     "name": "stdout",
     "output_type": "stream",
     "text": [
      "Number of ways to select a pair of vertices such that both vertices are from different components:  16\n"
     ]
    }
   ],
   "source": [
    "G = [[1], [0], [3], [2], [5, 6], [4, 6], [4, 5]]\n",
    "\n",
    "def getComponents(G, src):\n",
    "    visited[src] = True\n",
    "    component.append(src)\n",
    "    for nbr in G[src]:\n",
    "        if visited[nbr] == False:\n",
    "            getComponents(G, nbr)\n",
    "\n",
    "\n",
    "v = len(G)\n",
    "visited = [False] * v\n",
    "\n",
    "components = []\n",
    "for vertex in range(v):\n",
    "    if visited[vertex] == False:\n",
    "        component = []\n",
    "        getComponents(G, vertex)\n",
    "        components.append(component)\n",
    "        \n",
    "        \n",
    "count = 0\n",
    "n = len(components)\n",
    "for i in range(n):\n",
    "    for j in range(i + 1, n):\n",
    "        count += len(components[i]) * len(components[j])\n",
    "        \n",
    "print(\"Number of ways to select a pair of vertices such that both vertices are from different components: \", count)"
   ]
  },
  {
   "cell_type": "markdown",
   "metadata": {},
   "source": [
    "### Hamiltonian Path and Hamiltonian Cycle"
   ]
  },
  {
   "cell_type": "code",
   "execution_count": 9,
   "metadata": {},
   "outputs": [
    {
     "name": "stdout",
     "output_type": "stream",
     "text": [
      "Hamiltonian path and cycle:  [[0, 1, 2, 3, 4, 5, 6, '.'], [0, 1, 2, 3, 4, 6, 5, '.'], [0, 1, 2, 5, 6, 4, 3, '*'], [0, 3, 4, 6, 5, 2, 1, '*']]\n"
     ]
    }
   ],
   "source": [
    "G = [[1, 3], [0, 2], [1, 3, 5], [0, 2, 4], [3, 5, 6], [2, 4, 6], [4, 5]]\n",
    "\n",
    "def hamiltonian(G, src, path, origin):\n",
    "    if len(visited) == len(G) - 1:\n",
    "        cycle = False\n",
    "        \n",
    "        for nbr in G[src]:\n",
    "            if nbr == origin:\n",
    "                cycle = True\n",
    "                break\n",
    "        \n",
    "        if cycle == True:\n",
    "            path.append(\"*\")\n",
    "        else:\n",
    "            path.append(\".\")\n",
    "            \n",
    "        output.append(path)\n",
    "        \n",
    "        return\n",
    "    \n",
    "    visited.add(src)\n",
    "    for nbr in G[src]:\n",
    "        if nbr not in visited:\n",
    "            hamiltonian(G, nbr, path + [nbr], origin)\n",
    "    visited.remove(src)\n",
    "    \n",
    "    \n",
    "src = 0\n",
    "origin = 0\n",
    "\n",
    "path = [0]\n",
    "output = []\n",
    "visited = set()\n",
    "hamiltonian(G, src, path, origin)\n",
    "print(\"Hamiltonian path and cycle: \", output)"
   ]
  },
  {
   "cell_type": "markdown",
   "metadata": {},
   "source": [
    "### Breadth First Search"
   ]
  },
  {
   "cell_type": "code",
   "execution_count": 10,
   "metadata": {},
   "outputs": [
    {
     "name": "stdout",
     "output_type": "stream",
     "text": [
      "[(0, 0), (1, 1), (1, 3), (2, 2), (2, 4), (3, 5), (3, 6)]\n"
     ]
    }
   ],
   "source": [
    "from collections import deque\n",
    "\n",
    "G = [[1, 3], [0, 2], [1, 3], [0, 2, 4], [3, 5, 6], [4, 6], [4, 5]]\n",
    "v = len(G)\n",
    "\n",
    "visited = [False] * v\n",
    "output = []\n",
    "Q = deque([(0, 0)])\n",
    "\n",
    "while len(Q) > 0:\n",
    "    vertex, level = Q.popleft()\n",
    "    if visited[vertex] == True:\n",
    "        continue\n",
    "    visited[vertex] = True\n",
    "    output.append((level, vertex))\n",
    "    for nbr in G[vertex]:\n",
    "        if visited[nbr] == False:\n",
    "            Q.append((nbr, level + 1))\n",
    "            \n",
    "print(output)"
   ]
  },
  {
   "cell_type": "markdown",
   "metadata": {},
   "source": [
    "### Is a Graph Cyclic?"
   ]
  },
  {
   "cell_type": "code",
   "execution_count": 11,
   "metadata": {},
   "outputs": [
    {
     "name": "stdout",
     "output_type": "stream",
     "text": [
      "Is graph [[1], [0], [3], [2], [5, 6], [4, 6], [4, 5]] cyclic:  True\n"
     ]
    }
   ],
   "source": [
    "def checkCyclic(G, src):\n",
    "    Q = deque([src])\n",
    "    while len(Q) > 0:\n",
    "        vertex = Q.popleft()\n",
    "        if visited[vertex] == True:\n",
    "            return True\n",
    "        visited[vertex] = True\n",
    "        for nbr in G[vertex]:\n",
    "            if visited[nbr] == False:\n",
    "                Q.append(nbr)\n",
    "    return False\n",
    "\n",
    "def isCyclic(G):\n",
    "    v = len(G)\n",
    "    visited = [False] * v\n",
    "    for vertex in range(v):\n",
    "        if visited[vertex] == False:\n",
    "            cycle = checkCyclic(G, vertex)\n",
    "            if cycle == True:\n",
    "                return True\n",
    "    return False\n",
    "\n",
    "\n",
    "G = [[1], [0], [3], [2], [5, 6], [4, 6], [4, 5]]\n",
    "print(f\"Is graph {G} cyclic: \", isCyclic(G))"
   ]
  },
  {
   "cell_type": "markdown",
   "metadata": {},
   "source": [
    "### Is a Graph Bipartite?"
   ]
  },
  {
   "cell_type": "code",
   "execution_count": 12,
   "metadata": {},
   "outputs": [
    {
     "name": "stdout",
     "output_type": "stream",
     "text": [
      "Is graph [[1, 3], [0, 2], [1, 3], [0, 2]] bipartite:  True\n",
      "Is graph [[1, 2, 3], [0, 2], [0, 1, 3], [0, 2]] bipartite:  False\n"
     ]
    }
   ],
   "source": [
    "def checkBipartite(G, src, visited):\n",
    "    Q = deque([(src, 0)])\n",
    "    while len(Q) > 0:\n",
    "        vertex, level = Q.popleft()\n",
    "        if visited[vertex] != -1:\n",
    "            if visited[vertex] != level:\n",
    "                return False\n",
    "        else:\n",
    "            visited[vertex] = level\n",
    "        for nbr in G[vertex]:\n",
    "            if visited[nbr] == -1:\n",
    "                Q.append((nbr, level + 1))\n",
    "    return True\n",
    "\n",
    "def isBipartite(G):\n",
    "    v = len(G)\n",
    "    visited = [-1] * v\n",
    "    for vertex in range(v):\n",
    "        if visited[vertex] == -1:\n",
    "            bipartite = checkBipartite(G, vertex, visited)\n",
    "            if bipartite == False:\n",
    "                return False\n",
    "    return True\n",
    "\n",
    "\n",
    "G = [[1, 3], [0, 2], [1, 3], [0, 2]]\n",
    "print(f\"Is graph {G} bipartite: \", isBipartite(G))\n",
    "\n",
    "G = [[1, 2, 3], [0, 2], [0, 1, 3], [0, 2]]\n",
    "print(f\"Is graph {G} bipartite: \", isBipartite(G))"
   ]
  },
  {
   "cell_type": "markdown",
   "metadata": {},
   "source": [
    "### Spread Infection"
   ]
  },
  {
   "cell_type": "code",
   "execution_count": 13,
   "metadata": {},
   "outputs": [
    {
     "name": "stdout",
     "output_type": "stream",
     "text": [
      "The infection will spread to 5 people at time 3\n"
     ]
    }
   ],
   "source": [
    "G = [[1, 3], [0, 2], [1, 3], [0, 2, 4], [3, 5, 6], [4, 6], [4, 5]]\n",
    "\n",
    "\n",
    "v = len(G)\n",
    "visited = [0] * v\n",
    "\n",
    "count = 0\n",
    "duration = 3\n",
    "Q = deque([(src, 1)])\n",
    "\n",
    "while len(Q) > 0:\n",
    "    \n",
    "    vertex, time = Q.popleft()\n",
    "    \n",
    "    if visited[vertex] > 0:\n",
    "        continue\n",
    "        \n",
    "    visited[vertex] = time\n",
    "    \n",
    "    if time > duration:\n",
    "        break\n",
    "        \n",
    "    count += 1\n",
    "    for nbr in G[vertex]:\n",
    "        if visited[nbr] == 0:\n",
    "            Q.append((nbr, time + 1))\n",
    "            \n",
    "print(f\"The infection will spread to {count} people at time {duration}\")"
   ]
  },
  {
   "cell_type": "markdown",
   "metadata": {},
   "source": [
    "# `heap` "
   ]
  },
  {
   "cell_type": "code",
   "execution_count": 14,
   "metadata": {},
   "outputs": [
    {
     "name": "stdout",
     "output_type": "stream",
     "text": [
      "1\n",
      "3\n",
      "0\n",
      "2\n"
     ]
    }
   ],
   "source": [
    "import heapq\n",
    "\n",
    "class Info(object):\n",
    "    \n",
    "    def __init__(self, vertex, distance=None, path=None):\n",
    "        self.vertex = vertex\n",
    "        self.distance = distance\n",
    "        self.path = path\n",
    "        \n",
    "    def __lt__(self, other):\n",
    "        return self.distance < other.distance\n",
    "    \n",
    "A = [(0, 10), (1, 5), (2, 30), (3, 7)]\n",
    "heap = []\n",
    "\n",
    "for v, d in A:\n",
    "    heapq.heappush(heap, Info(v, d))\n",
    "    \n",
    "while len(heap) > 0:\n",
    "    print(heapq.heappop(heap).vertex)"
   ]
  },
  {
   "cell_type": "markdown",
   "metadata": {},
   "source": [
    "### Single Source Shortest Path: Dijkstra's Algorithm - BFS using `heap`"
   ]
  },
  {
   "cell_type": "code",
   "execution_count": 15,
   "metadata": {},
   "outputs": [
    {
     "name": "stdout",
     "output_type": "stream",
     "text": [
      "Path from 0 to 0 is [0] with total distance 0\n",
      "Path from 0 to 1 is [0, 1] with total distance 10\n",
      "Path from 0 to 2 is [0, 1, 2] with total distance 20\n",
      "Path from 0 to 3 is [0, 1, 2, 3] with total distance 30\n",
      "Path from 0 to 4 is [0, 1, 2, 3, 4] with total distance 32\n",
      "Path from 0 to 5 is [0, 1, 2, 3, 4, 5] with total distance 35\n",
      "Path from 0 to 6 is [0, 1, 2, 3, 4, 5, 6] with total distance 38\n"
     ]
    }
   ],
   "source": [
    "class Info(object):\n",
    "    \n",
    "    def __init__(self, vertex, distance=None, path=None):\n",
    "        self.vertex = vertex\n",
    "        self.distance = distance\n",
    "        self.path = [path] if isinstance(path, int) else path\n",
    "        \n",
    "    def __lt__(self, other):\n",
    "        return self.distance < other.distance\n",
    "\n",
    "src = 0\n",
    "v = len(W)\n",
    "visited = [False] * v\n",
    "\n",
    "heap = []\n",
    "heapq.heappush(heap, Info(src, 0, src))\n",
    "\n",
    "output = []\n",
    "while len(heap) > 0:\n",
    "    \n",
    "    info = heapq.heappop(heap)\n",
    "    \n",
    "    if visited[info.vertex] == True:\n",
    "        continue\n",
    "        \n",
    "    visited[info.vertex] = True\n",
    "    \n",
    "    output.append(info)\n",
    "    \n",
    "    for nbr, dist in W[info.vertex]:\n",
    "        if visited[nbr] == False:\n",
    "            heapq.heappush(heap, Info(nbr, info.distance + dist, info.path + [nbr]))\n",
    "            \n",
    "for out in output:\n",
    "    print(f\"Path from {src} to {out.vertex} is {out.path} with total distance {out.distance}\")"
   ]
  },
  {
   "cell_type": "markdown",
   "metadata": {},
   "source": [
    "### Minimum Wire Required to Connect all Computers : Minimum Spanning Tree using Prim's Algorithm - BFS using `heap`"
   ]
  },
  {
   "cell_type": "code",
   "execution_count": 16,
   "metadata": {},
   "outputs": [
    {
     "name": "stdout",
     "output_type": "stream",
     "text": [
      "Length of wire from -1 to 0 is 0\n",
      "Length of wire from 0 to 1 is 10\n",
      "Length of wire from 1 to 2 is 10\n",
      "Length of wire from 2 to 3 is 10\n",
      "Length of wire from 3 to 4 is 2\n",
      "Length of wire from 4 to 5 is 3\n",
      "Length of wire from 5 to 6 is 3\n",
      "Total wire length: 38\n"
     ]
    }
   ],
   "source": [
    "class Info(object):\n",
    "    \n",
    "    def __init__(self, vertex, distance=None, fromVertex=None):\n",
    "        self.vertex = vertex\n",
    "        self.distance = distance\n",
    "        self.fromVertex = fromVertex\n",
    "        \n",
    "    def __lt__(self, other):\n",
    "        return self.distance < other.distance\n",
    "\n",
    "src = 0\n",
    "v = len(W)\n",
    "visited = [False] * v\n",
    "\n",
    "heap = []\n",
    "heapq.heappush(heap, Info(src, 0, -1))\n",
    "\n",
    "output = []\n",
    "while len(heap) > 0:\n",
    "    \n",
    "    info = heapq.heappop(heap)\n",
    "    \n",
    "    if visited[info.vertex] == True:\n",
    "        continue\n",
    "        \n",
    "    visited[info.vertex] = True\n",
    "    \n",
    "    output.append(info)\n",
    "    \n",
    "    for nbr, dist in W[info.vertex]:\n",
    "        if visited[nbr] == False:\n",
    "            heapq.heappush(heap, Info(nbr, dist, info.vertex))\n",
    "            \n",
    "length = 0            \n",
    "for out in output:\n",
    "    print(f\"Length of wire from {out.fromVertex} to {out.vertex} is {out.distance}\")\n",
    "    length += out.distance\n",
    "print(f\"Total wire length: {length}\")"
   ]
  },
  {
   "cell_type": "markdown",
   "metadata": {},
   "source": [
    "### Course Schedule : Topological Sort - DFS"
   ]
  },
  {
   "cell_type": "code",
   "execution_count": 17,
   "metadata": {},
   "outputs": [
    {
     "name": "stdout",
     "output_type": "stream",
     "text": [
      "4\n",
      "5\n",
      "6\n",
      "0\n",
      "1\n",
      "2\n",
      "3\n"
     ]
    }
   ],
   "source": [
    "G = [[1, 3], [2], [3], [], [3, 5, 6], [6], []]\n",
    "\n",
    "def topological(G, src):\n",
    "    visited[src] = True\n",
    "    for nbr in G[src]:\n",
    "        if visited[nbr] == False:\n",
    "            topological(G, nbr)\n",
    "    stack.append(src)\n",
    "\n",
    "v = len(G)\n",
    "\n",
    "stack = []\n",
    "visited = [False] * v\n",
    "\n",
    "for vertex in range(v):\n",
    "    if visited[vertex] == False:\n",
    "        topological(G, vertex)\n",
    "        \n",
    "while len(stack) > 0:\n",
    "    print(stack.pop())"
   ]
  },
  {
   "cell_type": "markdown",
   "metadata": {},
   "source": [
    "### Iterative DFS in Graph - BFS using Stack"
   ]
  },
  {
   "cell_type": "code",
   "execution_count": 18,
   "metadata": {},
   "outputs": [
    {
     "name": "stdout",
     "output_type": "stream",
     "text": [
      "[[0], [0, 3], [0, 3, 4], [0, 3, 4, 6], [0, 3, 4, 6, 5], [0, 3, 2], [0, 3, 2, 1]]\n"
     ]
    }
   ],
   "source": [
    "G = [[1, 3], [0, 2], [1, 3], [0, 2, 4], [3, 5, 6], [4, 6], [4, 5]]\n",
    "\n",
    "v = len(G)\n",
    "\n",
    "class Pair(object):\n",
    "    def __init__(self, vertex, path):\n",
    "        self.vertex = vertex\n",
    "        self.path = [path] if isinstance(path, int) else path\n",
    "\n",
    "src = 0\n",
    "output = []\n",
    "visited = [False] * v\n",
    "stack = [Pair(src, src)]\n",
    "\n",
    "while len(stack) > 0:\n",
    "    pair = stack.pop()\n",
    "    if visited[pair.vertex] == True:\n",
    "        continue\n",
    "    visited[pair.vertex] = True\n",
    "    output.append(pair.path)\n",
    "    for nbr in G[pair.vertex]:\n",
    "        if visited[nbr] == False:\n",
    "            stack.append(Pair(nbr, pair.path + [nbr]))\n",
    "\n",
    "print(output)"
   ]
  },
  {
   "cell_type": "markdown",
   "metadata": {},
   "source": [
    "### Striver Series"
   ]
  },
  {
   "cell_type": "code",
   "execution_count": null,
   "metadata": {},
   "outputs": [],
   "source": []
  },
  {
   "cell_type": "code",
   "execution_count": null,
   "metadata": {},
   "outputs": [],
   "source": []
  },
  {
   "cell_type": "code",
   "execution_count": null,
   "metadata": {},
   "outputs": [],
   "source": []
  },
  {
   "cell_type": "code",
   "execution_count": null,
   "metadata": {},
   "outputs": [],
   "source": []
  }
 ],
 "metadata": {
  "kernelspec": {
   "display_name": "Python 3",
   "language": "python",
   "name": "python3"
  },
  "language_info": {
   "codemirror_mode": {
    "name": "ipython",
    "version": 3
   },
   "file_extension": ".py",
   "mimetype": "text/x-python",
   "name": "python",
   "nbconvert_exporter": "python",
   "pygments_lexer": "ipython3",
   "version": "3.6.9"
  }
 },
 "nbformat": 4,
 "nbformat_minor": 4
}
